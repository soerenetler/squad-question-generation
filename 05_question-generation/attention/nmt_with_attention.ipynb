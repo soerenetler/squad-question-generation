{
  "nbformat": 4,
  "nbformat_minor": 0,
  "metadata": {
    "accelerator": "GPU",
    "colab": {
      "name": "nmt_with_attention.ipynb",
      "provenance": [],
      "collapsed_sections": [],
      "machine_shape": "hm"
    },
    "kernelspec": {
      "display_name": "Python 3",
      "language": "python",
      "name": "python3"
    },
    "language_info": {
      "codemirror_mode": {
        "name": "ipython",
        "version": 3
      },
      "file_extension": ".py",
      "mimetype": "text/x-python",
      "name": "python",
      "nbconvert_exporter": "python",
      "pygments_lexer": "ipython3",
      "version": "3.6.9"
    }
  },
  "cells": [
    {
      "cell_type": "markdown",
      "metadata": {
        "id": "s_qNSzzyaCbD"
      },
      "source": [
        "##### Copyright 2019 The TensorFlow Authors."
      ]
    },
    {
      "cell_type": "code",
      "metadata": {
        "id": "jmjh290raIky"
      },
      "source": [
        "#@title Licensed under the Apache License, Version 2.0 (the \"License\");\n",
        "# you may not use this file except in compliance with the License.\n",
        "# You may obtain a copy of the License at\n",
        "#\n",
        "# https://www.apache.org/licenses/LICENSE-2.0\n",
        "#\n",
        "# Unless required by applicable law or agreed to in writing, software\n",
        "# distributed under the License is distributed on an \"AS IS\" BASIS,\n",
        "# WITHOUT WARRANTIES OR CONDITIONS OF ANY KIND, either express or implied.\n",
        "# See the License for the specific language governing permissions and\n",
        "# limitations under the License."
      ],
      "execution_count": 1,
      "outputs": []
    },
    {
      "cell_type": "markdown",
      "metadata": {
        "id": "J0Qjg6vuaHNt"
      },
      "source": [
        "# Neural machine translation with attention"
      ]
    },
    {
      "cell_type": "markdown",
      "metadata": {
        "id": "CiwtNgENbx2g"
      },
      "source": [
        "This notebook trains a sequence to sequence (seq2seq) model for Spanish to English translation. This is an advanced example that assumes some knowledge of sequence to sequence models.\n",
        "\n",
        "After training the model in this notebook, you will be able to input a Spanish sentence, such as *\"¿todavia estan en casa?\"*, and return the English translation: *\"are you still at home?\"*\n",
        "\n",
        "The translation quality is reasonable for a toy example, but the generated attention plot is perhaps more interesting. This shows which parts of the input sentence has the model's attention while translating:"
      ]
    },
    {
      "cell_type": "code",
      "metadata": {
        "colab": {
          "base_uri": "https://localhost:8080/"
        },
        "id": "w0P7CEsVrR7X",
        "outputId": "f6df8c03-fe62-477e-bf8a-1b39a324d686"
      },
      "source": [
        "!pip install tensorflow_addons"
      ],
      "execution_count": 1,
      "outputs": [
        {
          "output_type": "stream",
          "text": [
            "Collecting tensorflow_addons\n",
            "\u001b[?25l  Downloading https://files.pythonhosted.org/packages/74/e3/56d2fe76f0bb7c88ed9b2a6a557e25e83e252aec08f13de34369cd850a0b/tensorflow_addons-0.12.1-cp37-cp37m-manylinux2010_x86_64.whl (703kB)\n",
            "\r\u001b[K     |▌                               | 10kB 22.9MB/s eta 0:00:01\r\u001b[K     |█                               | 20kB 14.6MB/s eta 0:00:01\r\u001b[K     |█▍                              | 30kB 12.9MB/s eta 0:00:01\r\u001b[K     |█▉                              | 40kB 12.1MB/s eta 0:00:01\r\u001b[K     |██▎                             | 51kB 7.7MB/s eta 0:00:01\r\u001b[K     |██▉                             | 61kB 7.2MB/s eta 0:00:01\r\u001b[K     |███▎                            | 71kB 8.2MB/s eta 0:00:01\r\u001b[K     |███▊                            | 81kB 9.1MB/s eta 0:00:01\r\u001b[K     |████▏                           | 92kB 8.5MB/s eta 0:00:01\r\u001b[K     |████▋                           | 102kB 7.5MB/s eta 0:00:01\r\u001b[K     |█████▏                          | 112kB 7.5MB/s eta 0:00:01\r\u001b[K     |█████▋                          | 122kB 7.5MB/s eta 0:00:01\r\u001b[K     |██████                          | 133kB 7.5MB/s eta 0:00:01\r\u001b[K     |██████▌                         | 143kB 7.5MB/s eta 0:00:01\r\u001b[K     |███████                         | 153kB 7.5MB/s eta 0:00:01\r\u001b[K     |███████▌                        | 163kB 7.5MB/s eta 0:00:01\r\u001b[K     |████████                        | 174kB 7.5MB/s eta 0:00:01\r\u001b[K     |████████▍                       | 184kB 7.5MB/s eta 0:00:01\r\u001b[K     |████████▉                       | 194kB 7.5MB/s eta 0:00:01\r\u001b[K     |█████████▎                      | 204kB 7.5MB/s eta 0:00:01\r\u001b[K     |█████████▉                      | 215kB 7.5MB/s eta 0:00:01\r\u001b[K     |██████████▎                     | 225kB 7.5MB/s eta 0:00:01\r\u001b[K     |██████████▊                     | 235kB 7.5MB/s eta 0:00:01\r\u001b[K     |███████████▏                    | 245kB 7.5MB/s eta 0:00:01\r\u001b[K     |███████████▋                    | 256kB 7.5MB/s eta 0:00:01\r\u001b[K     |████████████▏                   | 266kB 7.5MB/s eta 0:00:01\r\u001b[K     |████████████▋                   | 276kB 7.5MB/s eta 0:00:01\r\u001b[K     |█████████████                   | 286kB 7.5MB/s eta 0:00:01\r\u001b[K     |█████████████▌                  | 296kB 7.5MB/s eta 0:00:01\r\u001b[K     |██████████████                  | 307kB 7.5MB/s eta 0:00:01\r\u001b[K     |██████████████▍                 | 317kB 7.5MB/s eta 0:00:01\r\u001b[K     |███████████████                 | 327kB 7.5MB/s eta 0:00:01\r\u001b[K     |███████████████▍                | 337kB 7.5MB/s eta 0:00:01\r\u001b[K     |███████████████▉                | 348kB 7.5MB/s eta 0:00:01\r\u001b[K     |████████████████▎               | 358kB 7.5MB/s eta 0:00:01\r\u001b[K     |████████████████▊               | 368kB 7.5MB/s eta 0:00:01\r\u001b[K     |█████████████████▎              | 378kB 7.5MB/s eta 0:00:01\r\u001b[K     |█████████████████▊              | 389kB 7.5MB/s eta 0:00:01\r\u001b[K     |██████████████████▏             | 399kB 7.5MB/s eta 0:00:01\r\u001b[K     |██████████████████▋             | 409kB 7.5MB/s eta 0:00:01\r\u001b[K     |███████████████████             | 419kB 7.5MB/s eta 0:00:01\r\u001b[K     |███████████████████▋            | 430kB 7.5MB/s eta 0:00:01\r\u001b[K     |████████████████████            | 440kB 7.5MB/s eta 0:00:01\r\u001b[K     |████████████████████▌           | 450kB 7.5MB/s eta 0:00:01\r\u001b[K     |█████████████████████           | 460kB 7.5MB/s eta 0:00:01\r\u001b[K     |█████████████████████▍          | 471kB 7.5MB/s eta 0:00:01\r\u001b[K     |██████████████████████          | 481kB 7.5MB/s eta 0:00:01\r\u001b[K     |██████████████████████▍         | 491kB 7.5MB/s eta 0:00:01\r\u001b[K     |██████████████████████▉         | 501kB 7.5MB/s eta 0:00:01\r\u001b[K     |███████████████████████▎        | 512kB 7.5MB/s eta 0:00:01\r\u001b[K     |███████████████████████▊        | 522kB 7.5MB/s eta 0:00:01\r\u001b[K     |████████████████████████▎       | 532kB 7.5MB/s eta 0:00:01\r\u001b[K     |████████████████████████▊       | 542kB 7.5MB/s eta 0:00:01\r\u001b[K     |█████████████████████████▏      | 552kB 7.5MB/s eta 0:00:01\r\u001b[K     |█████████████████████████▋      | 563kB 7.5MB/s eta 0:00:01\r\u001b[K     |██████████████████████████      | 573kB 7.5MB/s eta 0:00:01\r\u001b[K     |██████████████████████████▋     | 583kB 7.5MB/s eta 0:00:01\r\u001b[K     |███████████████████████████     | 593kB 7.5MB/s eta 0:00:01\r\u001b[K     |███████████████████████████▌    | 604kB 7.5MB/s eta 0:00:01\r\u001b[K     |████████████████████████████    | 614kB 7.5MB/s eta 0:00:01\r\u001b[K     |████████████████████████████▍   | 624kB 7.5MB/s eta 0:00:01\r\u001b[K     |████████████████████████████▉   | 634kB 7.5MB/s eta 0:00:01\r\u001b[K     |█████████████████████████████▍  | 645kB 7.5MB/s eta 0:00:01\r\u001b[K     |█████████████████████████████▉  | 655kB 7.5MB/s eta 0:00:01\r\u001b[K     |██████████████████████████████▎ | 665kB 7.5MB/s eta 0:00:01\r\u001b[K     |██████████████████████████████▊ | 675kB 7.5MB/s eta 0:00:01\r\u001b[K     |███████████████████████████████▏| 686kB 7.5MB/s eta 0:00:01\r\u001b[K     |███████████████████████████████▊| 696kB 7.5MB/s eta 0:00:01\r\u001b[K     |████████████████████████████████| 706kB 7.5MB/s \n",
            "\u001b[?25hRequirement already satisfied: typeguard>=2.7 in /usr/local/lib/python3.7/dist-packages (from tensorflow_addons) (2.7.1)\n",
            "Installing collected packages: tensorflow-addons\n",
            "Successfully installed tensorflow-addons-0.12.1\n"
          ],
          "name": "stdout"
        }
      ]
    },
    {
      "cell_type": "code",
      "metadata": {
        "id": "tnxXKDjq3jEL"
      },
      "source": [
        "import tensorflow as tf\n",
        "import tensorflow_addons as tfa\n",
        "\n",
        "import matplotlib.pyplot as plt\n",
        "import matplotlib.ticker as ticker\n",
        "\n",
        "import unicodedata\n",
        "import re\n",
        "import numpy as np\n",
        "import os\n",
        "import io\n",
        "import time\n",
        "import ast\n",
        "import pandas as pd"
      ],
      "execution_count": 2,
      "outputs": []
    },
    {
      "cell_type": "code",
      "metadata": {
        "id": "tCD-dbU1Dw2h",
        "colab": {
          "base_uri": "https://localhost:8080/"
        },
        "outputId": "f57706bc-289a-4d4d-9ffa-1281bec32ee7"
      },
      "source": [
        "print(\"Num GPUs Available: \", len(tf.config.experimental.list_physical_devices('GPU')))"
      ],
      "execution_count": 3,
      "outputs": [
        {
          "output_type": "stream",
          "text": [
            "Num GPUs Available:  1\n"
          ],
          "name": "stdout"
        }
      ]
    },
    {
      "cell_type": "markdown",
      "metadata": {
        "id": "wfodePkj3jEa"
      },
      "source": [
        "## Download and prepare the dataset\n",
        "\n",
        "After downloading the dataset, here are the steps we'll take to prepare the data:\n",
        "\n",
        "1. Add a *start* and *end* token to each sentence.\n",
        "2. Clean the sentences by removing special characters.\n",
        "3. Create a word index and reverse word index (dictionaries mapping from word → id and id → word).\n",
        "4. Pad each sentence to a maximum length."
      ]
    },
    {
      "cell_type": "code",
      "metadata": {
        "id": "QMf01j-PDw2k",
        "colab": {
          "base_uri": "https://localhost:8080/"
        },
        "outputId": "f829753c-2931-4a9f-90f9-97425799bd0f"
      },
      "source": [
        "\n",
        "import os\n",
        "#os.system(\"git clone https://github.com/soerenetler/squad-question-generation.git\")\n",
        "#os.system(\"git clone https://github.com/soerenetler/spacy_target_answer.git\")\n",
        "#os.system(\"git clone https://github.com/soerenetler/crf_target_answer.git\")\n",
        "\n",
        "from google.colab import drive\n",
        "drive.mount('/content/gdrive')"
      ],
      "execution_count": 4,
      "outputs": [
        {
          "output_type": "stream",
          "text": [
            "Mounted at /content/gdrive\n"
          ],
          "name": "stdout"
        }
      ]
    },
    {
      "cell_type": "code",
      "metadata": {
        "id": "kRVATYOgJs1b"
      },
      "source": [
        "path_to_folder = \"/content/gdrive/MyDrive/mt-qg-data/01_data/preprocessedData/squad/question_answer/\"\n",
        "path_to_model = \"/content/gdrive/MyDrive/mt-qg-data/00_models/qg_attention/squad/\""
      ],
      "execution_count": 5,
      "outputs": []
    },
    {
      "cell_type": "code",
      "metadata": {
        "id": "4lNjtN2i0iSC"
      },
      "source": [
        "class QGDataset:\n",
        "  def __init__(self, problem_type='squad', data_folder=\"/content/gdrive/MyDrive/mt-qg-data/01_data/preprocessedData/\"):\n",
        "    self.problem_type = problem_type\n",
        "    self.dev_path = data_folder + problem_type + \"/question_answer/dev.csv\"\n",
        "    self.train_path = data_folder + problem_type + \"/question_answer/train.csv\"\n",
        "    self.inp_lang_tokenizer = None\n",
        "    self.targ_lang_tokenizer = None\n",
        "\n",
        "  # Converts the unicode file to ascii\n",
        "  def unicode_to_ascii(self, s):\n",
        "    return ''.join(c for c in unicodedata.normalize('NFD', s)\n",
        "        if unicodedata.category(c) != 'Mn')\n",
        "  \n",
        "  def preprocess_sentence(self, w):\n",
        "    w_result = ['<start>']\n",
        "    for t in w:\n",
        "      t = self.unicode_to_ascii(t.lower().strip())\n",
        "\n",
        "      # replacing everything with space except (a-z, A-Z, \".\", \"?\", \"!\", \",\")\n",
        "      #t = re.sub(r\"[^a-zA-Z\\d?.!,¿]+\", \" \", t)\n",
        "\n",
        "      #t = t.strip()\n",
        "      if t != '':\n",
        "        w_result.append(t)\n",
        "    # adding a start and an end token to the sentence\n",
        "    # so that the model know when to start and stop predicting.\n",
        "    w_result.append('<end>')\n",
        "    return w_result\n",
        "\n",
        "  # 1. Remove the accents\n",
        "  # 2. Clean the sentences\n",
        "  # 3. Return word pairs in the format: [ENGLISH, SPANISH]\n",
        "  def create_dataset(self, path):\n",
        "    df = pd.read_csv(path)\n",
        "    df[\"answer_sentence_token\"] = [ast.literal_eval(t) for t in df[\"answer_sentence_token\"]]\n",
        "    df[\"question_token\"] = [ast.literal_eval(t) for t in df[\"question_token\"]]\n",
        "\n",
        "    #from plotly import express\n",
        "    #display(express.histogram(x=[len(t) for t in df[\"answer_sentence_token\"]]))\n",
        "\n",
        "    #display(df[\"answer_sentence_token\"].head(50))\n",
        "\n",
        "    sentence_pairs = zip(df[\"answer_sentence_token\"].apply(self.preprocess_sentence), df[\"question_token\"].apply(self.preprocess_sentence))\n",
        "    \n",
        "\n",
        "    return zip(*sentence_pairs)\n",
        "\n",
        "  def tokenize(self, lang, maxlen, max_vocab):\n",
        "    lang_tokenizer = tf.keras.preprocessing.text.Tokenizer(\n",
        "        #filters='',\n",
        "        num_words=max_vocab,\n",
        "        oov_token=\"<oov>\")\n",
        "    lang_tokenizer.fit_on_texts(lang)\n",
        "\n",
        "    tensor = lang_tokenizer.texts_to_sequences(lang)\n",
        "\n",
        "    tensor = tf.keras.preprocessing.sequence.pad_sequences(tensor,\n",
        "                                                          maxlen=maxlen,\n",
        "                                                          padding='post')\n",
        "\n",
        "    return tensor, lang_tokenizer\n",
        "\n",
        "  def load_dataset(self):\n",
        "    # creating cleaned input, output pairs\n",
        "    inp_lang_train, targ_lang_train = self.create_dataset(self.train_path)\n",
        "    inp_lang_dev, targ_lang_dev = self.create_dataset(self.dev_path)\n",
        "\n",
        "    print(inp_lang_train[-1])\n",
        "    print(targ_lang_train[-1])\n",
        "\n",
        "    input_tensor, inp_lang_tokenizer = self.tokenize(inp_lang_train, max_length_inp, max_vocab_inp)\n",
        "    target_tensor, targ_lang_tokenizer = self.tokenize(targ_lang_train, max_length_targ, max_vocab_targ)\n",
        "\n",
        "    print(inp_lang_dev[0])\n",
        "    print(targ_lang_dev[0])\n",
        "    input_tensor_dev = inp_lang_tokenizer.texts_to_sequences(inp_lang_dev)\n",
        "    target_tensor_dev = targ_lang_tokenizer.texts_to_sequences(targ_lang_dev)\n",
        "    print(input_tensor_dev[0])\n",
        "    print(target_tensor_dev[0])\n",
        "\n",
        "    return input_tensor, target_tensor, input_tensor_dev, target_tensor_dev, inp_lang_tokenizer, targ_lang_tokenizer"
      ],
      "execution_count": 6,
      "outputs": []
    },
    {
      "cell_type": "code",
      "metadata": {
        "id": "opI2GzOt479E",
        "colab": {
          "base_uri": "https://localhost:8080/"
        },
        "outputId": "30e86434-2045-4229-b5ab-712dc2f8a991"
      },
      "source": [
        "answer_sentence = ['3245', 'two', 'months', 'later', 'the', 'band', 'got', 'signed', 'to', 'a', 'three', 'album', 'deal', 'with', 'spinefarm', ',', 'which', 'left', 'marko', 'displeased', '.']\n",
        "question_sentence = ['what', 'label', 'were', 'they', 'with', '?']\n",
        "\n",
        "qg_dataset = QGDataset()\n",
        "print(qg_dataset.preprocess_sentence(answer_sentence))\n",
        "print(qg_dataset.preprocess_sentence(question_sentence))"
      ],
      "execution_count": 7,
      "outputs": [
        {
          "output_type": "stream",
          "text": [
            "['<start>', '3245', 'two', 'months', 'later', 'the', 'band', 'got', 'signed', 'to', 'a', 'three', 'album', 'deal', 'with', 'spinefarm', ',', 'which', 'left', 'marko', 'displeased', '.', '<end>']\n",
            "['<start>', 'what', 'label', 'were', 'they', 'with', '?', '<end>']\n"
          ],
          "name": "stdout"
        }
      ]
    },
    {
      "cell_type": "markdown",
      "metadata": {
        "id": "GOi42V79Ydlr"
      },
      "source": [
        "### Limit the size of the dataset to experiment faster (optional)\n",
        "\n",
        "Training on the complete dataset of >100,000 sentences will take a long time. To train faster, we can limit the size of the dataset to 30,000 sentences (of course, translation quality degrades with less data):"
      ]
    },
    {
      "cell_type": "code",
      "metadata": {
        "id": "cnxC7q-j3jFD",
        "colab": {
          "base_uri": "https://localhost:8080/"
        },
        "outputId": "370b72ee-266f-4d21-c234-5f534ed0a542"
      },
      "source": [
        "# max_length of the target tensors\n",
        "max_length_targ = 20\n",
        "max_length_inp = 80\n",
        "max_vocab_inp = 45000\n",
        "max_vocab_targ = 28000\n",
        "\n",
        "# Try experimenting with the size of that dataset\n",
        "input_tensor_train, target_tensor_train, input_tensor_dev, target_tensor_dev, inp_tokenizer, targ_tokenizer = qg_dataset.load_dataset()"
      ],
      "execution_count": 8,
      "outputs": [
        {
          "output_type": "stream",
          "text": [
            "['<start>', 'according', 'to', 'the', 'government', 'of', 'botswana', ',', 'trophy', 'hunting', 'is', 'at', 'least', 'partly', 'to', 'blame', 'for', 'this', ',', 'but', 'many', 'other', 'factors', ',', 'such', 'as', 'poaching', ',', 'drought', 'and', 'habitat', 'loss', 'are', 'also', 'to', 'blame', '.', '<end>']\n",
            "['<start>', 'what', 'else', 'is', 'partly', 'to', 'blame', 'for', 'the', 'declining', 'number', 'of', 'animals', 'in', 'botswana', 'and', 'uganda', '?', '<end>']\n",
            "['<start>', 'the', 'legend', 'of', 'zelda', ':', 'twilight', 'princess', '(', 'japanese', ':', 'セルタの伝説', 'トワイライトフリンセス', ',', 'hepburn', ':', 'zeruda', 'no', 'densetsu', ':', 'towairaito', 'purinsesu', '?', ')', 'is', 'an', 'action', '-', 'adventure', 'game', 'developed', 'and', 'published', 'by', 'nintendo', 'for', 'the', 'gamecube', 'and', 'wii', 'home', 'video', 'game', 'consoles', '.', '<end>']\n",
            "['<start>', 'what', 'category', 'of', 'game', 'is', 'legend', 'of', 'zelda', ':', 'twilight', 'princess', '?', '<end>']\n",
            "[5, 2, 5762, 4, 1, 53, 44108, 4330, 12, 405, 53, 1, 1, 3, 31057, 53, 1, 127, 1, 53, 1, 1, 1855, 13, 17, 30, 600, 15, 7121, 521, 234, 8, 392, 19, 1594, 20, 2, 34010, 8, 8877, 204, 597, 521, 6115, 7, 6]\n",
            "[2, 6, 1749, 7, 309, 10, 4715, 7, 16507, 1673, 1, 3877, 4, 3]\n"
          ],
          "name": "stdout"
        }
      ]
    },
    {
      "cell_type": "code",
      "metadata": {
        "id": "4QILQkOs3jFG",
        "colab": {
          "base_uri": "https://localhost:8080/"
        },
        "outputId": "be0bff5d-001e-406d-ff20-e30baf515c90"
      },
      "source": [
        "# Show length\n",
        "print(len(input_tensor_train), len(target_tensor_train), len(input_tensor_dev), len(target_tensor_dev))"
      ],
      "execution_count": 9,
      "outputs": [
        {
          "output_type": "stream",
          "text": [
            "68174 68174 18647 18647\n"
          ],
          "name": "stdout"
        }
      ]
    },
    {
      "cell_type": "code",
      "metadata": {
        "id": "lJPmLZGMeD5q"
      },
      "source": [
        "def convert(lang, tensor):\n",
        "  for t in tensor:\n",
        "    if t!=0:\n",
        "      print (\"%d ----> %s\" % (t, lang.index_word[t]))"
      ],
      "execution_count": 10,
      "outputs": []
    },
    {
      "cell_type": "code",
      "metadata": {
        "id": "VXukARTDd7MT",
        "colab": {
          "base_uri": "https://localhost:8080/"
        },
        "outputId": "db2d5011-32a7-4e91-f3a6-4ef7d686a4e8"
      },
      "source": [
        "print (\"Input Language; index to word mapping\")\n",
        "convert(inp_tokenizer, input_tensor_dev[0])\n",
        "print ()\n",
        "print (\"Target Language; index to word mapping\")\n",
        "convert(targ_tokenizer, target_tensor_dev[0])"
      ],
      "execution_count": 11,
      "outputs": [
        {
          "output_type": "stream",
          "text": [
            "Input Language; index to word mapping\n",
            "5 ----> <start>\n",
            "2 ----> the\n",
            "5762 ----> legend\n",
            "4 ----> of\n",
            "1 ----> <oov>\n",
            "53 ----> :\n",
            "44108 ----> twilight\n",
            "4330 ----> princess\n",
            "12 ----> (\n",
            "405 ----> japanese\n",
            "53 ----> :\n",
            "1 ----> <oov>\n",
            "1 ----> <oov>\n",
            "3 ----> ,\n",
            "31057 ----> hepburn\n",
            "53 ----> :\n",
            "1 ----> <oov>\n",
            "127 ----> no\n",
            "1 ----> <oov>\n",
            "53 ----> :\n",
            "1 ----> <oov>\n",
            "1 ----> <oov>\n",
            "1855 ----> ?\n",
            "13 ----> )\n",
            "17 ----> is\n",
            "30 ----> an\n",
            "600 ----> action\n",
            "15 ----> -\n",
            "7121 ----> adventure\n",
            "521 ----> game\n",
            "234 ----> developed\n",
            "8 ----> and\n",
            "392 ----> published\n",
            "19 ----> by\n",
            "1594 ----> nintendo\n",
            "20 ----> for\n",
            "2 ----> the\n",
            "34010 ----> gamecube\n",
            "8 ----> and\n",
            "8877 ----> wii\n",
            "204 ----> home\n",
            "597 ----> video\n",
            "521 ----> game\n",
            "6115 ----> consoles\n",
            "7 ----> .\n",
            "6 ----> <end>\n",
            "\n",
            "Target Language; index to word mapping\n",
            "2 ----> <start>\n",
            "6 ----> what\n",
            "1749 ----> category\n",
            "7 ----> of\n",
            "309 ----> game\n",
            "10 ----> is\n",
            "4715 ----> legend\n",
            "7 ----> of\n",
            "16507 ----> zelda\n",
            "1673 ----> :\n",
            "1 ----> <oov>\n",
            "3877 ----> princess\n",
            "4 ----> ?\n",
            "3 ----> <end>\n"
          ],
          "name": "stdout"
        }
      ]
    },
    {
      "cell_type": "code",
      "metadata": {
        "id": "TsNa9VxyOwRg"
      },
      "source": [
        "#!wget http://nlp.stanford.edu/data/glove.840B.300d.zip\n",
        "#!unzip -q glove.840B.300d.zip"
      ],
      "execution_count": 12,
      "outputs": []
    },
    {
      "cell_type": "code",
      "metadata": {
        "colab": {
          "base_uri": "https://localhost:8080/"
        },
        "id": "3oEzkFepPBro",
        "outputId": "8dc609c1-f701-4fe1-ac6e-cdf8cb401a7d"
      },
      "source": [
        "path_to_glove_file = os.path.join(\"/content/gdrive/MyDrive/mt-qg-data/glove.840B.300d.txt\")\n",
        "\n",
        "\n",
        "embeddings_index = {}\n",
        "with open(path_to_glove_file) as f:\n",
        "    for line in f:\n",
        "        word, coefs = line.split(maxsplit=1)\n",
        "        coefs = np.fromstring(coefs, \"f\", sep=\" \")\n",
        "        embeddings_index[word] = coefs\n",
        "\n",
        "print(\"Found %s word vectors.\" % len(embeddings_index))"
      ],
      "execution_count": 13,
      "outputs": [
        {
          "output_type": "stream",
          "text": [
            "/usr/local/lib/python3.7/dist-packages/ipykernel_launcher.py:8: DeprecationWarning: string or file could not be read to its end due to unmatched data; this will raise a ValueError in the future.\n",
            "  \n"
          ],
          "name": "stderr"
        },
        {
          "output_type": "stream",
          "text": [
            "Found 2195884 word vectors.\n"
          ],
          "name": "stdout"
        }
      ]
    },
    {
      "cell_type": "code",
      "metadata": {
        "colab": {
          "base_uri": "https://localhost:8080/"
        },
        "id": "LHBg0ADrTENv",
        "outputId": "2d7ea3b9-7459-41ef-9a1f-609dca18a15a"
      },
      "source": [
        "num_tokens = len(inp_tokenizer.index_word) + 1\n",
        "embedding_dim = 300\n",
        "hits = 0\n",
        "misses = 0\n",
        "\n",
        "# Prepare embedding matrix\n",
        "embedding_matrix = np.zeros((num_tokens, embedding_dim))\n",
        "for i, word in inp_tokenizer.index_word.items():\n",
        "    embedding_vector = embeddings_index.get(word)\n",
        "    if embedding_vector is not None and len(embedding_vector) == 300:\n",
        "        # Words not found in embedding index will be all-zeros.\n",
        "        # This includes the representation for \"padding\" and \"OOV\"\n",
        "        embedding_matrix[i] = embedding_vector\n",
        "        hits += 1\n",
        "    else:\n",
        "        misses += 1\n",
        "print(\"Converted %d words (%d misses)\" % (hits, misses))"
      ],
      "execution_count": 14,
      "outputs": [
        {
          "output_type": "stream",
          "text": [
            "Converted 48836 words (14374 misses)\n"
          ],
          "name": "stdout"
        }
      ]
    },
    {
      "cell_type": "markdown",
      "metadata": {
        "id": "rgCLkfv5uO3d"
      },
      "source": [
        "### Create a tf.data dataset"
      ]
    },
    {
      "cell_type": "code",
      "metadata": {
        "id": "TqHsArVZ3jFS"
      },
      "source": [
        "BUFFER_SIZE = len(input_tensor_train)\n",
        "BATCH_SIZE = 64\n",
        "steps_per_epoch = len(input_tensor_train)//BATCH_SIZE\n",
        "embedding_dim = 300\n",
        "units = 600\n",
        "vocab_inp_size = len(inp_tokenizer.word_index)+1 # PADDING\n",
        "vocab_tar_size = len(targ_tokenizer.word_index)+1\n",
        "\n",
        "dataset = tf.data.Dataset.from_tensor_slices((input_tensor_train, target_tensor_train)).shuffle(BUFFER_SIZE)\n",
        "dataset = dataset.batch(BATCH_SIZE, drop_remainder=True)"
      ],
      "execution_count": 15,
      "outputs": []
    },
    {
      "cell_type": "code",
      "metadata": {
        "id": "qc6-NK1GtWQt",
        "colab": {
          "base_uri": "https://localhost:8080/"
        },
        "outputId": "76dd19fd-9f5a-4bdb-c3b7-cd6325256694"
      },
      "source": [
        "example_input_batch, example_target_batch = next(iter(dataset))\n",
        "example_input_batch.shape, example_target_batch.shape"
      ],
      "execution_count": 16,
      "outputs": [
        {
          "output_type": "execute_result",
          "data": {
            "text/plain": [
              "(TensorShape([64, 80]), TensorShape([64, 20]))"
            ]
          },
          "metadata": {
            "tags": []
          },
          "execution_count": 16
        }
      ]
    },
    {
      "cell_type": "markdown",
      "metadata": {
        "id": "TNfHIF71ulLu"
      },
      "source": [
        "## Write the encoder and decoder model\n",
        "\n",
        "Implement an encoder-decoder model with attention which you can read about in the TensorFlow [Neural Machine Translation (seq2seq) tutorial](https://github.com/tensorflow/nmt). This example uses a more recent set of APIs. This notebook implements the [attention equations](https://github.com/tensorflow/nmt#background-on-the-attention-mechanism) from the seq2seq tutorial. The following diagram shows that each input words is assigned a weight by the attention mechanism which is then used by the decoder to predict the next word in the sentence. The below picture and formulas are an example of attention mechanism from [Luong's paper](https://arxiv.org/abs/1508.04025v5). \n",
        "\n",
        "<img src=\"https://www.tensorflow.org/images/seq2seq/attention_mechanism.jpg\" width=\"500\" alt=\"attention mechanism\">\n",
        "\n",
        "The input is put through an encoder model which gives us the encoder output of shape *(batch_size, max_length, hidden_size)* and the encoder hidden state of shape *(batch_size, hidden_size)*.\n",
        "\n",
        "Here are the equations that are implemented:\n",
        "\n",
        "<img src=\"https://www.tensorflow.org/images/seq2seq/attention_equation_0.jpg\" alt=\"attention equation 0\" width=\"800\">\n",
        "<img src=\"https://www.tensorflow.org/images/seq2seq/attention_equation_1.jpg\" alt=\"attention equation 1\" width=\"800\">\n",
        "\n",
        "This tutorial uses [Bahdanau attention](https://arxiv.org/pdf/1409.0473.pdf) for the encoder. Let's decide on notation before writing the simplified form:\n",
        "\n",
        "* FC = Fully connected (dense) layer\n",
        "* EO = Encoder output\n",
        "* H = hidden state\n",
        "* X = input to the decoder\n",
        "\n",
        "And the pseudo-code:\n",
        "\n",
        "* `score = FC(tanh(FC(EO) + FC(H)))`\n",
        "* `attention weights = softmax(score, axis = 1)`. Softmax by default is applied on the last axis but here we want to apply it on the *1st axis*, since the shape of score is *(batch_size, max_length, hidden_size)*. `Max_length` is the length of our input. Since we are trying to assign a weight to each input, softmax should be applied on that axis.\n",
        "* `context vector = sum(attention weights * EO, axis = 1)`. Same reason as above for choosing axis as 1.\n",
        "* `embedding output` = The input to the decoder X is passed through an embedding layer.\n",
        "* `merged vector = concat(embedding output, context vector)`\n",
        "* This merged vector is then given to the GRU\n",
        "\n",
        "The shapes of all the vectors at each step have been specified in the comments in the code:"
      ]
    },
    {
      "cell_type": "code",
      "metadata": {
        "id": "nZ2rI24i3jFg"
      },
      "source": [
        "class Encoder(tf.keras.Model):\n",
        "  def __init__(self, vocab_size, embedding_dim, enc_units, batch_sz, bidirectional=False, secondlayer=False):\n",
        "    super(Encoder, self).__init__()\n",
        "    self.bidirectional=bidirectional\n",
        "    self.batch_sz = batch_sz\n",
        "    self.enc_units = enc_units\n",
        "    self.embedding = tf.keras.layers.Embedding(vocab_size,\n",
        "                                               embedding_dim,\n",
        "                                               embeddings_initializer=tf.keras.initializers.Constant(embedding_matrix),\n",
        "                                               trainable=False)\n",
        "    self.gru = tf.keras.layers.GRU(self.enc_units,\n",
        "                                   return_sequences=True,\n",
        "                                   return_state=True,\n",
        "                                   recurrent_initializer='glorot_uniform',\n",
        "                                   dropout=0.3) # TODO I need to make this bidirectional\n",
        "    if self.bidirectional:\n",
        "      self.gru = tf.keras.layers.Bidirectional(self.gru)\n",
        "\n",
        "\n",
        "  def call(self, x, hidden, training=True):\n",
        "    x = self.embedding(x)\n",
        "    if self.bidirectional:\n",
        "      output, forward_state, backward_state = self.gru(x, initial_state = hidden, training= training)\n",
        "      state = tf.concat([forward_state, backward_state], axis=1)\n",
        "    else:\n",
        "      output, state = self.gru(x, initial_state = hidden)\n",
        "    return output, state\n",
        "\n",
        "  def initialize_hidden_state(self):\n",
        "    if self.bidirectional:\n",
        "      return [tf.zeros((self.batch_sz, self.enc_units)) for i in range(2)]\n",
        "    else:\n",
        "      return tf.zeros((self.batch_sz, self.enc_units))"
      ],
      "execution_count": 17,
      "outputs": []
    },
    {
      "cell_type": "code",
      "metadata": {
        "id": "60gSVh05Jl6l",
        "colab": {
          "base_uri": "https://localhost:8080/"
        },
        "outputId": "2388b64e-e940-42a4-8e9a-2b16f4aedb5a"
      },
      "source": [
        "encoder = Encoder(vocab_inp_size, embedding_dim, units, BATCH_SIZE, bidirectional=False)\n",
        "\n",
        "# sample input\n",
        "sample_hidden = encoder.initialize_hidden_state()\n",
        "sample_output, sample_hidden = encoder(example_input_batch, sample_hidden)\n",
        "print ('Encoder output shape: (batch size, sequence length, units) {}'.format(sample_output.shape))\n",
        "print ('Encoder Hidden state shape: (batch size, units) {}'.format(sample_hidden.shape))"
      ],
      "execution_count": 18,
      "outputs": [
        {
          "output_type": "stream",
          "text": [
            "Encoder output shape: (batch size, sequence length, units) (64, 80, 600)\n",
            "Encoder Hidden state shape: (batch size, units) (64, 600)\n"
          ],
          "name": "stdout"
        }
      ]
    },
    {
      "cell_type": "code",
      "metadata": {
        "id": "umohpBN2OM94"
      },
      "source": [
        ""
      ],
      "execution_count": 18,
      "outputs": []
    },
    {
      "cell_type": "code",
      "metadata": {
        "id": "k534zTHiDjQU"
      },
      "source": [
        ""
      ],
      "execution_count": 18,
      "outputs": []
    },
    {
      "cell_type": "code",
      "metadata": {
        "id": "yJ_B3mhW3jFk"
      },
      "source": [
        "class Decoder(tf.keras.Model):\n",
        "  def __init__(self, vocab_size, embedding_dim, dec_units, batch_sz, attention_type='luong'):\n",
        "    super(Decoder, self).__init__()\n",
        "    self.batch_sz = batch_sz\n",
        "    self.dec_units = dec_units\n",
        "    self.attention_type = attention_type\n",
        "\n",
        "    # Embedding Layer\n",
        "    self.embedding = tf.keras.layers.Embedding(vocab_size, embedding_dim)\n",
        "\n",
        "    # Define the fundamental cell for decoder recurrent structure\n",
        "    self.gru = tf.keras.layers.GRUCell(self.dec_units,\n",
        "                                       recurrent_initializer='glorot_uniform')\n",
        "    # TODO MAKE THIS 2 LAYER???\n",
        "    \n",
        "    #Final Dense layer on which softmax will be applied\n",
        "    self.fc = tf.keras.layers.Dense(vocab_size)\n",
        "\n",
        "    # Sampler\n",
        "    self.sampler = tfa.seq2seq.sampler.TrainingSampler()\n",
        "\n",
        "    # Create attention mechanism with memory = None\n",
        "    self.attention_mechanism = self.build_attention_mechanism(self.dec_units, \n",
        "                                                              None, self.batch_sz*[max_length_inp], self.attention_type)\n",
        "\n",
        "    # Wrap attention mechanism with the fundamental rnn cell of decoder\n",
        "    self.rnn_cell = tfa.seq2seq.AttentionWrapper(self.gru, \n",
        "                                  self.attention_mechanism, attention_layer_size=self.dec_units)\n",
        "    \n",
        "    # Define the decoder with respect to fundamental rnn cell\n",
        "    self.decoder = tfa.seq2seq.BasicDecoder(self.rnn_cell, sampler=self.sampler, output_layer=self.fc)\n",
        "\n",
        "  def build_attention_mechanism(self, dec_units, memory, memory_sequence_length, attention_type='luong'):\n",
        "    # ------------- #\n",
        "    # typ: Which sort of attention (Bahdanau, Luong)\n",
        "    # dec_units: final dimension of attention outputs \n",
        "    # memory: encoder hidden states of shape (batch_size, max_length_input, enc_units)\n",
        "    # memory_sequence_length: 1d array of shape (batch_size) with every element set to max_length_input (for masking purpose)\n",
        "\n",
        "    if(attention_type=='bahdanau'):\n",
        "      return tfa.seq2seq.BahdanauAttention(units=dec_units, memory=memory, memory_sequence_length=memory_sequence_length)\n",
        "    else:\n",
        "      return tfa.seq2seq.LuongAttention(units=dec_units, memory=memory, memory_sequence_length=memory_sequence_length)\n",
        "\n",
        "  def build_initial_state(self, batch_sz, encoder_state, Dtype):\n",
        "    decoder_initial_state = self.rnn_cell.get_initial_state(batch_size=batch_sz, dtype=Dtype)\n",
        "    decoder_initial_state = decoder_initial_state.clone(cell_state=encoder_state)\n",
        "    return decoder_initial_state\n",
        "\n",
        "  def call(self, x, hidden):\n",
        "    # enc_output shape == (batch_size, max_length, hidden_size)\n",
        "    # context_vector, attention_weights = self.attention(hidden, enc_output)\n",
        "\n",
        "    # x shape after passing through embedding == (batch_size, 1, embedding_dim)\n",
        "    x = self.embedding(x)\n",
        "\n",
        "    # x shape after concatenation == (batch_size, 1, embedding_dim + hidden_size)\n",
        "    #x = tf.concat([tf.expand_dims(context_vector, 1), x], axis=-1)\n",
        "\n",
        "    # passing the concatenated vector to the GRU\n",
        "    #output, state = self.gru(x)\n",
        "\n",
        "    # output shape == (batch_size * 1, hidden_size)\n",
        "    #output = tf.reshape(output, (-1, output.shape[2]))\n",
        "\n",
        "    # output shape == (batch_size, vocab)\n",
        "    # x = self.fc(output)\n",
        "\n",
        "    #return x, state, attention_weights\n",
        "\n",
        "    outputs, _, _ = self.decoder(x, initial_state=initial_state, sequence_length=self.batch_sz*[max_length_targ-1])\n",
        "    return outputs"
      ],
      "execution_count": 19,
      "outputs": []
    },
    {
      "cell_type": "code",
      "metadata": {
        "id": "P5UY8wko3jFp"
      },
      "source": [
        "decoder = Decoder(vocab_tar_size, embedding_dim, units, BATCH_SIZE, 'luong')\n",
        "\n",
        "#sample_decoder_output, _, _ = decoder(tf.random.uniform((BATCH_SIZE, 1)),\n",
        "#                                      sample_hidden, sample_output)\n",
        "\n",
        "#print('Decoder output shape: (batch_size, vocab size)', sample_decoder_output.shape)"
      ],
      "execution_count": 20,
      "outputs": []
    },
    {
      "cell_type": "code",
      "metadata": {
        "colab": {
          "base_uri": "https://localhost:8080/"
        },
        "id": "dx__PdacftD4",
        "outputId": "307b16d7-e129-451d-b101-661872f29593"
      },
      "source": [
        "sample_x = tf.random.uniform((BATCH_SIZE, max_length_targ))\n",
        "decoder.attention_mechanism.setup_memory(sample_output)\n",
        "initial_state = decoder.build_initial_state(BATCH_SIZE, sample_hidden, tf.float32)\n",
        "\n",
        "\n",
        "sample_decoder_outputs = decoder(sample_x, initial_state)\n",
        "\n",
        "print(\"Decoder Outputs Shape: \", sample_decoder_outputs.rnn_output.shape)\n"
      ],
      "execution_count": 21,
      "outputs": [
        {
          "output_type": "stream",
          "text": [
            "Decoder Outputs Shape:  (64, 19, 32495)\n"
          ],
          "name": "stdout"
        }
      ]
    },
    {
      "cell_type": "markdown",
      "metadata": {
        "id": "_ch_71VbIRfK"
      },
      "source": [
        "## Define the optimizer and the loss function"
      ]
    },
    {
      "cell_type": "code",
      "metadata": {
        "id": "WmTHr5iV3jFr"
      },
      "source": [
        "optimizer = tf.keras.optimizers.Adam()\n",
        "loss_object = tf.keras.losses.SparseCategoricalCrossentropy(\n",
        "    from_logits=True, reduction='none')\n",
        "\n",
        "def loss_function(real, pred):\n",
        "  mask = tf.math.logical_not(tf.math.equal(real, 0))\n",
        "  loss_ = loss_object(real, pred)\n",
        "\n",
        "  mask = tf.cast(mask, dtype=loss_.dtype)\n",
        "  loss_ *= mask\n",
        "\n",
        "  return tf.reduce_mean(loss_)"
      ],
      "execution_count": 22,
      "outputs": []
    },
    {
      "cell_type": "markdown",
      "metadata": {
        "id": "DMVWzzsfNl4e"
      },
      "source": [
        "## Checkpoints (Object-based saving)"
      ]
    },
    {
      "cell_type": "code",
      "metadata": {
        "id": "Zj8bXQTgNwrF"
      },
      "source": [
        "checkpoint_dir = path_to_model + 'training_checkpoints'\n",
        "checkpoint_prefix = os.path.join(checkpoint_dir, \"ckpt\")\n",
        "checkpoint = tf.train.Checkpoint(optimizer=optimizer,\n",
        "                                 encoder=encoder,\n",
        "                                 decoder=decoder)"
      ],
      "execution_count": 23,
      "outputs": []
    },
    {
      "cell_type": "markdown",
      "metadata": {
        "id": "hpObfY22IddU"
      },
      "source": [
        "## Training\n",
        "\n",
        "1. Pass the *input* through the *encoder* which return *encoder output* and the *encoder hidden state*.\n",
        "2. The encoder output, encoder hidden state and the decoder input (which is the *start token*) is passed to the decoder.\n",
        "3. The decoder returns the *predictions* and the *decoder hidden state*.\n",
        "4. The decoder hidden state is then passed back into the model and the predictions are used to calculate the loss.\n",
        "5. Use *teacher forcing* to decide the next input to the decoder.\n",
        "6. *Teacher forcing* is the technique where the *target word* is passed as the *next input* to the decoder.\n",
        "7. The final step is to calculate the gradients and apply it to the optimizer and backpropagate."
      ]
    },
    {
      "cell_type": "code",
      "metadata": {
        "id": "sC9ArXSsVfqn"
      },
      "source": [
        "@tf.function\n",
        "def train_step(inp, targ, enc_hidden):\n",
        "  loss = 0\n",
        "\n",
        "  with tf.GradientTape() as tape:\n",
        "    enc_output, enc_hidden = encoder(inp, enc_hidden)\n",
        "\n",
        "    dec_input = targ[ : , :-1 ] # Ignore <end> token\n",
        "    real = targ[ : , 1: ]         # ignore <start> token\n",
        "\n",
        "    # Set the AttentionMechanism object with encoder_outputs\n",
        "    decoder.attention_mechanism.setup_memory(enc_output)\n",
        "\n",
        "    # Create AttentionWrapperState as initial_state for decoder\n",
        "    decoder_initial_state = decoder.build_initial_state(BATCH_SIZE,enc_hidden, tf.float32)\n",
        "    pred = decoder(dec_input, decoder_initial_state)\n",
        "    logits = pred.rnn_output\n",
        "    loss = loss_function(real, logits)\n",
        "\n",
        "\n",
        "\n",
        "  variables = encoder.trainable_variables + decoder.trainable_variables\n",
        "\n",
        "  gradients = tape.gradient(loss, variables)\n",
        "\n",
        "  optimizer.apply_gradients(zip(gradients, variables))\n",
        "\n",
        "  return loss"
      ],
      "execution_count": 24,
      "outputs": []
    },
    {
      "cell_type": "code",
      "metadata": {
        "id": "RrpsN8e3CF7E"
      },
      "source": [
        ""
      ],
      "execution_count": 25,
      "outputs": []
    },
    {
      "cell_type": "code",
      "metadata": {
        "id": "ddefjBMa3jF0",
        "colab": {
          "base_uri": "https://localhost:8080/"
        },
        "outputId": "b0f0df2f-4cac-4f50-8326-39dbb6013aad"
      },
      "source": [
        "EPOCHS = 30\n",
        "\n",
        "for epoch in range(EPOCHS):\n",
        "  start = time.time()\n",
        "\n",
        "  enc_hidden = encoder.initialize_hidden_state()\n",
        "  total_loss = 0\n",
        "\n",
        "  for (batch, (inp, targ)) in enumerate(dataset.take(steps_per_epoch)):\n",
        "    batch_loss = train_step(inp, targ, enc_hidden)\n",
        "    total_loss += batch_loss\n",
        "\n",
        "    if batch % 100 == 0:\n",
        "      print('Epoch {} Batch {} Loss {:.4f}'.format(epoch + 1,\n",
        "                                                   batch,\n",
        "                                                   batch_loss.numpy()))\n",
        "  # saving (checkpoint) the model every 2 epochs\n",
        "  if (epoch + 1) % 5 == 0:\n",
        "    checkpoint.save(file_prefix = checkpoint_prefix)\n",
        "\n",
        "  print('Epoch {} Loss {:.4f}'.format(epoch + 1,\n",
        "                                      total_loss / steps_per_epoch))\n",
        "  print('Time taken for 1 epoch {} sec\\n'.format(time.time() - start))"
      ],
      "execution_count": 26,
      "outputs": [
        {
          "output_type": "stream",
          "text": [
            "Epoch 1 Batch 0 Loss 6.2187\n",
            "Epoch 1 Batch 100 Loss 3.9117\n",
            "Epoch 1 Batch 200 Loss 3.5503\n",
            "Epoch 1 Batch 300 Loss 3.1473\n",
            "Epoch 1 Batch 400 Loss 3.3725\n",
            "Epoch 1 Batch 500 Loss 3.2294\n",
            "Epoch 1 Batch 600 Loss 2.9548\n",
            "Epoch 1 Batch 700 Loss 3.0385\n",
            "Epoch 1 Batch 800 Loss 2.7689\n",
            "Epoch 1 Batch 900 Loss 2.9449\n",
            "Epoch 1 Batch 1000 Loss 2.9555\n",
            "Epoch 1 Loss 3.2039\n",
            "Time taken for 1 epoch 181.8860490322113 sec\n",
            "\n",
            "Epoch 2 Batch 0 Loss 2.3056\n",
            "Epoch 2 Batch 100 Loss 2.3245\n",
            "Epoch 2 Batch 200 Loss 2.7555\n",
            "Epoch 2 Batch 300 Loss 2.2199\n",
            "Epoch 2 Batch 400 Loss 2.2965\n",
            "Epoch 2 Batch 500 Loss 2.6315\n",
            "Epoch 2 Batch 600 Loss 2.2704\n",
            "Epoch 2 Batch 700 Loss 2.2921\n",
            "Epoch 2 Batch 800 Loss 2.5623\n",
            "Epoch 2 Batch 900 Loss 2.6030\n",
            "Epoch 2 Batch 1000 Loss 2.4310\n",
            "Epoch 2 Loss 2.4637\n",
            "Time taken for 1 epoch 171.99409890174866 sec\n",
            "\n",
            "Epoch 3 Batch 0 Loss 1.9673\n",
            "Epoch 3 Batch 100 Loss 2.0469\n",
            "Epoch 3 Batch 200 Loss 2.0390\n",
            "Epoch 3 Batch 300 Loss 2.0529\n",
            "Epoch 3 Batch 400 Loss 1.9670\n",
            "Epoch 3 Batch 500 Loss 2.1442\n",
            "Epoch 3 Batch 600 Loss 2.3701\n",
            "Epoch 3 Batch 700 Loss 2.1442\n",
            "Epoch 3 Batch 800 Loss 1.9673\n",
            "Epoch 3 Batch 900 Loss 2.0278\n",
            "Epoch 3 Batch 1000 Loss 2.0362\n",
            "Epoch 3 Loss 2.0705\n",
            "Time taken for 1 epoch 171.9925787448883 sec\n",
            "\n",
            "Epoch 4 Batch 0 Loss 1.5965\n",
            "Epoch 4 Batch 100 Loss 1.9328\n",
            "Epoch 4 Batch 200 Loss 1.7874\n",
            "Epoch 4 Batch 300 Loss 1.8272\n",
            "Epoch 4 Batch 400 Loss 1.8462\n",
            "Epoch 4 Batch 500 Loss 1.7629\n",
            "Epoch 4 Batch 600 Loss 1.8478\n",
            "Epoch 4 Batch 700 Loss 1.9253\n",
            "Epoch 4 Batch 800 Loss 1.7528\n",
            "Epoch 4 Batch 900 Loss 1.8173\n",
            "Epoch 4 Batch 1000 Loss 1.8527\n",
            "Epoch 4 Loss 1.7869\n",
            "Time taken for 1 epoch 171.1895661354065 sec\n",
            "\n",
            "Epoch 5 Batch 0 Loss 1.5258\n",
            "Epoch 5 Batch 100 Loss 1.5431\n",
            "Epoch 5 Batch 200 Loss 1.4910\n",
            "Epoch 5 Batch 300 Loss 1.4337\n",
            "Epoch 5 Batch 400 Loss 1.4862\n",
            "Epoch 5 Batch 500 Loss 1.7133\n",
            "Epoch 5 Batch 600 Loss 1.6768\n",
            "Epoch 5 Batch 700 Loss 1.6936\n",
            "Epoch 5 Batch 800 Loss 1.6637\n",
            "Epoch 5 Batch 900 Loss 1.6492\n",
            "Epoch 5 Batch 1000 Loss 1.5913\n",
            "Epoch 5 Loss 1.5873\n",
            "Time taken for 1 epoch 176.18376398086548 sec\n",
            "\n",
            "Epoch 6 Batch 0 Loss 1.1607\n",
            "Epoch 6 Batch 100 Loss 1.3852\n",
            "Epoch 6 Batch 200 Loss 1.2549\n",
            "Epoch 6 Batch 300 Loss 1.3403\n",
            "Epoch 6 Batch 400 Loss 1.4585\n",
            "Epoch 6 Batch 500 Loss 1.4205\n",
            "Epoch 6 Batch 600 Loss 1.6184\n",
            "Epoch 6 Batch 700 Loss 1.5894\n",
            "Epoch 6 Batch 800 Loss 1.4435\n",
            "Epoch 6 Batch 900 Loss 1.4851\n",
            "Epoch 6 Batch 1000 Loss 1.5530\n",
            "Epoch 6 Loss 1.4432\n",
            "Time taken for 1 epoch 171.54966855049133 sec\n",
            "\n",
            "Epoch 7 Batch 0 Loss 1.4095\n",
            "Epoch 7 Batch 100 Loss 1.3605\n",
            "Epoch 7 Batch 200 Loss 1.2336\n",
            "Epoch 7 Batch 300 Loss 1.2137\n",
            "Epoch 7 Batch 400 Loss 1.3095\n",
            "Epoch 7 Batch 500 Loss 1.1691\n",
            "Epoch 7 Batch 600 Loss 1.2619\n",
            "Epoch 7 Batch 700 Loss 1.3505\n",
            "Epoch 7 Batch 800 Loss 1.3066\n",
            "Epoch 7 Batch 900 Loss 1.4868\n",
            "Epoch 7 Batch 1000 Loss 1.4726\n",
            "Epoch 7 Loss 1.3245\n",
            "Time taken for 1 epoch 170.84859800338745 sec\n",
            "\n",
            "Epoch 8 Batch 0 Loss 1.1245\n",
            "Epoch 8 Batch 100 Loss 1.0673\n",
            "Epoch 8 Batch 200 Loss 1.2210\n",
            "Epoch 8 Batch 300 Loss 1.2383\n",
            "Epoch 8 Batch 400 Loss 1.2272\n",
            "Epoch 8 Batch 500 Loss 1.3111\n",
            "Epoch 8 Batch 600 Loss 1.2014\n",
            "Epoch 8 Batch 700 Loss 1.3389\n",
            "Epoch 8 Batch 800 Loss 1.2297\n",
            "Epoch 8 Batch 900 Loss 1.3359\n",
            "Epoch 8 Batch 1000 Loss 1.2247\n",
            "Epoch 8 Loss 1.2312\n",
            "Time taken for 1 epoch 170.93840742111206 sec\n",
            "\n",
            "Epoch 9 Batch 0 Loss 1.0029\n",
            "Epoch 9 Batch 100 Loss 1.0254\n",
            "Epoch 9 Batch 200 Loss 1.0113\n",
            "Epoch 9 Batch 300 Loss 1.1271\n",
            "Epoch 9 Batch 400 Loss 0.9600\n",
            "Epoch 9 Batch 500 Loss 1.3089\n",
            "Epoch 9 Batch 600 Loss 1.1011\n",
            "Epoch 9 Batch 700 Loss 1.1161\n",
            "Epoch 9 Batch 800 Loss 1.3023\n",
            "Epoch 9 Batch 900 Loss 1.3147\n",
            "Epoch 9 Batch 1000 Loss 1.4176\n",
            "Epoch 9 Loss 1.1537\n",
            "Time taken for 1 epoch 171.10462164878845 sec\n",
            "\n",
            "Epoch 10 Batch 0 Loss 1.0489\n",
            "Epoch 10 Batch 100 Loss 0.9493\n",
            "Epoch 10 Batch 200 Loss 1.0382\n",
            "Epoch 10 Batch 300 Loss 1.1770\n",
            "Epoch 10 Batch 400 Loss 1.0225\n",
            "Epoch 10 Batch 500 Loss 1.0982\n",
            "Epoch 10 Batch 600 Loss 1.0974\n",
            "Epoch 10 Batch 700 Loss 1.1229\n",
            "Epoch 10 Batch 800 Loss 1.0576\n",
            "Epoch 10 Batch 900 Loss 1.1468\n",
            "Epoch 10 Batch 1000 Loss 1.2133\n",
            "Epoch 10 Loss 1.0926\n",
            "Time taken for 1 epoch 173.84178972244263 sec\n",
            "\n",
            "Epoch 11 Batch 0 Loss 0.9954\n",
            "Epoch 11 Batch 100 Loss 0.7842\n",
            "Epoch 11 Batch 200 Loss 0.9882\n",
            "Epoch 11 Batch 300 Loss 0.9469\n",
            "Epoch 11 Batch 400 Loss 1.0345\n",
            "Epoch 11 Batch 500 Loss 1.0938\n",
            "Epoch 11 Batch 600 Loss 1.0149\n",
            "Epoch 11 Batch 700 Loss 1.0028\n",
            "Epoch 11 Batch 800 Loss 1.1162\n",
            "Epoch 11 Batch 900 Loss 1.1020\n",
            "Epoch 11 Batch 1000 Loss 1.1706\n",
            "Epoch 11 Loss 1.0396\n",
            "Time taken for 1 epoch 171.22113943099976 sec\n",
            "\n",
            "Epoch 12 Batch 0 Loss 0.8827\n",
            "Epoch 12 Batch 100 Loss 0.8930\n",
            "Epoch 12 Batch 200 Loss 0.9858\n",
            "Epoch 12 Batch 300 Loss 1.0066\n",
            "Epoch 12 Batch 400 Loss 0.9473\n",
            "Epoch 12 Batch 500 Loss 1.1030\n",
            "Epoch 12 Batch 600 Loss 0.9067\n",
            "Epoch 12 Batch 700 Loss 1.0134\n",
            "Epoch 12 Batch 800 Loss 0.9470\n",
            "Epoch 12 Batch 900 Loss 1.2666\n",
            "Epoch 12 Batch 1000 Loss 0.9152\n",
            "Epoch 12 Loss 0.9944\n",
            "Time taken for 1 epoch 171.64919066429138 sec\n",
            "\n",
            "Epoch 13 Batch 0 Loss 0.9666\n",
            "Epoch 13 Batch 100 Loss 0.8445\n",
            "Epoch 13 Batch 200 Loss 0.7929\n",
            "Epoch 13 Batch 300 Loss 0.9021\n",
            "Epoch 13 Batch 400 Loss 0.8826\n",
            "Epoch 13 Batch 500 Loss 0.9202\n",
            "Epoch 13 Batch 600 Loss 0.9617\n",
            "Epoch 13 Batch 700 Loss 0.9543\n",
            "Epoch 13 Batch 800 Loss 1.0829\n",
            "Epoch 13 Batch 900 Loss 1.0239\n",
            "Epoch 13 Batch 1000 Loss 1.2964\n",
            "Epoch 13 Loss 0.9570\n",
            "Time taken for 1 epoch 170.95803713798523 sec\n",
            "\n",
            "Epoch 14 Batch 0 Loss 0.8698\n",
            "Epoch 14 Batch 100 Loss 0.7766\n",
            "Epoch 14 Batch 200 Loss 0.8470\n",
            "Epoch 14 Batch 300 Loss 0.9574\n",
            "Epoch 14 Batch 400 Loss 0.9036\n",
            "Epoch 14 Batch 500 Loss 0.9248\n",
            "Epoch 14 Batch 600 Loss 0.9547\n",
            "Epoch 14 Batch 700 Loss 0.9568\n",
            "Epoch 14 Batch 800 Loss 0.8071\n",
            "Epoch 14 Batch 900 Loss 0.9185\n",
            "Epoch 14 Batch 1000 Loss 1.1717\n",
            "Epoch 14 Loss 0.9223\n",
            "Time taken for 1 epoch 170.73390674591064 sec\n",
            "\n",
            "Epoch 15 Batch 0 Loss 0.7246\n",
            "Epoch 15 Batch 100 Loss 0.7064\n",
            "Epoch 15 Batch 200 Loss 0.7415\n",
            "Epoch 15 Batch 300 Loss 0.8751\n",
            "Epoch 15 Batch 400 Loss 0.8427\n",
            "Epoch 15 Batch 500 Loss 0.8844\n",
            "Epoch 15 Batch 600 Loss 0.9208\n",
            "Epoch 15 Batch 700 Loss 0.8836\n",
            "Epoch 15 Batch 800 Loss 0.9840\n",
            "Epoch 15 Batch 900 Loss 0.9917\n",
            "Epoch 15 Batch 1000 Loss 1.0206\n",
            "Epoch 15 Loss 0.8943\n",
            "Time taken for 1 epoch 172.2408685684204 sec\n",
            "\n",
            "Epoch 16 Batch 0 Loss 0.7300\n",
            "Epoch 16 Batch 100 Loss 0.8488\n",
            "Epoch 16 Batch 200 Loss 0.7756\n",
            "Epoch 16 Batch 300 Loss 0.8073\n",
            "Epoch 16 Batch 400 Loss 0.9415\n",
            "Epoch 16 Batch 500 Loss 0.8207\n",
            "Epoch 16 Batch 600 Loss 0.8292\n",
            "Epoch 16 Batch 700 Loss 0.8059\n",
            "Epoch 16 Batch 800 Loss 0.9407\n",
            "Epoch 16 Batch 900 Loss 0.9378\n",
            "Epoch 16 Batch 1000 Loss 0.8325\n",
            "Epoch 16 Loss 0.8679\n",
            "Time taken for 1 epoch 171.19989442825317 sec\n",
            "\n",
            "Epoch 17 Batch 0 Loss 0.8242\n",
            "Epoch 17 Batch 100 Loss 0.7224\n",
            "Epoch 17 Batch 200 Loss 0.8308\n",
            "Epoch 17 Batch 300 Loss 0.9131\n",
            "Epoch 17 Batch 400 Loss 0.8440\n",
            "Epoch 17 Batch 500 Loss 0.9227\n",
            "Epoch 17 Batch 600 Loss 0.8083\n",
            "Epoch 17 Batch 700 Loss 0.9019\n",
            "Epoch 17 Batch 800 Loss 0.8860\n",
            "Epoch 17 Batch 900 Loss 0.9286\n",
            "Epoch 17 Batch 1000 Loss 0.9554\n",
            "Epoch 17 Loss 0.8466\n",
            "Time taken for 1 epoch 171.58151054382324 sec\n",
            "\n",
            "Epoch 18 Batch 0 Loss 0.6723\n",
            "Epoch 18 Batch 100 Loss 0.7934\n",
            "Epoch 18 Batch 200 Loss 0.7992\n",
            "Epoch 18 Batch 300 Loss 0.6483\n",
            "Epoch 18 Batch 400 Loss 0.8158\n",
            "Epoch 18 Batch 500 Loss 0.7408\n",
            "Epoch 18 Batch 600 Loss 0.7406\n",
            "Epoch 18 Batch 700 Loss 0.8031\n",
            "Epoch 18 Batch 800 Loss 0.9304\n",
            "Epoch 18 Batch 900 Loss 0.8793\n",
            "Epoch 18 Batch 1000 Loss 0.9176\n",
            "Epoch 18 Loss 0.8266\n",
            "Time taken for 1 epoch 171.5900740623474 sec\n",
            "\n",
            "Epoch 19 Batch 0 Loss 0.7163\n",
            "Epoch 19 Batch 100 Loss 0.7115\n",
            "Epoch 19 Batch 200 Loss 0.7511\n",
            "Epoch 19 Batch 300 Loss 0.7909\n",
            "Epoch 19 Batch 400 Loss 0.8104\n",
            "Epoch 19 Batch 500 Loss 0.7255\n",
            "Epoch 19 Batch 600 Loss 0.8205\n",
            "Epoch 19 Batch 700 Loss 0.8807\n",
            "Epoch 19 Batch 800 Loss 0.7854\n",
            "Epoch 19 Batch 900 Loss 0.9336\n",
            "Epoch 19 Batch 1000 Loss 0.8288\n",
            "Epoch 19 Loss 0.8063\n",
            "Time taken for 1 epoch 171.71662211418152 sec\n",
            "\n",
            "Epoch 20 Batch 0 Loss 0.7392\n",
            "Epoch 20 Batch 100 Loss 0.7320\n",
            "Epoch 20 Batch 200 Loss 0.6745\n",
            "Epoch 20 Batch 300 Loss 0.6755\n",
            "Epoch 20 Batch 400 Loss 0.6914\n",
            "Epoch 20 Batch 500 Loss 0.8129\n",
            "Epoch 20 Batch 600 Loss 0.7154\n",
            "Epoch 20 Batch 700 Loss 0.8399\n",
            "Epoch 20 Batch 800 Loss 0.8725\n",
            "Epoch 20 Batch 900 Loss 0.9329\n",
            "Epoch 20 Batch 1000 Loss 0.8599\n",
            "Epoch 20 Loss 0.7886\n",
            "Time taken for 1 epoch 172.891743183136 sec\n",
            "\n",
            "Epoch 21 Batch 0 Loss 0.6356\n",
            "Epoch 21 Batch 100 Loss 0.6440\n",
            "Epoch 21 Batch 200 Loss 0.6211\n",
            "Epoch 21 Batch 300 Loss 0.7721\n",
            "Epoch 21 Batch 400 Loss 0.7533\n",
            "Epoch 21 Batch 500 Loss 0.7767\n",
            "Epoch 21 Batch 600 Loss 0.7634\n",
            "Epoch 21 Batch 700 Loss 0.8296\n",
            "Epoch 21 Batch 800 Loss 0.9196\n",
            "Epoch 21 Batch 900 Loss 0.7801\n",
            "Epoch 21 Batch 1000 Loss 0.7929\n",
            "Epoch 21 Loss 0.7758\n",
            "Time taken for 1 epoch 171.44741487503052 sec\n",
            "\n",
            "Epoch 22 Batch 0 Loss 0.7734\n",
            "Epoch 22 Batch 100 Loss 0.6245\n",
            "Epoch 22 Batch 200 Loss 0.7056\n",
            "Epoch 22 Batch 300 Loss 0.7013\n",
            "Epoch 22 Batch 400 Loss 0.6874\n",
            "Epoch 22 Batch 500 Loss 0.7186\n",
            "Epoch 22 Batch 600 Loss 0.8306\n",
            "Epoch 22 Batch 700 Loss 0.8617\n",
            "Epoch 22 Batch 800 Loss 0.7555\n",
            "Epoch 22 Batch 900 Loss 0.8567\n",
            "Epoch 22 Batch 1000 Loss 0.8526\n",
            "Epoch 22 Loss 0.7599\n",
            "Time taken for 1 epoch 171.06251668930054 sec\n",
            "\n",
            "Epoch 23 Batch 0 Loss 0.6084\n",
            "Epoch 23 Batch 100 Loss 0.6392\n",
            "Epoch 23 Batch 200 Loss 0.6735\n",
            "Epoch 23 Batch 300 Loss 0.8328\n",
            "Epoch 23 Batch 400 Loss 0.7967\n",
            "Epoch 23 Batch 500 Loss 0.6996\n",
            "Epoch 23 Batch 600 Loss 0.7821\n",
            "Epoch 23 Batch 700 Loss 0.7775\n",
            "Epoch 23 Batch 800 Loss 0.7852\n",
            "Epoch 23 Batch 900 Loss 0.8565\n",
            "Epoch 23 Batch 1000 Loss 0.8857\n",
            "Epoch 23 Loss 0.7500\n",
            "Time taken for 1 epoch 171.23316645622253 sec\n",
            "\n",
            "Epoch 24 Batch 0 Loss 0.5601\n",
            "Epoch 24 Batch 100 Loss 0.6050\n",
            "Epoch 24 Batch 200 Loss 0.8033\n",
            "Epoch 24 Batch 300 Loss 0.7101\n",
            "Epoch 24 Batch 400 Loss 0.7616\n",
            "Epoch 24 Batch 500 Loss 0.6386\n",
            "Epoch 24 Batch 600 Loss 0.8035\n",
            "Epoch 24 Batch 700 Loss 0.7804\n",
            "Epoch 24 Batch 800 Loss 0.6961\n",
            "Epoch 24 Batch 900 Loss 0.8705\n",
            "Epoch 24 Batch 1000 Loss 0.9115\n",
            "Epoch 24 Loss 0.7384\n",
            "Time taken for 1 epoch 171.6384391784668 sec\n",
            "\n",
            "Epoch 25 Batch 0 Loss 0.7073\n",
            "Epoch 25 Batch 100 Loss 0.7054\n",
            "Epoch 25 Batch 200 Loss 0.6317\n",
            "Epoch 25 Batch 300 Loss 0.6039\n",
            "Epoch 25 Batch 400 Loss 0.8051\n",
            "Epoch 25 Batch 500 Loss 0.7596\n",
            "Epoch 25 Batch 600 Loss 0.7239\n",
            "Epoch 25 Batch 700 Loss 0.7935\n",
            "Epoch 25 Batch 800 Loss 0.8702\n",
            "Epoch 25 Batch 900 Loss 0.7580\n",
            "Epoch 25 Batch 1000 Loss 0.8739\n",
            "Epoch 25 Loss 0.7277\n",
            "Time taken for 1 epoch 172.5032799243927 sec\n",
            "\n",
            "Epoch 26 Batch 0 Loss 0.6140\n",
            "Epoch 26 Batch 100 Loss 0.6356\n",
            "Epoch 26 Batch 200 Loss 0.7177\n",
            "Epoch 26 Batch 300 Loss 0.7211\n",
            "Epoch 26 Batch 400 Loss 0.7187\n",
            "Epoch 26 Batch 500 Loss 0.7306\n",
            "Epoch 26 Batch 600 Loss 0.7107\n",
            "Epoch 26 Batch 700 Loss 0.7518\n",
            "Epoch 26 Batch 800 Loss 0.7715\n",
            "Epoch 26 Batch 900 Loss 0.7470\n",
            "Epoch 26 Batch 1000 Loss 0.7896\n",
            "Epoch 26 Loss 0.7178\n",
            "Time taken for 1 epoch 171.7049753665924 sec\n",
            "\n",
            "Epoch 27 Batch 0 Loss 0.5753\n",
            "Epoch 27 Batch 100 Loss 0.6066\n",
            "Epoch 27 Batch 200 Loss 0.6107\n",
            "Epoch 27 Batch 300 Loss 0.6800\n",
            "Epoch 27 Batch 400 Loss 0.6022\n",
            "Epoch 27 Batch 500 Loss 0.6957\n",
            "Epoch 27 Batch 600 Loss 0.6726\n",
            "Epoch 27 Batch 700 Loss 0.7501\n",
            "Epoch 27 Batch 800 Loss 0.7972\n",
            "Epoch 27 Batch 900 Loss 0.8459\n",
            "Epoch 27 Batch 1000 Loss 0.7897\n",
            "Epoch 27 Loss 0.7084\n",
            "Time taken for 1 epoch 171.36830043792725 sec\n",
            "\n",
            "Epoch 28 Batch 0 Loss 0.5258\n",
            "Epoch 28 Batch 100 Loss 0.5936\n",
            "Epoch 28 Batch 200 Loss 0.5881\n",
            "Epoch 28 Batch 300 Loss 0.6180\n",
            "Epoch 28 Batch 400 Loss 0.7009\n",
            "Epoch 28 Batch 500 Loss 0.6729\n",
            "Epoch 28 Batch 600 Loss 0.7407\n",
            "Epoch 28 Batch 700 Loss 0.7653\n",
            "Epoch 28 Batch 800 Loss 0.6293\n",
            "Epoch 28 Batch 900 Loss 0.7069\n",
            "Epoch 28 Batch 1000 Loss 0.7509\n",
            "Epoch 28 Loss 0.7003\n",
            "Time taken for 1 epoch 171.43389678001404 sec\n",
            "\n",
            "Epoch 29 Batch 0 Loss 0.5453\n",
            "Epoch 29 Batch 100 Loss 0.5647\n",
            "Epoch 29 Batch 200 Loss 0.6384\n",
            "Epoch 29 Batch 300 Loss 0.6840\n",
            "Epoch 29 Batch 400 Loss 0.6862\n",
            "Epoch 29 Batch 500 Loss 0.6600\n",
            "Epoch 29 Batch 600 Loss 0.7536\n",
            "Epoch 29 Batch 700 Loss 0.7537\n",
            "Epoch 29 Batch 800 Loss 0.6730\n",
            "Epoch 29 Batch 900 Loss 0.7716\n",
            "Epoch 29 Batch 1000 Loss 0.7043\n",
            "Epoch 29 Loss 0.6948\n",
            "Time taken for 1 epoch 171.19393587112427 sec\n",
            "\n",
            "Epoch 30 Batch 0 Loss 0.7038\n",
            "Epoch 30 Batch 100 Loss 0.5949\n",
            "Epoch 30 Batch 200 Loss 0.6674\n",
            "Epoch 30 Batch 300 Loss 0.7424\n",
            "Epoch 30 Batch 400 Loss 0.6296\n",
            "Epoch 30 Batch 500 Loss 0.7386\n",
            "Epoch 30 Batch 600 Loss 0.6717\n",
            "Epoch 30 Batch 700 Loss 0.6580\n",
            "Epoch 30 Batch 800 Loss 0.6926\n",
            "Epoch 30 Batch 900 Loss 0.6586\n",
            "Epoch 30 Batch 1000 Loss 0.7458\n",
            "Epoch 30 Loss 0.6889\n",
            "Time taken for 1 epoch 172.85608792304993 sec\n",
            "\n"
          ],
          "name": "stdout"
        }
      ]
    },
    {
      "cell_type": "markdown",
      "metadata": {
        "id": "mU3Ce8M6I3rz"
      },
      "source": [
        "## Translate\n",
        "\n",
        "* The evaluate function is similar to the training loop, except we don't use *teacher forcing* here. The input to the decoder at each time step is its previous predictions along with the hidden state and the encoder output.\n",
        "* Stop predicting when the model predicts the *end token*.\n",
        "* And store the *attention weights for every time step*.\n",
        "\n",
        "Note: The encoder output is calculated only once for one input."
      ]
    },
    {
      "cell_type": "code",
      "metadata": {
        "id": "EbQpyYs13jF_"
      },
      "source": [
        ""
      ],
      "execution_count": 26,
      "outputs": []
    },
    {
      "cell_type": "code",
      "metadata": {
        "id": "YKDfZdNjO4DJ"
      },
      "source": [
        "def evaluate_sentence(sentence):\n",
        "  sentence = qg_dataset.preprocess_sentence(sentence)\n",
        "\n",
        "  inputs = inp_tokenizer.texts_to_sequences([sentence])\n",
        "  inputs = tf.keras.preprocessing.sequence.pad_sequences(inputs,\n",
        "                                                          maxlen=max_length_inp,\n",
        "                                                          padding='post')\n",
        "  inputs = tf.convert_to_tensor(inputs)\n",
        "  inference_batch_size = inputs.shape[0]\n",
        "  result = ''\n",
        "\n",
        "  enc_start_state = [tf.zeros((inference_batch_size, units))]\n",
        "  enc_out, enc_hidden = encoder(inputs, enc_start_state, training=False)\n",
        "\n",
        "  dec_hidden = enc_hidden\n",
        "\n",
        "  start_tokens = tf.fill([inference_batch_size], targ_tokenizer.word_index['<start>'])\n",
        "  end_token = targ_tokenizer.word_index['<end>']\n",
        "\n",
        "  greedy_sampler = tfa.seq2seq.GreedyEmbeddingSampler()\n",
        "\n",
        "  # Instantiate BasicDecoder object\n",
        "  decoder_instance = tfa.seq2seq.BasicDecoder(cell=decoder.rnn_cell, sampler=greedy_sampler, output_layer=decoder.fc, maximum_iterations=10)\n",
        "  # Setup Memory in decoder stack\n",
        "  decoder.attention_mechanism.setup_memory(enc_out)\n",
        "\n",
        "  # set decoder_initial_state\n",
        "  decoder_initial_state = decoder.build_initial_state(inference_batch_size, dec_hidden, tf.float32)\n",
        "\n",
        "\n",
        "  ### Since the BasicDecoder wraps around Decoder's rnn cell only, you have to ensure that the inputs to BasicDecoder \n",
        "  ### decoding step is output of embedding layer. tfa.seq2seq.GreedyEmbeddingSampler() takes care of this. \n",
        "  ### You only need to get the weights of embedding layer, which can be done by decoder.embedding.variables[0] and pass this callabble to BasicDecoder's call() function\n",
        "\n",
        "  decoder_embedding_matrix = decoder.embedding.variables[0]\n",
        "\n",
        "  outputs, _, _ = decoder_instance(decoder_embedding_matrix, start_tokens = start_tokens, end_token= end_token, initial_state=decoder_initial_state)\n",
        "  return outputs.sample_id.numpy()\n",
        "\n",
        "def translate(sentence):\n",
        "  result = evaluate_sentence(sentence)\n",
        "  print(result)\n",
        "  result = targ_tokenizer.sequences_to_texts(result)\n",
        "  print('Input: %s' % (sentence))\n",
        "  print('Predicted translation: {}'.format(result))"
      ],
      "execution_count": 25,
      "outputs": []
    },
    {
      "cell_type": "code",
      "metadata": {
        "id": "s5hQWlbN3jGF"
      },
      "source": [
        "# function for plotting the attention weights\n",
        "def plot_attention(attention, sentence, predicted_sentence):\n",
        "  print(attention.shape)\n",
        "  fig = plt.figure(figsize=(10,10))\n",
        "  ax = fig.add_subplot(1, 1, 1)\n",
        "  ax.matshow(attention, cmap='viridis')\n",
        "\n",
        "  fontdict = {'fontsize': 14}\n",
        "\n",
        "  ax.set_xticklabels([''] + sentence, fontdict=fontdict, rotation=90)\n",
        "  ax.set_yticklabels([''] + predicted_sentence, fontdict=fontdict)\n",
        "\n",
        "  ax.xaxis.set_major_locator(ticker.MultipleLocator(1))\n",
        "  ax.yaxis.set_major_locator(ticker.MultipleLocator(1))\n",
        "\n",
        "  plt.show()"
      ],
      "execution_count": 26,
      "outputs": []
    },
    {
      "cell_type": "code",
      "metadata": {
        "id": "sl9zUHzg3jGI",
        "colab": {
          "base_uri": "https://localhost:8080/"
        },
        "outputId": "739b72c3-33c1-4214-b730-2179d8feb886"
      },
      "source": [
        "targ_tokenizer.sequences_to_texts([[192, 29, 4,  29,   4,  29,   4,  29,   4,  29]])"
      ],
      "execution_count": 27,
      "outputs": [
        {
          "output_type": "execute_result",
          "data": {
            "text/plain": [
              "['street with ? with ? with ? with ? with']"
            ]
          },
          "metadata": {
            "tags": []
          },
          "execution_count": 27
        }
      ]
    },
    {
      "cell_type": "markdown",
      "metadata": {
        "id": "n250XbnjOaqP"
      },
      "source": [
        "## Restore the latest checkpoint and test"
      ]
    },
    {
      "cell_type": "code",
      "metadata": {
        "id": "UJpT9D5_OgP6",
        "colab": {
          "base_uri": "https://localhost:8080/"
        },
        "outputId": "5b02498c-fe12-4af7-c024-dfc425e33168"
      },
      "source": [
        "# restoring the latest checkpoint in checkpoint_dir\n",
        "checkpoint.restore(tf.train.latest_checkpoint(checkpoint_dir))"
      ],
      "execution_count": 28,
      "outputs": [
        {
          "output_type": "execute_result",
          "data": {
            "text/plain": [
              "<tensorflow.python.training.tracking.util.CheckpointLoadStatus at 0x7f8c0b9d5fd0>"
            ]
          },
          "metadata": {
            "tags": []
          },
          "execution_count": 28
        }
      ]
    },
    {
      "cell_type": "code",
      "metadata": {
        "id": "WrAM0FDomq3E",
        "colab": {
          "base_uri": "https://localhost:8080/"
        },
        "outputId": "3d5529a6-e5a1-46cc-d7f8-59e3ceee99ba"
      },
      "source": [
        "translate(['two', 'months', 'later', 'the', 'band', 'got', 'signed', 'to', 'a', 'three', 'album', 'deal', 'with', ',', 'which', 'left', '.'])"
      ],
      "execution_count": 29,
      "outputs": [
        {
          "output_type": "stream",
          "text": [
            "[[ 21 196 402  11 738   8 432   4   3]]\n",
            "Input: ['two', 'months', 'later', 'the', 'band', 'got', 'signed', 'to', 'a', 'three', 'album', 'deal', 'with', ',', 'which', 'left', '.']\n",
            "Predicted translation: ['which queen album was signed in 2008 ? <end>']\n"
          ],
          "name": "stdout"
        }
      ]
    },
    {
      "cell_type": "code",
      "metadata": {
        "id": "zD3vxKxxLZsa",
        "colab": {
          "base_uri": "https://localhost:8080/"
        },
        "outputId": "0a7ff2d1-cb0f-444e-bc6d-e4026f3bc5c3"
      },
      "source": [
        "translate([\"Golm\", \"is\", \"a\", \"locality\", \"of\", \"Potsdam\", \",\", \"the\", \"capital\", \"of\", \"the\", \"German\", \"state\", \"of\", \"Brandenburg\", \".\"])"
      ],
      "execution_count": 30,
      "outputs": [
        {
          "output_type": "stream",
          "text": [
            "[[  6  10   5 315   7 732 677 435   4   3]]\n",
            "Input: ['Golm', 'is', 'a', 'locality', 'of', 'Potsdam', ',', 'the', 'capital', 'of', 'the', 'German', 'state', 'of', 'Brandenburg', '.']\n",
            "Predicted translation: ['what is the capital of so district park ? <end>']\n"
          ],
          "name": "stdout"
        }
      ]
    },
    {
      "cell_type": "code",
      "metadata": {
        "id": "RKLENzh4Gr7I",
        "colab": {
          "base_uri": "https://localhost:8080/"
        },
        "outputId": "116918e6-382e-4e2a-da4a-9937a9531d09"
      },
      "source": [
        "translate(\"the largest of these is the eldon square shop-ping centre , one of the largest city centre shopping com-plexes in the uk .\".split(\" \"))"
      ],
      "execution_count": 31,
      "outputs": [
        {
          "output_type": "stream",
          "text": [
            "[[ 14 635  26   5  47 551 212 225   4   3]]\n",
            "Input: ['the', 'largest', 'of', 'these', 'is', 'the', 'eldon', 'square', 'shop-ping', 'centre', ',', 'one', 'of', 'the', 'largest', 'city', 'centre', 'shopping', 'com-plexes', 'in', 'the', 'uk', '.']\n",
            "Predicted translation: ['how far does the city run through southampton ? <end>']\n"
          ],
          "name": "stdout"
        }
      ]
    },
    {
      "cell_type": "code",
      "metadata": {
        "id": "ZIR8Rv_eQW0w"
      },
      "source": [
        "def beam_evaluate_sentence(sentence, beam_width=3):\n",
        "  sentence = qg_dataset.preprocess_sentence(sentence)\n",
        "\n",
        "  inputs = inp_tokenizer.texts_to_sequences([sentence])\n",
        "  inputs = tf.keras.preprocessing.sequence.pad_sequences(inputs,\n",
        "                                                          maxlen=max_length_inp,\n",
        "                                                          padding='post')\n",
        "  inputs = tf.convert_to_tensor(inputs)\n",
        "  inference_batch_size = inputs.shape[0]\n",
        "  result = []\n",
        "\n",
        "  hidden = [tf.zeros((1, units))]\n",
        "  enc_out, enc_hidden = encoder(inputs, hidden)\n",
        "\n",
        "  dec_hidden = enc_hidden\n",
        "\n",
        "  start_tokens = tf.fill([inference_batch_size], targ_tokenizer.word_index['<start>'])\n",
        "  end_token = targ_tokenizer.word_index['<end>']\n",
        "\n",
        "  # From official documentation\n",
        "  # NOTE If you are using the BeamSearchDecoder with a cell wrapped in AttentionWrapper, then you must ensure that:\n",
        "  # The encoder output has been tiled to beam_width via tfa.seq2seq.tile_batch (NOT tf.tile).\n",
        "  # The batch_size argument passed to the get_initial_state method of this wrapper is equal to true_batch_size * beam_width.\n",
        "  # The initial state created with get_initial_state above contains a cell_state value containing properly tiled final state from the encoder.\n",
        "\n",
        "  enc_out = tfa.seq2seq.tile_batch(enc_out, multiplier=beam_width)\n",
        "  decoder.attention_mechanism.setup_memory(enc_out)\n",
        "  print(\"beam_with * [batch_size, max_length_input, rnn_units] :  3 * [1, 16, 1024]] :\", enc_out.shape)\n",
        "\n",
        "  # set decoder_inital_state which is an AttentionWrapperState considering beam_width\n",
        "  hidden_state = tfa.seq2seq.tile_batch(enc_hidden, multiplier=beam_width)\n",
        "  decoder_initial_state = decoder.rnn_cell.get_initial_state(batch_size=beam_width*inference_batch_size, dtype=tf.float32)\n",
        "  decoder_initial_state = decoder_initial_state.clone(cell_state=hidden_state)\n",
        "\n",
        "  # Instantiate BeamSearchDecoder\n",
        "  decoder_instance = tfa.seq2seq.BeamSearchDecoder(decoder.rnn_cell,beam_width=beam_width, output_layer=decoder.fc, maximum_iterations=10)\n",
        "  decoder_embedding_matrix = decoder.embedding.variables[0]\n",
        "\n",
        "  # The BeamSearchDecoder object's call() function takes care of everything.\n",
        "  outputs, final_state, sequence_lengths = decoder_instance(decoder_embedding_matrix, start_tokens=start_tokens, end_token=end_token, initial_state=decoder_initial_state)\n",
        "  # outputs is tfa.seq2seq.FinalBeamSearchDecoderOutput object. \n",
        "  # The final beam predictions are stored in outputs.predicted_id\n",
        "  # outputs.beam_search_decoder_output is a tfa.seq2seq.BeamSearchDecoderOutput object which keep tracks of beam_scores and parent_ids while performing a beam decoding step\n",
        "  # final_state = tfa.seq2seq.BeamSearchDecoderState object.\n",
        "  # Sequence Length = [inference_batch_size, beam_width] details the maximum length of the beams that are generated\n",
        "\n",
        "\n",
        "  # outputs.predicted_id.shape = (inference_batch_size, time_step_outputs, beam_width)\n",
        "  # outputs.beam_search_decoder_output.scores.shape = (inference_batch_size, time_step_outputs, beam_width)\n",
        "  # Convert the shape of outputs and beam_scores to (inference_batch_size, beam_width, time_step_outputs)\n",
        "  final_outputs = tf.transpose(outputs.predicted_ids, perm=(0,2,1))\n",
        "  beam_scores = tf.transpose(outputs.beam_search_decoder_output.scores, perm=(0,2,1))\n",
        "\n",
        "  return final_outputs.numpy(), beam_scores.numpy()\n"
      ],
      "execution_count": 32,
      "outputs": []
    },
    {
      "cell_type": "code",
      "metadata": {
        "id": "vnKTRRH4ROcS"
      },
      "source": [
        "def beam_translate(sentence):\n",
        "  result, beam_scores = beam_evaluate_sentence(sentence)\n",
        "  print(result.shape, beam_scores.shape)\n",
        "  for beam, score in zip(result, beam_scores):\n",
        "    print(beam.shape, score.shape)\n",
        "    output = targ_tokenizer.sequences_to_texts(beam)\n",
        "    output = [a for a in output]\n",
        "    beam_score = [a.sum() for a in score]\n",
        "    print('Input: %s' % (sentence))\n",
        "    for i in range(len(output)):\n",
        "      print('{} Predicted translation: {}  {}'.format(i+1, output[i], beam_score[i]))\n"
      ],
      "execution_count": 33,
      "outputs": []
    },
    {
      "cell_type": "code",
      "metadata": {
        "colab": {
          "base_uri": "https://localhost:8080/"
        },
        "id": "QLvM_SqDRS5V",
        "outputId": "503e0d22-fd3a-4d87-f449-bc84ce18d3e8"
      },
      "source": [
        "beam_translate(\"the largest of these is the eldon square shop-ping centre , one of the largest city centre shopping com-plexes in the uk .\".split(\" \"))"
      ],
      "execution_count": 34,
      "outputs": [
        {
          "output_type": "stream",
          "text": [
            "beam_with * [batch_size, max_length_input, rnn_units] :  3 * [1, 16, 1024]] : (3, 80, 600)\n",
            "(1, 3, 10) (1, 3, 10)\n",
            "(3, 10) (3, 10)\n",
            "Input: ['the', 'largest', 'of', 'these', 'is', 'the', 'eldon', 'square', 'shop-ping', 'centre', ',', 'one', 'of', 'the', 'largest', 'city', 'centre', 'shopping', 'com-plexes', 'in', 'the', 'uk', '.']\n",
            "1 Predicted translation: how far is the boundaries for new gods ? <end>  -27.01357650756836\n",
            "2 Predicted translation: how far is the boundaries for the mod ' ?  -38.39814758300781\n",
            "3 Predicted translation: how far is the boundaries for the mod ' independence  -40.65667724609375\n"
          ],
          "name": "stdout"
        }
      ]
    },
    {
      "cell_type": "code",
      "metadata": {
        "id": "TSP7PdUJa93t",
        "outputId": "121c9431-6b16-4032-8c47-8e214327ebc1",
        "colab": {
          "base_uri": "https://localhost:8080/"
        }
      },
      "source": [
        "len(targ_tokenizer.word_index)"
      ],
      "execution_count": 35,
      "outputs": [
        {
          "output_type": "execute_result",
          "data": {
            "text/plain": [
              "32494"
            ]
          },
          "metadata": {
            "tags": []
          },
          "execution_count": 35
        }
      ]
    },
    {
      "cell_type": "code",
      "metadata": {
        "colab": {
          "base_uri": "https://localhost:8080/"
        },
        "id": "GsAk2ohM1Jto",
        "outputId": "c521908e-4e0b-4234-c34b-a7584d16c70a"
      },
      "source": [
        "beam_translate(['Golm', 'is', 'a', 'locality', 'of', 'Potsdam', ',', 'the', 'capital', 'of', 'the', 'German', 'state', 'of', 'Brandenburg', '.'])"
      ],
      "execution_count": 36,
      "outputs": [
        {
          "output_type": "stream",
          "text": [
            "beam_with * [batch_size, max_length_input, rnn_units] :  3 * [1, 16, 1024]] : (3, 80, 600)\n",
            "(1, 3, 8) (1, 3, 8)\n",
            "(3, 8) (3, 8)\n",
            "Input: ['Golm', 'is', 'a', 'locality', 'of', 'Potsdam', ',', 'the', 'capital', 'of', 'the', 'German', 'state', 'of', 'Brandenburg', '.']\n",
            "1 Predicted translation: what is the capital located ? <end> <end>  -15.25469970703125\n",
            "2 Predicted translation: what is the capital of bern ? <end>  -25.132383346557617\n",
            "3 Predicted translation: what is the capital ? <end> <end> <end>  -30.831396102905273\n"
          ],
          "name": "stdout"
        }
      ]
    },
    {
      "cell_type": "code",
      "metadata": {
        "id": "_u_HfSHltBEn"
      },
      "source": [
        ""
      ],
      "execution_count": 38,
      "outputs": []
    }
  ]
}