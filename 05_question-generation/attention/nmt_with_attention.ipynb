{
  "nbformat": 4,
  "nbformat_minor": 0,
  "metadata": {
    "accelerator": "GPU",
    "colab": {
      "name": "nmt_with_attention.ipynb",
      "provenance": [],
      "collapsed_sections": [],
      "machine_shape": "hm"
    },
    "kernelspec": {
      "display_name": "Python 3",
      "language": "python",
      "name": "python3"
    },
    "language_info": {
      "codemirror_mode": {
        "name": "ipython",
        "version": 3
      },
      "file_extension": ".py",
      "mimetype": "text/x-python",
      "name": "python",
      "nbconvert_exporter": "python",
      "pygments_lexer": "ipython3",
      "version": "3.6.9"
    }
  },
  "cells": [
    {
      "cell_type": "markdown",
      "metadata": {
        "id": "s_qNSzzyaCbD"
      },
      "source": [
        "##### Copyright 2019 The TensorFlow Authors."
      ]
    },
    {
      "cell_type": "code",
      "metadata": {
        "id": "jmjh290raIky"
      },
      "source": [
        "#@title Licensed under the Apache License, Version 2.0 (the \"License\");\n",
        "# you may not use this file except in compliance with the License.\n",
        "# You may obtain a copy of the License at\n",
        "#\n",
        "# https://www.apache.org/licenses/LICENSE-2.0\n",
        "#\n",
        "# Unless required by applicable law or agreed to in writing, software\n",
        "# distributed under the License is distributed on an \"AS IS\" BASIS,\n",
        "# WITHOUT WARRANTIES OR CONDITIONS OF ANY KIND, either express or implied.\n",
        "# See the License for the specific language governing permissions and\n",
        "# limitations under the License."
      ],
      "execution_count": 1,
      "outputs": []
    },
    {
      "cell_type": "markdown",
      "metadata": {
        "id": "J0Qjg6vuaHNt"
      },
      "source": [
        "# Neural machine translation with attention"
      ]
    },
    {
      "cell_type": "markdown",
      "metadata": {
        "id": "CiwtNgENbx2g"
      },
      "source": [
        "This notebook trains a sequence to sequence (seq2seq) model for Spanish to English translation. This is an advanced example that assumes some knowledge of sequence to sequence models.\n",
        "\n",
        "After training the model in this notebook, you will be able to input a Spanish sentence, such as *\"¿todavia estan en casa?\"*, and return the English translation: *\"are you still at home?\"*\n",
        "\n",
        "The translation quality is reasonable for a toy example, but the generated attention plot is perhaps more interesting. This shows which parts of the input sentence has the model's attention while translating:"
      ]
    },
    {
      "cell_type": "code",
      "metadata": {
        "colab": {
          "base_uri": "https://localhost:8080/"
        },
        "id": "w0P7CEsVrR7X",
        "outputId": "ef60d59f-ae40-4298-8875-961d7fd39c11"
      },
      "source": [
        "!pip install tensorflow_addons"
      ],
      "execution_count": 2,
      "outputs": [
        {
          "output_type": "stream",
          "text": [
            "Collecting tensorflow_addons\n",
            "\u001b[?25l  Downloading https://files.pythonhosted.org/packages/74/e3/56d2fe76f0bb7c88ed9b2a6a557e25e83e252aec08f13de34369cd850a0b/tensorflow_addons-0.12.1-cp37-cp37m-manylinux2010_x86_64.whl (703kB)\n",
            "\r\u001b[K     |▌                               | 10kB 18.9MB/s eta 0:00:01\r\u001b[K     |█                               | 20kB 11.6MB/s eta 0:00:01\r\u001b[K     |█▍                              | 30kB 8.6MB/s eta 0:00:01\r\u001b[K     |█▉                              | 40kB 7.6MB/s eta 0:00:01\r\u001b[K     |██▎                             | 51kB 4.1MB/s eta 0:00:01\r\u001b[K     |██▉                             | 61kB 4.3MB/s eta 0:00:01\r\u001b[K     |███▎                            | 71kB 4.5MB/s eta 0:00:01\r\u001b[K     |███▊                            | 81kB 4.9MB/s eta 0:00:01\r\u001b[K     |████▏                           | 92kB 5.3MB/s eta 0:00:01\r\u001b[K     |████▋                           | 102kB 5.6MB/s eta 0:00:01\r\u001b[K     |█████▏                          | 112kB 5.6MB/s eta 0:00:01\r\u001b[K     |█████▋                          | 122kB 5.6MB/s eta 0:00:01\r\u001b[K     |██████                          | 133kB 5.6MB/s eta 0:00:01\r\u001b[K     |██████▌                         | 143kB 5.6MB/s eta 0:00:01\r\u001b[K     |███████                         | 153kB 5.6MB/s eta 0:00:01\r\u001b[K     |███████▌                        | 163kB 5.6MB/s eta 0:00:01\r\u001b[K     |████████                        | 174kB 5.6MB/s eta 0:00:01\r\u001b[K     |████████▍                       | 184kB 5.6MB/s eta 0:00:01\r\u001b[K     |████████▉                       | 194kB 5.6MB/s eta 0:00:01\r\u001b[K     |█████████▎                      | 204kB 5.6MB/s eta 0:00:01\r\u001b[K     |█████████▉                      | 215kB 5.6MB/s eta 0:00:01\r\u001b[K     |██████████▎                     | 225kB 5.6MB/s eta 0:00:01\r\u001b[K     |██████████▊                     | 235kB 5.6MB/s eta 0:00:01\r\u001b[K     |███████████▏                    | 245kB 5.6MB/s eta 0:00:01\r\u001b[K     |███████████▋                    | 256kB 5.6MB/s eta 0:00:01\r\u001b[K     |████████████▏                   | 266kB 5.6MB/s eta 0:00:01\r\u001b[K     |████████████▋                   | 276kB 5.6MB/s eta 0:00:01\r\u001b[K     |█████████████                   | 286kB 5.6MB/s eta 0:00:01\r\u001b[K     |█████████████▌                  | 296kB 5.6MB/s eta 0:00:01\r\u001b[K     |██████████████                  | 307kB 5.6MB/s eta 0:00:01\r\u001b[K     |██████████████▍                 | 317kB 5.6MB/s eta 0:00:01\r\u001b[K     |███████████████                 | 327kB 5.6MB/s eta 0:00:01\r\u001b[K     |███████████████▍                | 337kB 5.6MB/s eta 0:00:01\r\u001b[K     |███████████████▉                | 348kB 5.6MB/s eta 0:00:01\r\u001b[K     |████████████████▎               | 358kB 5.6MB/s eta 0:00:01\r\u001b[K     |████████████████▊               | 368kB 5.6MB/s eta 0:00:01\r\u001b[K     |█████████████████▎              | 378kB 5.6MB/s eta 0:00:01\r\u001b[K     |█████████████████▊              | 389kB 5.6MB/s eta 0:00:01\r\u001b[K     |██████████████████▏             | 399kB 5.6MB/s eta 0:00:01\r\u001b[K     |██████████████████▋             | 409kB 5.6MB/s eta 0:00:01\r\u001b[K     |███████████████████             | 419kB 5.6MB/s eta 0:00:01\r\u001b[K     |███████████████████▋            | 430kB 5.6MB/s eta 0:00:01\r\u001b[K     |████████████████████            | 440kB 5.6MB/s eta 0:00:01\r\u001b[K     |████████████████████▌           | 450kB 5.6MB/s eta 0:00:01\r\u001b[K     |█████████████████████           | 460kB 5.6MB/s eta 0:00:01\r\u001b[K     |█████████████████████▍          | 471kB 5.6MB/s eta 0:00:01\r\u001b[K     |██████████████████████          | 481kB 5.6MB/s eta 0:00:01\r\u001b[K     |██████████████████████▍         | 491kB 5.6MB/s eta 0:00:01\r\u001b[K     |██████████████████████▉         | 501kB 5.6MB/s eta 0:00:01\r\u001b[K     |███████████████████████▎        | 512kB 5.6MB/s eta 0:00:01\r\u001b[K     |███████████████████████▊        | 522kB 5.6MB/s eta 0:00:01\r\u001b[K     |████████████████████████▎       | 532kB 5.6MB/s eta 0:00:01\r\u001b[K     |████████████████████████▊       | 542kB 5.6MB/s eta 0:00:01\r\u001b[K     |█████████████████████████▏      | 552kB 5.6MB/s eta 0:00:01\r\u001b[K     |█████████████████████████▋      | 563kB 5.6MB/s eta 0:00:01\r\u001b[K     |██████████████████████████      | 573kB 5.6MB/s eta 0:00:01\r\u001b[K     |██████████████████████████▋     | 583kB 5.6MB/s eta 0:00:01\r\u001b[K     |███████████████████████████     | 593kB 5.6MB/s eta 0:00:01\r\u001b[K     |███████████████████████████▌    | 604kB 5.6MB/s eta 0:00:01\r\u001b[K     |████████████████████████████    | 614kB 5.6MB/s eta 0:00:01\r\u001b[K     |████████████████████████████▍   | 624kB 5.6MB/s eta 0:00:01\r\u001b[K     |████████████████████████████▉   | 634kB 5.6MB/s eta 0:00:01\r\u001b[K     |█████████████████████████████▍  | 645kB 5.6MB/s eta 0:00:01\r\u001b[K     |█████████████████████████████▉  | 655kB 5.6MB/s eta 0:00:01\r\u001b[K     |██████████████████████████████▎ | 665kB 5.6MB/s eta 0:00:01\r\u001b[K     |██████████████████████████████▊ | 675kB 5.6MB/s eta 0:00:01\r\u001b[K     |███████████████████████████████▏| 686kB 5.6MB/s eta 0:00:01\r\u001b[K     |███████████████████████████████▊| 696kB 5.6MB/s eta 0:00:01\r\u001b[K     |████████████████████████████████| 706kB 5.6MB/s \n",
            "\u001b[?25hRequirement already satisfied: typeguard>=2.7 in /usr/local/lib/python3.7/dist-packages (from tensorflow_addons) (2.7.1)\n",
            "Installing collected packages: tensorflow-addons\n",
            "Successfully installed tensorflow-addons-0.12.1\n"
          ],
          "name": "stdout"
        }
      ]
    },
    {
      "cell_type": "code",
      "metadata": {
        "id": "tnxXKDjq3jEL"
      },
      "source": [
        "import tensorflow as tf\n",
        "import tensorflow_addons as tfa\n",
        "\n",
        "import matplotlib.pyplot as plt\n",
        "import matplotlib.ticker as ticker\n",
        "\n",
        "import unicodedata\n",
        "import re\n",
        "import numpy as np\n",
        "import os\n",
        "import io\n",
        "import time\n",
        "import ast\n",
        "import pandas as pd"
      ],
      "execution_count": 3,
      "outputs": []
    },
    {
      "cell_type": "code",
      "metadata": {
        "id": "tCD-dbU1Dw2h",
        "colab": {
          "base_uri": "https://localhost:8080/"
        },
        "outputId": "6709019b-5387-41f2-cfba-7dafc0cdb209"
      },
      "source": [
        "print(\"Num GPUs Available: \", len(tf.config.experimental.list_physical_devices('GPU')))"
      ],
      "execution_count": 4,
      "outputs": [
        {
          "output_type": "stream",
          "text": [
            "Num GPUs Available:  1\n"
          ],
          "name": "stdout"
        }
      ]
    },
    {
      "cell_type": "markdown",
      "metadata": {
        "id": "wfodePkj3jEa"
      },
      "source": [
        "## Download and prepare the dataset\n",
        "\n",
        "After downloading the dataset, here are the steps we'll take to prepare the data:\n",
        "\n",
        "1. Add a *start* and *end* token to each sentence.\n",
        "2. Clean the sentences by removing special characters.\n",
        "3. Create a word index and reverse word index (dictionaries mapping from word → id and id → word).\n",
        "4. Pad each sentence to a maximum length."
      ]
    },
    {
      "cell_type": "code",
      "metadata": {
        "id": "QMf01j-PDw2k",
        "colab": {
          "base_uri": "https://localhost:8080/"
        },
        "outputId": "e253801f-25c9-43df-9c46-12cffd1ca95e"
      },
      "source": [
        "\n",
        "import os\n",
        "#os.system(\"git clone https://github.com/soerenetler/squad-question-generation.git\")\n",
        "#os.system(\"git clone https://github.com/soerenetler/spacy_target_answer.git\")\n",
        "#os.system(\"git clone https://github.com/soerenetler/crf_target_answer.git\")\n",
        "\n",
        "from google.colab import drive\n",
        "drive.mount('/content/gdrive')"
      ],
      "execution_count": 5,
      "outputs": [
        {
          "output_type": "stream",
          "text": [
            "Mounted at /content/gdrive\n"
          ],
          "name": "stdout"
        }
      ]
    },
    {
      "cell_type": "code",
      "metadata": {
        "id": "kRVATYOgJs1b"
      },
      "source": [
        "path_to_folder = \"/content/gdrive/MyDrive/mt-qg-data/01_data/preprocessedData/squad/question_answer/\"\n",
        "path_to_model = \"/content/gdrive/MyDrive/mt-qg-data/00_models/qg_attention/squad/\""
      ],
      "execution_count": 6,
      "outputs": []
    },
    {
      "cell_type": "code",
      "metadata": {
        "id": "4lNjtN2i0iSC"
      },
      "source": [
        "class QGDataset:\n",
        "  def __init__(self, problem_type='squad', data_folder=\"/content/gdrive/MyDrive/mt-qg-data/01_data/preprocessedData/\"):\n",
        "    self.problem_type = problem_type\n",
        "    self.dev_path = data_folder + problem_type + \"/question_answer/dev.csv\"\n",
        "    self.train_path = data_folder + problem_type + \"/question_answer/train.csv\"\n",
        "    self.inp_lang_tokenizer = None\n",
        "    self.targ_lang_tokenizer = None\n",
        "\n",
        "  # Converts the unicode file to ascii\n",
        "  def unicode_to_ascii(self, s):\n",
        "    return ''.join(c for c in unicodedata.normalize('NFD', s)\n",
        "        if unicodedata.category(c) != 'Mn')\n",
        "  \n",
        "  def preprocess_sentence(self, w):\n",
        "    w_result = ['<start>']\n",
        "    for t in w:\n",
        "      t = self.unicode_to_ascii(t.lower().strip())\n",
        "\n",
        "      # replacing everything with space except (a-z, A-Z, \".\", \"?\", \"!\", \",\")\n",
        "      #t = re.sub(r\"[^a-zA-Z\\d?.!,¿]+\", \" \", t)\n",
        "\n",
        "      #t = t.strip()\n",
        "      if t != '':\n",
        "        w_result.append(t)\n",
        "    # adding a start and an end token to the sentence\n",
        "    # so that the model know when to start and stop predicting.\n",
        "    w_result.append('<end>')\n",
        "    return w_result\n",
        "\n",
        "  # 1. Remove the accents\n",
        "  # 2. Clean the sentences\n",
        "  # 3. Return word pairs in the format: [ENGLISH, SPANISH]\n",
        "  def create_dataset(self, path):\n",
        "    df = pd.read_csv(path)\n",
        "    df[\"answer_sentence_token\"] = [ast.literal_eval(t) for t in df[\"answer_sentence_token\"]]\n",
        "    df[\"question_token\"] = [ast.literal_eval(t) for t in df[\"question_token\"]]\n",
        "\n",
        "    #from plotly import express\n",
        "    #display(express.histogram(x=[len(t) for t in df[\"answer_sentence_token\"]]))\n",
        "\n",
        "    #display(df[\"answer_sentence_token\"].head(50))\n",
        "\n",
        "    sentence_pairs = zip(df[\"answer_sentence_token\"].apply(self.preprocess_sentence), df[\"question_token\"].apply(self.preprocess_sentence))\n",
        "    \n",
        "\n",
        "    return zip(*sentence_pairs)\n",
        "\n",
        "  def tokenize(self, lang, maxlen, max_vocab):\n",
        "    lang_tokenizer = tf.keras.preprocessing.text.Tokenizer(\n",
        "        #filters='',\n",
        "        num_words=max_vocab,\n",
        "        oov_token=\"<oov>\")\n",
        "    lang_tokenizer.fit_on_texts(lang)\n",
        "\n",
        "    tensor = lang_tokenizer.texts_to_sequences(lang)\n",
        "\n",
        "    tensor = tf.keras.preprocessing.sequence.pad_sequences(tensor,\n",
        "                                                          maxlen=maxlen,\n",
        "                                                          padding='post')\n",
        "\n",
        "    return tensor, lang_tokenizer\n",
        "\n",
        "  def load_dataset(self):\n",
        "    # creating cleaned input, output pairs\n",
        "    inp_lang_train, targ_lang_train = self.create_dataset(self.train_path)\n",
        "    inp_lang_dev, targ_lang_dev = self.create_dataset(self.dev_path)\n",
        "\n",
        "    print(inp_lang_train[-1])\n",
        "    print(targ_lang_train[-1])\n",
        "\n",
        "    input_tensor, inp_lang_tokenizer = self.tokenize(inp_lang_train, max_length_inp, max_vocab_inp)\n",
        "    target_tensor, targ_lang_tokenizer = self.tokenize(targ_lang_train, max_length_targ, max_vocab_targ)\n",
        "\n",
        "    print(inp_lang_dev[0])\n",
        "    print(targ_lang_dev[0])\n",
        "    input_tensor_dev = inp_lang_tokenizer.texts_to_sequences(inp_lang_dev)\n",
        "    target_tensor_dev = targ_lang_tokenizer.texts_to_sequences(targ_lang_dev)\n",
        "    print(input_tensor_dev[0])\n",
        "    print(target_tensor_dev[0])\n",
        "\n",
        "    return input_tensor, target_tensor, input_tensor_dev, target_tensor_dev, inp_lang_tokenizer, targ_lang_tokenizer"
      ],
      "execution_count": 7,
      "outputs": []
    },
    {
      "cell_type": "code",
      "metadata": {
        "id": "opI2GzOt479E",
        "colab": {
          "base_uri": "https://localhost:8080/"
        },
        "outputId": "65a6cf31-08fe-4d96-fd5a-b22f53bfed3e"
      },
      "source": [
        "answer_sentence = ['3245', 'two', 'months', 'later', 'the', 'band', 'got', 'signed', 'to', 'a', 'three', 'album', 'deal', 'with', 'spinefarm', ',', 'which', 'left', 'marko', 'displeased', '.']\n",
        "question_sentence = ['what', 'label', 'were', 'they', 'with', '?']\n",
        "\n",
        "qg_dataset = QGDataset()\n",
        "print(qg_dataset.preprocess_sentence(answer_sentence))\n",
        "print(qg_dataset.preprocess_sentence(question_sentence))"
      ],
      "execution_count": 8,
      "outputs": [
        {
          "output_type": "stream",
          "text": [
            "['<start>', '3245', 'two', 'months', 'later', 'the', 'band', 'got', 'signed', 'to', 'a', 'three', 'album', 'deal', 'with', 'spinefarm', ',', 'which', 'left', 'marko', 'displeased', '.', '<end>']\n",
            "['<start>', 'what', 'label', 'were', 'they', 'with', '?', '<end>']\n"
          ],
          "name": "stdout"
        }
      ]
    },
    {
      "cell_type": "markdown",
      "metadata": {
        "id": "GOi42V79Ydlr"
      },
      "source": [
        "### Limit the size of the dataset to experiment faster (optional)\n",
        "\n",
        "Training on the complete dataset of >100,000 sentences will take a long time. To train faster, we can limit the size of the dataset to 30,000 sentences (of course, translation quality degrades with less data):"
      ]
    },
    {
      "cell_type": "code",
      "metadata": {
        "id": "cnxC7q-j3jFD",
        "colab": {
          "base_uri": "https://localhost:8080/"
        },
        "outputId": "2809bf05-ea89-4954-8f4d-e5ff437cc8b8"
      },
      "source": [
        "# max_length of the target tensors\n",
        "max_length_targ = 20\n",
        "max_length_inp = 80\n",
        "max_vocab_inp = 45000\n",
        "max_vocab_targ = 28000\n",
        "\n",
        "# Try experimenting with the size of that dataset\n",
        "input_tensor_train, target_tensor_train, input_tensor_dev, target_tensor_dev, inp_tokenizer, targ_tokenizer = qg_dataset.load_dataset()"
      ],
      "execution_count": 9,
      "outputs": [
        {
          "output_type": "stream",
          "text": [
            "['<start>', 'according', 'to', 'the', 'government', 'of', 'botswana', ',', 'trophy', 'hunting', 'is', 'at', 'least', 'partly', 'to', 'blame', 'for', 'this', ',', 'but', 'many', 'other', 'factors', ',', 'such', 'as', 'poaching', ',', 'drought', 'and', 'habitat', 'loss', 'are', 'also', 'to', 'blame', '.', '<end>']\n",
            "['<start>', 'what', 'else', 'is', 'partly', 'to', 'blame', 'for', 'the', 'declining', 'number', 'of', 'animals', 'in', 'botswana', 'and', 'uganda', '?', '<end>']\n",
            "['<start>', 'the', 'legend', 'of', 'zelda', ':', 'twilight', 'princess', '(', 'japanese', ':', 'セルタの伝説', 'トワイライトフリンセス', ',', 'hepburn', ':', 'zeruda', 'no', 'densetsu', ':', 'towairaito', 'purinsesu', '?', ')', 'is', 'an', 'action', '-', 'adventure', 'game', 'developed', 'and', 'published', 'by', 'nintendo', 'for', 'the', 'gamecube', 'and', 'wii', 'home', 'video', 'game', 'consoles', '.', '<end>']\n",
            "['<start>', 'what', 'category', 'of', 'game', 'is', 'legend', 'of', 'zelda', ':', 'twilight', 'princess', '?', '<end>']\n",
            "[5, 2, 5762, 4, 1, 53, 44108, 4330, 12, 405, 53, 1, 1, 3, 31057, 53, 1, 127, 1, 53, 1, 1, 1855, 13, 17, 30, 600, 15, 7121, 521, 234, 8, 392, 19, 1594, 20, 2, 34010, 8, 8877, 204, 597, 521, 6115, 7, 6]\n",
            "[2, 6, 1749, 7, 309, 10, 4715, 7, 16507, 1673, 1, 3877, 4, 3]\n"
          ],
          "name": "stdout"
        }
      ]
    },
    {
      "cell_type": "code",
      "metadata": {
        "id": "4QILQkOs3jFG",
        "colab": {
          "base_uri": "https://localhost:8080/"
        },
        "outputId": "760aeba3-1a9c-484e-fe1b-9ae5806bf70e"
      },
      "source": [
        "# Show length\n",
        "print(len(input_tensor_train), len(target_tensor_train), len(input_tensor_dev), len(target_tensor_dev))"
      ],
      "execution_count": 10,
      "outputs": [
        {
          "output_type": "stream",
          "text": [
            "68174 68174 18647 18647\n"
          ],
          "name": "stdout"
        }
      ]
    },
    {
      "cell_type": "code",
      "metadata": {
        "id": "lJPmLZGMeD5q"
      },
      "source": [
        "def convert(lang, tensor):\n",
        "  for t in tensor:\n",
        "    if t!=0:\n",
        "      print (\"%d ----> %s\" % (t, lang.index_word[t]))"
      ],
      "execution_count": 11,
      "outputs": []
    },
    {
      "cell_type": "code",
      "metadata": {
        "id": "VXukARTDd7MT",
        "colab": {
          "base_uri": "https://localhost:8080/"
        },
        "outputId": "b0cf2833-0154-4c97-b312-7bd6ed96019c"
      },
      "source": [
        "print (\"Input Language; index to word mapping\")\n",
        "convert(inp_tokenizer, input_tensor_dev[0])\n",
        "print ()\n",
        "print (\"Target Language; index to word mapping\")\n",
        "convert(targ_tokenizer, target_tensor_dev[0])"
      ],
      "execution_count": 12,
      "outputs": [
        {
          "output_type": "stream",
          "text": [
            "Input Language; index to word mapping\n",
            "5 ----> <start>\n",
            "2 ----> the\n",
            "5762 ----> legend\n",
            "4 ----> of\n",
            "1 ----> <oov>\n",
            "53 ----> :\n",
            "44108 ----> twilight\n",
            "4330 ----> princess\n",
            "12 ----> (\n",
            "405 ----> japanese\n",
            "53 ----> :\n",
            "1 ----> <oov>\n",
            "1 ----> <oov>\n",
            "3 ----> ,\n",
            "31057 ----> hepburn\n",
            "53 ----> :\n",
            "1 ----> <oov>\n",
            "127 ----> no\n",
            "1 ----> <oov>\n",
            "53 ----> :\n",
            "1 ----> <oov>\n",
            "1 ----> <oov>\n",
            "1855 ----> ?\n",
            "13 ----> )\n",
            "17 ----> is\n",
            "30 ----> an\n",
            "600 ----> action\n",
            "15 ----> -\n",
            "7121 ----> adventure\n",
            "521 ----> game\n",
            "234 ----> developed\n",
            "8 ----> and\n",
            "392 ----> published\n",
            "19 ----> by\n",
            "1594 ----> nintendo\n",
            "20 ----> for\n",
            "2 ----> the\n",
            "34010 ----> gamecube\n",
            "8 ----> and\n",
            "8877 ----> wii\n",
            "204 ----> home\n",
            "597 ----> video\n",
            "521 ----> game\n",
            "6115 ----> consoles\n",
            "7 ----> .\n",
            "6 ----> <end>\n",
            "\n",
            "Target Language; index to word mapping\n",
            "2 ----> <start>\n",
            "6 ----> what\n",
            "1749 ----> category\n",
            "7 ----> of\n",
            "309 ----> game\n",
            "10 ----> is\n",
            "4715 ----> legend\n",
            "7 ----> of\n",
            "16507 ----> zelda\n",
            "1673 ----> :\n",
            "1 ----> <oov>\n",
            "3877 ----> princess\n",
            "4 ----> ?\n",
            "3 ----> <end>\n"
          ],
          "name": "stdout"
        }
      ]
    },
    {
      "cell_type": "code",
      "metadata": {
        "id": "TsNa9VxyOwRg"
      },
      "source": [
        "#!wget http://nlp.stanford.edu/data/glove.840B.300d.zip\n",
        "#!unzip -q glove.840B.300d.zip"
      ],
      "execution_count": 13,
      "outputs": []
    },
    {
      "cell_type": "code",
      "metadata": {
        "colab": {
          "base_uri": "https://localhost:8080/"
        },
        "id": "3oEzkFepPBro",
        "outputId": "ebfa3b49-458f-420c-9944-b5070b1b1aea"
      },
      "source": [
        "path_to_glove_file = os.path.join(\"/content/gdrive/MyDrive/mt-qg-data/glove.840B.300d.txt\")\n",
        "\n",
        "\n",
        "embeddings_index = {}\n",
        "with open(path_to_glove_file) as f:\n",
        "    for line in f:\n",
        "        word, coefs = line.split(maxsplit=1)\n",
        "        coefs = np.fromstring(coefs, \"f\", sep=\" \")\n",
        "        embeddings_index[word] = coefs\n",
        "\n",
        "print(\"Found %s word vectors.\" % len(embeddings_index))"
      ],
      "execution_count": 14,
      "outputs": [
        {
          "output_type": "stream",
          "text": [
            "/usr/local/lib/python3.7/dist-packages/ipykernel_launcher.py:8: DeprecationWarning: string or file could not be read to its end due to unmatched data; this will raise a ValueError in the future.\n",
            "  \n"
          ],
          "name": "stderr"
        },
        {
          "output_type": "stream",
          "text": [
            "Found 2195884 word vectors.\n"
          ],
          "name": "stdout"
        }
      ]
    },
    {
      "cell_type": "code",
      "metadata": {
        "colab": {
          "base_uri": "https://localhost:8080/"
        },
        "id": "LHBg0ADrTENv",
        "outputId": "129c2874-750e-4127-aa1e-94fe71ab3155"
      },
      "source": [
        "num_tokens = len(inp_tokenizer.index_word) + 1\n",
        "embedding_dim = 300\n",
        "hits = 0\n",
        "misses = 0\n",
        "\n",
        "# Prepare embedding matrix\n",
        "embedding_matrix = np.zeros((num_tokens, embedding_dim))\n",
        "for i, word in inp_tokenizer.index_word.items():\n",
        "    embedding_vector = embeddings_index.get(word)\n",
        "    if embedding_vector is not None and len(embedding_vector) == 300:\n",
        "        # Words not found in embedding index will be all-zeros.\n",
        "        # This includes the representation for \"padding\" and \"OOV\"\n",
        "        embedding_matrix[i] = embedding_vector\n",
        "        hits += 1\n",
        "    else:\n",
        "        misses += 1\n",
        "print(\"Converted %d words (%d misses)\" % (hits, misses))"
      ],
      "execution_count": 15,
      "outputs": [
        {
          "output_type": "stream",
          "text": [
            "Converted 48836 words (14374 misses)\n"
          ],
          "name": "stdout"
        }
      ]
    },
    {
      "cell_type": "markdown",
      "metadata": {
        "id": "rgCLkfv5uO3d"
      },
      "source": [
        "### Create a tf.data dataset"
      ]
    },
    {
      "cell_type": "code",
      "metadata": {
        "id": "TqHsArVZ3jFS"
      },
      "source": [
        "BUFFER_SIZE = len(input_tensor_train)\n",
        "BATCH_SIZE = 64\n",
        "steps_per_epoch = len(input_tensor_train)//BATCH_SIZE\n",
        "embedding_dim = 300\n",
        "units = 600\n",
        "vocab_inp_size = len(inp_tokenizer.word_index)+1 # PADDING\n",
        "vocab_tar_size = len(targ_tokenizer.word_index)+1\n",
        "\n",
        "dataset = tf.data.Dataset.from_tensor_slices((input_tensor_train, target_tensor_train)).shuffle(BUFFER_SIZE)\n",
        "dataset = dataset.batch(BATCH_SIZE, drop_remainder=True)"
      ],
      "execution_count": 16,
      "outputs": []
    },
    {
      "cell_type": "code",
      "metadata": {
        "id": "qc6-NK1GtWQt",
        "colab": {
          "base_uri": "https://localhost:8080/"
        },
        "outputId": "83b0c56c-5e0f-4040-f043-e49790dfb433"
      },
      "source": [
        "example_input_batch, example_target_batch = next(iter(dataset))\n",
        "example_input_batch.shape, example_target_batch.shape"
      ],
      "execution_count": 17,
      "outputs": [
        {
          "output_type": "execute_result",
          "data": {
            "text/plain": [
              "(TensorShape([64, 80]), TensorShape([64, 20]))"
            ]
          },
          "metadata": {
            "tags": []
          },
          "execution_count": 17
        }
      ]
    },
    {
      "cell_type": "markdown",
      "metadata": {
        "id": "TNfHIF71ulLu"
      },
      "source": [
        "## Write the encoder and decoder model\n",
        "\n",
        "Implement an encoder-decoder model with attention which you can read about in the TensorFlow [Neural Machine Translation (seq2seq) tutorial](https://github.com/tensorflow/nmt). This example uses a more recent set of APIs. This notebook implements the [attention equations](https://github.com/tensorflow/nmt#background-on-the-attention-mechanism) from the seq2seq tutorial. The following diagram shows that each input words is assigned a weight by the attention mechanism which is then used by the decoder to predict the next word in the sentence. The below picture and formulas are an example of attention mechanism from [Luong's paper](https://arxiv.org/abs/1508.04025v5). \n",
        "\n",
        "<img src=\"https://www.tensorflow.org/images/seq2seq/attention_mechanism.jpg\" width=\"500\" alt=\"attention mechanism\">\n",
        "\n",
        "The input is put through an encoder model which gives us the encoder output of shape *(batch_size, max_length, hidden_size)* and the encoder hidden state of shape *(batch_size, hidden_size)*.\n",
        "\n",
        "Here are the equations that are implemented:\n",
        "\n",
        "<img src=\"https://www.tensorflow.org/images/seq2seq/attention_equation_0.jpg\" alt=\"attention equation 0\" width=\"800\">\n",
        "<img src=\"https://www.tensorflow.org/images/seq2seq/attention_equation_1.jpg\" alt=\"attention equation 1\" width=\"800\">\n",
        "\n",
        "This tutorial uses [Bahdanau attention](https://arxiv.org/pdf/1409.0473.pdf) for the encoder. Let's decide on notation before writing the simplified form:\n",
        "\n",
        "* FC = Fully connected (dense) layer\n",
        "* EO = Encoder output\n",
        "* H = hidden state\n",
        "* X = input to the decoder\n",
        "\n",
        "And the pseudo-code:\n",
        "\n",
        "* `score = FC(tanh(FC(EO) + FC(H)))`\n",
        "* `attention weights = softmax(score, axis = 1)`. Softmax by default is applied on the last axis but here we want to apply it on the *1st axis*, since the shape of score is *(batch_size, max_length, hidden_size)*. `Max_length` is the length of our input. Since we are trying to assign a weight to each input, softmax should be applied on that axis.\n",
        "* `context vector = sum(attention weights * EO, axis = 1)`. Same reason as above for choosing axis as 1.\n",
        "* `embedding output` = The input to the decoder X is passed through an embedding layer.\n",
        "* `merged vector = concat(embedding output, context vector)`\n",
        "* This merged vector is then given to the GRU\n",
        "\n",
        "The shapes of all the vectors at each step have been specified in the comments in the code:"
      ]
    },
    {
      "cell_type": "code",
      "metadata": {
        "id": "nZ2rI24i3jFg"
      },
      "source": [
        "class Encoder(tf.keras.Model):\n",
        "  def __init__(self, vocab_size, embedding_dim, enc_units, batch_sz, bidirectional=False, secondlayer=False):\n",
        "    super(Encoder, self).__init__()\n",
        "    self.bidirectional=bidirectional\n",
        "    self.batch_sz = batch_sz\n",
        "    self.enc_units = enc_units\n",
        "    self.embedding = tf.keras.layers.Embedding(vocab_size,\n",
        "                                               embedding_dim,\n",
        "                                               embeddings_initializer=tf.keras.initializers.Constant(embedding_matrix),\n",
        "                                               trainable=False)\n",
        "    self.gru = tf.keras.layers.GRU(self.enc_units,\n",
        "                                   return_sequences=True,\n",
        "                                   return_state=True,\n",
        "                                   recurrent_initializer='glorot_uniform',\n",
        "                                   dropout=0.3) # TODO I need to make this bidirectional\n",
        "    if self.bidirectional:\n",
        "      self.gru = tf.keras.layers.Bidirectional(self.gru)\n",
        "\n",
        "\n",
        "  def call(self, x, hidden, training=True):\n",
        "    x = self.embedding(x)\n",
        "    if self.bidirectional:\n",
        "      output, forward_state, backward_state = self.gru(x, initial_state = hidden, training= training)\n",
        "      state = tf.concat([forward_state, backward_state], axis=1)\n",
        "    else:\n",
        "      output, state = self.gru(x, initial_state = hidden)\n",
        "    return output, state\n",
        "\n",
        "  def initialize_hidden_state(self):\n",
        "    if self.bidirectional:\n",
        "      return [tf.zeros((self.batch_sz, self.enc_units)) for i in range(2)]\n",
        "    else:\n",
        "      return tf.zeros((self.batch_sz, self.enc_units))"
      ],
      "execution_count": 18,
      "outputs": []
    },
    {
      "cell_type": "code",
      "metadata": {
        "id": "60gSVh05Jl6l",
        "colab": {
          "base_uri": "https://localhost:8080/"
        },
        "outputId": "e3d514ae-0fe4-46b8-c8d0-fc2f79aaf8c2"
      },
      "source": [
        "encoder = Encoder(vocab_inp_size, embedding_dim, units, BATCH_SIZE, bidirectional=False)\n",
        "\n",
        "# sample input\n",
        "sample_hidden = encoder.initialize_hidden_state()\n",
        "sample_output, sample_hidden = encoder(example_input_batch, sample_hidden)\n",
        "print ('Encoder output shape: (batch size, sequence length, units) {}'.format(sample_output.shape))\n",
        "print ('Encoder Hidden state shape: (batch size, units) {}'.format(sample_hidden.shape))"
      ],
      "execution_count": 19,
      "outputs": [
        {
          "output_type": "stream",
          "text": [
            "Encoder output shape: (batch size, sequence length, units) (64, 80, 600)\n",
            "Encoder Hidden state shape: (batch size, units) (64, 600)\n"
          ],
          "name": "stdout"
        }
      ]
    },
    {
      "cell_type": "code",
      "metadata": {
        "id": "umohpBN2OM94"
      },
      "source": [
        ""
      ],
      "execution_count": 19,
      "outputs": []
    },
    {
      "cell_type": "code",
      "metadata": {
        "id": "k534zTHiDjQU"
      },
      "source": [
        ""
      ],
      "execution_count": 19,
      "outputs": []
    },
    {
      "cell_type": "code",
      "metadata": {
        "id": "yJ_B3mhW3jFk"
      },
      "source": [
        "class Decoder(tf.keras.Model):\n",
        "  def __init__(self, vocab_size, embedding_dim, dec_units, batch_sz, attention_type='luong'):\n",
        "    super(Decoder, self).__init__()\n",
        "    self.batch_sz = batch_sz\n",
        "    self.dec_units = dec_units\n",
        "    self.attention_type = attention_type\n",
        "\n",
        "    # Embedding Layer\n",
        "    self.embedding = tf.keras.layers.Embedding(vocab_size, embedding_dim)\n",
        "\n",
        "    # Define the fundamental cell for decoder recurrent structure\n",
        "    self.gru = tf.keras.layers.GRUCell(self.dec_units,\n",
        "                                       recurrent_initializer='glorot_uniform')\n",
        "    # TODO MAKE THIS 2 LAYER???\n",
        "    \n",
        "    #Final Dense layer on which softmax will be applied\n",
        "    self.fc = tf.keras.layers.Dense(vocab_size)\n",
        "\n",
        "    # Sampler\n",
        "    self.sampler = tfa.seq2seq.sampler.TrainingSampler()\n",
        "\n",
        "    # Create attention mechanism with memory = None\n",
        "    self.attention_mechanism = self.build_attention_mechanism(self.dec_units, \n",
        "                                                              None, self.batch_sz*[max_length_inp], self.attention_type)\n",
        "\n",
        "    # Wrap attention mechanism with the fundamental rnn cell of decoder\n",
        "    self.rnn_cell = tfa.seq2seq.AttentionWrapper(self.gru, \n",
        "                                  self.attention_mechanism, attention_layer_size=self.dec_units)\n",
        "    \n",
        "    # Define the decoder with respect to fundamental rnn cell\n",
        "    self.decoder = tfa.seq2seq.BasicDecoder(self.rnn_cell, sampler=self.sampler, output_layer=self.fc)\n",
        "\n",
        "  def build_attention_mechanism(self, dec_units, memory, memory_sequence_length, attention_type='luong'):\n",
        "    # ------------- #\n",
        "    # typ: Which sort of attention (Bahdanau, Luong)\n",
        "    # dec_units: final dimension of attention outputs \n",
        "    # memory: encoder hidden states of shape (batch_size, max_length_input, enc_units)\n",
        "    # memory_sequence_length: 1d array of shape (batch_size) with every element set to max_length_input (for masking purpose)\n",
        "\n",
        "    if(attention_type=='bahdanau'):\n",
        "      return tfa.seq2seq.BahdanauAttention(units=dec_units, memory=memory, memory_sequence_length=memory_sequence_length)\n",
        "    else:\n",
        "      return tfa.seq2seq.LuongAttention(units=dec_units, memory=memory, memory_sequence_length=memory_sequence_length)\n",
        "\n",
        "  def build_initial_state(self, batch_sz, encoder_state, Dtype):\n",
        "    decoder_initial_state = self.rnn_cell.get_initial_state(batch_size=batch_sz, dtype=Dtype)\n",
        "    decoder_initial_state = decoder_initial_state.clone(cell_state=encoder_state)\n",
        "    return decoder_initial_state\n",
        "\n",
        "  def call(self, x, hidden):\n",
        "    print(\"initial_state: \", hidden)\n",
        "    print(\"dec_input: \", x)\n",
        "    # enc_output shape == (batch_size, max_length, hidden_size)\n",
        "    # context_vector, attention_weights = self.attention(hidden, enc_output)\n",
        "\n",
        "    # x shape after passing through embedding == (batch_size, 1, embedding_dim)\n",
        "    x = self.embedding(x)\n",
        "\n",
        "    # x shape after concatenation == (batch_size, 1, embedding_dim + hidden_size)\n",
        "    #x = tf.concat([tf.expand_dims(context_vector, 1), x], axis=-1)\n",
        "\n",
        "    # passing the concatenated vector to the GRU\n",
        "    #output, state = self.gru(x)\n",
        "\n",
        "    # output shape == (batch_size * 1, hidden_size)\n",
        "    #output = tf.reshape(output, (-1, output.shape[2]))\n",
        "\n",
        "    # output shape == (batch_size, vocab)\n",
        "    # x = self.fc(output)\n",
        "\n",
        "    #return x, state, attention_weights\n",
        "    \n",
        "    outputs, _, _ = self.decoder(x, initial_state=hidden, sequence_length=self.batch_sz*[max_length_targ-1])\n",
        "    return outputs"
      ],
      "execution_count": 20,
      "outputs": []
    },
    {
      "cell_type": "code",
      "metadata": {
        "id": "P5UY8wko3jFp"
      },
      "source": [
        "decoder = Decoder(vocab_tar_size, embedding_dim, units, BATCH_SIZE, 'luong')\n",
        "\n",
        "#sample_decoder_output, _, _ = decoder(tf.random.uniform((BATCH_SIZE, 1)),\n",
        "#                                      sample_hidden, sample_output)\n",
        "\n",
        "#print('Decoder output shape: (batch_size, vocab size)', sample_decoder_output.shape)"
      ],
      "execution_count": 21,
      "outputs": []
    },
    {
      "cell_type": "code",
      "metadata": {
        "colab": {
          "base_uri": "https://localhost:8080/"
        },
        "id": "dx__PdacftD4",
        "outputId": "4ab3f622-337f-4046-fcda-93d8cdf5f908"
      },
      "source": [
        "sample_x = tf.random.uniform((BATCH_SIZE, max_length_targ))\n",
        "decoder.attention_mechanism.setup_memory(sample_output)\n",
        "initial_state = decoder.build_initial_state(BATCH_SIZE, sample_hidden, tf.float32)\n",
        "\n",
        "\n",
        "sample_decoder_outputs = decoder(sample_x, initial_state)\n",
        "\n",
        "print(\"Decoder Outputs Shape: \", sample_decoder_outputs.rnn_output.shape)\n"
      ],
      "execution_count": 22,
      "outputs": [
        {
          "output_type": "stream",
          "text": [
            "Decoder Outputs Shape:  (64, 19, 32495)\n"
          ],
          "name": "stdout"
        }
      ]
    },
    {
      "cell_type": "markdown",
      "metadata": {
        "id": "_ch_71VbIRfK"
      },
      "source": [
        "## Define the optimizer and the loss function"
      ]
    },
    {
      "cell_type": "code",
      "metadata": {
        "id": "WmTHr5iV3jFr"
      },
      "source": [
        "optimizer = tf.keras.optimizers.Adam()\n",
        "loss_object = tf.keras.losses.SparseCategoricalCrossentropy(\n",
        "    from_logits=True, reduction='none')\n",
        "\n",
        "def loss_function(real, pred):\n",
        "  mask = tf.math.logical_not(tf.math.equal(real, 0))\n",
        "  loss_ = loss_object(real, pred)\n",
        "\n",
        "  mask = tf.cast(mask, dtype=loss_.dtype)\n",
        "  loss_ *= mask\n",
        "\n",
        "  return tf.reduce_mean(loss_)"
      ],
      "execution_count": 23,
      "outputs": []
    },
    {
      "cell_type": "markdown",
      "metadata": {
        "id": "DMVWzzsfNl4e"
      },
      "source": [
        "## Checkpoints (Object-based saving)"
      ]
    },
    {
      "cell_type": "code",
      "metadata": {
        "id": "Zj8bXQTgNwrF"
      },
      "source": [
        "checkpoint_dir = path_to_model + 'training_checkpoints'\n",
        "checkpoint_prefix = os.path.join(checkpoint_dir, \"ckpt\")\n",
        "checkpoint = tf.train.Checkpoint(optimizer=optimizer,\n",
        "                                 encoder=encoder,\n",
        "                                 decoder=decoder)"
      ],
      "execution_count": 24,
      "outputs": []
    },
    {
      "cell_type": "markdown",
      "metadata": {
        "id": "hpObfY22IddU"
      },
      "source": [
        "## Training\n",
        "\n",
        "1. Pass the *input* through the *encoder* which return *encoder output* and the *encoder hidden state*.\n",
        "2. The encoder output, encoder hidden state and the decoder input (which is the *start token*) is passed to the decoder.\n",
        "3. The decoder returns the *predictions* and the *decoder hidden state*.\n",
        "4. The decoder hidden state is then passed back into the model and the predictions are used to calculate the loss.\n",
        "5. Use *teacher forcing* to decide the next input to the decoder.\n",
        "6. *Teacher forcing* is the technique where the *target word* is passed as the *next input* to the decoder.\n",
        "7. The final step is to calculate the gradients and apply it to the optimizer and backpropagate."
      ]
    },
    {
      "cell_type": "code",
      "metadata": {
        "id": "sC9ArXSsVfqn"
      },
      "source": [
        "@tf.function\n",
        "def train_step(inp, targ, enc_hidden):\n",
        "  loss = 0\n",
        "\n",
        "  with tf.GradientTape() as tape:\n",
        "    enc_output, enc_hidden = encoder(inp, enc_hidden)\n",
        "\n",
        "    dec_input = targ[ : , :-1 ] # Ignore <end> token\n",
        "    real = targ[ : , 1: ]         # ignore <start> token\n",
        "\n",
        "    # Set the AttentionMechanism object with encoder_outputs\n",
        "    decoder.attention_mechanism.setup_memory(enc_output)\n",
        "\n",
        "    # Create AttentionWrapperState as initial_state for decoder\n",
        "    decoder_initial_state = decoder.build_initial_state(BATCH_SIZE,enc_hidden, tf.float32)\n",
        "    pred = decoder(dec_input, decoder_initial_state)\n",
        "    logits = pred.rnn_output\n",
        "    loss = loss_function(real, logits)\n",
        "\n",
        "\n",
        "\n",
        "  variables = encoder.trainable_variables + decoder.trainable_variables\n",
        "\n",
        "  gradients = tape.gradient(loss, variables)\n",
        "\n",
        "  optimizer.apply_gradients(zip(gradients, variables))\n",
        "\n",
        "  return loss"
      ],
      "execution_count": 25,
      "outputs": []
    },
    {
      "cell_type": "code",
      "metadata": {
        "id": "RrpsN8e3CF7E"
      },
      "source": [
        ""
      ],
      "execution_count": 25,
      "outputs": []
    },
    {
      "cell_type": "code",
      "metadata": {
        "id": "ddefjBMa3jF0",
        "colab": {
          "base_uri": "https://localhost:8080/"
        },
        "outputId": "cedfb845-a06e-4ecd-e38f-66392befa3b6"
      },
      "source": [
        "EPOCHS = 2\n",
        "\n",
        "for epoch in range(EPOCHS):\n",
        "  start = time.time()\n",
        "\n",
        "  enc_hidden = encoder.initialize_hidden_state()\n",
        "  total_loss = 0\n",
        "\n",
        "  for (batch, (inp, targ)) in enumerate(dataset.take(steps_per_epoch)):\n",
        "    batch_loss = train_step(inp, targ, enc_hidden)\n",
        "    total_loss += batch_loss\n",
        "\n",
        "    if batch % 100 == 0:\n",
        "      print('Epoch {} Batch {} Loss {:.4f}'.format(epoch + 1,\n",
        "                                                   batch,\n",
        "                                                   batch_loss.numpy()))\n",
        "  # saving (checkpoint) the model every 2 epochs\n",
        "  if (epoch + 1) % 2 == 0:\n",
        "    checkpoint.save(file_prefix = checkpoint_prefix)\n",
        "\n",
        "  print('Epoch {} Loss {:.4f}'.format(epoch + 1,\n",
        "                                      total_loss / steps_per_epoch))\n",
        "  print('Time taken for 1 epoch {} sec\\n'.format(time.time() - start))"
      ],
      "execution_count": 26,
      "outputs": [
        {
          "output_type": "stream",
          "text": [
            "Epoch 1 Batch 0 Loss 6.7836\n",
            "Epoch 1 Batch 100 Loss 3.8306\n",
            "Epoch 1 Batch 200 Loss 3.3197\n",
            "Epoch 1 Batch 300 Loss 2.9517\n",
            "Epoch 1 Batch 400 Loss 3.0682\n",
            "Epoch 1 Batch 500 Loss 3.3275\n",
            "Epoch 1 Batch 600 Loss 2.6490\n",
            "Epoch 1 Batch 700 Loss 3.0473\n",
            "Epoch 1 Batch 800 Loss 2.7661\n",
            "Epoch 1 Batch 900 Loss 2.8002\n",
            "Epoch 1 Batch 1000 Loss 2.6973\n",
            "Epoch 1 Loss 3.2041\n",
            "Time taken for 1 epoch 180.34428548812866 sec\n",
            "\n",
            "Epoch 2 Batch 0 Loss 2.5658\n",
            "Epoch 2 Batch 100 Loss 2.4788\n",
            "Epoch 2 Batch 200 Loss 2.5901\n",
            "Epoch 2 Batch 300 Loss 2.5558\n",
            "Epoch 2 Batch 400 Loss 2.6943\n",
            "Epoch 2 Batch 500 Loss 2.4885\n",
            "Epoch 2 Batch 600 Loss 2.3283\n",
            "Epoch 2 Batch 700 Loss 2.6665\n",
            "Epoch 2 Batch 800 Loss 2.4930\n",
            "Epoch 2 Batch 900 Loss 2.5234\n",
            "Epoch 2 Batch 1000 Loss 2.5781\n",
            "Epoch 2 Loss 2.4701\n",
            "Time taken for 1 epoch 177.22117710113525 sec\n",
            "\n"
          ],
          "name": "stdout"
        }
      ]
    },
    {
      "cell_type": "markdown",
      "metadata": {
        "id": "mU3Ce8M6I3rz"
      },
      "source": [
        "## Translate\n",
        "\n",
        "* The evaluate function is similar to the training loop, except we don't use *teacher forcing* here. The input to the decoder at each time step is its previous predictions along with the hidden state and the encoder output.\n",
        "* Stop predicting when the model predicts the *end token*.\n",
        "* And store the *attention weights for every time step*.\n",
        "\n",
        "Note: The encoder output is calculated only once for one input."
      ]
    },
    {
      "cell_type": "code",
      "metadata": {
        "id": "EbQpyYs13jF_"
      },
      "source": [
        ""
      ],
      "execution_count": 26,
      "outputs": []
    },
    {
      "cell_type": "code",
      "metadata": {
        "id": "YKDfZdNjO4DJ"
      },
      "source": [
        "def evaluate_sentence(sentence):\n",
        "  sentence = qg_dataset.preprocess_sentence(sentence)\n",
        "\n",
        "  inputs = inp_tokenizer.texts_to_sequences([sentence])\n",
        "  inputs = tf.keras.preprocessing.sequence.pad_sequences(inputs,\n",
        "                                                          maxlen=max_length_inp,\n",
        "                                                          padding='post')\n",
        "  inputs = tf.convert_to_tensor(inputs)\n",
        "  inference_batch_size = inputs.shape[0]\n",
        "  result = ''\n",
        "\n",
        "  enc_start_state = [tf.zeros((inference_batch_size, units))]\n",
        "  enc_out, enc_hidden = encoder(inputs, enc_start_state, training=False)\n",
        "\n",
        "  dec_hidden = enc_hidden\n",
        "\n",
        "  start_tokens = tf.fill([inference_batch_size], targ_tokenizer.word_index['<start>'])\n",
        "  end_token = targ_tokenizer.word_index['<end>']\n",
        "\n",
        "  greedy_sampler = tfa.seq2seq.GreedyEmbeddingSampler()\n",
        "\n",
        "  # Instantiate BasicDecoder object\n",
        "  decoder_instance = tfa.seq2seq.BasicDecoder(cell=decoder.rnn_cell, sampler=greedy_sampler, output_layer=decoder.fc, maximum_iterations=10)\n",
        "  # Setup Memory in decoder stack\n",
        "  decoder.attention_mechanism.setup_memory(enc_out)\n",
        "\n",
        "  # set decoder_initial_state\n",
        "  decoder_initial_state = decoder.build_initial_state(inference_batch_size, dec_hidden, tf.float32)\n",
        "\n",
        "\n",
        "  ### Since the BasicDecoder wraps around Decoder's rnn cell only, you have to ensure that the inputs to BasicDecoder \n",
        "  ### decoding step is output of embedding layer. tfa.seq2seq.GreedyEmbeddingSampler() takes care of this. \n",
        "  ### You only need to get the weights of embedding layer, which can be done by decoder.embedding.variables[0] and pass this callabble to BasicDecoder's call() function\n",
        "\n",
        "  decoder_embedding_matrix = decoder.embedding.variables[0]\n",
        "  print(\"decoder_embedding_matrix: \", decoder_embedding_matrix.shape)\n",
        "\n",
        "  outputs, _, _ = decoder_instance(decoder_embedding_matrix, start_tokens = start_tokens, end_token= end_token, initial_state=decoder_initial_state)\n",
        "  return outputs.sample_id.numpy()\n",
        "\n",
        "def translate(sentence):\n",
        "  result = evaluate_sentence(sentence)\n",
        "  print(result)\n",
        "  result = targ_tokenizer.sequences_to_texts(result)\n",
        "  print('Input: %s' % (sentence))\n",
        "  print('Predicted translation: {}'.format(result))"
      ],
      "execution_count": 27,
      "outputs": []
    },
    {
      "cell_type": "code",
      "metadata": {
        "id": "s5hQWlbN3jGF"
      },
      "source": [
        "# function for plotting the attention weights\n",
        "def plot_attention(attention, sentence, predicted_sentence):\n",
        "  print(attention.shape)\n",
        "  fig = plt.figure(figsize=(10,10))\n",
        "  ax = fig.add_subplot(1, 1, 1)\n",
        "  ax.matshow(attention, cmap='viridis')\n",
        "\n",
        "  fontdict = {'fontsize': 14}\n",
        "\n",
        "  ax.set_xticklabels([''] + sentence, fontdict=fontdict, rotation=90)\n",
        "  ax.set_yticklabels([''] + predicted_sentence, fontdict=fontdict)\n",
        "\n",
        "  ax.xaxis.set_major_locator(ticker.MultipleLocator(1))\n",
        "  ax.yaxis.set_major_locator(ticker.MultipleLocator(1))\n",
        "\n",
        "  plt.show()"
      ],
      "execution_count": 28,
      "outputs": []
    },
    {
      "cell_type": "code",
      "metadata": {
        "id": "sl9zUHzg3jGI",
        "colab": {
          "base_uri": "https://localhost:8080/"
        },
        "outputId": "869d13f8-1d01-4f45-e16e-f2154f3626a0"
      },
      "source": [
        "targ_tokenizer.sequences_to_texts([[192, 29, 4,  29,   4,  29,   4,  29,   4,  29]])"
      ],
      "execution_count": 29,
      "outputs": [
        {
          "output_type": "execute_result",
          "data": {
            "text/plain": [
              "['street with ? with ? with ? with ? with']"
            ]
          },
          "metadata": {
            "tags": []
          },
          "execution_count": 29
        }
      ]
    },
    {
      "cell_type": "markdown",
      "metadata": {
        "id": "n250XbnjOaqP"
      },
      "source": [
        "## Restore the latest checkpoint and test"
      ]
    },
    {
      "cell_type": "code",
      "metadata": {
        "id": "UJpT9D5_OgP6",
        "colab": {
          "base_uri": "https://localhost:8080/"
        },
        "outputId": "d6b91a9b-205c-4fb6-e1dc-bb614457a90f"
      },
      "source": [
        "# restoring the latest checkpoint in checkpoint_dir\n",
        "checkpoint.restore(tf.train.latest_checkpoint(checkpoint_dir))"
      ],
      "execution_count": 30,
      "outputs": [
        {
          "output_type": "execute_result",
          "data": {
            "text/plain": [
              "<tensorflow.python.training.tracking.util.CheckpointLoadStatus at 0x7f074a95cb50>"
            ]
          },
          "metadata": {
            "tags": []
          },
          "execution_count": 30
        }
      ]
    },
    {
      "cell_type": "code",
      "metadata": {
        "id": "WrAM0FDomq3E",
        "colab": {
          "base_uri": "https://localhost:8080/"
        },
        "outputId": "e1d2738d-fda4-4031-c00a-430d0c68266a"
      },
      "source": [
        "translate(['two', 'months', 'later', 'the', 'band', 'got', 'signed', 'to', 'a', 'three', 'album', 'deal', 'with', ',', 'which', 'left', '.'])"
      ],
      "execution_count": 31,
      "outputs": [
        {
          "output_type": "stream",
          "text": [
            "[[  6  11   5  39   7   5 290  25  12 167]]\n",
            "Input: ['two', 'months', 'later', 'the', 'band', 'got', 'signed', 'to', 'a', 'three', 'album', 'deal', 'with', ',', 'which', 'left', '.']\n",
            "Predicted translation: ['what was the name of the song that did kanye']\n"
          ],
          "name": "stdout"
        }
      ]
    },
    {
      "cell_type": "code",
      "metadata": {
        "id": "zD3vxKxxLZsa",
        "colab": {
          "base_uri": "https://localhost:8080/"
        },
        "outputId": "f61b661b-f5f5-4539-bdc9-ad017b3de89b"
      },
      "source": [
        "translate([\"Golm\", \"is\", \"a\", \"locality\", \"of\", \"Potsdam\", \",\", \"the\", \"capital\", \"of\", \"the\", \"German\", \"state\", \"of\", \"Brandenburg\", \".\"])"
      ],
      "execution_count": 32,
      "outputs": [
        {
          "output_type": "stream",
          "text": [
            "[[  6  10   5  39   7   5 183  69   4   3]]\n",
            "Input: ['Golm', 'is', 'a', 'locality', 'of', 'Potsdam', ',', 'the', 'capital', 'of', 'the', 'German', 'state', 'of', 'Brandenburg', '.']\n",
            "Predicted translation: ['what is the name of the german state ? <end>']\n"
          ],
          "name": "stdout"
        }
      ]
    },
    {
      "cell_type": "code",
      "metadata": {
        "id": "RKLENzh4Gr7I",
        "colab": {
          "base_uri": "https://localhost:8080/"
        },
        "outputId": "83799708-adbe-4de9-895d-7eb7406f3b97"
      },
      "source": [
        "translate(\"the largest of these is the eldon square shop-ping centre , one of the largest city centre shopping com-plexes in the uk .\".split(\" \"))"
      ],
      "execution_count": 33,
      "outputs": [
        {
          "output_type": "stream",
          "text": [
            "[[  6  10   5 129 243   8   5  74   4   3]]\n",
            "Input: ['the', 'largest', 'of', 'these', 'is', 'the', 'eldon', 'square', 'shop-ping', 'centre', ',', 'one', 'of', 'the', 'largest', 'city', 'centre', 'shopping', 'com-plexes', 'in', 'the', 'uk', '.']\n",
            "Predicted translation: ['what is the largest center in the world ? <end>']\n"
          ],
          "name": "stdout"
        }
      ]
    },
    {
      "cell_type": "code",
      "metadata": {
        "id": "ZIR8Rv_eQW0w"
      },
      "source": [
        "def beam_evaluate_sentence(sentence, beam_width=3):\n",
        "  sentence = qg_dataset.preprocess_sentence(sentence)\n",
        "\n",
        "  inputs = inp_tokenizer.texts_to_sequences([sentence])\n",
        "  inputs = tf.keras.preprocessing.sequence.pad_sequences(inputs,\n",
        "                                                          maxlen=max_length_inp,\n",
        "                                                          padding='post')\n",
        "  inputs = tf.convert_to_tensor(inputs)\n",
        "  inference_batch_size = inputs.shape[0]\n",
        "\n",
        "  hidden = [tf.zeros((1, units))]\n",
        "  enc_out, enc_hidden = encoder(inputs, hidden)\n",
        "\n",
        "  dec_hidden = enc_hidden\n",
        "\n",
        "  start_tokens = tf.fill([inference_batch_size], targ_tokenizer.word_index['<start>'])\n",
        "  print(\"start_tokens.shape: \", start_tokens.shape)\n",
        "  end_token = targ_tokenizer.word_index['<end>']\n",
        "  print(\"end_token: \", end_token)\n",
        "\n",
        "  # From official documentation\n",
        "  # NOTE If you are using the BeamSearchDecoder with a cell wrapped in AttentionWrapper, then you must ensure that:\n",
        "  # The encoder output has been tiled to beam_width via tfa.seq2seq.tile_batch (NOT tf.tile).\n",
        "  # The batch_size argument passed to the get_initial_state method of this wrapper is equal to true_batch_size * beam_width.\n",
        "  # The initial state created with get_initial_state above contains a cell_state value containing properly tiled final state from the encoder.\n",
        "\n",
        "  enc_out = tfa.seq2seq.tile_batch(enc_out, multiplier=beam_width)\n",
        "  decoder.attention_mechanism.setup_memory(enc_out)\n",
        "  print(\"beam_with * [batch_size, max_length_input, rnn_units] :]] :\", enc_out.shape)\n",
        "\n",
        "  # set decoder_inital_state which is an AttentionWrapperState considering beam_width\n",
        "  hidden_state = tfa.seq2seq.tile_batch(enc_hidden, multiplier=beam_width)\n",
        "  decoder_initial_state = decoder.rnn_cell.get_initial_state(batch_size=beam_width*inference_batch_size, dtype=tf.float32)\n",
        "  decoder_initial_state = decoder_initial_state.clone(cell_state=hidden_state)\n",
        "  print(\"decoder_initial_state.cell_state: \", decoder_initial_state.cell_state.shape)\n",
        "  print(\"decoder_initial_state.attention: \", decoder_initial_state.attention.shape)\n",
        "  print(\"decoder_initial_state.alignments: \", decoder_initial_state.alignments.shape)\n",
        "  print(\"decoder_initial_state.attention_state: \", decoder_initial_state.attention_state.shape)\n",
        "\n",
        "  # Instantiate BeamSearchDecoder\n",
        "  decoder_instance = tfa.seq2seq.BeamSearchDecoder(decoder.rnn_cell,beam_width=beam_width, output_layer=decoder.fc, maximum_iterations=10)\n",
        "  decoder_embedding_matrix = decoder.embedding.variables[0]\n",
        "  print(\"decoder_embedding_matrix: \", decoder_embedding_matrix.shape)\n",
        "\n",
        "  # The BeamSearchDecoder object's call() function takes care of everything.\n",
        "  outputs, final_state, sequence_lengths = decoder_instance(decoder_embedding_matrix, start_tokens=start_tokens, end_token=end_token, initial_state=decoder_initial_state)\n",
        "  # outputs is tfa.seq2seq.FinalBeamSearchDecoderOutput object. \n",
        "  # The final beam predictions are stored in outputs.predicted_id\n",
        "  # outputs.beam_search_decoder_output is a tfa.seq2seq.BeamSearchDecoderOutput object which keep tracks of beam_scores and parent_ids while performing a beam decoding step\n",
        "  # final_state = tfa.seq2seq.BeamSearchDecoderState object.\n",
        "  # Sequence Length = [inference_batch_size, beam_width] details the maximum length of the beams that are generated\n",
        "  print(\"sequence_lengths.shape = [inference_batch_size, beam_width]: \", sequence_lengths.shape)\n",
        "  print(\"outputs.predicted_id.shape = (inference_batch_size, time_step_outputs, beam_width): \",\n",
        "                  outputs.predicted_ids.shape)\n",
        "  print(\"outputs.beam_search_decoder_output.scores.shape = (inference_batch_size, time_step_outputs, beam_width): \",\n",
        "                  outputs.beam_search_decoder_output.scores.shape)\n",
        "  print(type(outputs.beam_search_decoder_output))\n",
        "  print(\"final_state\", final_state)\n",
        "\n",
        "  # outputs.predicted_id.shape = (inference_batch_size, time_step_outputs, beam_width)\n",
        "  # outputs.beam_search_decoder_output.scores.shape = (inference_batch_size, time_step_outputs, beam_width)\n",
        "  # Convert the shape of outputs and beam_scores to (inference_batch_size, beam_width, time_step_outputs)\n",
        "  final_outputs = tf.transpose(outputs.predicted_ids, perm=(0,2,1))\n",
        "  beam_scores = tf.transpose(outputs.beam_search_decoder_output.scores, perm=(0,2,1))\n",
        "\n",
        "  print(\"final_outputs.shape = (inference_batch_size, beam_width, time_step_outputs) \",\n",
        "                  final_outputs.shape)\n",
        "\n",
        "  return final_outputs.numpy(), beam_scores.numpy()\n"
      ],
      "execution_count": 42,
      "outputs": []
    },
    {
      "cell_type": "code",
      "metadata": {
        "id": "vnKTRRH4ROcS"
      },
      "source": [
        "def beam_translate(sentence):\n",
        "  result, beam_scores = beam_evaluate_sentence(sentence)\n",
        "  print(result.shape, beam_scores.shape)\n",
        "  for beam, score in zip(result, beam_scores):\n",
        "    print(beam.shape, score.shape)\n",
        "    output = targ_tokenizer.sequences_to_texts(beam)\n",
        "    output = [a for a in output]\n",
        "    beam_score = [a.sum() for a in score]\n",
        "    print('Input: %s' % (sentence))\n",
        "    for i in range(len(output)):\n",
        "      print('{} Predicted translation: {}  {}'.format(i+1, output[i], beam_score[i]))\n"
      ],
      "execution_count": 43,
      "outputs": []
    },
    {
      "cell_type": "code",
      "metadata": {
        "colab": {
          "base_uri": "https://localhost:8080/"
        },
        "id": "QLvM_SqDRS5V",
        "outputId": "fbd41ed8-9809-4f70-9626-08c536ca1ece"
      },
      "source": [
        "beam_translate(\"the largest of these is the eldon square shop-ping centre , one of the largest city centre shopping com-plexes in the uk .\".split(\" \"))"
      ],
      "execution_count": 44,
      "outputs": [
        {
          "output_type": "stream",
          "text": [
            "beam_with * [batch_size, max_length_input, rnn_units] :]] : (3, 80, 600)\n",
            "decoder_initial_state.cell_state:  (3, 600)\n",
            "decoder_initial_state.attention:  (3, 600)\n",
            "decoder_initial_state.alignments:  (3, 80)\n",
            "decoder_initial_state.attention_state:  (3, 80)\n",
            "decoder_embedding_matrix:  (32495, 300)\n",
            "sequence_lengths.shape = [inference_batch_size, beam_width]:  (1, 3)\n",
            "outputs.predicted_id.shape = (inference_batch_size, time_step_outputs, beam_width):  (1, 10, 3)\n",
            "outputs.beam_search_decoder_output.scores.shape = (inference_batch_size, time_step_outputs, beam_width):  (1, 10, 3)\n",
            "<class 'tensorflow_addons.seq2seq.beam_search_decoder.BeamSearchDecoderOutput'>\n",
            "final_state BeamSearchDecoderState(cell_state=AttentionWrapperState(cell_state=<tf.Tensor: shape=(1, 3, 600), dtype=float32, numpy=\n",
            "array([[[ 0.98083276,  0.70914954,  0.99999005, ..., -0.9387039 ,\n",
            "          0.9999956 , -0.04047155],\n",
            "        [ 0.9813923 ,  0.70180917,  0.99984014, ..., -0.9688012 ,\n",
            "          0.9841243 , -0.03691381],\n",
            "        [-0.06376833,  0.7205291 ,  0.9999914 , ...,  0.086629  ,\n",
            "         -0.9892593 , -0.04041307]]], dtype=float32)>, attention=<tf.Tensor: shape=(1, 3, 600), dtype=float32, numpy=\n",
            "array([[[ 1.533621  ,  1.5060287 ,  2.3413415 , ...,  0.06364634,\n",
            "         -0.67876434,  0.48709786],\n",
            "        [ 1.0936515 ,  0.7216149 ,  1.1140548 , ...,  0.20219529,\n",
            "         -0.6047209 ,  1.4098195 ],\n",
            "        [ 0.6188381 , -0.45527005,  0.1401805 , ...,  0.6449839 ,\n",
            "         -1.2879086 ,  0.8746828 ]]], dtype=float32)>, alignments=<tf.Tensor: shape=(1, 3, 80), dtype=float32, numpy=\n",
            "array([[[0.0000000e+00, 0.0000000e+00, 0.0000000e+00, 0.0000000e+00,\n",
            "         0.0000000e+00, 0.0000000e+00, 0.0000000e+00, 0.0000000e+00,\n",
            "         0.0000000e+00, 1.8528108e-34, 2.7673431e-27, 6.9403474e-27,\n",
            "         5.2632012e-29, 7.4466370e-29, 4.0853106e-29, 2.4016430e-26,\n",
            "         6.3814237e-25, 1.7926524e-17, 8.6718251e-07, 3.0108165e-05,\n",
            "         1.3821335e-04, 7.5503493e-08, 7.4417940e-03, 4.8831873e-02,\n",
            "         1.5035541e-01, 2.3188215e-01, 2.3373294e-01, 1.7214675e-01,\n",
            "         9.6231669e-02, 4.1298516e-02, 1.3644389e-02, 3.4706446e-03,\n",
            "         6.7929341e-04, 1.0225482e-04, 1.1838119e-05, 1.0545637e-06,\n",
            "         7.2377595e-08, 3.8365160e-09, 1.5768643e-10, 5.0550740e-12,\n",
            "         1.2744269e-13, 2.5552536e-15, 4.1342179e-17, 5.4976657e-19,\n",
            "         6.1460582e-21, 5.9338698e-23, 5.1052903e-25, 4.0552859e-27,\n",
            "         3.0920706e-29, 2.3588807e-31, 1.8792988e-33, 1.6315787e-35,\n",
            "         1.6079370e-37, 0.0000000e+00, 0.0000000e+00, 0.0000000e+00,\n",
            "         0.0000000e+00, 0.0000000e+00, 0.0000000e+00, 0.0000000e+00,\n",
            "         0.0000000e+00, 0.0000000e+00, 0.0000000e+00, 0.0000000e+00,\n",
            "         0.0000000e+00, 0.0000000e+00, 0.0000000e+00, 0.0000000e+00,\n",
            "         0.0000000e+00, 0.0000000e+00, 0.0000000e+00, 0.0000000e+00,\n",
            "         0.0000000e+00, 0.0000000e+00, 0.0000000e+00, 0.0000000e+00,\n",
            "         0.0000000e+00, 0.0000000e+00, 0.0000000e+00, 0.0000000e+00],\n",
            "        [0.0000000e+00, 0.0000000e+00, 0.0000000e+00, 0.0000000e+00,\n",
            "         0.0000000e+00, 0.0000000e+00, 0.0000000e+00, 0.0000000e+00,\n",
            "         0.0000000e+00, 0.0000000e+00, 2.6237810e-34, 1.6800053e-33,\n",
            "         2.8150631e-37, 2.9973045e-37, 0.0000000e+00, 2.4861258e-35,\n",
            "         1.9575600e-31, 1.9326538e-21, 1.7781318e-11, 1.1807300e-09,\n",
            "         7.8384943e-09, 1.0515203e-12, 5.0570123e-02, 4.0691320e-02,\n",
            "         1.3270295e-01, 2.4074541e-01, 2.5477496e-01, 1.7252883e-01,\n",
            "         7.8048944e-02, 2.4032412e-02, 5.0824801e-03, 7.4199686e-04,\n",
            "         7.5043652e-05, 5.2727519e-06, 2.5809422e-07, 8.8277252e-09,\n",
            "         2.1179984e-10, 3.5829597e-12, 4.3040685e-14, 3.7067983e-16,\n",
            "         2.3182903e-18, 1.0706859e-20, 3.7298060e-23, 1.0064470e-25,\n",
            "         2.1720301e-28, 3.8940827e-31, 6.0585438e-34, 8.5925057e-37,\n",
            "         0.0000000e+00, 0.0000000e+00, 0.0000000e+00, 0.0000000e+00,\n",
            "         0.0000000e+00, 0.0000000e+00, 0.0000000e+00, 0.0000000e+00,\n",
            "         0.0000000e+00, 0.0000000e+00, 0.0000000e+00, 0.0000000e+00,\n",
            "         0.0000000e+00, 0.0000000e+00, 0.0000000e+00, 0.0000000e+00,\n",
            "         0.0000000e+00, 0.0000000e+00, 0.0000000e+00, 0.0000000e+00,\n",
            "         0.0000000e+00, 0.0000000e+00, 0.0000000e+00, 0.0000000e+00,\n",
            "         0.0000000e+00, 0.0000000e+00, 0.0000000e+00, 0.0000000e+00,\n",
            "         0.0000000e+00, 0.0000000e+00, 0.0000000e+00, 0.0000000e+00],\n",
            "        [0.0000000e+00, 0.0000000e+00, 0.0000000e+00, 0.0000000e+00,\n",
            "         0.0000000e+00, 0.0000000e+00, 0.0000000e+00, 0.0000000e+00,\n",
            "         0.0000000e+00, 0.0000000e+00, 8.2951543e-35, 3.6277694e-36,\n",
            "         0.0000000e+00, 0.0000000e+00, 0.0000000e+00, 7.6416367e-31,\n",
            "         5.7394925e-26, 9.2771749e-19, 2.0830942e-13, 7.4193218e-13,\n",
            "         4.5464259e-13, 6.6193960e-15, 9.8391169e-01, 1.3886909e-02,\n",
            "         1.9028194e-03, 2.6618008e-04, 2.9608667e-05, 2.5136301e-06,\n",
            "         1.6072288e-07, 7.6895024e-09, 2.7419952e-10, 7.2720198e-12,\n",
            "         1.4331746e-13, 2.0995101e-15, 2.2899574e-17, 1.8655734e-19,\n",
            "         1.1410885e-21, 5.2788083e-24, 1.8659582e-26, 5.1086796e-29,\n",
            "         1.1022941e-31, 1.9158926e-34, 2.7552001e-37, 0.0000000e+00,\n",
            "         0.0000000e+00, 0.0000000e+00, 0.0000000e+00, 0.0000000e+00,\n",
            "         0.0000000e+00, 0.0000000e+00, 0.0000000e+00, 0.0000000e+00,\n",
            "         0.0000000e+00, 0.0000000e+00, 0.0000000e+00, 0.0000000e+00,\n",
            "         0.0000000e+00, 0.0000000e+00, 0.0000000e+00, 0.0000000e+00,\n",
            "         0.0000000e+00, 0.0000000e+00, 0.0000000e+00, 0.0000000e+00,\n",
            "         0.0000000e+00, 0.0000000e+00, 0.0000000e+00, 0.0000000e+00,\n",
            "         0.0000000e+00, 0.0000000e+00, 0.0000000e+00, 0.0000000e+00,\n",
            "         0.0000000e+00, 0.0000000e+00, 0.0000000e+00, 0.0000000e+00,\n",
            "         0.0000000e+00, 0.0000000e+00, 0.0000000e+00, 0.0000000e+00]]],\n",
            "      dtype=float32)>, alignment_history=(), attention_state=<tf.Tensor: shape=(1, 3, 80), dtype=float32, numpy=\n",
            "array([[[0.0000000e+00, 0.0000000e+00, 0.0000000e+00, 0.0000000e+00,\n",
            "         0.0000000e+00, 0.0000000e+00, 0.0000000e+00, 0.0000000e+00,\n",
            "         0.0000000e+00, 1.8528108e-34, 2.7673431e-27, 6.9403474e-27,\n",
            "         5.2632012e-29, 7.4466370e-29, 4.0853106e-29, 2.4016430e-26,\n",
            "         6.3814237e-25, 1.7926524e-17, 8.6718251e-07, 3.0108165e-05,\n",
            "         1.3821335e-04, 7.5503493e-08, 7.4417940e-03, 4.8831873e-02,\n",
            "         1.5035541e-01, 2.3188215e-01, 2.3373294e-01, 1.7214675e-01,\n",
            "         9.6231669e-02, 4.1298516e-02, 1.3644389e-02, 3.4706446e-03,\n",
            "         6.7929341e-04, 1.0225482e-04, 1.1838119e-05, 1.0545637e-06,\n",
            "         7.2377595e-08, 3.8365160e-09, 1.5768643e-10, 5.0550740e-12,\n",
            "         1.2744269e-13, 2.5552536e-15, 4.1342179e-17, 5.4976657e-19,\n",
            "         6.1460582e-21, 5.9338698e-23, 5.1052903e-25, 4.0552859e-27,\n",
            "         3.0920706e-29, 2.3588807e-31, 1.8792988e-33, 1.6315787e-35,\n",
            "         1.6079370e-37, 0.0000000e+00, 0.0000000e+00, 0.0000000e+00,\n",
            "         0.0000000e+00, 0.0000000e+00, 0.0000000e+00, 0.0000000e+00,\n",
            "         0.0000000e+00, 0.0000000e+00, 0.0000000e+00, 0.0000000e+00,\n",
            "         0.0000000e+00, 0.0000000e+00, 0.0000000e+00, 0.0000000e+00,\n",
            "         0.0000000e+00, 0.0000000e+00, 0.0000000e+00, 0.0000000e+00,\n",
            "         0.0000000e+00, 0.0000000e+00, 0.0000000e+00, 0.0000000e+00,\n",
            "         0.0000000e+00, 0.0000000e+00, 0.0000000e+00, 0.0000000e+00],\n",
            "        [0.0000000e+00, 0.0000000e+00, 0.0000000e+00, 0.0000000e+00,\n",
            "         0.0000000e+00, 0.0000000e+00, 0.0000000e+00, 0.0000000e+00,\n",
            "         0.0000000e+00, 0.0000000e+00, 2.6237810e-34, 1.6800053e-33,\n",
            "         2.8150631e-37, 2.9973045e-37, 0.0000000e+00, 2.4861258e-35,\n",
            "         1.9575600e-31, 1.9326538e-21, 1.7781318e-11, 1.1807300e-09,\n",
            "         7.8384943e-09, 1.0515203e-12, 5.0570123e-02, 4.0691320e-02,\n",
            "         1.3270295e-01, 2.4074541e-01, 2.5477496e-01, 1.7252883e-01,\n",
            "         7.8048944e-02, 2.4032412e-02, 5.0824801e-03, 7.4199686e-04,\n",
            "         7.5043652e-05, 5.2727519e-06, 2.5809422e-07, 8.8277252e-09,\n",
            "         2.1179984e-10, 3.5829597e-12, 4.3040685e-14, 3.7067983e-16,\n",
            "         2.3182903e-18, 1.0706859e-20, 3.7298060e-23, 1.0064470e-25,\n",
            "         2.1720301e-28, 3.8940827e-31, 6.0585438e-34, 8.5925057e-37,\n",
            "         0.0000000e+00, 0.0000000e+00, 0.0000000e+00, 0.0000000e+00,\n",
            "         0.0000000e+00, 0.0000000e+00, 0.0000000e+00, 0.0000000e+00,\n",
            "         0.0000000e+00, 0.0000000e+00, 0.0000000e+00, 0.0000000e+00,\n",
            "         0.0000000e+00, 0.0000000e+00, 0.0000000e+00, 0.0000000e+00,\n",
            "         0.0000000e+00, 0.0000000e+00, 0.0000000e+00, 0.0000000e+00,\n",
            "         0.0000000e+00, 0.0000000e+00, 0.0000000e+00, 0.0000000e+00,\n",
            "         0.0000000e+00, 0.0000000e+00, 0.0000000e+00, 0.0000000e+00,\n",
            "         0.0000000e+00, 0.0000000e+00, 0.0000000e+00, 0.0000000e+00],\n",
            "        [0.0000000e+00, 0.0000000e+00, 0.0000000e+00, 0.0000000e+00,\n",
            "         0.0000000e+00, 0.0000000e+00, 0.0000000e+00, 0.0000000e+00,\n",
            "         0.0000000e+00, 0.0000000e+00, 8.2951543e-35, 3.6277694e-36,\n",
            "         0.0000000e+00, 0.0000000e+00, 0.0000000e+00, 7.6416367e-31,\n",
            "         5.7394925e-26, 9.2771749e-19, 2.0830942e-13, 7.4193218e-13,\n",
            "         4.5464259e-13, 6.6193960e-15, 9.8391169e-01, 1.3886909e-02,\n",
            "         1.9028194e-03, 2.6618008e-04, 2.9608667e-05, 2.5136301e-06,\n",
            "         1.6072288e-07, 7.6895024e-09, 2.7419952e-10, 7.2720198e-12,\n",
            "         1.4331746e-13, 2.0995101e-15, 2.2899574e-17, 1.8655734e-19,\n",
            "         1.1410885e-21, 5.2788083e-24, 1.8659582e-26, 5.1086796e-29,\n",
            "         1.1022941e-31, 1.9158926e-34, 2.7552001e-37, 0.0000000e+00,\n",
            "         0.0000000e+00, 0.0000000e+00, 0.0000000e+00, 0.0000000e+00,\n",
            "         0.0000000e+00, 0.0000000e+00, 0.0000000e+00, 0.0000000e+00,\n",
            "         0.0000000e+00, 0.0000000e+00, 0.0000000e+00, 0.0000000e+00,\n",
            "         0.0000000e+00, 0.0000000e+00, 0.0000000e+00, 0.0000000e+00,\n",
            "         0.0000000e+00, 0.0000000e+00, 0.0000000e+00, 0.0000000e+00,\n",
            "         0.0000000e+00, 0.0000000e+00, 0.0000000e+00, 0.0000000e+00,\n",
            "         0.0000000e+00, 0.0000000e+00, 0.0000000e+00, 0.0000000e+00,\n",
            "         0.0000000e+00, 0.0000000e+00, 0.0000000e+00, 0.0000000e+00,\n",
            "         0.0000000e+00, 0.0000000e+00, 0.0000000e+00, 0.0000000e+00]]],\n",
            "      dtype=float32)>), log_probs=<tf.Tensor: shape=(1, 3), dtype=float32, numpy=array([[-6.387208, -6.669908, -8.407464]], dtype=float32)>, finished=<tf.Tensor: shape=(1, 3), dtype=bool, numpy=array([[ True,  True, False]])>, lengths=<tf.Tensor: shape=(1, 3), dtype=int64, numpy=array([[10,  9, 10]])>, accumulated_attention_probs=())\n",
            "final_outputs.shape = (inference_batch_size, beam_width, time_step_outputs)  (1, 3, 10)\n",
            "(1, 3, 10) (1, 3, 10)\n",
            "(3, 10) (3, 10)\n",
            "Input: ['the', 'largest', 'of', 'these', 'is', 'the', 'eldon', 'square', 'shop-ping', 'centre', ',', 'one', 'of', 'the', 'largest', 'city', 'centre', 'shopping', 'com-plexes', 'in', 'the', 'uk', '.']\n",
            "1 Predicted translation: what is the largest center in the world ? <end>  -36.218727111816406\n",
            "2 Predicted translation: what is the largest in the world ? <end> <end>  -44.10389709472656\n",
            "3 Predicted translation: what is the largest center in the world in the  -53.66691207885742\n"
          ],
          "name": "stdout"
        }
      ]
    },
    {
      "cell_type": "code",
      "metadata": {
        "id": "TSP7PdUJa93t",
        "colab": {
          "base_uri": "https://localhost:8080/"
        },
        "outputId": "e4a5b529-30e4-4d1a-fa35-e66a329e5fca"
      },
      "source": [
        "len(targ_tokenizer.word_index)"
      ],
      "execution_count": 37,
      "outputs": [
        {
          "output_type": "execute_result",
          "data": {
            "text/plain": [
              "32494"
            ]
          },
          "metadata": {
            "tags": []
          },
          "execution_count": 37
        }
      ]
    },
    {
      "cell_type": "code",
      "metadata": {
        "colab": {
          "base_uri": "https://localhost:8080/"
        },
        "id": "GsAk2ohM1Jto",
        "outputId": "94fb7949-9a47-4aee-f9e7-9ab8ef33d8dd"
      },
      "source": [
        "beam_translate(['Golm', 'is', 'a', 'locality', 'of', 'Potsdam', ',', 'the', 'capital', 'of', 'the', 'German', 'state', 'of', 'Brandenburg', '.'])"
      ],
      "execution_count": 38,
      "outputs": [
        {
          "output_type": "stream",
          "text": [
            "beam_with * [batch_size, max_length_input, rnn_units] :  3 * [1, 16, 1024]] : (3, 80, 600)\n",
            "(1, 3, 10) (1, 3, 10)\n",
            "(3, 10) (3, 10)\n",
            "Input: ['Golm', 'is', 'a', 'locality', 'of', 'Potsdam', ',', 'the', 'capital', 'of', 'the', 'German', 'state', 'of', 'Brandenburg', '.']\n",
            "1 Predicted translation: what is the name of the capital of estonia ?  -45.17106246948242\n",
            "2 Predicted translation: what is the name of the capital of the state  -55.59967041015625\n",
            "3 Predicted translation: what is the name of the capital of the hanover  -63.114715576171875\n"
          ],
          "name": "stdout"
        }
      ]
    },
    {
      "cell_type": "code",
      "metadata": {
        "id": "_u_HfSHltBEn"
      },
      "source": [
        ""
      ],
      "execution_count": 38,
      "outputs": []
    }
  ]
}