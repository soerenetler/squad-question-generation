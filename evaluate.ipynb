{
  "nbformat": 4,
  "nbformat_minor": 0,
  "metadata": {
    "colab": {
      "name": "Untitled8.ipynb",
      "provenance": [],
      "authorship_tag": "ABX9TyMPpuGoe0Hkh32uifsmlFno",
      "include_colab_link": true
    },
    "kernelspec": {
      "name": "python3",
      "display_name": "Python 3"
    },
    "language_info": {
      "name": "python"
    }
  },
  "cells": [
    {
      "cell_type": "markdown",
      "metadata": {
        "id": "view-in-github",
        "colab_type": "text"
      },
      "source": [
        "<a href=\"https://colab.research.google.com/github/soerenetler/squad-question-generation/blob/master/evaluate.ipynb\" target=\"_parent\"><img src=\"https://colab.research.google.com/assets/colab-badge.svg\" alt=\"Open In Colab\"/></a>"
      ]
    },
    {
      "cell_type": "code",
      "metadata": {
        "colab": {
          "base_uri": "https://localhost:8080/"
        },
        "id": "gMxOcPebGWqK",
        "outputId": "0ed90a34-ac0a-4f41-c1cc-847f501f7a95"
      },
      "source": [
        "!git clone https://github.com/yanghoonkim/neural_question_generation.git"
      ],
      "execution_count": 1,
      "outputs": [
        {
          "output_type": "stream",
          "text": [
            "Cloning into 'neural_question_generation'...\n",
            "remote: Enumerating objects: 128, done.\u001b[K\n",
            "remote: Counting objects: 100% (3/3), done.\u001b[K\n",
            "remote: Compressing objects: 100% (3/3), done.\u001b[K\n",
            "remote: Total 128 (delta 0), reused 0 (delta 0), pack-reused 125\u001b[K\n",
            "Receiving objects: 100% (128/128), 12.20 MiB | 2.05 MiB/s, done.\n",
            "Resolving deltas: 100% (65/65), done.\n"
          ],
          "name": "stdout"
        }
      ]
    },
    {
      "cell_type": "code",
      "metadata": {
        "colab": {
          "base_uri": "https://localhost:8080/"
        },
        "id": "i2u38rhjGcLh",
        "outputId": "4777db6d-e9c2-4e4f-aaa6-1e0b792da35a"
      },
      "source": [
        "#Data preprocessing\n",
        "!mkdir neural_question_generation/data/processed\n",
        "!cd neural_question_generation; python2 process_data.py"
      ],
      "execution_count": 4,
      "outputs": [
        {
          "output_type": "stream",
          "text": [
            "mkdir: cannot create directory ‘neural_question_generation/data/processed’: File exists\n",
            "train sentences max length : 431 \n",
            "train questions max length : 59 \n",
            "\n",
            "dev sentences max length : 263 \n",
            "dev questions max length : 34 \n",
            "\n",
            "test sentences max length : 137 \n",
            "test questions max length : 36 \n",
            "\n",
            "restrict max length of train_sentence as 60\n",
            "restrict max length of train_question as 30\n",
            "restrict max length of dev_sentence as 60\n",
            "restrict max length of dev_question as 25\n",
            "restrict max length of test_sentence as 60\n",
            "restrict max length of test_question as 25\n",
            "\n",
            "resize dictionary with 34000 most frequent words...\n",
            "save Dic File...\n",
            "Processing Complete\n",
            "Saving Complete\n"
          ],
          "name": "stdout"
        }
      ]
    },
    {
      "cell_type": "code",
      "metadata": {
        "colab": {
          "base_uri": "https://localhost:8080/"
        },
        "id": "DC2XI7kBGqlJ",
        "outputId": "c3075d40-e699-41e2-cc69-747e91270493"
      },
      "source": [
        "# Download & process GloVe\n",
        "#!cd neural_question_generation; wget http://nlp.stanford.edu/data/glove.840B.300d.zip -P data/\n",
        "#!cd neural_question_generation; unzip data/glove.840B.300d.zip -d data/\n",
        "!cd neural_question_generation; python2 process_embedding.py # This will take a couple of minutes"
      ],
      "execution_count": 6,
      "outputs": [
        {
          "output_type": "stream",
          "text": [
            "Reading original Glove file...\n",
            "Processing original Glove file to dictionary...\n",
            "\n",
            "/bin/bash: line 1:   253 Killed                  python2 process_embedding.py\n"
          ],
          "name": "stdout"
        }
      ]
    },
    {
      "cell_type": "code",
      "metadata": {
        "colab": {
          "base_uri": "https://localhost:8080/"
        },
        "id": "9nzp_s_8I1Gv",
        "outputId": "6e20885f-697e-4ca8-b26a-6969506e6541"
      },
      "source": [
        "# Train model\n",
        "\n",
        "# data_name : dataset name which is defined in run.sh\n",
        "# hyperparameters : hyperparameters setting which is defined in params.py\n",
        "# epochs: training epochs\n",
        "!pip install tensorflow==1.4.1\n",
        "#!cd neural_question_generation; bash run.sh train [data_name] [hyperparameters] [epochs]\n",
        "!cd neural_question_generation; bash run.sh train squad basic_params 10"
      ],
      "execution_count": 13,
      "outputs": [
        {
          "output_type": "stream",
          "text": [
            "\u001b[31mERROR: Could not find a version that satisfies the requirement tensorflow==1.4.1 (from versions: 1.13.0rc1, 1.13.0rc2, 1.13.1, 1.13.2, 1.14.0rc0, 1.14.0rc1, 1.14.0, 1.15.0rc0, 1.15.0rc1, 1.15.0rc2, 1.15.0rc3, 1.15.0, 1.15.2, 1.15.3, 1.15.4, 1.15.5, 2.0.0a0, 2.0.0b0, 2.0.0b1, 2.0.0rc0, 2.0.0rc1, 2.0.0rc2, 2.0.0, 2.0.1, 2.0.2, 2.0.3, 2.0.4, 2.1.0rc0, 2.1.0rc1, 2.1.0rc2, 2.1.0, 2.1.1, 2.1.2, 2.1.3, 2.2.0rc0, 2.2.0rc1, 2.2.0rc2, 2.2.0rc3, 2.2.0rc4, 2.2.0, 2.2.1, 2.2.2, 2.3.0rc0, 2.3.0rc1, 2.3.0rc2, 2.3.0, 2.3.1, 2.3.2, 2.4.0rc0, 2.4.0rc1, 2.4.0rc2, 2.4.0rc3, 2.4.0rc4, 2.4.0, 2.4.1, 2.5.0rc0, 2.5.0rc1, 2.5.0rc2)\u001b[0m\n",
            "\u001b[31mERROR: No matching distribution found for tensorflow==1.4.1\u001b[0m\n",
            "Traceback (most recent call last):\n",
            "  File \"main.py\", line 141, in <module>\n",
            "    tf.app.run(main)\n",
            "AttributeError: 'module' object has no attribute 'app'\n"
          ],
          "name": "stdout"
        }
      ]
    },
    {
      "cell_type": "code",
      "metadata": {
        "id": "5btlyWDZJB6H"
      },
      "source": [
        "# Test model\n",
        "\n",
        "mkdir result # only for the first time, predicted result will be saved here\n",
        "bash run.sh pred [data_name] [hyperparameters] 0 \n",
        "# example : bash run.sh pred squad basic_params 0 \n"
      ],
      "execution_count": null,
      "outputs": []
    }
  ]
}