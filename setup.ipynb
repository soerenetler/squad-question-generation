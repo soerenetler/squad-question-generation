{
  "nbformat": 4,
  "nbformat_minor": 0,
  "metadata": {
    "orig_nbformat": 2,
    "colab": {
      "name": "setup.ipynb",
      "provenance": []
    },
    "kernelspec": {
      "name": "python3",
      "display_name": "Python 3"
    },
    "accelerator": "GPU"
  },
  "cells": [
    {
      "cell_type": "code",
      "metadata": {
        "id": "1v_oQY0ciH-C"
      },
      "source": [
        "import os\n",
        "os.system(\"git clone https://github.com/soerenetler/squad-question-generation.git\")\n",
        "os.system(\"git clone https://github.com/soerenetler/spacy_target_answer.git\")\n",
        "\n",
        "from google.colab import drive\n",
        "drive.mount('/content/gdrive')"
      ],
      "execution_count": null,
      "outputs": []
    },
    {
      "cell_type": "code",
      "metadata": {
        "colab": {
          "base_uri": "https://localhost:8080/"
        },
        "id": "LV0knGnkAs1c",
        "outputId": "73dc759b-68b2-4fb1-e35a-b9e9fd4a32be"
      },
      "source": [
        "!(cd spacy_target_answer; git pull)\n",
        "!(cd squad-question-generation/; git pull)"
      ],
      "execution_count": 2,
      "outputs": [
        {
          "output_type": "stream",
          "text": [
            "Already up to date.\n",
            "Already up to date.\n"
          ],
          "name": "stdout"
        }
      ]
    },
    {
      "cell_type": "code",
      "metadata": {
        "colab": {
          "base_uri": "https://localhost:8080/"
        },
        "id": "yjPWdFiiI4xi",
        "outputId": "d78e4437-1e49-4abd-9596-9b4bf8163950"
      },
      "source": [
        "!nvidia-smi"
      ],
      "execution_count": 3,
      "outputs": [
        {
          "output_type": "stream",
          "text": [
            "Sat Apr 24 10:34:11 2021       \n",
            "+-----------------------------------------------------------------------------+\n",
            "| NVIDIA-SMI 465.19.01    Driver Version: 460.32.03    CUDA Version: 11.2     |\n",
            "|-------------------------------+----------------------+----------------------+\n",
            "| GPU  Name        Persistence-M| Bus-Id        Disp.A | Volatile Uncorr. ECC |\n",
            "| Fan  Temp  Perf  Pwr:Usage/Cap|         Memory-Usage | GPU-Util  Compute M. |\n",
            "|                               |                      |               MIG M. |\n",
            "|===============================+======================+======================|\n",
            "|   0  Tesla V100-SXM2...  Off  | 00000000:00:04.0 Off |                    0 |\n",
            "| N/A   42C    P0    26W / 300W |      0MiB / 16160MiB |      0%      Default |\n",
            "|                               |                      |                  N/A |\n",
            "+-------------------------------+----------------------+----------------------+\n",
            "                                                                               \n",
            "+-----------------------------------------------------------------------------+\n",
            "| Processes:                                                                  |\n",
            "|  GPU   GI   CI        PID   Type   Process name                  GPU Memory |\n",
            "|        ID   ID                                                   Usage      |\n",
            "|=============================================================================|\n",
            "|  No running processes found                                                 |\n",
            "+-----------------------------------------------------------------------------+\n"
          ],
          "name": "stdout"
        }
      ]
    },
    {
      "cell_type": "code",
      "metadata": {
        "colab": {
          "base_uri": "https://localhost:8080/"
        },
        "id": "HXgEs_qGIxz-",
        "outputId": "5786f22f-3dc4-486d-c96e-f39f786a7a59"
      },
      "source": [
        "!pip install --quiet -U pip setuptools wheel"
      ],
      "execution_count": 4,
      "outputs": [
        {
          "output_type": "stream",
          "text": [
            "\u001b[?25l\r\u001b[K     |▏                               | 10kB 23.0MB/s eta 0:00:01\r\u001b[K     |▍                               | 20kB 11.5MB/s eta 0:00:01\r\u001b[K     |▋                               | 30kB 6.9MB/s eta 0:00:01\r\u001b[K     |▉                               | 40kB 3.2MB/s eta 0:00:01\r\u001b[K     |█                               | 51kB 3.9MB/s eta 0:00:01\r\u001b[K     |█▎                              | 61kB 4.3MB/s eta 0:00:01\r\u001b[K     |█▌                              | 71kB 4.7MB/s eta 0:00:01\r\u001b[K     |█▊                              | 81kB 5.0MB/s eta 0:00:01\r\u001b[K     |██                              | 92kB 5.0MB/s eta 0:00:01\r\u001b[K     |██▏                             | 102kB 4.1MB/s eta 0:00:01\r\u001b[K     |██▍                             | 112kB 4.1MB/s eta 0:00:01\r\u001b[K     |██▌                             | 122kB 4.1MB/s eta 0:00:01\r\u001b[K     |██▊                             | 133kB 4.1MB/s eta 0:00:01\r\u001b[K     |███                             | 143kB 4.1MB/s eta 0:00:01\r\u001b[K     |███▏                            | 153kB 4.1MB/s eta 0:00:01\r\u001b[K     |███▍                            | 163kB 4.1MB/s eta 0:00:01\r\u001b[K     |███▋                            | 174kB 4.1MB/s eta 0:00:01\r\u001b[K     |███▉                            | 184kB 4.1MB/s eta 0:00:01\r\u001b[K     |████                            | 194kB 4.1MB/s eta 0:00:01\r\u001b[K     |████▎                           | 204kB 4.1MB/s eta 0:00:01\r\u001b[K     |████▌                           | 215kB 4.1MB/s eta 0:00:01\r\u001b[K     |████▊                           | 225kB 4.1MB/s eta 0:00:01\r\u001b[K     |█████                           | 235kB 4.1MB/s eta 0:00:01\r\u001b[K     |█████                           | 245kB 4.1MB/s eta 0:00:01\r\u001b[K     |█████▎                          | 256kB 4.1MB/s eta 0:00:01\r\u001b[K     |█████▌                          | 266kB 4.1MB/s eta 0:00:01\r\u001b[K     |█████▊                          | 276kB 4.1MB/s eta 0:00:01\r\u001b[K     |██████                          | 286kB 4.1MB/s eta 0:00:01\r\u001b[K     |██████▏                         | 296kB 4.1MB/s eta 0:00:01\r\u001b[K     |██████▍                         | 307kB 4.1MB/s eta 0:00:01\r\u001b[K     |██████▋                         | 317kB 4.1MB/s eta 0:00:01\r\u001b[K     |██████▉                         | 327kB 4.1MB/s eta 0:00:01\r\u001b[K     |███████                         | 337kB 4.1MB/s eta 0:00:01\r\u001b[K     |███████▎                        | 348kB 4.1MB/s eta 0:00:01\r\u001b[K     |███████▌                        | 358kB 4.1MB/s eta 0:00:01\r\u001b[K     |███████▋                        | 368kB 4.1MB/s eta 0:00:01\r\u001b[K     |███████▉                        | 378kB 4.1MB/s eta 0:00:01\r\u001b[K     |████████                        | 389kB 4.1MB/s eta 0:00:01\r\u001b[K     |████████▎                       | 399kB 4.1MB/s eta 0:00:01\r\u001b[K     |████████▌                       | 409kB 4.1MB/s eta 0:00:01\r\u001b[K     |████████▊                       | 419kB 4.1MB/s eta 0:00:01\r\u001b[K     |█████████                       | 430kB 4.1MB/s eta 0:00:01\r\u001b[K     |█████████▏                      | 440kB 4.1MB/s eta 0:00:01\r\u001b[K     |█████████▍                      | 450kB 4.1MB/s eta 0:00:01\r\u001b[K     |█████████▋                      | 460kB 4.1MB/s eta 0:00:01\r\u001b[K     |█████████▉                      | 471kB 4.1MB/s eta 0:00:01\r\u001b[K     |██████████                      | 481kB 4.1MB/s eta 0:00:01\r\u001b[K     |██████████▏                     | 491kB 4.1MB/s eta 0:00:01\r\u001b[K     |██████████▍                     | 501kB 4.1MB/s eta 0:00:01\r\u001b[K     |██████████▋                     | 512kB 4.1MB/s eta 0:00:01\r\u001b[K     |██████████▉                     | 522kB 4.1MB/s eta 0:00:01\r\u001b[K     |███████████                     | 532kB 4.1MB/s eta 0:00:01\r\u001b[K     |███████████▎                    | 542kB 4.1MB/s eta 0:00:01\r\u001b[K     |███████████▌                    | 552kB 4.1MB/s eta 0:00:01\r\u001b[K     |███████████▊                    | 563kB 4.1MB/s eta 0:00:01\r\u001b[K     |████████████                    | 573kB 4.1MB/s eta 0:00:01\r\u001b[K     |████████████▏                   | 583kB 4.1MB/s eta 0:00:01\r\u001b[K     |████████████▍                   | 593kB 4.1MB/s eta 0:00:01\r\u001b[K     |████████████▋                   | 604kB 4.1MB/s eta 0:00:01\r\u001b[K     |████████████▊                   | 614kB 4.1MB/s eta 0:00:01\r\u001b[K     |█████████████                   | 624kB 4.1MB/s eta 0:00:01\r\u001b[K     |█████████████▏                  | 634kB 4.1MB/s eta 0:00:01\r\u001b[K     |█████████████▍                  | 645kB 4.1MB/s eta 0:00:01\r\u001b[K     |█████████████▋                  | 655kB 4.1MB/s eta 0:00:01\r\u001b[K     |█████████████▉                  | 665kB 4.1MB/s eta 0:00:01\r\u001b[K     |██████████████                  | 675kB 4.1MB/s eta 0:00:01\r\u001b[K     |██████████████▎                 | 686kB 4.1MB/s eta 0:00:01\r\u001b[K     |██████████████▌                 | 696kB 4.1MB/s eta 0:00:01\r\u001b[K     |██████████████▊                 | 706kB 4.1MB/s eta 0:00:01\r\u001b[K     |███████████████                 | 716kB 4.1MB/s eta 0:00:01\r\u001b[K     |███████████████▏                | 727kB 4.1MB/s eta 0:00:01\r\u001b[K     |███████████████▎                | 737kB 4.1MB/s eta 0:00:01\r\u001b[K     |███████████████▌                | 747kB 4.1MB/s eta 0:00:01\r\u001b[K     |███████████████▊                | 757kB 4.1MB/s eta 0:00:01\r\u001b[K     |████████████████                | 768kB 4.1MB/s eta 0:00:01\r\u001b[K     |████████████████▏               | 778kB 4.1MB/s eta 0:00:01\r\u001b[K     |████████████████▍               | 788kB 4.1MB/s eta 0:00:01\r\u001b[K     |████████████████▋               | 798kB 4.1MB/s eta 0:00:01\r\u001b[K     |████████████████▉               | 808kB 4.1MB/s eta 0:00:01\r\u001b[K     |█████████████████               | 819kB 4.1MB/s eta 0:00:01\r\u001b[K     |█████████████████▎              | 829kB 4.1MB/s eta 0:00:01\r\u001b[K     |█████████████████▌              | 839kB 4.1MB/s eta 0:00:01\r\u001b[K     |█████████████████▊              | 849kB 4.1MB/s eta 0:00:01\r\u001b[K     |█████████████████▉              | 860kB 4.1MB/s eta 0:00:01\r\u001b[K     |██████████████████              | 870kB 4.1MB/s eta 0:00:01\r\u001b[K     |██████████████████▎             | 880kB 4.1MB/s eta 0:00:01\r\u001b[K     |██████████████████▌             | 890kB 4.1MB/s eta 0:00:01\r\u001b[K     |██████████████████▊             | 901kB 4.1MB/s eta 0:00:01\r\u001b[K     |███████████████████             | 911kB 4.1MB/s eta 0:00:01\r\u001b[K     |███████████████████▏            | 921kB 4.1MB/s eta 0:00:01\r\u001b[K     |███████████████████▍            | 931kB 4.1MB/s eta 0:00:01\r\u001b[K     |███████████████████▋            | 942kB 4.1MB/s eta 0:00:01\r\u001b[K     |███████████████████▉            | 952kB 4.1MB/s eta 0:00:01\r\u001b[K     |████████████████████            | 962kB 4.1MB/s eta 0:00:01\r\u001b[K     |████████████████████▎           | 972kB 4.1MB/s eta 0:00:01\r\u001b[K     |████████████████████▍           | 983kB 4.1MB/s eta 0:00:01\r\u001b[K     |████████████████████▋           | 993kB 4.1MB/s eta 0:00:01\r\u001b[K     |████████████████████▉           | 1.0MB 4.1MB/s eta 0:00:01\r\u001b[K     |█████████████████████           | 1.0MB 4.1MB/s eta 0:00:01\r\u001b[K     |█████████████████████▎          | 1.0MB 4.1MB/s eta 0:00:01\r\u001b[K     |█████████████████████▌          | 1.0MB 4.1MB/s eta 0:00:01\r\u001b[K     |█████████████████████▊          | 1.0MB 4.1MB/s eta 0:00:01\r\u001b[K     |██████████████████████          | 1.1MB 4.1MB/s eta 0:00:01\r\u001b[K     |██████████████████████▏         | 1.1MB 4.1MB/s eta 0:00:01\r\u001b[K     |██████████████████████▍         | 1.1MB 4.1MB/s eta 0:00:01\r\u001b[K     |██████████████████████▋         | 1.1MB 4.1MB/s eta 0:00:01\r\u001b[K     |██████████████████████▉         | 1.1MB 4.1MB/s eta 0:00:01\r\u001b[K     |███████████████████████         | 1.1MB 4.1MB/s eta 0:00:01\r\u001b[K     |███████████████████████▏        | 1.1MB 4.1MB/s eta 0:00:01\r\u001b[K     |███████████████████████▍        | 1.1MB 4.1MB/s eta 0:00:01\r\u001b[K     |███████████████████████▋        | 1.1MB 4.1MB/s eta 0:00:01\r\u001b[K     |███████████████████████▉        | 1.1MB 4.1MB/s eta 0:00:01\r\u001b[K     |████████████████████████        | 1.2MB 4.1MB/s eta 0:00:01\r\u001b[K     |████████████████████████▎       | 1.2MB 4.1MB/s eta 0:00:01\r\u001b[K     |████████████████████████▌       | 1.2MB 4.1MB/s eta 0:00:01\r\u001b[K     |████████████████████████▊       | 1.2MB 4.1MB/s eta 0:00:01\r\u001b[K     |█████████████████████████       | 1.2MB 4.1MB/s eta 0:00:01\r\u001b[K     |█████████████████████████▏      | 1.2MB 4.1MB/s eta 0:00:01\r\u001b[K     |█████████████████████████▍      | 1.2MB 4.1MB/s eta 0:00:01\r\u001b[K     |█████████████████████████▌      | 1.2MB 4.1MB/s eta 0:00:01\r\u001b[K     |█████████████████████████▊      | 1.2MB 4.1MB/s eta 0:00:01\r\u001b[K     |██████████████████████████      | 1.2MB 4.1MB/s eta 0:00:01\r\u001b[K     |██████████████████████████▏     | 1.3MB 4.1MB/s eta 0:00:01\r\u001b[K     |██████████████████████████▍     | 1.3MB 4.1MB/s eta 0:00:01\r\u001b[K     |██████████████████████████▋     | 1.3MB 4.1MB/s eta 0:00:01\r\u001b[K     |██████████████████████████▉     | 1.3MB 4.1MB/s eta 0:00:01\r\u001b[K     |███████████████████████████     | 1.3MB 4.1MB/s eta 0:00:01\r\u001b[K     |███████████████████████████▎    | 1.3MB 4.1MB/s eta 0:00:01\r\u001b[K     |███████████████████████████▌    | 1.3MB 4.1MB/s eta 0:00:01\r\u001b[K     |███████████████████████████▊    | 1.3MB 4.1MB/s eta 0:00:01\r\u001b[K     |███████████████████████████▉    | 1.3MB 4.1MB/s eta 0:00:01\r\u001b[K     |████████████████████████████    | 1.4MB 4.1MB/s eta 0:00:01\r\u001b[K     |████████████████████████████▎   | 1.4MB 4.1MB/s eta 0:00:01\r\u001b[K     |████████████████████████████▌   | 1.4MB 4.1MB/s eta 0:00:01\r\u001b[K     |████████████████████████████▊   | 1.4MB 4.1MB/s eta 0:00:01\r\u001b[K     |█████████████████████████████   | 1.4MB 4.1MB/s eta 0:00:01\r\u001b[K     |█████████████████████████████▏  | 1.4MB 4.1MB/s eta 0:00:01\r\u001b[K     |█████████████████████████████▍  | 1.4MB 4.1MB/s eta 0:00:01\r\u001b[K     |█████████████████████████████▋  | 1.4MB 4.1MB/s eta 0:00:01\r\u001b[K     |█████████████████████████████▉  | 1.4MB 4.1MB/s eta 0:00:01\r\u001b[K     |██████████████████████████████  | 1.4MB 4.1MB/s eta 0:00:01\r\u001b[K     |██████████████████████████████▎ | 1.5MB 4.1MB/s eta 0:00:01\r\u001b[K     |██████████████████████████████▍ | 1.5MB 4.1MB/s eta 0:00:01\r\u001b[K     |██████████████████████████████▋ | 1.5MB 4.1MB/s eta 0:00:01\r\u001b[K     |██████████████████████████████▉ | 1.5MB 4.1MB/s eta 0:00:01\r\u001b[K     |███████████████████████████████ | 1.5MB 4.1MB/s eta 0:00:01\r\u001b[K     |███████████████████████████████▎| 1.5MB 4.1MB/s eta 0:00:01\r\u001b[K     |███████████████████████████████▌| 1.5MB 4.1MB/s eta 0:00:01\r\u001b[K     |███████████████████████████████▊| 1.5MB 4.1MB/s eta 0:00:01\r\u001b[K     |████████████████████████████████| 1.5MB 4.1MB/s eta 0:00:01\r\u001b[K     |████████████████████████████████| 1.5MB 4.1MB/s \n",
            "\u001b[?25h"
          ],
          "name": "stdout"
        }
      ]
    },
    {
      "cell_type": "code",
      "metadata": {
        "id": "1m6YK0fTI0j2",
        "colab": {
          "base_uri": "https://localhost:8080/"
        },
        "outputId": "32314bbc-e55e-4a4d-fce6-b8c67674e29d"
      },
      "source": [
        "!pip install --quiet -U spacy[cuda110,transformers,lookups]"
      ],
      "execution_count": 5,
      "outputs": [
        {
          "output_type": "stream",
          "text": [
            "\u001b[K     |████████████████████████████████| 12.8 MB 4.3 MB/s \n",
            "\u001b[K     |████████████████████████████████| 9.1 MB 53.1 MB/s \n",
            "\u001b[K     |████████████████████████████████| 1.1 MB 60.0 MB/s \n",
            "\u001b[K     |████████████████████████████████| 456 kB 56.5 MB/s \n",
            "\u001b[K     |████████████████████████████████| 42 kB 1.4 MB/s \n",
            "\u001b[K     |████████████████████████████████| 165.3 MB 43 kB/s \n",
            "\u001b[K     |████████████████████████████████| 93.4 MB 35 kB/s \n",
            "\u001b[K     |████████████████████████████████| 113 kB 67.7 MB/s \n",
            "\u001b[K     |████████████████████████████████| 998 kB 25.0 MB/s \n",
            "\u001b[K     |████████████████████████████████| 2.1 MB 47.1 MB/s \n",
            "\u001b[K     |████████████████████████████████| 3.3 MB 55.3 MB/s \n",
            "\u001b[K     |████████████████████████████████| 895 kB 63.3 MB/s \n",
            "\u001b[?25h  Building wheel for smart-open (setup.py) ... \u001b[?25l\u001b[?25hdone\n"
          ],
          "name": "stdout"
        }
      ]
    },
    {
      "cell_type": "code",
      "metadata": {
        "colab": {
          "base_uri": "https://localhost:8080/"
        },
        "id": "N__oOtlnI8t8",
        "outputId": "4f36aa0b-7e5b-4bbe-c0d6-b6aff96f2de1"
      },
      "source": [
        "!python -m spacy download en_core_web_sm --quiet\n",
        "!python -m spacy download en_core_web_trf --quiet\n",
        "!python -m spacy download en_core_web_lg --quiet"
      ],
      "execution_count": 6,
      "outputs": [
        {
          "output_type": "stream",
          "text": [
            "2021-04-24 10:35:02.919635: I tensorflow/stream_executor/platform/default/dso_loader.cc:49] Successfully opened dynamic library libcudart.so.11.0\n",
            "\u001b[K     |████████████████████████████████| 13.7 MB 4.2 MB/s \n",
            "\u001b[?25h\u001b[38;5;2m✔ Download and installation successful\u001b[0m\n",
            "You can now load the package via spacy.load('en_core_web_sm')\n",
            "2021-04-24 10:35:12.419641: I tensorflow/stream_executor/platform/default/dso_loader.cc:49] Successfully opened dynamic library libcudart.so.11.0\n",
            "\u001b[K     |████████████████████████████████| 459.7 MB 17 kB/s \n",
            "\u001b[?25h\u001b[38;5;2m✔ Download and installation successful\u001b[0m\n",
            "You can now load the package via spacy.load('en_core_web_trf')\n",
            "2021-04-24 10:35:52.482961: I tensorflow/stream_executor/platform/default/dso_loader.cc:49] Successfully opened dynamic library libcudart.so.11.0\n",
            "\u001b[K     |████████████████████████████████| 778.8 MB 20 kB/s \n",
            "\u001b[?25h\u001b[38;5;2m✔ Download and installation successful\u001b[0m\n",
            "You can now load the package via spacy.load('en_core_web_lg')\n"
          ],
          "name": "stdout"
        }
      ]
    },
    {
      "cell_type": "code",
      "metadata": {
        "colab": {
          "base_uri": "https://localhost:8080/"
        },
        "id": "0sMcLq1RSiVC",
        "outputId": "9be70fd6-d316-45bd-e596-1a12b06e209c"
      },
      "source": [
        "!spacy validate"
      ],
      "execution_count": 7,
      "outputs": [
        {
          "output_type": "stream",
          "text": [
            "2021-04-24 10:36:58.186901: I tensorflow/stream_executor/platform/default/dso_loader.cc:49] Successfully opened dynamic library libcudart.so.11.0\n",
            "\u001b[2K\u001b[38;5;2m✔ Loaded compatibility table\u001b[0m\n",
            "\u001b[1m\n",
            "================= Installed pipeline packages (spaCy v3.0.6) =================\u001b[0m\n",
            "\u001b[38;5;4mℹ spaCy installation: /usr/local/lib/python3.7/dist-packages/spacy\u001b[0m\n",
            "\n",
            "NAME              SPACY            VERSION                            \n",
            "en_core_web_sm    >=3.0.0,<3.1.0   \u001b[38;5;2m3.0.0\u001b[0m   \u001b[38;5;2m✔\u001b[0m\n",
            "en_core_web_trf   >=3.0.0,<3.1.0   \u001b[38;5;2m3.0.0\u001b[0m   \u001b[38;5;2m✔\u001b[0m\n",
            "en_core_web_lg    >=3.0.0,<3.1.0   \u001b[38;5;2m3.0.0\u001b[0m   \u001b[38;5;2m✔\u001b[0m\n",
            "\n"
          ],
          "name": "stdout"
        }
      ]
    },
    {
      "cell_type": "code",
      "metadata": {
        "id": "UvclP8vmXQwB",
        "colab": {
          "base_uri": "https://localhost:8080/"
        },
        "outputId": "c0752165-3cb9-487f-8894-063d37795b8e"
      },
      "source": [
        "import spacy\n",
        "nlp = spacy.load('en_core_web_lg')\n",
        "sentence = nlp(\"There are no major roads through Golm, only state road (Landesstraße) L 902 passes through the northern parts of the village area and offers the shortest connection to federal highway (Bundesstraße) 273. The latter can also be reached following a road extending east from Golm past Sanssouci Park to the Jägervorstadt quarter of Potsdam. The railway between Wildpark and Nauen was opened in 1902 as part of the single-tracked bypass railway (Umgehungsbahn) intended to connect the radial railway lines originating from Berlin. A station was established in Golm. In the 1950s this line became part of the Berlin outer ring and was double-tracked. Golm is now a passenger station for regional trains to Potsdam, Wustermark, Hennigsdorf, and Berlin Schönefeld Airport. Golm has also bus connections to Potsdam and Neu Töplitz and is included in fare zone C (Tarifbereich C)[2] of Berlin's public transport system and in fare zone B of Potsdam's public transport system.\")\n",
        "print([token.is_punct for token in sentence])"
      ],
      "execution_count": 8,
      "outputs": [
        {
          "output_type": "stream",
          "text": [
            "[False, False, False, False, False, False, False, True, False, False, False, True, False, True, False, False, False, False, False, False, False, False, False, False, False, False, False, False, False, False, False, False, False, True, False, True, False, True, False, False, False, False, False, False, False, False, False, False, False, False, False, False, False, False, False, False, False, False, False, False, True, False, False, False, False, False, False, False, False, False, False, False, False, False, False, False, True, False, False, False, True, False, True, False, False, False, False, False, False, False, False, False, False, True, False, False, False, False, False, False, True, False, False, False, False, False, False, False, False, False, False, False, False, False, False, False, True, False, True, False, False, False, False, False, False, False, False, False, False, False, True, False, True, False, True, False, False, False, False, True, False, False, False, False, False, False, False, False, False, False, False, False, False, False, False, False, False, True, False, False, True, False, False, False, False, False, False, False, False, False, False, False, False, False, False, False, False, False, True]\n"
          ],
          "name": "stdout"
        }
      ]
    },
    {
      "cell_type": "code",
      "metadata": {
        "id": "DKANy0iZiIv8",
        "colab": {
          "base_uri": "https://localhost:8080/"
        },
        "outputId": "e263b7bc-3428-4037-b484-3d732b301aad"
      },
      "source": [
        "# PREPROCESSING\n",
        "!python3 squad-question-generation/02_preprocessing/preprocessing.py --dataset quac"
      ],
      "execution_count": 9,
      "outputs": [
        {
          "output_type": "stream",
          "text": [
            "2021-04-24 10:42:39.478383: I tensorflow/stream_executor/platform/default/dso_loader.cc:49] Successfully opened dynamic library libcudart.so.11.0\n",
            "  0% 22/11567 [00:10<30:15,  6.36it/s].  Life in Hell became popular almost immediately. In<-  Life in Hell became popular almost immediately. In\n",
            "  0% 53/11567 [00:14<26:26,  7.26it/s].  In 2013, she played a special participation role in Apoy Sa Dagat as young Odessa<-  In 2013, she played a special participation role in Apoy Sa Dagat as young Odessa,\n",
            "  1% 94/11567 [00:20<25:03,  7.63it/s].  At the university, he decided to take acting classes and took up theatre as his minor<-  At the university, he decided to take acting classes and took up theatre as his minor.\n",
            "  1% 104/11567 [00:21<24:16,  7.87it/s]Bill and Charlie carried on as a duo, eventually winning spots performing live on radio stations--<-Bill and Charlie carried on as a duo, eventually winning spots performing live on radio stations\n",
            "  1% 142/11567 [00:26<22:17,  8.54it/s].  Clarkson lent her voice in the computer-animated film, The Star<-  Clarkson lent her voice in the computer-animated film, The Star\n",
            "  1% 171/11567 [00:30<26:55,  7.05it/s].  \"My Happiness\" peaked at number 23 on the Hot Modern Rock Tracks<-  \"My Happiness\" peaked at number 23 on the Hot Modern Rock Tracks,\n",
            "  2% 178/11567 [00:31<31:04,  6.11it/s].  After recording 11 albums with the group, Martin left Menudo in July 1989, at age 17<-  After recording 11 albums with the group, Martin left Menudo in July 1989, at age 17,\n",
            "  2% 270/11567 [00:43<26:47,  7.03it/s].  Jackson joined trumpeter Wadada Leo Smith's Golden Quartet with pianist Vijay Iyer and double-bassist John Lindberg in 2005<-  Jackson joined trumpeter Wadada Leo Smith's Golden Quartet with pianist Vijay Iyer and double-bassist John Lindberg in 2005.\n",
            "  3% 379/11567 [00:58<25:34,  7.29it/s].  (T)his Alumni Game has provided an opportunity to rebuild ... once-burnt bridges<-  (T)his Alumni Game has provided an opportunity to rebuild ... once-burnt bridges.\n",
            "  3% 396/11567 [01:00<21:27,  8.67it/s].  \"Say Goodbye to Hollywood\" was a minor hit; Ronnie Spector recorded a cover<-  \"Say Goodbye to Hollywood\" was a minor hit; Ronnie Spector recorded a cover\n",
            "  4% 426/11567 [01:04<25:05,  7.40it/s].  Vince Piazza's own hopes of playing baseball had ended at the age of 16 when he left school<-  Vince Piazza's own hopes of playing baseball had ended at the age of 16 when he left school\n",
            "  4% 434/11567 [01:05<32:03,  5.79it/s].  \"Hold On\" was awarded a Billboard Music Award for \"#1 R&B Single of the Year<-  \"Hold On\" was awarded a Billboard Music Award for \"#1 R&B Single of the Year,\n",
            "  4% 448/11567 [01:07<24:13,  7.65it/s]This<-his\n",
            "  4% 476/11567 [01:10<25:23,  7.28it/s].  Leno immediately accepted the return to 11:35 p.m.<-  Leno immediately accepted the return to 11:35 p.m.,\n",
            "  5% 571/11567 [01:23<26:54,  6.81it/s].  \"Despite growing evidence of remaining friction between the members,\" the band continued to tour in the early 2010s<-  \"Despite growing evidence of remaining friction between the members,\" the band continued to tour in the early 2010s.\n",
            "  5% 605/11567 [01:27<26:35,  6.87it/s].  He followed in 1990 with a very different film, The Rainbow Thief. Though it gave Jodorowsky<-  He followed in 1990 with a very different film, The Rainbow Thief. Though it gave Jodorowsky\n",
            "  5% 635/11567 [01:31<27:36,  6.60it/s].  He never lost a race in the 100 yard or 100 meter competitions<-  He never lost a race in the 100 yard or 100 meter competitions,\n",
            "  6% 657/11567 [01:34<24:12,  7.51it/s].  In October 1968, McKernan and Weir were nearly fired from the band<-  In October 1968, McKernan and Weir were nearly fired from the band\n",
            "  6% 672/11567 [01:36<23:33,  7.71it/s].  Skelton went on the air with his own radio show, The Raleigh Cigarette Program<-  Skelton went on the air with his own radio show, The Raleigh Cigarette Program,\n",
            "  6% 685/11567 [01:38<22:33,  8.04it/s].  \"Would You Go with Me<-  \"Would You Go with Me\"\n",
            "  7% 752/11567 [01:46<20:25,  8.83it/s]Nothing<-No\n",
            "  7% 802/11567 [01:52<27:39,  6.49it/s].  In 2003, he teamed with singer Ronald Isley to release the album Here I Am<-  In 2003, he teamed with singer Ronald Isley to release the album Here I Am,\n",
            "  7% 817/11567 [01:54<23:04,  7.76it/s].  Dixon is considered one of the key figures in the creation of Chicago blues<-  Dixon is considered one of the key figures in the creation of Chicago blues.\n",
            "  7% 826/11567 [01:55<24:27,  7.32it/s].  The second single taken from their second album was \"Is It Just Me?\", released on 20 February 2006<-  The second single taken from their second album was \"Is It Just Me?\", released on 20 February 2006.\n",
            "  8% 882/11567 [02:03<30:12,  5.89it/s]The word \"Vlach\" is etymologically derived from the ethnonym of a Celtic tribe, adopted into Proto-Germanic *Walhaz which meant \"stranger\", from *Wolka-<-The word \"Vlach\" is etymologically derived from the ethnonym of a Celtic tribe, adopted into Proto-Germanic *Walhaz which meant \"stranger\", from *Wolka\n",
            "  8% 931/11567 [02:10<22:13,  7.98it/s].  They had no time to rehearse a live performance except between takes on set<-  They had no time to rehearse a live performance except between takes on set.\n",
            "  8% 936/11567 [02:10<27:00,  6.56it/s].  \"Spanish Sahara\" was featured in trailers for season seven of Entourage, season four of Skins and Outcasts<-  \"Spanish Sahara\" was featured in trailers for season seven of Entourage, season four of Skins and Outcasts.\n",
            "  8% 949/11567 [02:12<23:57,  7.39it/s].  In 2001, Evans was the most-nominated artist at the Country Music Association awards with seven nominations overall<-  In 2001, Evans was the most-nominated artist at the Country Music Association awards with seven nominations overall,\n",
            "  9% 1023/11567 [02:21<20:56,  8.39it/s]mid-2003<-2003,\n",
            "  9% 1052/11567 [02:25<24:49,  7.06it/s]Awards<-Award\n",
            "  9% 1063/11567 [02:27<25:29,  6.87it/s].  \"LaBamba\" was also used as the butt of many of Conan's jokes<-  \"LaBamba\" was also used as the butt of many of Conan's jokes.\n",
            " 10% 1147/11567 [02:37<21:08,  8.21it/s]he grew up in a strict household where he had to be in bed every night by 9:00PM<-he grew up in a strict household where he had to be in bed every night by 9:\n",
            " 10% 1197/11567 [02:44<24:50,  6.96it/s].  Kovacs's first paid entertainment work was during 1941<-  Kovacs's first paid entertainment work was during 1941,\n",
            " 10% 1210/11567 [02:46<21:05,  8.18it/s]Ali<-Al\n",
            " 11% 1272/11567 [02:54<23:41,  7.24it/s].  Gingrich sought a rematch against Flynt in 1976<-  Gingrich sought a rematch against Flynt in 1976.\n",
            " 12% 1336/11567 [03:02<22:43,  7.50it/s]:  \"Sergeant Pepper<-  \"Sergeant Pepper\"\n",
            " 12% 1337/11567 [03:02<25:09,  6.78it/s]They<-The\n",
            " 12% 1342/11567 [03:03<24:31,  6.95it/s]in Saint Michael, Barbados--\"just outside the walls of [HM Prison] Glendairy\"--to<-in Saint Michael, Barbados--\"just outside the walls of [HM Prison] Glendairy\"--\n",
            " 12% 1347/11567 [03:03<24:29,  6.95it/s]Low-Life refined and sometimes mixed the two styles, brandishing \"The Perfect Kiss\"--the<-Low-Life refined and sometimes mixed the two styles, brandishing \"The Perfect Kiss\"--\n",
            " 12% 1389/11567 [03:08<22:57,  7.39it/s].  \"My Happiness\" peaked at number 23<-  \"My Happiness\" peaked at number 23\n",
            " 12% 1398/11567 [03:10<21:57,  7.72it/s]left fielder<-left field\n",
            " 12% 1409/11567 [03:11<22:16,  7.60it/s].  Sakamoto began working in films, as a composer and actor<-  Sakamoto began working in films, as a composer and actor,\n",
            " 12% 1440/11567 [03:15<22:01,  7.66it/s].  Mojo first appears in the Wolverine and the X-Men episode \"X-Calibre\" voiced by Charlie Adler<-  Mojo first appears in the Wolverine and the X-Men episode \"X-Calibre\" voiced by Charlie Adler.\n",
            " 12% 1444/11567 [03:16<26:45,  6.30it/s]PPR leadership<-PPR leaders\n",
            " 13% 1482/11567 [03:21<23:36,  7.12it/s].  In the 1917 season, Bell led Penn to a 9-2 record<-  In the 1917 season, Bell led Penn to a 9-2 record.\n",
            " 13% 1483/11567 [03:21<25:30,  6.59it/s]producers<-producer\n",
            " 13% 1500/11567 [03:23<23:16,  7.21it/s].  \"S.O.S. (Let the Music Play)\"<-  \"S.O.S. (Let the Music Play)\",\n",
            " 13% 1557/11567 [03:31<23:48,  7.01it/s]Members often visited Neshobe Island, a private island co-owned by several \"Algonks\"--but<-Members often visited Neshobe Island, a private island co-owned by several \"Algonks\"--\n",
            " 14% 1653/11567 [03:43<22:51,  7.23it/s].  \"I Feel It All\" was featured in the UK teen comedy The Inbetweeners<-  \"I Feel It All\" was featured in the UK teen comedy The Inbetweeners\n",
            " 14% 1660/11567 [03:44<22:40,  7.28it/s].  \"Mansize Rooster\", released in February 1995, peaked at number 20 in the UK Singles Chart<-  \"Mansize Rooster\", released in February 1995, peaked at number 20 in the UK Singles Chart\n",
            " 15% 1740/11567 [03:54<21:03,  7.78it/s].  Entertainment Weekly put Dempsey's hair on its end-of-the-decade \"best-of\" list<-  Entertainment Weekly put Dempsey's hair on its end-of-the-decade \"best-of\" list,\n",
            " 16% 1836/11567 [04:07<19:01,  8.52it/s]She started handing out pieces of wire that were just under one foot long (11.80 inches = 300 millimeters)--the<-She started handing out pieces of wire that were just under one foot long (11.80 inches = 300 millimeters)--\n",
            " 17% 1930/11567 [04:18<22:08,  7.25it/s]Wrestling<-in\n",
            " 17% 1940/11567 [04:19<21:35,  7.43it/s]Timur, mostly considered a barbarian, in fact was a well learned king, and did enjoy the company of scholars --he<-Timur, mostly considered a barbarian, in fact was a well learned king, and did enjoy the company of scholars --\n",
            " 17% 1959/11567 [04:22<17:54,  8.94it/s]guitarist<-guitar\n",
            " 17% 1966/11567 [04:23<20:32,  7.79it/s].  The album, Helplessness Blues, was released on<-  The album, Helplessness Blues, was released on\n",
            " 17% 1994/11567 [04:26<22:58,  6.95it/s]Stafford's tenure with the United Service Organizations (USO) during World War II--which often saw her perform for soldiers stationed in the U.S.--led<-Stafford's tenure with the United Service Organizations (USO) during World War II--which often saw her perform for soldiers stationed in the U.S.\n",
            " 18% 2030/11567 [04:31<19:07,  8.31it/s].  The band eventually decided to remain signed to Epitaph, and the next year released its third album<-  The band eventually decided to remain signed to Epitaph, and the next year released its third album\n",
            " 18% 2066/11567 [04:35<19:00,  8.33it/s]thing\"--Jones then proceeded to learn the drums and eventually formed the band, The Birthday<-Jones then proceeded to learn the drums and eventually formed the band, The Birthday Suit,\n",
            " 18% 2099/11567 [04:40<22:16,  7.08it/s].  \"Ooh La La\", the album's lead single<-  \"Ooh La La\", the album's lead single,\n",
            " 18% 2100/11567 [04:40<23:59,  6.58it/s].  McEntire released her third Christmas album My Kind of Christmas on September 2, 2016<-  McEntire released her third Christmas album My Kind of Christmas on September 2, 2016.\n",
            " 18% 2130/11567 [04:43<19:17,  8.15it/s].  Safran also presented segments for the Seven Network's now defunct Late Report<-  Safran also presented segments for the Seven Network's now defunct Late Report,\n",
            " 19% 2198/11567 [04:52<16:36,  9.40it/s]Wenceslas' death, four biographies of him were in circulation. These hagiographies had a powerful influence on the High Middle Ages conceptualization of the rex iustus, or \"righteous king\"--that<-Wenceslas' death, four biographies of him were in circulation. These hagiographies had a powerful influence on the High Middle Ages conceptualization of the rex iustus, or \"righteous king\n",
            " 20% 2336/11567 [05:10<20:07,  7.65it/s].  On 13 January 2010, Warp Records announced Oversteps, Autechre's tenth album. Originally slated to be released in March<-  On 13 January 2010, Warp Records announced Oversteps, Autechre's tenth album. Originally slated to be released in March,\n",
            " 20% 2355/11567 [05:13<22:04,  6.95it/s]The album--which included the macabre \"I Hold Your Hand in Mine\", the mildly risque \"Be Prepared\", and \"Lobachevsky\" (regarding plagiarizing mathematicians)--became<-The album--which included the macabre \"I Hold Your Hand in Mine\", the mildly risque \"Be Prepared\", and \"Lobachevsky\" (regarding plagiarizing mathematicians)--\n",
            " 21% 2398/11567 [05:18<20:11,  7.57it/s]Republicans<-Republican\n",
            " 21% 2423/11567 [05:22<22:06,  6.89it/s].  When in Los Angeles he trains at the Equinox Gym in Westwood and when at home in Marbella<-  When in Los Angeles he trains at the Equinox Gym in Westwood and when at home in Marbella,\n",
            " 21% 2479/11567 [05:29<18:24,  8.23it/s]For her live performances, which she calls dinner theatre because of her practice of throwing tea and tea-time snacks offstage, Autumn makes use of burlesque--\"a<-For her live performances, which she calls dinner theatre because of her practice of throwing tea and tea-time snacks offstage, Autumn makes use of burlesque--\"\n",
            " 22% 2546/11567 [05:38<20:22,  7.38it/s]Janis Lyn Joplin was born in Port Arthur, Texas, on (1943-01-19)January<-Janis Lyn Joplin was born in Port Arthur, Texas, on (1943-01-19)\n",
            " 22% 2550/11567 [05:38<19:45,  7.61it/s].  While Presley was performing \"Hound Dog\" on television and his record was scaling the charts<-  While Presley was performing \"Hound Dog\" on television and his record was scaling the charts,\n",
            " 22% 2558/11567 [05:39<20:36,  7.29it/s]India's first innings was declared at a point when Sachin Tendulkar was at 194 runs not out with 16 overs remaining on Day 2.In<-India's first innings was declared at a point when Sachin Tendulkar was at 194 runs not out with 16 overs remaining on Day 2.\n",
            "2.In this test match Sehwag scored triple century first time<-In this test match Sehwag scored triple century first time.\n",
            " 22% 2588/11567 [05:43<21:38,  6.92it/s].  Goddet had to get Sofil to produce another jersey overnight, its logo still visible but artificial fabric absent<-  Goddet had to get Sofil to produce another jersey overnight, its logo still visible but artificial fabric absent.\n",
            " 23% 2611/11567 [05:46<19:51,  7.52it/s].  Stewie attempts to be a good boy by smothering Brian with affection<-  Stewie attempts to be a good boy by smothering Brian with affection.\n",
            " 23% 2613/11567 [05:47<20:53,  7.14it/s]Valley. Both men admired the work of Rudyard Kipling--Cooper kept a copy of the poem \"If--<-Valley. Both men admired the work of Rudyard Kipling--Cooper kept a copy of the poem \"If\n",
            " 24% 2727/11567 [06:01<17:27,  8.44it/s].  Until the arrival of Andy Bell in the Autumn of 1999, White was the token southerner<-  Until the arrival of Andy Bell in the Autumn of 1999, White was the token southerner\n",
            " 24% 2761/11567 [06:05<19:50,  7.39it/s].  Contributing to Christian European rhetorical traditions, Hildegard \"authorized herself as a theologian\" through alternative rhetorical arts<-  Contributing to Christian European rhetorical traditions, Hildegard \"authorized herself as a theologian\" through alternative rhetorical arts.\n",
            " 24% 2801/11567 [06:10<19:32,  7.48it/s]anorak<-no\n",
            " 25% 2834/11567 [06:14<19:04,  7.63it/s].  In mid-2006, Songz began work on a follow-up album to his debut with longtime collaborator Troy Taylor<-  In mid-2006, Songz began work on a follow-up album to his debut with longtime collaborator Troy Taylor\n",
            " 25% 2864/11567 [06:18<18:23,  7.88it/s].  In more recent times, burlesque true to its literary origins is still performed in revues and sketches<-  In more recent times, burlesque true to its literary origins is still performed in revues and sketches.\n",
            " 27% 3083/11567 [06:46<21:13,  6.66it/s].  In 1995 Veneman re-entered government, when she was appointed Secretary of the California Department of Food and Agriculture<-  In 1995 Veneman re-entered government, when she was appointed Secretary of the California Department of Food and Agriculture,\n",
            " 28% 3258/11567 [07:08<18:08,  7.63it/s].  \"Despite growing evidence of remaining friction between the members,\" the band continued to tour in the early 2010s<-  \"Despite growing evidence of remaining friction between the members,\" the band continued to tour in the early 2010s.\n",
            " 28% 3262/11567 [07:08<18:19,  7.55it/s]90s\"--Shania Twain<-Shania Twain,\n",
            " 29% 3301/11567 [07:14<17:51,  7.72it/s].  In an early December 2009 interview with the Bergen Record, Brennan remarked, \"<-  In an early December 2009 interview with the Bergen Record, Brennan remarked, \"\n",
            " 29% 3348/11567 [07:19<15:25,  8.88it/s].  Some of Mies' curriculum is still put in practice in the first and second year programs at IIT<-  Some of Mies' curriculum is still put in practice in the first and second year programs at IIT,\n",
            " 29% 3351/11567 [07:20<15:35,  8.78it/s].  The consequences of the marginalist movement were profound for the study of economics, Unger says. The<-  The consequences of the marginalist movement were profound for the study of economics, Unger says. The\n",
            " 29% 3375/11567 [07:23<16:45,  8.15it/s].  Not one of his librettists managed to produce a libretto on the same artistic level as Rameau's music<-  Not one of his librettists managed to produce a libretto on the same artistic level as Rameau's music:\n",
            " 30% 3426/11567 [07:29<13:15, 10.24it/s]Eagle\"--he made for a very striking personality<-he made for a very striking personality.\n",
            " 30% 3508/11567 [07:40<20:46,  6.46it/s]playwright<-play\n",
            " 30% 3519/11567 [07:42<19:18,  6.95it/s].  \"One Way Ticket\", the first single from their second album, was released on 14 November 2005<-  \"One Way Ticket\", the first single from their second album, was released on 14 November 2005,\n",
            " 31% 3561/11567 [07:47<18:45,  7.11it/s].  In the early 1910s<-  In the early 1910s,\n",
            " 31% 3590/11567 [07:51<16:37,  8.00it/s].  Marquez achieved his first podium on 22 June<-  Marquez achieved his first podium on 22 June\n",
            " 33% 3787/11567 [08:16<20:17,  6.39it/s].  \"Feel It Still\" became the band's biggest hit single to date in the United States<-  \"Feel It Still\" became the band's biggest hit single to date in the United States,\n",
            ".  \"Feel It Still\" became the band's biggest hit single to date in the United States, reaching<-  \"Feel It Still\" became the band's biggest hit single to date in the United States, reaching\n",
            " 33% 3823/11567 [08:20<16:07,  8.00it/s].  He collapsed shortly after the 1859 commencement and died that summer<-  He collapsed shortly after the 1859 commencement and died that summer.\n",
            " 33% 3836/11567 [08:22<17:58,  7.17it/s]Six--\"Heretic\"<---\"Heretic\", \"\n",
            "Their first recordings were three songs that appeared on the 1986 compilation album for C/Z Records called Deep Six--\"Heretic<-Their first recordings were three songs that appeared on the 1986 compilation album for C/Z Records called Deep Six--\"\n",
            " 36% 4148/11567 [09:01<16:41,  7.40it/s]goaltenders<-goal\n",
            " 36% 4162/11567 [09:03<16:25,  7.51it/s].  He started his career as a poet at an early age, at<-  He started his career as a poet at an early age, at\n",
            ".  He started his career as a poet at an early age, at about 11 or 12 years old<-  He started his career as a poet at an early age, at about 11 or 12 years old.\n",
            " 37% 4239/11567 [09:13<17:35,  6.94it/s]He was nominated for three Golden Globe Awards, but did not win, but he was presented with two Special Achievement Awards--for Bambi (1942) and The Living Desert (1953)--and<-He was nominated for three Golden Globe Awards, but did not win, but he was presented with two Special Achievement Awards--for Bambi (1942) and The Living Desert (1953)--\n",
            " 38% 4386/11567 [09:33<14:35,  8.20it/s]:  [Mielke's] bank account, which held more than 300,000 marks (about US $187,500), was confiscated<-  [Mielke's] bank account, which held more than 300,000 marks (about US $187,500), was confiscated.\n",
            " 39% 4483/11567 [09:45<15:04,  7.83it/s].  He remained the First Deputy Prime Minister until November 2005<-  He remained the First Deputy Prime Minister until November 2005.\n",
            " 40% 4581/11567 [09:57<15:38,  7.44it/s].  Life Love & Other Mysteries has been one of their most successful albums to date<-  Life Love & Other Mysteries has been one of their most successful albums to date.\n",
            " 40% 4636/11567 [10:04<16:10,  7.14it/s].  \"Ooh La La\", the album's lead single<-  \"Ooh La La\", the album's lead single,\n",
            ".  \"Ooh La La\", the album's lead single, became Goldfrapp's first UK top five single<-  \"Ooh La La\", the album's lead single, became Goldfrapp's first UK top five single.\n",
            " 40% 4667/11567 [10:09<15:22,  7.48it/s].  \"Promise Me You'll Remember\", his contribution to the Godfather III soundtrack<-  \"Promise Me You'll Remember\", his contribution to the Godfather III soundtrack,\n",
            " 42% 4832/11567 [10:30<14:48,  7.58it/s].  \"He tried to make you see the psychosis below the surface, even when the parts weren't huge<-  \"He tried to make you see the psychosis below the surface, even when the parts weren't huge,\n",
            " 43% 4952/11567 [10:45<14:42,  7.50it/s]listenability<-ten\n",
            " 43% 4963/11567 [10:47<14:21,  7.66it/s]Loosely based on the TV program Your Hit Parade, the show counted down from #40 on the pop charts to #1--the<-Loosely based on the TV program Your Hit Parade, the show counted down from #40 on the pop charts to #1--\n",
            " 43% 5012/11567 [10:53<13:50,  7.90it/s].  \"I think he was the greatest directorial talent we've ever had in the [American] theater,\" Lloyd said<-  \"I think he was the greatest directorial talent we've ever had in the [American] theater,\" Lloyd said\n",
            " 44% 5092/11567 [11:04<16:55,  6.38it/s].  The band were sued by the parents of the Native American boy pictured on the cover of Ceremony<-  The band were sued by the parents of the Native American boy pictured on the cover of Ceremony,\n",
            " 44% 5107/11567 [11:06<15:13,  7.07it/s]--he was tolerant and generous<-he was tolerant and generous\n",
            " 44% 5121/11567 [11:08<13:19,  8.06it/s].  The final singles, \"Go Round/Yeah-Oh!\", were released in late March 2012, and continued the 100,000 sales streak in<-  The final singles, \"Go Round/Yeah-Oh!\", were released in late March 2012, and continued the 100,000 sales streak in\n",
            " 45% 5150/11567 [11:11<12:44,  8.39it/s].  In 1982 his best performance was second in the Amstel Gold Race behind Jan Raas<-  In 1982 his best performance was second in the Amstel Gold Race behind Jan Raas,\n",
            " 45% 5190/11567 [11:16<13:22,  7.94it/s]was certified platinum by the Recording Industry Association of America, following shipments in excess of one million copies in the U.S.<-was certified platinum by the Recording Industry Association of America, following shipments in excess of one million copies in the U.\n",
            ".  In 1994, his first significant success came in the form of the hit single \"U Will Know\"<-  In 1994, his first significant success came in the form of the hit single \"U Will Know\".\n",
            " 45% 5195/11567 [11:16<12:55,  8.21it/s].  Johnson's Ohana Charitable Foundation has also supported Little Kids Rock, a national nonprofit that works<-  Johnson's Ohana Charitable Foundation has also supported Little Kids Rock, a national nonprofit that works\n",
            " 48% 5530/11567 [11:58<10:34,  9.52it/s].  \"Ooh La La\"<-  \"Ooh La La\",\n",
            " 48% 5541/11567 [11:59<12:07,  8.28it/s]Around the same time, the Bee Gees recorded three Beatles covers--\"Golden<-Around the same time, the Bee Gees recorded three Beatles covers--\"\n",
            " 48% 5577/11567 [12:03<11:53,  8.39it/s].  Kulwicki moved from dirt tracks to paved tracks in 1977<-  Kulwicki moved from dirt tracks to paved tracks in 1977.\n",
            " 48% 5586/11567 [12:04<13:06,  7.61it/s].  \"My Happiness\" was attacked by some fans as being \"like Lauryn Hill, bland and boring Top 40 bullshit<-  \"My Happiness\" was attacked by some fans as being \"like Lauryn Hill, bland and boring Top 40 bullshit\n",
            " 48% 5587/11567 [12:05<13:34,  7.34it/s]Happiness\"--Cameron Adams argued in The Hobart Mercury that this was one of the reasons Powderfinger decided to focus on the offshore<-Cameron Adams argued in The Hobart Mercury that this was one of the reasons Powderfinger decided to focus on the offshore market.\n",
            " 48% 5597/11567 [12:06<14:53,  6.68it/s].  During his time at Virginia Military Institute, Maury wrote a book, entitled The Physical Geography of Virginia<-  During his time at Virginia Military Institute, Maury wrote a book, entitled The Physical Geography of Virginia.\n",
            " 48% 5603/11567 [12:07<13:23,  7.42it/s].  Stefani has been referred to as a \"Pop Princess\" by several contemporary music critics<-  Stefani has been referred to as a \"Pop Princess\" by several contemporary music critics.\n",
            " 48% 5608/11567 [12:07<12:42,  7.81it/s].  The slaves were classified into two groups: \"red\" slaves who spoke Afroasiatic languages, and \"black\" (\"Negroid\") slaves<-  The slaves were classified into two groups: \"red\" slaves who spoke Afroasiatic languages, and \"black\" (\"Negroid\") slaves\n",
            " 50% 5727/11567 [12:22<12:09,  8.00it/s].  \"Powhatan\" was also the name used by the natives to refer to the river<-  \"Powhatan\" was also the name used by the natives to refer to the river\n",
            ".  Powhatan County and its county seat at Powhatan, Virginia were honorific names established years later<-  Powhatan County and its county seat at Powhatan, Virginia were honorific names established years later,\n",
            " 50% 5749/11567 [12:25<15:09,  6.40it/s].  \"Let's Love\", was released as a single exclusively in Japan and used for a Toyota Motor Corporation commercial<-  \"Let's Love\", was released as a single exclusively in Japan and used for a Toyota Motor Corporation commercial.\n",
            " 50% 5770/11567 [12:27<12:34,  7.69it/s].  In 2016, McEntire was selected as one of thirty artists to perform on \"Forever Country<-  In 2016, McEntire was selected as one of thirty artists to perform on \"Forever Country\n",
            " 51% 5889/11567 [12:42<12:56,  7.31it/s].  \"Saturday Night\", which was released on March 22, 2005<-  \"Saturday Night\", which was released on March 22, 2005\n",
            " 52% 5971/11567 [12:53<13:12,  7.06it/s].  In 2006, she played Serena, a minor character in The Devil Wears Prada<-  In 2006, she played Serena, a minor character in The Devil Wears Prada.\n",
            " 53% 6124/11567 [13:13<11:14,  8.07it/s]1987<-87\n",
            "\"Temptation\" and \"Confusion\"--referred<-\"Temptation\" and \"Confusion\"--\n",
            " 53% 6166/11567 [13:19<12:03,  7.47it/s].  The 1996 release Illadelph Halflife was the group's first album to break the Top 40 on the<-  The 1996 release Illadelph Halflife was the group's first album to break the Top 40 on the\n",
            " 53% 6188/11567 [13:22<14:13,  6.30it/s]Director<-Direct\n",
            " 54% 6193/11567 [13:23<13:32,  6.61it/s].  Horses were one of the main means of long-distance transport<-  Horses were one of the main means of long-distance transport.\n",
            " 54% 6270/11567 [13:33<13:29,  6.54it/s].  Rammstein embarked on a live tour with Korn, Ice Cube, Orgy and Limp Bizkit called<-  Rammstein embarked on a live tour with Korn, Ice Cube, Orgy and Limp Bizkit called\n",
            " 54% 6271/11567 [13:33<13:45,  6.42it/s].  \"Ich will\", the third single from the album, was released on 10 September 2001<-  \"Ich will\", the third single from the album, was released on 10 September 2001\n",
            " 55% 6375/11567 [13:47<11:10,  7.74it/s].  Nabokov joined the staff of Wellesley College in 1941 as resident lecturer in comparative literature<-  Nabokov joined the staff of Wellesley College in 1941 as resident lecturer in comparative literature.\n",
            " 55% 6406/11567 [13:51<11:09,  7.71it/s]Congressional<-Congress\n",
            " 57% 6542/11567 [14:08<11:48,  7.09it/s]1922/1923<-1923,\n",
            " 57% 6554/11567 [14:10<11:35,  7.21it/s]hits--\"New Year\", \"Run for Cover\" and \"Soul Sound<---\"New Year\", \"Run for Cover\" and \"Soul Sound\".\n",
            " 57% 6568/11567 [14:12<10:23,  8.02it/s]Social Distortion was named for my distortion pedal, which I gave to Mike to play 'cause<-Social Distortion was named for my distortion pedal, which I gave to Mike to play '\n",
            "'cause back then he was no good.\" Ness met Dennis Danell, who was a year older, in high school and insisted he join the band<-cause back then he was no good.\" Ness met Dennis Danell, who was a year older, in high school and insisted he join the band\n",
            " 57% 6604/11567 [14:16<11:26,  7.23it/s].  Simon's characters often amuse the audience with sparkling \"zingers<-  Simon's characters often amuse the audience with sparkling \"zingers,\n",
            " 57% 6617/11567 [14:18<11:12,  7.36it/s].  \"Please, Please, Please\" was released in May 1956<-  \"Please, Please, Please\" was released in May 1956\n",
            " 58% 6687/11567 [14:26<09:38,  8.44it/s]The CIA stripped, hooded, shackled and sodomized el-Masri with a suppository--in CIA parlance, subjected him to \"capture shock\"--as<-The CIA stripped, hooded, shackled and sodomized el-Masri with a suppository--in CIA parlance, subjected him to \"capture shock\n",
            " 58% 6719/11567 [14:31<09:49,  8.23it/s]alongside<-long\n",
            " 59% 6796/11567 [14:40<11:36,  6.85it/s].  In 1966, Miami businessman Otis W. Shriver claimed he had dug up Osceola's grave<-  In 1966, Miami businessman Otis W. Shriver claimed he had dug up Osceola's grave\n",
            " 59% 6806/11567 [14:41<09:39,  8.22it/s]:  \"I didn't want to be a 75-year-old manager working seven days a week, 52 weeks a year<-  \"I didn't want to be a 75-year-old manager working seven days a week, 52 weeks a year.\n",
            " 60% 6891/11567 [14:52<10:47,  7.22it/s]-at the peak of their popularity and following a world tour<-at the peak of their popularity and following a world tour,\n",
            " 60% 6929/11567 [14:57<09:21,  8.26it/s].  At Bart and Lily's wedding at the end of Season 1<-  At Bart and Lily's wedding at the end of Season 1,\n",
            " 61% 7047/11567 [15:12<10:28,  7.19it/s]album--\"Want To\" and \"Settlin'\"--both<-Want To\" and \"Settlin'\"--\n",
            "Settlin'\"--both reached Number One on the country music<-both reached Number One on the country music charts,\n",
            " 61% 7053/11567 [15:13<09:27,  7.95it/s].  Longoria identifies as a \"Texican\" or Mexican-American<-  Longoria identifies as a \"Texican\" or Mexican-American.\n",
            " 61% 7072/11567 [15:15<10:18,  7.26it/s].  Tendulkar scored an unbeaten 194 against Pakistan at Multan in the following series<-  Tendulkar scored an unbeaten 194 against Pakistan at Multan in the following series.\n",
            " 62% 7118/11567 [15:21<10:25,  7.12it/s]Give\"--all peaked within the Top 5 on the country<-all peaked within the Top 5 on the country charts\n",
            "three singles released from the album--\"Nothin<-three singles released from the album\n",
            "album--\"Nothin' 'Bout Love Makes Sense<-Nothin' 'Bout Love Makes Sense\", \"\n",
            " 62% 7150/11567 [15:26<08:55,  8.25it/s].  Zuma's cause rallied large crowds of supporters at each of his corruption-related court appearances in 2005<-  Zuma's cause rallied large crowds of supporters at each of his corruption-related court appearances in 2005.\n",
            " 62% 7187/11567 [15:30<12:18,  5.93it/s].  \"My Happiness\" was attacked by some fans as being \"like Lauryn Hill, bland and boring Top 40 bullshit\"<-  \"My Happiness\" was attacked by some fans as being \"like Lauryn Hill, bland and boring Top 40 bullshit\";\n",
            " 63% 7274/11567 [15:41<10:00,  7.15it/s].  \"Officially Yours\" was released on 23 June 2008 and peaked at number 158 on the UK Singles Chart<-  \"Officially Yours\" was released on 23 June 2008 and peaked at number 158 on the UK Singles Chart,\n",
            " 63% 7336/11567 [15:49<09:55,  7.11it/s]50 first-class wickets at an average of 26.14<-50 first-class wickets at an average of 26.\n",
            " 63% 7343/11567 [15:50<12:29,  5.63it/s].  In 1987, Lennox and Stewart released the album Savage<-  In 1987, Lennox and Stewart released the album Savage.\n",
            " 64% 7350/11567 [15:51<09:16,  7.57it/s].  As a fast bowler, Khan reached the peak of his powers in 1982<-  As a fast bowler, Khan reached the peak of his powers in 1982.\n",
            " 64% 7369/11567 [15:53<09:51,  7.10it/s]mid-1976<-1976,\n",
            " 64% 7444/11567 [16:03<08:18,  8.27it/s].  In March 1999, they released their next album, A Man's Not a Camel<-  In March 1999, they released their next album, A Man's Not a Camel,\n",
            " 64% 7451/11567 [16:04<09:10,  7.48it/s].  \"Powhatan\" was also the name used by the natives to refer to the river where the town sat<-  \"Powhatan\" was also the name used by the natives to refer to the river where the town sat\n",
            " 65% 7472/11567 [16:07<07:49,  8.73it/s]Small  Nathan Explosion is the frontman, lead vocalist and \"lyrical visionary\" of Dethklok<-  Nathan Explosion is the frontman, lead vocalist and \"lyrical visionary\" of Dethklok.\n",
            " 65% 7482/11567 [16:08<09:34,  7.12it/s]Feinstein'...I'm in jail with my fur coat and nothing else on, and [the police officers] want to take pictures. I took a mug shot with every cop in the<-'...I'm in jail with my fur coat and nothing else on, and [the police officers] want to take pictures. I took a mug shot with every cop in the place,\n",
            " 65% 7572/11567 [16:20<07:39,  8.69it/s].  Working with Barrett eventually proved too difficult<-  Working with Barrett eventually proved too difficult,\n",
            " 66% 7595/11567 [16:23<09:11,  7.20it/s].  \"My Happiness\" peaked at number 23 on the Hot Modern Rock Tracks<-  \"My Happiness\" peaked at number 23 on the Hot Modern Rock Tracks,\n",
            " 66% 7617/11567 [16:26<10:15,  6.41it/s].  Watts began his college football career as the second-string quarterback<-  Watts began his college football career as the second-string quarterback\n",
            " 66% 7634/11567 [16:28<10:08,  6.47it/s].  In December, France's Commissariat a l'energie atomique agreed to provide a commercial 900MW power plant<-  In December, France's Commissariat a l'energie atomique agreed to provide a commercial 900MW power plant,\n",
            " 66% 7669/11567 [16:32<08:06,  8.01it/s].  Jones drove the engine until he transferred to Memphis in February 1900<-  Jones drove the engine until he transferred to Memphis in February 1900.\n",
            " 67% 7714/11567 [16:37<08:09,  7.88it/s]Punahou School--<-Punahou School\n",
            " 67% 7715/11567 [16:37<08:14,  7.79it/s]Indonesian<-Indonesia\n",
            " 67% 7716/11567 [16:37<08:02,  7.98it/s]\"As years passed, the case took on a life of its own, accruing novel additions to Gage's story without any factual basis\".[B]:678<-\"As years passed, the case took on a life of its own, accruing novel additions to Gage's story without any factual basis\".[\n",
            " 67% 7788/11567 [16:47<09:22,  6.72it/s]The spell momentarily turns her hair white and makes her glow--Kennedy calls her \"a goddess\"--and<-The spell momentarily turns her hair white and makes her glow--Kennedy calls her \"a goddess\"--\n",
            " 67% 7794/11567 [16:48<08:42,  7.22it/s]129<-12\n",
            " 69% 7928/11567 [17:06<07:49,  7.74it/s]-the largest contribution would go to the Bill and Melinda Gates Foundation<-the largest contribution would go to the Bill and Melinda Gates Foundation.\n",
            " 69% 7932/11567 [17:06<06:53,  8.78it/s]:  [T]hat's when I really learned some much farther-out voicings - like the harmonies I used on Speak Like<-  [T]hat's when I really learned some much farther-out voicings - like the harmonies I used on Speak Like\n",
            " 69% 7950/11567 [17:09<08:19,  7.25it/s]coaching<-coach\n",
            " 69% 7992/11567 [17:14<07:42,  7.72it/s]U.S. government desired a peaceful settlement to Red Cloud's War<-S. government desired a peaceful settlement to Red Cloud's War.\n",
            " 69% 7993/11567 [17:14<07:43,  7.70it/s]According to Clark, the lyrics were primarily his creation, with a minor contribution being Crosby's line, \"Rain grey town, known for its sound\"--a<-According to Clark, the lyrics were primarily his creation, with a minor contribution being Crosby's line, \"Rain grey town, known for its sound\"--\n",
            " 70% 8049/11567 [17:21<07:43,  7.59it/s].  In 1929, she made her first movie appearance, in the sound picture Honky Tonk<-  In 1929, she made her first movie appearance, in the sound picture Honky Tonk.\n",
            " 70% 8097/11567 [17:27<07:09,  8.08it/s].  Even after two operations, Bure did not play in 2003-04 due to the lingering effects of the knee<-  Even after two operations, Bure did not play in 2003-04 due to the lingering effects of the knee\n",
            " 70% 8122/11567 [17:30<08:00,  7.18it/s]albums<-album\n",
            " 70% 8141/11567 [17:32<06:58,  8.18it/s].  In February 1970, Vaughan joined a band called Liberation, which was a nine-piece group with a horn section<-  In February 1970, Vaughan joined a band called Liberation, which was a nine-piece group with a horn section.\n",
            " 71% 8227/11567 [17:43<07:55,  7.03it/s]WWE wrestlers<-WWE wrestler\n",
            " 72% 8291/11567 [17:51<07:34,  7.22it/s].  \"Dreaming\" and \"Godspeed\" reached #5 and #10 on the Billboard Dance Club Songs chart, respectively<-  \"Dreaming\" and \"Godspeed\" reached #5 and #10 on the Billboard Dance Club Songs chart, respectively,\n",
            " 72% 8351/11567 [17:59<06:09,  8.70it/s].  \"The baby is dead because of vodka mommy,\" Grace said during her June 11 show on HLN. \"<-  \"The baby is dead because of vodka mommy,\" Grace said during her June 11 show on HLN. \"\n",
            " 73% 8389/11567 [18:04<06:22,  8.31it/s].  Revival was nominated for the 1997 Grammy Award for Best Contemporary Folk Album<-  Revival was nominated for the 1997 Grammy Award for Best Contemporary Folk Album,\n",
            " 73% 8399/11567 [18:05<08:06,  6.51it/s]every vowel may take either high or low tone; in the orthography high tone is indicated by an acute accent, e.g.<-every vowel may take either high or low tone; in the orthography high tone is indicated by an acute accent, e.\n",
            " 73% 8461/11567 [18:14<07:31,  6.88it/s]Es ~Mr. Children in Film~.<-Es ~Mr. Children in Film\n",
            " 73% 8467/11567 [18:14<05:59,  8.63it/s].  In December 1994, Yousef had engaged in a test of a bomb on Philippine Airlines Flight 434<-  In December 1994, Yousef had engaged in a test of a bomb on Philippine Airlines Flight 434\n",
            " 73% 8499/11567 [18:18<06:13,  8.21it/s].  Iron Maiden had a strict and organised routine that suited the band's writing style<-  Iron Maiden had a strict and organised routine that suited the band's writing style,\n",
            " 74% 8550/11567 [18:24<05:27,  9.20it/s]for six consecutive weeks and ranking at No.34<-for six consecutive weeks and ranking at No.\n",
            " 74% 8555/11567 [18:25<07:07,  7.04it/s].  A traditional equine Comet is partially seen in Legion of Three Worlds #1<-  A traditional equine Comet is partially seen in Legion of Three Worlds #1.\n",
            " 74% 8609/11567 [18:32<05:54,  8.35it/s].  \"LaBamba\" was also used as the butt of many of Conan's jokes<-  \"LaBamba\" was also used as the butt of many of Conan's jokes.\n",
            " 75% 8728/11567 [18:46<06:00,  7.88it/s]He was then given his own show later that year, with Canada Dry Ginger Ale as a sponsor --The<-He was then given his own show later that year, with Canada Dry Ginger Ale as a sponsor --\n",
            " 77% 8931/11567 [19:12<05:08,  8.54it/s].  In September 1943, he was assigned to Torpedo Squadron (VT-51) as the photographic officer<-  In September 1943, he was assigned to Torpedo Squadron (VT-51) as the photographic officer.\n",
            " 78% 8965/11567 [19:17<05:22,  8.07it/s].  He was partly taught cricket by his grandfather, who helped to bring him up after his father's death<-  He was partly taught cricket by his grandfather, who helped to bring him up after his father's death.\n",
            " 78% 8967/11567 [19:17<05:41,  7.61it/s]705/7. He followed up the innings with an unbeaten 60 in the second innings of the Test<-7. He followed up the innings with an unbeaten 60 in the second innings of the Test.\n",
            " 78% 9022/11567 [19:25<05:43,  7.41it/s].  \"He Did With Me\", Lawrence's followup to \"The Night the Lights Went Out in Georgia\"<-  \"He Did With Me\", Lawrence's followup to \"The Night the Lights Went Out in Georgia\",\n",
            " 78% 9048/11567 [19:28<05:16,  7.96it/s]:  [The] GLF was a glorious, enthusiastic and often chaotic mix of anarchists, hippies, leftwingers, feminists, liberals and counter-culturalists<-  [The] GLF was a glorious, enthusiastic and often chaotic mix of anarchists, hippies, leftwingers, feminists, liberals and counter-culturalists.\n",
            " 79% 9164/11567 [19:43<05:23,  7.43it/s]mid-1943<-1943,\n",
            " 79% 9178/11567 [19:45<05:13,  7.62it/s].  Bryant received several awards for his outstanding performance during his senior year at Lower Merion<-  Bryant received several awards for his outstanding performance during his senior year at Lower Merion.\n",
            " 80% 9198/11567 [19:47<05:03,  7.81it/s].  \"He seemed preoccupied with football even on their honeymoon, and cut it short to get back to Englewood<-  \"He seemed preoccupied with football even on their honeymoon, and cut it short to get back to Englewood\n",
            " 80% 9207/11567 [19:48<05:15,  7.47it/s].  Yannis Philippakis stated that the recording process had some unconventional moments<-  Yannis Philippakis stated that the recording process had some unconventional moments:\n",
            " 80% 9208/11567 [19:49<05:49,  6.75it/s].  \"Spanish Sahara\" was featured in trailers for season seven of Entourage, season four of Skins and Outcasts<-  \"Spanish Sahara\" was featured in trailers for season seven of Entourage, season four of Skins and Outcasts.\n",
            " 80% 9214/11567 [19:49<04:33,  8.60it/s]mid-1990s, Isaac, Taylor and Zac sang a cappella and recorded such classic songs as \"Rockin' Robin\", \"Splish Splash\" and \"Johnny B. Goode<-1990s, Isaac, Taylor and Zac sang a cappella and recorded such classic songs as \"Rockin' Robin\", \"Splish Splash\" and \"Johnny B. Goode\",\n",
            " 81% 9335/11567 [20:05<04:22,  8.51it/s].  Over the course of the early 2000s, the band continued to tour and shuffle through members<-  Over the course of the early 2000s, the band continued to tour and shuffle through members.\n",
            " 81% 9368/11567 [20:09<05:05,  7.21it/s].  In January 1986 Israeli female teacher Leah Shakdiel was granted membership in the religious council of Yeruham<-  In January 1986 Israeli female teacher Leah Shakdiel was granted membership in the religious council of Yeruham,\n",
            " 81% 9396/11567 [20:13<04:42,  7.69it/s]1980s<-1980\n",
            " 81% 9400/11567 [20:13<05:01,  7.19it/s].  Warhol strongly influenced the new wave/punk rock band Devo<-  Warhol strongly influenced the new wave/punk rock band Devo,\n",
            " 82% 9466/11567 [20:22<04:40,  7.48it/s].  \"All Along the Watchtower\" became the band's highest-selling single and their only US top 40 hit<-  \"All Along the Watchtower\" became the band's highest-selling single and their only US top 40 hit,\n",
            " 82% 9500/11567 [20:26<04:38,  7.42it/s].  \"You Make Me Wanna...\" won the Best Male R&B/Soul Single at the 1999 Soul Train Music Awards<-  \"You Make Me Wanna...\" won the Best Male R&B/Soul Single at the 1999 Soul Train Music Awards.\n",
            " 82% 9506/11567 [20:27<04:30,  7.61it/s]--\"When a little Girl, I had a friend, who taught me Immortality - but venturing too near, himself - he never returned\"--refers<---\"When a little Girl, I had a friend, who taught me Immortality - but venturing too near, himself - he never returned\"--\n",
            " 82% 9527/11567 [20:30<05:13,  6.51it/s]Chileans<-Chilean\n",
            " 84% 9705/11567 [20:52<03:59,  7.79it/s].  Gryce was influenced by Tadd Dameron, with whom he played in 1953 at the Paradise Club<-  Gryce was influenced by Tadd Dameron, with whom he played in 1953 at the Paradise Club.\n",
            " 84% 9744/11567 [20:56<04:02,  7.51it/s].  Flutie won his first Grey Cup in 1992 with the Stampeders<-  Flutie won his first Grey Cup in 1992 with the Stampeders.\n",
            " 84% 9755/11567 [20:57<03:27,  8.73it/s].  In 1985, Nicklaus finished second to Curtis Strange in the Canadian Open<-  In 1985, Nicklaus finished second to Curtis Strange in the Canadian Open,\n",
            " 85% 9787/11567 [21:01<04:42,  6.31it/s].  \"Dreaming\" and \"Godspeed\" reached #5 and #10 on the Billboard Dance Club Songs chart, respectively<-  \"Dreaming\" and \"Godspeed\" reached #5 and #10 on the Billboard Dance Club Songs chart, respectively,\n",
            " 85% 9790/11567 [21:02<03:48,  7.79it/s]released<-as\n",
            " 85% 9854/11567 [21:12<04:15,  6.71it/s].  On September 23, 2016, Garnett announced his retirement after 21 seasons in the NBA<-  On September 23, 2016, Garnett announced his retirement after 21 seasons in the NBA.\n",
            " 86% 9958/11567 [21:25<03:34,  7.49it/s]pressure<-press\n",
            " 86% 9968/11567 [21:26<03:16,  8.14it/s].  In 1994, Brooks paid homage to one of his musical influences, Kiss, appearing on the tribute compilation<-  In 1994, Brooks paid homage to one of his musical influences, Kiss, appearing on the tribute compilation,\n",
            " 86% 9985/11567 [21:28<03:53,  6.76it/s].  Sharpton said in 2007 that he would not enter the 2008 presidential race<-  Sharpton said in 2007 that he would not enter the 2008 presidential race.\n",
            " 87% 10055/11567 [21:37<04:03,  6.22it/s]\"Don't Box Me In\" (UK Singles Chart n. 91)--a<-\"Don't Box Me In\" (UK Singles Chart n. 91)--\n",
            " 87% 10075/11567 [21:39<03:08,  7.90it/s]songs<-song\n",
            " 87% 10097/11567 [21:42<02:38,  9.25it/s].  During his semiretirement in the years 1740 to 1744, he wrote the Pieces de clavecin en concert<-  During his semiretirement in the years 1740 to 1744, he wrote the Pieces de clavecin en concert\n",
            " 87% 10107/11567 [21:43<03:10,  7.68it/s]contribute--\"New Potato Caboose\", \"Box of Rain\", \"Unbroken Chain\", and \"Pride of Cucamonga\"--are among the best<---\"New Potato Caboose\", \"Box of Rain\", \"Unbroken Chain\", and \"Pride of Cucamonga\"--are among the best-known\n",
            " 88% 10132/11567 [21:46<03:26,  6.95it/s]duet single, \"Nothing In Common\"/\"How<-duet single, \"Nothing In Common\n",
            " 88% 10221/11567 [21:58<02:52,  7.78it/s].  \"Your Love Is King\" was released as the album's lead single on 25 February 1984<-  \"Your Love Is King\" was released as the album's lead single on 25 February 1984\n",
            " 89% 10336/11567 [22:13<02:36,  7.85it/s]:  [Arnett's] firing was a direct result of Pentagon pressure<-  [Arnett's] firing was a direct result of Pentagon pressure.\n",
            " 89% 10350/11567 [22:14<02:44,  7.42it/s]She featured on \"Wonderful\"--with<-She featured on \"Wonderful\n",
            " 90% 10356/11567 [22:15<03:05,  6.53it/s].  Over the next two years, the group continued in varied line-ups<-  Over the next two years, the group continued in varied line-ups.\n",
            " 90% 10453/11567 [22:28<02:57,  6.29it/s]1930)--featuring Healy and his four Stooges<-featuring Healy and his four Stooges:\n",
            " 91% 10498/11567 [22:34<01:54,  9.32it/s].  In January 2009 plans were released for Smith to perform with Placido Domingo<-  In January 2009 plans were released for Smith to perform with Placido Domingo,\n",
            " 91% 10541/11567 [22:39<02:10,  7.83it/s].  Paul later received her law degree (LL.B) from the Washington College of Law at American University in 1922<-  Paul later received her law degree (LL.B) from the Washington College of Law at American University in 1922,\n",
            " 91% 10560/11567 [22:41<02:21,  7.10it/s].  The men will also have a party<-  The men will also have a party,\n",
            " 92% 10626/11567 [22:50<02:03,  7.65it/s].  He won the election in November 1998, narrowly (and unexpectedly) defeating the major-party candidates<-  He won the election in November 1998, narrowly (and unexpectedly) defeating the major-party candidates,\n",
            " 92% 10675/11567 [22:56<01:47,  8.30it/s].  On October 8, 2004, U.S. Representative Jim McDermott gave a speech in the House of Representatives<-  On October 8, 2004, U.S. Representative Jim McDermott gave a speech in the House of Representatives,\n",
            " 93% 10717/11567 [23:01<01:34,  8.99it/s]debuted on Netflix in September 2017.The<-debuted on Netflix in September 2017.\n",
            " 93% 10765/11567 [23:07<01:51,  7.22it/s]1980s<-1980\n",
            " 94% 10838/11567 [23:16<01:29,  8.19it/s].  His cathedral tomb was designed by the architects van Heyningen and Haward<-  His cathedral tomb was designed by the architects van Heyningen and Haward.\n",
            " 94% 10885/11567 [23:22<01:21,  8.40it/s].  Cornelius, Barnaby, and their dates arrive, unaware that Horace is also dining at the restaurant<-  Cornelius, Barnaby, and their dates arrive, unaware that Horace is also dining at the restaurant.\n",
            " 94% 10890/11567 [23:23<01:38,  6.86it/s].  He became a Christian in 1983 but it was years later before God came first in his life<-  He became a Christian in 1983 but it was years later before God came first in his life.\n",
            " 95% 10972/11567 [23:34<01:31,  6.53it/s]Rod Stewart and Woodman's friend Dave Curtiss)until<-Rod Stewart and Woodman's friend Dave Curtiss\n",
            " 95% 10994/11567 [23:36<01:12,  7.89it/s].  Heinlein also served aboard the destroyer USS Roper in 1933 and 1934, reaching the rank of lieutenant<-  Heinlein also served aboard the destroyer USS Roper in 1933 and 1934, reaching the rank of lieutenant.\n",
            " 96% 11070/11567 [23:46<01:13,  6.73it/s].  \"Kingyo Hanabi\" was the second single to be released after her first album<-  \"Kingyo Hanabi\" was the second single to be released after her first album.\n",
            " 96% 11100/11567 [23:50<00:51,  9.12it/s]They proposed that white men form clandestine paramilitary organizations--known as \"rifle clubs\"--and<-They proposed that white men form clandestine paramilitary organizations--known as \"rifle clubs\"--\n",
            " 96% 11148/11567 [23:56<01:01,  6.84it/s].  Petty appeared in the 1997 film The Postman, directed by and starring Kevin Costner<-  Petty appeared in the 1997 film The Postman, directed by and starring Kevin Costner,\n",
            " 97% 11213/11567 [24:05<00:47,  7.46it/s]developed<-eloped\n",
            " 97% 11274/11567 [24:13<00:34,  8.51it/s].  Conacher moved to the senior level in 1920 with the Toronto Rugby Club<-  Conacher moved to the senior level in 1920 with the Toronto Rugby Club\n",
            " 98% 11284/11567 [24:15<00:39,  7.23it/s].  Stefani has been referred to as a \"Pop Princess\" by several contemporary music critics<-  Stefani has been referred to as a \"Pop Princess\" by several contemporary music critics.\n",
            " 98% 11291/11567 [24:16<00:38,  7.21it/s].  Cousy grew bored with college basketball and returned to the NBA as coach<-  Cousy grew bored with college basketball and returned to the NBA as coach\n",
            " 98% 11347/11567 [24:23<00:27,  8.04it/s].  \"Iron Tusk\", the fifth track on the album<-  \"Iron Tusk\", the fifth track on the album,\n",
            " 99% 11443/11567 [24:35<00:17,  7.25it/s]strategy\"--Ali leaned against the ropes and absorbed punishment from Frazier, hoping to<-Ali leaned against the ropes and absorbed punishment from Frazier, hoping to tire him.\n",
            " 99% 11456/11567 [24:37<00:13,  8.11it/s].  Indurain was a strong time trialist, gaining on rivals and riding defensively in the climbing stages<-  Indurain was a strong time trialist, gaining on rivals and riding defensively in the climbing stages.\n",
            " 99% 11502/11567 [24:43<00:08,  7.24it/s].  \"Is Nothing Sacred?\" was released in 1992 by Surprise Video, compiling material from 1990-1991<-  \"Is Nothing Sacred?\" was released in 1992 by Surprise Video, compiling material from 1990-1991.\n",
            "100% 11517/11567 [24:45<00:06,  7.43it/s].  Ryan missed much of the 1967 season due to illness<-  Ryan missed much of the 1967 season due to illness,\n",
            "100% 11562/11567 [24:51<00:00,  7.45it/s].  He made his Japanese debut in 1970, billed as \"Monster Roussimoff\", wrestling for the International Wrestling Enterprise<-  He made his Japanese debut in 1970, billed as \"Monster Roussimoff\", wrestling for the International Wrestling Enterprise.\n",
            "100% 11567/11567 [24:52<00:00,  7.75it/s]\n",
            "  4% 43/1000 [00:07<02:23,  6.69it/s]I.D., who would later become a mentor to a young Kanye West<-D., who would later become a mentor to a young Kanye West.\n",
            "  8% 83/1000 [00:13<02:25,  6.29it/s]As Shula's family expanded--he had six siblings, including a set of triplets born in 1936--his<-As Shula's family expanded--he had six siblings, including a set of triplets born in 1936--\n",
            " 10% 103/1000 [00:17<02:11,  6.85it/s]'One of the main reasons I wanted to do the piece was to cast someone as Rose that was closer to Rose as she really existed,<-One of the main reasons I wanted to do the piece was to cast someone as Rose that was closer to Rose as she really existed,'\n",
            " 15% 149/1000 [00:24<01:59,  7.12it/s]language texts. This word, adjectival magavan meaning \"possessing maga-\", was once the premise that Avestan maga- and Median (i.e.<-language texts. This word, adjectival magavan meaning \"possessing maga-\", was once the premise that Avestan maga- and Median (i.\n",
            " 29% 289/1000 [00:46<01:49,  6.48it/s]Carey has hosted a series of mini-documentaries called The Drew Carey Project on Reason.tv<-Carey has hosted a series of mini-documentaries called The Drew Carey Project on Reason.\n",
            " 39% 392/1000 [01:04<01:36,  6.33it/s]P.O.D.'s third studio album, 1999's The Fundamental Elements of Southtown, spawned the hits \"Southtown\" and \"Rock the Party (Off the Hook)<-O.D.'s third studio album, 1999's The Fundamental Elements of Southtown, spawned the hits \"Southtown\" and \"Rock the Party (Off the Hook)\",\n",
            " 44% 440/1000 [01:12<01:29,  6.26it/s]Wake Me Up When September Ends\"--the<-Wake Me Up When September Ends\n",
            " 47% 468/1000 [01:16<01:27,  6.07it/s]Australians<-Australia\n",
            " 55% 546/1000 [01:29<01:22,  5.52it/s]--who one member described as the \"forerunner for Fat Freddys\"--provided<---who one member described as the \"forerunner for Fat Freddys\"--\n",
            "An established group from Kaikoura named Salmonella Dub--who one member described as the \"forerunner for Fat Freddys\"--provided<-An established group from Kaikoura named Salmonella Dub--who one member described as the \"forerunner for Fat Freddys\"--\n",
            " 57% 567/1000 [01:32<01:14,  5.82it/s]German musical<-German music\n",
            " 58% 581/1000 [01:34<01:09,  6.02it/s]songs<-son\n",
            "songs<-son\n",
            " 60% 597/1000 [01:37<01:06,  6.02it/s]R&B, hip-hop, and contemporary popular music<-&B, hip-hop, and contemporary popular music.\n",
            " 60% 605/1000 [01:39<01:02,  6.35it/s]T]he shock of the revelation was magnified because of Graham's longtime support of Israel and his refusal to join in calls for conversion of the Jews.<-]he shock of the revelation was magnified because of Graham's longtime support of Israel and his refusal to join in calls for conversion of the Jews.\"\n",
            " 61% 611/1000 [01:40<01:07,  5.72it/s]During her career, Ride served as the ground-based capsule communicator (CapCom) for the second and third space shuttle flights (STS-2 and STS-3<-During her career, Ride served as the ground-based capsule communicator (CapCom) for the second and third space shuttle flights (STS-2 and STS-\n",
            "Ride was assigned to NASA headquarters in Washington, D.C.<-Ride was assigned to NASA headquarters in Washington, D.\n",
            " 72% 725/1000 [01:58<00:42,  6.41it/s]Australian<-Australia\n",
            " 75% 752/1000 [02:03<00:41,  6.02it/s]mid-1995<-1995,\n",
            "mid-1995<-1995,\n",
            "mid-1995<-1995,\n",
            "mid-1995<-1995,\n",
            "mid-1995<-1995,\n",
            " 77% 766/1000 [02:05<00:33,  7.05it/s]under-17<-17\n",
            "under-17<-17\n",
            " 83% 834/1000 [02:15<00:22,  7.39it/s]became known for his critiques of public contemporary figures including Mother Teresa, Bill Clinton and Henry Kissinger--<-became known for his critiques of public contemporary figures including Mother Teresa, Bill Clinton and Henry Kissinger\n",
            "He became known for his critiques of public contemporary figures including Mother Teresa, Bill Clinton and Henry Kissinger--<-He became known for his critiques of public contemporary figures including Mother Teresa, Bill Clinton and Henry Kissinger\n",
            " 87% 874/1000 [02:21<00:19,  6.56it/s]homosexuality<-homosexual\n",
            "homosexuality<-homosexual\n",
            " 97% 971/1000 [02:36<00:04,  6.01it/s]2001<-20\n",
            " 98% 980/1000 [02:37<00:03,  6.59it/s]\"O'Donoghue's\"--released<-\"O'Donoghue's\n",
            "\"O'Donoghue's\"--released<-\"O'Donoghue's\"--\n",
            "\"O'Donoghue's\"--released<-\"O'Donoghue's\n",
            "Decades later, he recorded \"O'Donoghue's\"--released on the album Changing Trains (2004)--a<-Decades later, he recorded \"O'Donoghue's\"--released on the album Changing Trains (2004)--\n",
            "Decades later, he recorded \"O'Donoghue's\"--released<-Decades later, he recorded \"O'Donoghue's\"--\n",
            "he recorded \"O'Donoghue's\"--released on the album Changing Trains (2004)--a<-he recorded \"O'Donoghue's\"--released on the album Changing Trains (2004)--\n",
            "Decades later, he recorded \"O'Donoghue's\"--released<-Decades later, he recorded \"O'Donoghue's\"--\n",
            "he recorded \"O'Donoghue's\"--released on the album Changing Trains (2004)--a<-he recorded \"O'Donoghue's\"--released on the album Changing Trains (2004\n",
            " 99% 993/1000 [02:39<00:01,  6.34it/s]No.1: Two Virgins, an album of experimental musique concrete. The<-1: Two Virgins, an album of experimental musique concrete. The\n",
            "100% 1000/1000 [02:41<00:00,  6.21it/s]\n"
          ],
          "name": "stdout"
        }
      ]
    },
    {
      "cell_type": "code",
      "metadata": {
        "id": "-XEbNI3dikS8",
        "colab": {
          "base_uri": "https://localhost:8080/",
          "height": 398
        },
        "outputId": "f635a6cb-e317-4c35-df15-2439892637cf"
      },
      "source": [
        ""
      ],
      "execution_count": null,
      "outputs": [
        {
          "output_type": "error",
          "ename": "OSError",
          "evalue": "ignored",
          "traceback": [
            "\u001b[0;31m---------------------------------------------------------------------------\u001b[0m",
            "\u001b[0;31mOSError\u001b[0m                                   Traceback (most recent call last)",
            "\u001b[0;32m<ipython-input-1-b1e789f2aa3d>\u001b[0m in \u001b[0;36m<module>\u001b[0;34m()\u001b[0m\n\u001b[1;32m      1\u001b[0m \u001b[0;32mimport\u001b[0m \u001b[0mspacy\u001b[0m\u001b[0;34m\u001b[0m\u001b[0;34m\u001b[0m\u001b[0m\n\u001b[0;32m----> 2\u001b[0;31m \u001b[0mnlp\u001b[0m \u001b[0;34m=\u001b[0m \u001b[0mspacy\u001b[0m\u001b[0;34m.\u001b[0m\u001b[0mload\u001b[0m\u001b[0;34m(\u001b[0m\u001b[0;34m'en_core_web_trf'\u001b[0m\u001b[0;34m)\u001b[0m\u001b[0;34m\u001b[0m\u001b[0;34m\u001b[0m\u001b[0m\n\u001b[0m\u001b[1;32m      3\u001b[0m \u001b[0msentence\u001b[0m \u001b[0;34m=\u001b[0m \u001b[0mnlp\u001b[0m\u001b[0;34m(\u001b[0m\u001b[0;34m\"This is a sentence with sadsad words\"\u001b[0m\u001b[0;34m)\u001b[0m\u001b[0;34m\u001b[0m\u001b[0;34m\u001b[0m\u001b[0m\n\u001b[1;32m      4\u001b[0m \u001b[0mprint\u001b[0m\u001b[0;34m(\u001b[0m\u001b[0;34m[\u001b[0m\u001b[0mtoken\u001b[0m\u001b[0;34m.\u001b[0m\u001b[0mis_oov\u001b[0m \u001b[0;32mfor\u001b[0m \u001b[0mtoken\u001b[0m \u001b[0;32min\u001b[0m \u001b[0msentence\u001b[0m\u001b[0;34m]\u001b[0m\u001b[0;34m)\u001b[0m\u001b[0;34m\u001b[0m\u001b[0;34m\u001b[0m\u001b[0m\n\u001b[1;32m      5\u001b[0m \u001b[0mprint\u001b[0m\u001b[0;34m(\u001b[0m\u001b[0;34m[\u001b[0m\u001b[0mtoken\u001b[0m\u001b[0;34m.\u001b[0m\u001b[0mprob\u001b[0m \u001b[0;32mfor\u001b[0m \u001b[0mtoken\u001b[0m \u001b[0;32min\u001b[0m \u001b[0msentence\u001b[0m\u001b[0;34m]\u001b[0m\u001b[0;34m)\u001b[0m\u001b[0;34m\u001b[0m\u001b[0;34m\u001b[0m\u001b[0m\n",
            "\u001b[0;32m/usr/local/lib/python3.7/dist-packages/spacy/__init__.py\u001b[0m in \u001b[0;36mload\u001b[0;34m(name, **overrides)\u001b[0m\n\u001b[1;32m     28\u001b[0m     \u001b[0;32mif\u001b[0m \u001b[0mdepr_path\u001b[0m \u001b[0;32mnot\u001b[0m \u001b[0;32min\u001b[0m \u001b[0;34m(\u001b[0m\u001b[0;32mTrue\u001b[0m\u001b[0;34m,\u001b[0m \u001b[0;32mFalse\u001b[0m\u001b[0;34m,\u001b[0m \u001b[0;32mNone\u001b[0m\u001b[0;34m)\u001b[0m\u001b[0;34m:\u001b[0m\u001b[0;34m\u001b[0m\u001b[0;34m\u001b[0m\u001b[0m\n\u001b[1;32m     29\u001b[0m         \u001b[0mdeprecation_warning\u001b[0m\u001b[0;34m(\u001b[0m\u001b[0mWarnings\u001b[0m\u001b[0;34m.\u001b[0m\u001b[0mW001\u001b[0m\u001b[0;34m.\u001b[0m\u001b[0mformat\u001b[0m\u001b[0;34m(\u001b[0m\u001b[0mpath\u001b[0m\u001b[0;34m=\u001b[0m\u001b[0mdepr_path\u001b[0m\u001b[0;34m)\u001b[0m\u001b[0;34m)\u001b[0m\u001b[0;34m\u001b[0m\u001b[0;34m\u001b[0m\u001b[0m\n\u001b[0;32m---> 30\u001b[0;31m     \u001b[0;32mreturn\u001b[0m \u001b[0mutil\u001b[0m\u001b[0;34m.\u001b[0m\u001b[0mload_model\u001b[0m\u001b[0;34m(\u001b[0m\u001b[0mname\u001b[0m\u001b[0;34m,\u001b[0m \u001b[0;34m**\u001b[0m\u001b[0moverrides\u001b[0m\u001b[0;34m)\u001b[0m\u001b[0;34m\u001b[0m\u001b[0;34m\u001b[0m\u001b[0m\n\u001b[0m\u001b[1;32m     31\u001b[0m \u001b[0;34m\u001b[0m\u001b[0m\n\u001b[1;32m     32\u001b[0m \u001b[0;34m\u001b[0m\u001b[0m\n",
            "\u001b[0;32m/usr/local/lib/python3.7/dist-packages/spacy/util.py\u001b[0m in \u001b[0;36mload_model\u001b[0;34m(name, **overrides)\u001b[0m\n\u001b[1;32m    167\u001b[0m     \u001b[0;32melif\u001b[0m \u001b[0mhasattr\u001b[0m\u001b[0;34m(\u001b[0m\u001b[0mname\u001b[0m\u001b[0;34m,\u001b[0m \u001b[0;34m\"exists\"\u001b[0m\u001b[0;34m)\u001b[0m\u001b[0;34m:\u001b[0m  \u001b[0;31m# Path or Path-like to model data\u001b[0m\u001b[0;34m\u001b[0m\u001b[0;34m\u001b[0m\u001b[0m\n\u001b[1;32m    168\u001b[0m         \u001b[0;32mreturn\u001b[0m \u001b[0mload_model_from_path\u001b[0m\u001b[0;34m(\u001b[0m\u001b[0mname\u001b[0m\u001b[0;34m,\u001b[0m \u001b[0;34m**\u001b[0m\u001b[0moverrides\u001b[0m\u001b[0;34m)\u001b[0m\u001b[0;34m\u001b[0m\u001b[0;34m\u001b[0m\u001b[0m\n\u001b[0;32m--> 169\u001b[0;31m     \u001b[0;32mraise\u001b[0m \u001b[0mIOError\u001b[0m\u001b[0;34m(\u001b[0m\u001b[0mErrors\u001b[0m\u001b[0;34m.\u001b[0m\u001b[0mE050\u001b[0m\u001b[0;34m.\u001b[0m\u001b[0mformat\u001b[0m\u001b[0;34m(\u001b[0m\u001b[0mname\u001b[0m\u001b[0;34m=\u001b[0m\u001b[0mname\u001b[0m\u001b[0;34m)\u001b[0m\u001b[0;34m)\u001b[0m\u001b[0;34m\u001b[0m\u001b[0;34m\u001b[0m\u001b[0m\n\u001b[0m\u001b[1;32m    170\u001b[0m \u001b[0;34m\u001b[0m\u001b[0m\n\u001b[1;32m    171\u001b[0m \u001b[0;34m\u001b[0m\u001b[0m\n",
            "\u001b[0;31mOSError\u001b[0m: [E050] Can't find model 'en_core_web_trf'. It doesn't seem to be a shortcut link, a Python package or a valid path to a data directory."
          ]
        }
      ]
    },
    {
      "cell_type": "code",
      "metadata": {
        "id": "2re7jQ7Eje1-"
      },
      "source": [
        ""
      ],
      "execution_count": null,
      "outputs": []
    },
    {
      "cell_type": "code",
      "metadata": {
        "id": "VqxDTBxUufie",
        "colab": {
          "base_uri": "https://localhost:8080/"
        },
        "outputId": "fc2e4d1b-a439-4fae-bf18-6762adab2c06"
      },
      "source": [
        ""
      ],
      "execution_count": null,
      "outputs": [
        {
          "output_type": "stream",
          "text": [
            "2021-03-27 11:10:16.221841: I tensorflow/stream_executor/platform/default/dso_loader.cc:49] Successfully opened dynamic library libcudart.so.11.0\n",
            "\u001b[1m\n",
            "=================================== corpus ===================================\u001b[0m\n",
            "Running command: /usr/bin/python3 -m spacy convert /content/gdrive/MyDrive/mt-qg-data/01_data/preprocessedData/squad/sentences_conll corpus -c ner\n",
            "2021-03-27 11:10:19.235889: I tensorflow/stream_executor/platform/default/dso_loader.cc:49] Successfully opened dynamic library libcudart.so.11.0\n",
            "\u001b[38;5;4mℹ Auto-detected token-per-line NER format\u001b[0m\n",
            "\u001b[38;5;3m⚠ Document delimiters found, automatic document segmentation with `-n`\n",
            "disabled.\u001b[0m\n",
            "\u001b[38;5;2m✔ Generated output file (3913 documents): corpus/dev.spacy\u001b[0m\n",
            "\u001b[38;5;3m⚠ Document delimiters found, automatic document segmentation with `-n`\n",
            "disabled.\u001b[0m\n",
            "\u001b[38;5;2m✔ Generated output file (1204 documents): corpus/test.spacy\u001b[0m\n",
            "\u001b[38;5;3m⚠ Document delimiters found, automatic document segmentation with `-n`\n",
            "disabled.\u001b[0m\n",
            "\u001b[38;5;2m✔ Generated output file (15120 documents): corpus/train.spacy\u001b[0m\n"
          ],
          "name": "stdout"
        }
      ]
    },
    {
      "cell_type": "code",
      "metadata": {
        "colab": {
          "base_uri": "https://localhost:8080/"
        },
        "id": "hpWbwFaxFcXB",
        "outputId": "94b391be-e30d-4dbf-da9c-5ca52ebe192c"
      },
      "source": [
        ""
      ],
      "execution_count": null,
      "outputs": [
        {
          "output_type": "stream",
          "text": [
            "2021-03-27 11:11:03.360163: I tensorflow/stream_executor/platform/default/dso_loader.cc:49] Successfully opened dynamic library libcudart.so.11.0\n",
            "\u001b[38;5;2m✔ Auto-filled config with all values\u001b[0m\n",
            "\u001b[38;5;2m✔ Saved config\u001b[0m\n",
            "spacy_target_answer/configs/config.cfg\n",
            "You can now add your data and train your pipeline:\n",
            "python -m spacy train config.cfg --paths.train ./train.spacy --paths.dev ./dev.spacy\n",
            "2021-03-27 11:11:07.353538: I tensorflow/stream_executor/platform/default/dso_loader.cc:49] Successfully opened dynamic library libcudart.so.11.0\n",
            "\u001b[1m\n",
            "=================================== train ===================================\u001b[0m\n",
            "Running command: /usr/bin/python3 -m spacy train configs/config.cfg -o training/ --gpu-id 0 --paths.train corpus/train.spacy --paths.dev corpus/dev.spacy --output /content/gdrive/MyDrive/mt-qg-data/00_models/spacy_target_answer/squad/training\n",
            "2021-03-27 11:11:10.259414: I tensorflow/stream_executor/platform/default/dso_loader.cc:49] Successfully opened dynamic library libcudart.so.11.0\n",
            "\u001b[38;5;2m✔ Created output directory:\n",
            "/content/gdrive/MyDrive/mt-qg-data/00_models/spacy_target_answer/squad/training\u001b[0m\n",
            "\u001b[38;5;4mℹ Using GPU: 0\u001b[0m\n",
            "\u001b[1m\n",
            "=========================== Initializing pipeline ===========================\u001b[0m\n",
            "[2021-03-27 11:11:12,712] [INFO] Set up nlp object from config\n",
            "[2021-03-27 11:11:12,721] [INFO] Pipeline: ['transformer', 'ner']\n",
            "[2021-03-27 11:11:12,725] [INFO] Created vocabulary\n",
            "[2021-03-27 11:11:12,725] [INFO] Finished initializing nlp object\n",
            "[2021-03-27 11:11:55,631] [INFO] Initialized pipeline components: ['transformer', 'ner']\n",
            "\u001b[38;5;2m✔ Initialized pipeline\u001b[0m\n",
            "\u001b[1m\n",
            "============================= Training pipeline =============================\u001b[0m\n",
            "\u001b[38;5;4mℹ Pipeline: ['transformer', 'ner']\u001b[0m\n",
            "\u001b[38;5;4mℹ Initial learn rate: 0.0\u001b[0m\n",
            "E    #       LOSS TRANS...  LOSS NER  ENTS_F  ENTS_P  ENTS_R  SCORE \n",
            "---  ------  -------------  --------  ------  ------  ------  ------\n",
            "  0       0       12832.91    774.62    0.47    0.43    0.52    0.00\n",
            "  0     200      556276.41  57384.22    0.14    1.45    0.07    0.00\n",
            "  0     400       13060.00  23472.95   25.80   37.07   19.79    0.26\n",
            "  0     600       11588.24  21994.99    7.14   31.99    4.02    0.07\n",
            "  0     800       10832.90  21739.47   21.33   41.34   14.37    0.21\n",
            "  0    1000       10221.83  21665.24   23.14   39.78   16.32    0.23\n",
            "  1    1200        9674.52  21719.92   14.60   40.87    8.88    0.15\n",
            "  1    1400        9294.57  21925.92   27.34   39.33   20.95    0.27\n",
            "  1    1600        8386.03  21493.81   10.28   39.51    5.91    0.10\n",
            "  1    1800        7545.21  20996.13   20.84   42.82   13.77    0.21\n",
            "  1    2000        7318.21  21481.81   15.29   43.41    9.28    0.15\n",
            "  1    2200        6959.30  21334.94   28.27   40.09   21.83    0.28\n",
            "  2    2400        6481.60  20037.83   24.32   40.83   17.32    0.24\n",
            "  2    2600        6097.02  19365.20   20.32   42.70   13.34    0.20\n",
            "  2    2800        5812.87  19418.04   21.30   41.00   14.39    0.21\n",
            "  2    3000        6022.94  19939.43   27.73   39.84   21.27    0.28\n",
            "  2    3200        5425.68  19792.38   21.49   43.45   14.28    0.21\n",
            "  2    3400        5527.43  19977.48   29.54   36.94   24.61    0.30\n",
            "  3    3600        5310.73  18154.38   30.75   35.13   27.34    0.31\n",
            "  3    3800        5092.64  17585.64   23.27   40.27   16.37    0.23\n",
            "  3    4000        5204.43  17709.30   26.15   38.21   19.87    0.26\n",
            "  3    4200        5448.79  18493.13   30.47   35.10   26.92    0.30\n",
            "  3    4400        5465.51  17809.04   24.29   39.90   17.46    0.24\n",
            "  4    4600        5269.03  17879.11   27.22   36.43   21.73    0.27\n",
            "  4    4800        5339.29  15918.88   24.66   36.72   18.57    0.25\n",
            "  4    5000        5300.90  16411.74   28.43   32.99   24.97    0.28\n",
            "  4    5200        5244.18  15837.40   27.66   32.79   23.91    0.28\n",
            "\u001b[38;5;2m✔ Saved pipeline to output directory\u001b[0m\n",
            "/content/gdrive/MyDrive/mt-qg-data/00_models/spacy_target_answer/squad/training/model-last\n"
          ],
          "name": "stdout"
        }
      ]
    },
    {
      "cell_type": "code",
      "metadata": {
        "colab": {
          "base_uri": "https://localhost:8080/"
        },
        "id": "oRh9eY0_uGTM",
        "outputId": "b303a571-9cd5-41d0-8d00-fdae58f94b7e"
      },
      "source": [
        ""
      ],
      "execution_count": null,
      "outputs": [
        {
          "output_type": "stream",
          "text": [
            "2021-03-27 13:36:06.166435: I tensorflow/stream_executor/platform/default/dso_loader.cc:49] Successfully opened dynamic library libcudart.so.11.0\n",
            "\u001b[1m\n",
            "================================== evaluate ==================================\u001b[0m\n",
            "Running command: /usr/bin/python3 -m spacy evaluate /content/gdrive/MyDrive/mt-qg-data/00_models/spacy_target_answer/squad/training/model-best ./corpus/test.spacy --output /content/gdrive/MyDrive/mt-qg-data/00_models/spacy_target_answer/squad/metrics/config.json --gpu-id 0\n",
            "2021-03-27 13:36:09.065381: I tensorflow/stream_executor/platform/default/dso_loader.cc:49] Successfully opened dynamic library libcudart.so.11.0\n",
            "\u001b[38;5;4mℹ Using GPU: 0\u001b[0m\n",
            "\u001b[1m\n",
            "================================== Results ==================================\u001b[0m\n",
            "\n",
            "TOK     -    \n",
            "NER P   34.87\n",
            "NER R   20.64\n",
            "NER F   25.93\n",
            "SPEED   7541 \n",
            "\n",
            "\u001b[1m\n",
            "=============================== NER (per type) ===============================\u001b[0m\n",
            "\n",
            "             P       R       F\n",
            "Answer   34.87   20.64   25.93\n",
            "\n",
            "\u001b[38;5;2m✔ Saved results to\n",
            "/content/gdrive/MyDrive/mt-qg-data/00_models/spacy_target_answer/squad/metrics/config.json\u001b[0m\n"
          ],
          "name": "stdout"
        }
      ]
    },
    {
      "cell_type": "code",
      "metadata": {
        "colab": {
          "base_uri": "https://localhost:8080/",
          "height": 192
        },
        "id": "P_cnNeWqw_fO",
        "outputId": "f6737bbc-30ae-4af2-ce81-391fe6d86387"
      },
      "source": [
        "import spacy\n",
        "nlp = spacy.load('/content/gdrive/MyDrive/mt-qg-data/00_models/spacy_target_answer/squad/training/model-best')\n",
        "doc = nlp(u\"There are no major roads through Golm, only state road (Landesstraße) L 902 passes through the northern parts of the village area and offers the shortest connection to federal highway (Bundesstraße) 273. The latter can also be reached following a road extending east from Golm past Sanssouci Park to the Jägervorstadt quarter of Potsdam. The railway between Wildpark and Nauen was opened in 1902 as part of the single-tracked bypass railway (Umgehungsbahn) intended to connect the radial railway lines originating from Berlin. A station was established in Golm. In the 1950s this line became part of the Berlin outer ring and was double-tracked. Golm is now a passenger station for regional trains to Potsdam, Wustermark, Hennigsdorf, and Berlin Schönefeld Airport. Golm has also bus connections to Potsdam and Neu Töplitz and is included in fare zone C (Tarifbereich C)[2] of Berlin's public transport system and in fare zone B of Potsdam's public transport system.\")\n",
        "spacy.displacy.render(doc, style='ent', jupyter =True)"
      ],
      "execution_count": null,
      "outputs": [
        {
          "output_type": "display_data",
          "data": {
            "text/html": [
              "<span class=\"tex2jax_ignore\"><div class=\"entities\" style=\"line-height: 2.5; direction: ltr\">\n",
              "<mark class=\"entity\" style=\"background: #ddd; padding: 0.45em 0.6em; margin: 0 0.25em; line-height: 1; border-radius: 0.35em;\">\n",
              "    There are no major roads\n",
              "    <span style=\"font-size: 0.8em; font-weight: bold; line-height: 1; border-radius: 0.35em; vertical-align: middle; margin-left: 0.5rem\">Answer</span>\n",
              "</mark>\n",
              " \n",
              "<mark class=\"entity\" style=\"background: #ddd; padding: 0.45em 0.6em; margin: 0 0.25em; line-height: 1; border-radius: 0.35em;\">\n",
              "    through Golm, only state road (Landesstraße) L 902 passes through the northern parts of the village area and offers the shortest connection to federal highway (Bundesstraße) 273. The latter can also be reached following a road extending east from Golm past Sanssouci Park to the Jägervorstadt quarter of Potsdam. The railway between Wildpark and Nauen was opened in 1902 as part of the single-tracked bypass railway (Umgehungsbahn) intended to connect the radial railway lines originating from Berlin. A station was established in Golm. In the 1950s this line became part of the Berlin outer ring and was double-tracked. Golm is now a passenger station for regional trains\n",
              "    <span style=\"font-size: 0.8em; font-weight: bold; line-height: 1; border-radius: 0.35em; vertical-align: middle; margin-left: 0.5rem\">Answer</span>\n",
              "</mark>\n",
              " \n",
              "<mark class=\"entity\" style=\"background: #ddd; padding: 0.45em 0.6em; margin: 0 0.25em; line-height: 1; border-radius: 0.35em;\">\n",
              "    to Potsdam, Wustermark, Hennigsdorf, and Berlin Schönefeld Airport. Golm has also bus connections to Potsdam and Neu Töplitz and is included in fare zone C (Tarifbereich C)[2] of Berlin's public transport system and in fare zone B of Potsdam's public transport system.\n",
              "    <span style=\"font-size: 0.8em; font-weight: bold; line-height: 1; border-radius: 0.35em; vertical-align: middle; margin-left: 0.5rem\">Answer</span>\n",
              "</mark>\n",
              "</div></span>"
            ],
            "text/plain": [
              "<IPython.core.display.HTML object>"
            ]
          },
          "metadata": {
            "tags": []
          }
        }
      ]
    },
    {
      "cell_type": "code",
      "metadata": {
        "id": "jlLHvqhn5u62",
        "colab": {
          "base_uri": "https://localhost:8080/"
        },
        "outputId": "982f933e-e7ec-4a97-c13c-c984d005273f"
      },
      "source": [
        ""
      ],
      "execution_count": null,
      "outputs": [
        {
          "output_type": "stream",
          "text": [
            "Requirement already satisfied: thinc in /usr/local/lib/python3.7/dist-packages (8.0.2)\n",
            "Requirement already satisfied: murmurhash<1.1.0,>=0.28.0 in /usr/local/lib/python3.7/dist-packages (from thinc) (1.0.5)\n",
            "Requirement already satisfied: numpy>=1.15.0 in /usr/local/lib/python3.7/dist-packages (from thinc) (1.19.5)\n",
            "Requirement already satisfied: srsly<3.0.0,>=2.4.0 in /usr/local/lib/python3.7/dist-packages (from thinc) (2.4.0)\n",
            "Requirement already satisfied: pydantic<1.8.0,>=1.7.1 in /usr/local/lib/python3.7/dist-packages (from thinc) (1.7.3)\n",
            "Requirement already satisfied: wasabi<1.1.0,>=0.8.1 in /usr/local/lib/python3.7/dist-packages (from thinc) (0.8.2)\n",
            "Requirement already satisfied: setuptools in /usr/local/lib/python3.7/dist-packages (from thinc) (54.2.0)\n",
            "Requirement already satisfied: typing-extensions<4.0.0.0,>=3.7.4.1 in /usr/local/lib/python3.7/dist-packages (from thinc) (3.7.4.3)\n",
            "Requirement already satisfied: cymem<2.1.0,>=2.0.2 in /usr/local/lib/python3.7/dist-packages (from thinc) (2.0.5)\n",
            "Requirement already satisfied: catalogue<2.1.0,>=2.0.1 in /usr/local/lib/python3.7/dist-packages (from thinc) (2.0.1)\n",
            "Requirement already satisfied: preshed<3.1.0,>=3.0.2 in /usr/local/lib/python3.7/dist-packages (from thinc) (3.0.5)\n",
            "Requirement already satisfied: blis<0.8.0,>=0.4.0 in /usr/local/lib/python3.7/dist-packages (from thinc) (0.4.1)\n",
            "Requirement already satisfied: importlib-metadata>=0.20 in /usr/local/lib/python3.7/dist-packages (from catalogue<2.1.0,>=2.0.1->thinc) (3.7.2)\n",
            "Requirement already satisfied: zipp>=0.5 in /usr/local/lib/python3.7/dist-packages (from importlib-metadata>=0.20->catalogue<2.1.0,>=2.0.1->thinc) (3.4.1)\n"
          ],
          "name": "stdout"
        }
      ]
    },
    {
      "cell_type": "code",
      "metadata": {
        "id": "0SDMhZ6H6hpp"
      },
      "source": [
        ""
      ],
      "execution_count": null,
      "outputs": []
    }
  ]
}