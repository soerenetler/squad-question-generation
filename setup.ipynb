{
  "nbformat": 4,
  "nbformat_minor": 0,
  "metadata": {
    "orig_nbformat": 2,
    "colab": {
      "name": "setup.ipynb",
      "provenance": []
    },
    "kernelspec": {
      "name": "python3",
      "display_name": "Python 3"
    },
    "accelerator": "GPU"
  },
  "cells": [
    {
      "cell_type": "code",
      "metadata": {
        "id": "1v_oQY0ciH-C",
        "colab": {
          "base_uri": "https://localhost:8080/"
        },
        "outputId": "f6ec391b-6276-4f3b-9bec-950cf14a9738"
      },
      "source": [
        "import os\n",
        "os.system(\"git clone https://github.com/soerenetler/squad-question-generation.git\")\n",
        "os.system(\"git clone https://github.com/soerenetler/spacy_target_answer.git\")\n",
        "\n",
        "from google.colab import drive\n",
        "drive.mount('/content/gdrive')"
      ],
      "execution_count": 1,
      "outputs": [
        {
          "output_type": "stream",
          "text": [
            "Mounted at /content/gdrive\n"
          ],
          "name": "stdout"
        }
      ]
    },
    {
      "cell_type": "code",
      "metadata": {
        "colab": {
          "base_uri": "https://localhost:8080/"
        },
        "id": "LV0knGnkAs1c",
        "outputId": "46d734b7-c0ae-4c98-f86b-3ca2ded616f0"
      },
      "source": [
        "!(cd spacy_target_answer; git pull)\r\n",
        "!(cd squad-question-generation/; git pull)"
      ],
      "execution_count": 19,
      "outputs": [
        {
          "output_type": "stream",
          "text": [
            "remote: Enumerating objects: 5, done.\u001b[K\n",
            "remote: Counting objects:  20% (1/5)\u001b[K\rremote: Counting objects:  40% (2/5)\u001b[K\rremote: Counting objects:  60% (3/5)\u001b[K\rremote: Counting objects:  80% (4/5)\u001b[K\rremote: Counting objects: 100% (5/5)\u001b[K\rremote: Counting objects: 100% (5/5), done.\u001b[K\n",
            "remote: Compressing objects: 100% (1/1)\u001b[K\rremote: Compressing objects: 100% (1/1), done.\u001b[K\n",
            "remote: Total 3 (delta 2), reused 3 (delta 2), pack-reused 0\u001b[K\n",
            "Unpacking objects:  33% (1/3)   \rUnpacking objects:  66% (2/3)   \rUnpacking objects: 100% (3/3)   \rUnpacking objects: 100% (3/3), done.\n",
            "From https://github.com/soerenetler/spacy_target_answer\n",
            "   5763ec3..646defe  master     -> origin/master\n",
            "Updating 5763ec3..646defe\n",
            "Fast-forward\n",
            " project.yml | 4 \u001b[32m++\u001b[m\u001b[31m--\u001b[m\n",
            " 1 file changed, 2 insertions(+), 2 deletions(-)\n",
            "Already up to date.\n"
          ],
          "name": "stdout"
        }
      ]
    },
    {
      "cell_type": "code",
      "metadata": {
        "colab": {
          "base_uri": "https://localhost:8080/"
        },
        "id": "yjPWdFiiI4xi",
        "outputId": "e2b34761-2373-41d4-a67a-a3f823d1c754"
      },
      "source": [
        "!nvidia-smi"
      ],
      "execution_count": 3,
      "outputs": [
        {
          "output_type": "stream",
          "text": [
            "Sat Mar 20 14:38:29 2021       \n",
            "+-----------------------------------------------------------------------------+\n",
            "| NVIDIA-SMI 460.56       Driver Version: 460.32.03    CUDA Version: 11.2     |\n",
            "|-------------------------------+----------------------+----------------------+\n",
            "| GPU  Name        Persistence-M| Bus-Id        Disp.A | Volatile Uncorr. ECC |\n",
            "| Fan  Temp  Perf  Pwr:Usage/Cap|         Memory-Usage | GPU-Util  Compute M. |\n",
            "|                               |                      |               MIG M. |\n",
            "|===============================+======================+======================|\n",
            "|   0  Tesla K80           Off  | 00000000:00:04.0 Off |                    0 |\n",
            "| N/A   31C    P8    28W / 149W |      0MiB / 11441MiB |      0%      Default |\n",
            "|                               |                      |                  N/A |\n",
            "+-------------------------------+----------------------+----------------------+\n",
            "                                                                               \n",
            "+-----------------------------------------------------------------------------+\n",
            "| Processes:                                                                  |\n",
            "|  GPU   GI   CI        PID   Type   Process name                  GPU Memory |\n",
            "|        ID   ID                                                   Usage      |\n",
            "|=============================================================================|\n",
            "|  No running processes found                                                 |\n",
            "+-----------------------------------------------------------------------------+\n"
          ],
          "name": "stdout"
        }
      ]
    },
    {
      "cell_type": "code",
      "metadata": {
        "colab": {
          "base_uri": "https://localhost:8080/"
        },
        "id": "HXgEs_qGIxz-",
        "outputId": "4e97db18-5ef3-4feb-b358-5e6f985740ec"
      },
      "source": [
        "!pip install --quiet -U pip setuptools wheel"
      ],
      "execution_count": 4,
      "outputs": [
        {
          "output_type": "stream",
          "text": [
            "\u001b[?25l\r\u001b[K     |▏                               | 10kB 23.5MB/s eta 0:00:01\r\u001b[K     |▍                               | 20kB 23.6MB/s eta 0:00:01\r\u001b[K     |▋                               | 30kB 17.5MB/s eta 0:00:01\r\u001b[K     |▉                               | 40kB 15.2MB/s eta 0:00:01\r\u001b[K     |█                               | 51kB 11.6MB/s eta 0:00:01\r\u001b[K     |█▎                              | 61kB 13.2MB/s eta 0:00:01\r\u001b[K     |█▌                              | 71kB 11.7MB/s eta 0:00:01\r\u001b[K     |█▊                              | 81kB 12.7MB/s eta 0:00:01\r\u001b[K     |██                              | 92kB 11.8MB/s eta 0:00:01\r\u001b[K     |██▏                             | 102kB 10.7MB/s eta 0:00:01\r\u001b[K     |██▍                             | 112kB 10.7MB/s eta 0:00:01\r\u001b[K     |██▌                             | 122kB 10.7MB/s eta 0:00:01\r\u001b[K     |██▊                             | 133kB 10.7MB/s eta 0:00:01\r\u001b[K     |███                             | 143kB 10.7MB/s eta 0:00:01\r\u001b[K     |███▏                            | 153kB 10.7MB/s eta 0:00:01\r\u001b[K     |███▍                            | 163kB 10.7MB/s eta 0:00:01\r\u001b[K     |███▋                            | 174kB 10.7MB/s eta 0:00:01\r\u001b[K     |███▉                            | 184kB 10.7MB/s eta 0:00:01\r\u001b[K     |████                            | 194kB 10.7MB/s eta 0:00:01\r\u001b[K     |████▎                           | 204kB 10.7MB/s eta 0:00:01\r\u001b[K     |████▌                           | 215kB 10.7MB/s eta 0:00:01\r\u001b[K     |████▊                           | 225kB 10.7MB/s eta 0:00:01\r\u001b[K     |█████                           | 235kB 10.7MB/s eta 0:00:01\r\u001b[K     |█████                           | 245kB 10.7MB/s eta 0:00:01\r\u001b[K     |█████▎                          | 256kB 10.7MB/s eta 0:00:01\r\u001b[K     |█████▌                          | 266kB 10.7MB/s eta 0:00:01\r\u001b[K     |█████▊                          | 276kB 10.7MB/s eta 0:00:01\r\u001b[K     |██████                          | 286kB 10.7MB/s eta 0:00:01\r\u001b[K     |██████▏                         | 296kB 10.7MB/s eta 0:00:01\r\u001b[K     |██████▍                         | 307kB 10.7MB/s eta 0:00:01\r\u001b[K     |██████▋                         | 317kB 10.7MB/s eta 0:00:01\r\u001b[K     |██████▉                         | 327kB 10.7MB/s eta 0:00:01\r\u001b[K     |███████                         | 337kB 10.7MB/s eta 0:00:01\r\u001b[K     |███████▎                        | 348kB 10.7MB/s eta 0:00:01\r\u001b[K     |███████▌                        | 358kB 10.7MB/s eta 0:00:01\r\u001b[K     |███████▋                        | 368kB 10.7MB/s eta 0:00:01\r\u001b[K     |███████▉                        | 378kB 10.7MB/s eta 0:00:01\r\u001b[K     |████████                        | 389kB 10.7MB/s eta 0:00:01\r\u001b[K     |████████▎                       | 399kB 10.7MB/s eta 0:00:01\r\u001b[K     |████████▌                       | 409kB 10.7MB/s eta 0:00:01\r\u001b[K     |████████▊                       | 419kB 10.7MB/s eta 0:00:01\r\u001b[K     |█████████                       | 430kB 10.7MB/s eta 0:00:01\r\u001b[K     |█████████▏                      | 440kB 10.7MB/s eta 0:00:01\r\u001b[K     |█████████▍                      | 450kB 10.7MB/s eta 0:00:01\r\u001b[K     |█████████▋                      | 460kB 10.7MB/s eta 0:00:01\r\u001b[K     |█████████▉                      | 471kB 10.7MB/s eta 0:00:01\r\u001b[K     |██████████                      | 481kB 10.7MB/s eta 0:00:01\r\u001b[K     |██████████▏                     | 491kB 10.7MB/s eta 0:00:01\r\u001b[K     |██████████▍                     | 501kB 10.7MB/s eta 0:00:01\r\u001b[K     |██████████▋                     | 512kB 10.7MB/s eta 0:00:01\r\u001b[K     |██████████▉                     | 522kB 10.7MB/s eta 0:00:01\r\u001b[K     |███████████                     | 532kB 10.7MB/s eta 0:00:01\r\u001b[K     |███████████▎                    | 542kB 10.7MB/s eta 0:00:01\r\u001b[K     |███████████▌                    | 552kB 10.7MB/s eta 0:00:01\r\u001b[K     |███████████▊                    | 563kB 10.7MB/s eta 0:00:01\r\u001b[K     |████████████                    | 573kB 10.7MB/s eta 0:00:01\r\u001b[K     |████████████▏                   | 583kB 10.7MB/s eta 0:00:01\r\u001b[K     |████████████▍                   | 593kB 10.7MB/s eta 0:00:01\r\u001b[K     |████████████▋                   | 604kB 10.7MB/s eta 0:00:01\r\u001b[K     |████████████▊                   | 614kB 10.7MB/s eta 0:00:01\r\u001b[K     |█████████████                   | 624kB 10.7MB/s eta 0:00:01\r\u001b[K     |█████████████▏                  | 634kB 10.7MB/s eta 0:00:01\r\u001b[K     |█████████████▍                  | 645kB 10.7MB/s eta 0:00:01\r\u001b[K     |█████████████▋                  | 655kB 10.7MB/s eta 0:00:01\r\u001b[K     |█████████████▉                  | 665kB 10.7MB/s eta 0:00:01\r\u001b[K     |██████████████                  | 675kB 10.7MB/s eta 0:00:01\r\u001b[K     |██████████████▎                 | 686kB 10.7MB/s eta 0:00:01\r\u001b[K     |██████████████▌                 | 696kB 10.7MB/s eta 0:00:01\r\u001b[K     |██████████████▊                 | 706kB 10.7MB/s eta 0:00:01\r\u001b[K     |███████████████                 | 716kB 10.7MB/s eta 0:00:01\r\u001b[K     |███████████████▏                | 727kB 10.7MB/s eta 0:00:01\r\u001b[K     |███████████████▎                | 737kB 10.7MB/s eta 0:00:01\r\u001b[K     |███████████████▌                | 747kB 10.7MB/s eta 0:00:01\r\u001b[K     |███████████████▊                | 757kB 10.7MB/s eta 0:00:01\r\u001b[K     |████████████████                | 768kB 10.7MB/s eta 0:00:01\r\u001b[K     |████████████████▏               | 778kB 10.7MB/s eta 0:00:01\r\u001b[K     |████████████████▍               | 788kB 10.7MB/s eta 0:00:01\r\u001b[K     |████████████████▋               | 798kB 10.7MB/s eta 0:00:01\r\u001b[K     |████████████████▉               | 808kB 10.7MB/s eta 0:00:01\r\u001b[K     |█████████████████               | 819kB 10.7MB/s eta 0:00:01\r\u001b[K     |█████████████████▎              | 829kB 10.7MB/s eta 0:00:01\r\u001b[K     |█████████████████▌              | 839kB 10.7MB/s eta 0:00:01\r\u001b[K     |█████████████████▊              | 849kB 10.7MB/s eta 0:00:01\r\u001b[K     |█████████████████▉              | 860kB 10.7MB/s eta 0:00:01\r\u001b[K     |██████████████████              | 870kB 10.7MB/s eta 0:00:01\r\u001b[K     |██████████████████▎             | 880kB 10.7MB/s eta 0:00:01\r\u001b[K     |██████████████████▌             | 890kB 10.7MB/s eta 0:00:01\r\u001b[K     |██████████████████▊             | 901kB 10.7MB/s eta 0:00:01\r\u001b[K     |███████████████████             | 911kB 10.7MB/s eta 0:00:01\r\u001b[K     |███████████████████▏            | 921kB 10.7MB/s eta 0:00:01\r\u001b[K     |███████████████████▍            | 931kB 10.7MB/s eta 0:00:01\r\u001b[K     |███████████████████▋            | 942kB 10.7MB/s eta 0:00:01\r\u001b[K     |███████████████████▉            | 952kB 10.7MB/s eta 0:00:01\r\u001b[K     |████████████████████            | 962kB 10.7MB/s eta 0:00:01\r\u001b[K     |████████████████████▎           | 972kB 10.7MB/s eta 0:00:01\r\u001b[K     |████████████████████▍           | 983kB 10.7MB/s eta 0:00:01\r\u001b[K     |████████████████████▋           | 993kB 10.7MB/s eta 0:00:01\r\u001b[K     |████████████████████▉           | 1.0MB 10.7MB/s eta 0:00:01\r\u001b[K     |█████████████████████           | 1.0MB 10.7MB/s eta 0:00:01\r\u001b[K     |█████████████████████▎          | 1.0MB 10.7MB/s eta 0:00:01\r\u001b[K     |█████████████████████▌          | 1.0MB 10.7MB/s eta 0:00:01\r\u001b[K     |█████████████████████▊          | 1.0MB 10.7MB/s eta 0:00:01\r\u001b[K     |██████████████████████          | 1.1MB 10.7MB/s eta 0:00:01\r\u001b[K     |██████████████████████▏         | 1.1MB 10.7MB/s eta 0:00:01\r\u001b[K     |██████████████████████▍         | 1.1MB 10.7MB/s eta 0:00:01\r\u001b[K     |██████████████████████▋         | 1.1MB 10.7MB/s eta 0:00:01\r\u001b[K     |██████████████████████▉         | 1.1MB 10.7MB/s eta 0:00:01\r\u001b[K     |███████████████████████         | 1.1MB 10.7MB/s eta 0:00:01\r\u001b[K     |███████████████████████▏        | 1.1MB 10.7MB/s eta 0:00:01\r\u001b[K     |███████████████████████▍        | 1.1MB 10.7MB/s eta 0:00:01\r\u001b[K     |███████████████████████▋        | 1.1MB 10.7MB/s eta 0:00:01\r\u001b[K     |███████████████████████▉        | 1.1MB 10.7MB/s eta 0:00:01\r\u001b[K     |████████████████████████        | 1.2MB 10.7MB/s eta 0:00:01\r\u001b[K     |████████████████████████▎       | 1.2MB 10.7MB/s eta 0:00:01\r\u001b[K     |████████████████████████▌       | 1.2MB 10.7MB/s eta 0:00:01\r\u001b[K     |████████████████████████▊       | 1.2MB 10.7MB/s eta 0:00:01\r\u001b[K     |█████████████████████████       | 1.2MB 10.7MB/s eta 0:00:01\r\u001b[K     |█████████████████████████▏      | 1.2MB 10.7MB/s eta 0:00:01\r\u001b[K     |█████████████████████████▍      | 1.2MB 10.7MB/s eta 0:00:01\r\u001b[K     |█████████████████████████▌      | 1.2MB 10.7MB/s eta 0:00:01\r\u001b[K     |█████████████████████████▊      | 1.2MB 10.7MB/s eta 0:00:01\r\u001b[K     |██████████████████████████      | 1.2MB 10.7MB/s eta 0:00:01\r\u001b[K     |██████████████████████████▏     | 1.3MB 10.7MB/s eta 0:00:01\r\u001b[K     |██████████████████████████▍     | 1.3MB 10.7MB/s eta 0:00:01\r\u001b[K     |██████████████████████████▋     | 1.3MB 10.7MB/s eta 0:00:01\r\u001b[K     |██████████████████████████▉     | 1.3MB 10.7MB/s eta 0:00:01\r\u001b[K     |███████████████████████████     | 1.3MB 10.7MB/s eta 0:00:01\r\u001b[K     |███████████████████████████▎    | 1.3MB 10.7MB/s eta 0:00:01\r\u001b[K     |███████████████████████████▌    | 1.3MB 10.7MB/s eta 0:00:01\r\u001b[K     |███████████████████████████▊    | 1.3MB 10.7MB/s eta 0:00:01\r\u001b[K     |███████████████████████████▉    | 1.3MB 10.7MB/s eta 0:00:01\r\u001b[K     |████████████████████████████    | 1.4MB 10.7MB/s eta 0:00:01\r\u001b[K     |████████████████████████████▎   | 1.4MB 10.7MB/s eta 0:00:01\r\u001b[K     |████████████████████████████▌   | 1.4MB 10.7MB/s eta 0:00:01\r\u001b[K     |████████████████████████████▊   | 1.4MB 10.7MB/s eta 0:00:01\r\u001b[K     |█████████████████████████████   | 1.4MB 10.7MB/s eta 0:00:01\r\u001b[K     |█████████████████████████████▏  | 1.4MB 10.7MB/s eta 0:00:01\r\u001b[K     |█████████████████████████████▍  | 1.4MB 10.7MB/s eta 0:00:01\r\u001b[K     |█████████████████████████████▋  | 1.4MB 10.7MB/s eta 0:00:01\r\u001b[K     |█████████████████████████████▉  | 1.4MB 10.7MB/s eta 0:00:01\r\u001b[K     |██████████████████████████████  | 1.4MB 10.7MB/s eta 0:00:01\r\u001b[K     |██████████████████████████████▎ | 1.5MB 10.7MB/s eta 0:00:01\r\u001b[K     |██████████████████████████████▍ | 1.5MB 10.7MB/s eta 0:00:01\r\u001b[K     |██████████████████████████████▋ | 1.5MB 10.7MB/s eta 0:00:01\r\u001b[K     |██████████████████████████████▉ | 1.5MB 10.7MB/s eta 0:00:01\r\u001b[K     |███████████████████████████████ | 1.5MB 10.7MB/s eta 0:00:01\r\u001b[K     |███████████████████████████████▎| 1.5MB 10.7MB/s eta 0:00:01\r\u001b[K     |███████████████████████████████▌| 1.5MB 10.7MB/s eta 0:00:01\r\u001b[K     |███████████████████████████████▊| 1.5MB 10.7MB/s eta 0:00:01\r\u001b[K     |████████████████████████████████| 1.5MB 10.7MB/s eta 0:00:01\r\u001b[K     |████████████████████████████████| 1.5MB 10.7MB/s \n",
            "\u001b[?25h"
          ],
          "name": "stdout"
        }
      ]
    },
    {
      "cell_type": "code",
      "metadata": {
        "colab": {
          "base_uri": "https://localhost:8080/"
        },
        "id": "1m6YK0fTI0j2",
        "outputId": "9b9abea9-c52f-42dd-f14f-a576d7614f4d"
      },
      "source": [
        "!pip install --quiet -U spacy[cuda110,transformers,lookups]"
      ],
      "execution_count": 5,
      "outputs": [
        {
          "output_type": "stream",
          "text": [
            "\u001b[K     |████████████████████████████████| 12.8 MB 206 kB/s \n",
            "\u001b[K     |████████████████████████████████| 9.1 MB 49.2 MB/s \n",
            "\u001b[K     |████████████████████████████████| 456 kB 24.8 MB/s \n",
            "\u001b[K     |████████████████████████████████| 1.1 MB 45.8 MB/s \n",
            "\u001b[K     |████████████████████████████████| 165.3 MB 43 kB/s \n",
            "\u001b[K     |████████████████████████████████| 93.4 MB 17 kB/s \n",
            "\u001b[K     |████████████████████████████████| 113 kB 50.7 MB/s \n",
            "\u001b[K     |████████████████████████████████| 977 kB 40.6 MB/s \n",
            "\u001b[K     |████████████████████████████████| 1.8 MB 39.7 MB/s \n",
            "\u001b[K     |████████████████████████████████| 66 kB 4.1 MB/s \n",
            "\u001b[K     |████████████████████████████████| 883 kB 39.7 MB/s \n",
            "\u001b[K     |████████████████████████████████| 2.9 MB 44.2 MB/s \n",
            "\u001b[?25h  Building wheel for smart-open (setup.py) ... \u001b[?25l\u001b[?25hdone\n",
            "  Building wheel for ftfy (setup.py) ... \u001b[?25l\u001b[?25hdone\n",
            "  Building wheel for torchcontrib (setup.py) ... \u001b[?25l\u001b[?25hdone\n",
            "  Building wheel for sacremoses (setup.py) ... \u001b[?25l\u001b[?25hdone\n"
          ],
          "name": "stdout"
        }
      ]
    },
    {
      "cell_type": "code",
      "metadata": {
        "colab": {
          "base_uri": "https://localhost:8080/"
        },
        "id": "N__oOtlnI8t8",
        "outputId": "b1c32831-1b20-4439-d20d-38e55c2e7c84"
      },
      "source": [
        "!python -m spacy download en_core_web_sm --quiet\r\n",
        "!python -m spacy download en_core_web_trf --quiet"
      ],
      "execution_count": 6,
      "outputs": [
        {
          "output_type": "stream",
          "text": [
            "2021-03-20 14:39:35.892775: I tensorflow/stream_executor/platform/default/dso_loader.cc:49] Successfully opened dynamic library libcudart.so.11.0\n",
            "\u001b[K     |████████████████████████████████| 13.7 MB 75 kB/s \n",
            "\u001b[?25h\u001b[38;5;2m✔ Download and installation successful\u001b[0m\n",
            "You can now load the package via spacy.load('en_core_web_sm')\n",
            "2021-03-20 14:39:46.239444: I tensorflow/stream_executor/platform/default/dso_loader.cc:49] Successfully opened dynamic library libcudart.so.11.0\n",
            "\u001b[K     |████████████████████████████████| 459.7 MB 17 kB/s \n",
            "\u001b[?25h\u001b[38;5;2m✔ Download and installation successful\u001b[0m\n",
            "You can now load the package via spacy.load('en_core_web_trf')\n"
          ],
          "name": "stdout"
        }
      ]
    },
    {
      "cell_type": "code",
      "metadata": {
        "colab": {
          "base_uri": "https://localhost:8080/"
        },
        "id": "0sMcLq1RSiVC",
        "outputId": "587a72a3-c0e7-4d1c-e38c-02553a583af7"
      },
      "source": [
        "!spacy validate"
      ],
      "execution_count": 7,
      "outputs": [
        {
          "output_type": "stream",
          "text": [
            "2021-03-20 14:40:25.834340: I tensorflow/stream_executor/platform/default/dso_loader.cc:49] Successfully opened dynamic library libcudart.so.11.0\n",
            "\u001b[2K\u001b[38;5;2m✔ Loaded compatibility table\u001b[0m\n",
            "\u001b[1m\n",
            "================= Installed pipeline packages (spaCy v3.0.5) =================\u001b[0m\n",
            "\u001b[38;5;4mℹ spaCy installation: /usr/local/lib/python3.7/dist-packages/spacy\u001b[0m\n",
            "\n",
            "NAME              SPACY            VERSION                            \n",
            "en_core_web_trf   >=3.0.0,<3.1.0   \u001b[38;5;2m3.0.0\u001b[0m   \u001b[38;5;2m✔\u001b[0m\n",
            "en_core_web_sm    >=3.0.0,<3.1.0   \u001b[38;5;2m3.0.0\u001b[0m   \u001b[38;5;2m✔\u001b[0m\n",
            "\n"
          ],
          "name": "stdout"
        }
      ]
    },
    {
      "cell_type": "code",
      "metadata": {
        "id": "DKANy0iZiIv8",
        "colab": {
          "base_uri": "https://localhost:8080/"
        },
        "outputId": "044f125b-f4bc-4802-ef8e-7769a892c98e"
      },
      "source": [
        "# PREPROCESSING\r\n",
        "!python3 squad-question-generation/02_preprocessing/preprocessing.py"
      ],
      "execution_count": 12,
      "outputs": [
        {
          "output_type": "stream",
          "text": [
            "2021-03-20 15:45:21.088020: I tensorflow/stream_executor/platform/default/dso_loader.cc:49] Successfully opened dynamic library libcudart.so.11.0\n",
            "  0% 22/11567 [00:05<40:50,  4.71it/s].  Life in Hell became popular almost immediately. In<-  Life in Hell became popular almost immediately. In\n",
            "  0% 53/11567 [00:11<38:58,  4.92it/s].  In 2013, she played a special participation role in Apoy Sa Dagat as young Odessa<-  In 2013, she played a special participation role in Apoy Sa Dagat as young Odessa,\n",
            "  1% 94/11567 [00:19<35:19,  5.41it/s].  At the university, he decided to take acting classes and took up theatre as his minor<-  At the university, he decided to take acting classes and took up theatre as his minor.\n",
            "  1% 104/11567 [00:21<34:07,  5.60it/s]Bill and Charlie carried on as a duo, eventually winning spots performing live on radio stations--<-Bill and Charlie carried on as a duo, eventually winning spots performing live on radio stations\n",
            "  1% 142/11567 [00:28<32:29,  5.86it/s].  Clarkson lent her voice in the computer-animated film, The Star<-  Clarkson lent her voice in the computer-animated film, The Star\n",
            "  1% 171/11567 [00:34<41:57,  4.53it/s].  \"My Happiness\" peaked at number 23 on the Hot Modern Rock Tracks<-  \"My Happiness\" peaked at number 23 on the Hot Modern Rock Tracks,\n",
            "  2% 178/11567 [00:36<47:49,  3.97it/s].  After recording 11 albums with the group, Martin left Menudo in July 1989, at age 17<-  After recording 11 albums with the group, Martin left Menudo in July 1989, at age 17,\n",
            "  2% 270/11567 [00:55<40:24,  4.66it/s].  Jackson joined trumpeter Wadada Leo Smith's Golden Quartet with pianist Vijay Iyer and double-bassist John Lindberg in 2005<-  Jackson joined trumpeter Wadada Leo Smith's Golden Quartet with pianist Vijay Iyer and double-bassist John Lindberg in 2005.\n",
            "  3% 379/11567 [01:16<38:06,  4.89it/s].  (T)his Alumni Game has provided an opportunity to rebuild ... once-burnt bridges<-  (T)his Alumni Game has provided an opportunity to rebuild ... once-burnt bridges.\n",
            "  3% 397/11567 [01:20<29:35,  6.29it/s].  \"Say Goodbye to Hollywood\" was a minor hit; Ronnie Spector recorded a cover<-  \"Say Goodbye to Hollywood\" was a minor hit; Ronnie Spector recorded a cover\n",
            "  4% 426/11567 [01:25<38:44,  4.79it/s].  Vince Piazza's own hopes of playing baseball had ended at the age of 16 when he left school<-  Vince Piazza's own hopes of playing baseball had ended at the age of 16 when he left school\n",
            "  4% 434/11567 [01:27<47:08,  3.94it/s].  \"Hold On\" was awarded a Billboard Music Award for \"#1 R&B Single of the Year<-  \"Hold On\" was awarded a Billboard Music Award for \"#1 R&B Single of the Year,\n",
            "  4% 448/11567 [01:30<36:14,  5.11it/s]This<-his\n",
            "  4% 476/11567 [01:35<37:38,  4.91it/s].  Leno immediately accepted the return to 11:35 p.m.<-  Leno immediately accepted the return to 11:35 p.m.,\n",
            "  5% 571/11567 [01:54<38:41,  4.74it/s].  \"Despite growing evidence of remaining friction between the members,\" the band continued to tour in the early 2010s<-  \"Despite growing evidence of remaining friction between the members,\" the band continued to tour in the early 2010s.\n",
            "  5% 605/11567 [02:00<39:49,  4.59it/s].  He followed in 1990 with a very different film, The Rainbow Thief. Though it gave Jodorowsky<-  He followed in 1990 with a very different film, The Rainbow Thief. Though it gave Jodorowsky\n",
            "  5% 635/11567 [02:06<39:40,  4.59it/s].  He never lost a race in the 100 yard or 100 meter competitions<-  He never lost a race in the 100 yard or 100 meter competitions,\n",
            "  6% 657/11567 [02:11<36:20,  5.00it/s].  In October 1968, McKernan and Weir were nearly fired from the band<-  In October 1968, McKernan and Weir were nearly fired from the band\n",
            "  6% 672/11567 [02:14<35:34,  5.10it/s].  Skelton went on the air with his own radio show, The Raleigh Cigarette Program<-  Skelton went on the air with his own radio show, The Raleigh Cigarette Program,\n",
            "  6% 686/11567 [02:16<30:05,  6.03it/s].  \"Would You Go with Me<-  \"Would You Go with Me\"\n",
            "  7% 752/11567 [02:28<29:21,  6.14it/s]Nothing<-No\n",
            "  7% 802/11567 [02:38<42:09,  4.26it/s].  In 2003, he teamed with singer Ronald Isley to release the album Here I Am<-  In 2003, he teamed with singer Ronald Isley to release the album Here I Am,\n",
            "  7% 817/11567 [02:40<33:53,  5.29it/s].  Dixon is considered one of the key figures in the creation of Chicago blues<-  Dixon is considered one of the key figures in the creation of Chicago blues.\n",
            "  7% 826/11567 [02:42<37:28,  4.78it/s].  The second single taken from their second album was \"Is It Just Me?\", released on 20 February 2006<-  The second single taken from their second album was \"Is It Just Me?\", released on 20 February 2006.\n",
            "  8% 882/11567 [02:54<33:14,  5.36it/s]The word \"Vlach\" is etymologically derived from the ethnonym of a Celtic tribe, adopted into Proto-Germanic *Walhaz which meant \"stranger\", from *Wolka-<-The word \"Vlach\" is etymologically derived from the ethnonym of a Celtic tribe, adopted into Proto-Germanic *Walhaz which meant \"stranger\", from *Wolka\n",
            "  8% 932/11567 [03:04<30:04,  5.89it/s].  They had no time to rehearse a live performance except between takes on set<-  They had no time to rehearse a live performance except between takes on set.\n",
            "  8% 936/11567 [03:05<40:08,  4.41it/s].  \"Spanish Sahara\" was featured in trailers for season seven of Entourage, season four of Skins and Outcasts<-  \"Spanish Sahara\" was featured in trailers for season seven of Entourage, season four of Skins and Outcasts.\n",
            "  8% 949/11567 [03:07<36:57,  4.79it/s].  In 2001, Evans was the most-nominated artist at the Country Music Association awards with seven nominations overall<-  In 2001, Evans was the most-nominated artist at the Country Music Association awards with seven nominations overall,\n",
            "  9% 1023/11567 [03:21<30:30,  5.76it/s]mid-2003<-2003,\n",
            "  9% 1052/11567 [03:27<36:27,  4.81it/s]Awards<-Award\n",
            "  9% 1063/11567 [03:29<37:16,  4.70it/s].  \"LaBamba\" was also used as the butt of many of Conan's jokes<-  \"LaBamba\" was also used as the butt of many of Conan's jokes.\n",
            " 10% 1147/11567 [03:45<32:29,  5.34it/s]he grew up in a strict household where he had to be in bed every night by 9:00PM<-he grew up in a strict household where he had to be in bed every night by 9:\n",
            " 10% 1197/11567 [03:55<37:20,  4.63it/s].  Kovacs's first paid entertainment work was during 1941<-  Kovacs's first paid entertainment work was during 1941,\n",
            " 10% 1210/11567 [03:58<31:41,  5.45it/s]Ali<-Al\n",
            " 11% 1272/11567 [04:09<34:48,  4.93it/s].  Gingrich sought a rematch against Flynt in 1976<-  Gingrich sought a rematch against Flynt in 1976.\n",
            " 12% 1336/11567 [04:21<32:28,  5.25it/s]:  \"Sergeant Pepper<-  \"Sergeant Pepper\"\n",
            " 12% 1337/11567 [04:22<36:50,  4.63it/s]They<-The\n",
            " 12% 1342/11567 [04:23<36:37,  4.65it/s]in Saint Michael, Barbados--\"just outside the walls of [HM Prison] Glendairy\"--to<-in Saint Michael, Barbados--\"just outside the walls of [HM Prison] Glendairy\"--\n",
            " 12% 1347/11567 [04:24<34:39,  4.91it/s]Low-Life refined and sometimes mixed the two styles, brandishing \"The Perfect Kiss\"--the<-Low-Life refined and sometimes mixed the two styles, brandishing \"The Perfect Kiss\"--\n",
            " 12% 1389/11567 [04:31<34:23,  4.93it/s].  \"My Happiness\" peaked at number 23<-  \"My Happiness\" peaked at number 23\n",
            " 12% 1398/11567 [04:33<31:31,  5.38it/s]left fielder<-left field\n",
            " 12% 1409/11567 [04:35<31:03,  5.45it/s].  Sakamoto began working in films, as a composer and actor<-  Sakamoto began working in films, as a composer and actor,\n",
            " 12% 1440/11567 [04:41<33:57,  4.97it/s].  Mojo first appears in the Wolverine and the X-Men episode \"X-Calibre\" voiced by Charlie Adler<-  Mojo first appears in the Wolverine and the X-Men episode \"X-Calibre\" voiced by Charlie Adler.\n",
            " 12% 1444/11567 [04:42<39:08,  4.31it/s]PPR leadership<-PPR leaders\n",
            " 13% 1482/11567 [04:49<34:42,  4.84it/s].  In the 1917 season, Bell led Penn to a 9-2 record<-  In the 1917 season, Bell led Penn to a 9-2 record.\n",
            " 13% 1483/11567 [04:49<37:14,  4.51it/s]producers<-producer\n",
            " 13% 1500/11567 [04:53<34:02,  4.93it/s].  \"S.O.S. (Let the Music Play)\"<-  \"S.O.S. (Let the Music Play)\",\n",
            " 13% 1557/11567 [05:04<34:23,  4.85it/s]Members often visited Neshobe Island, a private island co-owned by several \"Algonks\"--but<-Members often visited Neshobe Island, a private island co-owned by several \"Algonks\"--\n",
            " 14% 1653/11567 [05:23<34:21,  4.81it/s].  \"I Feel It All\" was featured in the UK teen comedy The Inbetweeners<-  \"I Feel It All\" was featured in the UK teen comedy The Inbetweeners\n",
            " 14% 1660/11567 [05:24<34:21,  4.81it/s].  \"Mansize Rooster\", released in February 1995, peaked at number 20 in the UK Singles Chart<-  \"Mansize Rooster\", released in February 1995, peaked at number 20 in the UK Singles Chart\n",
            " 15% 1740/11567 [05:39<29:31,  5.55it/s].  Entertainment Weekly put Dempsey's hair on its end-of-the-decade \"best-of\" list<-  Entertainment Weekly put Dempsey's hair on its end-of-the-decade \"best-of\" list,\n",
            " 16% 1836/11567 [05:57<27:41,  5.86it/s]She started handing out pieces of wire that were just under one foot long (11.80 inches = 300 millimeters)--the<-She started handing out pieces of wire that were just under one foot long (11.80 inches = 300 millimeters)--\n",
            " 17% 1931/11567 [06:14<30:42,  5.23it/s]Wrestling<-in\n",
            " 17% 1940/11567 [06:16<32:50,  4.89it/s]Timur, mostly considered a barbarian, in fact was a well learned king, and did enjoy the company of scholars --he<-Timur, mostly considered a barbarian, in fact was a well learned king, and did enjoy the company of scholars --\n",
            " 17% 1959/11567 [06:20<25:46,  6.21it/s]guitarist<-guitar\n",
            " 17% 1966/11567 [06:21<31:34,  5.07it/s].  The album, Helplessness Blues, was released on<-  The album, Helplessness Blues, was released on\n",
            " 17% 1994/11567 [06:27<34:16,  4.66it/s]Stafford's tenure with the United Service Organizations (USO) during World War II--which often saw her perform for soldiers stationed in the U.S.--led<-Stafford's tenure with the United Service Organizations (USO) during World War II--which often saw her perform for soldiers stationed in the U.S.\n",
            " 18% 2030/11567 [06:34<25:49,  6.15it/s].  The band eventually decided to remain signed to Epitaph, and the next year released its third album<-  The band eventually decided to remain signed to Epitaph, and the next year released its third album\n",
            " 18% 2066/11567 [06:40<27:08,  5.83it/s]thing\"--Jones then proceeded to learn the drums and eventually formed the band, The Birthday<-Jones then proceeded to learn the drums and eventually formed the band, The Birthday Suit,\n",
            " 18% 2099/11567 [06:47<33:42,  4.68it/s].  \"Ooh La La\", the album's lead single<-  \"Ooh La La\", the album's lead single,\n",
            " 18% 2100/11567 [06:47<35:38,  4.43it/s].  McEntire released her third Christmas album My Kind of Christmas on September 2, 2016<-  McEntire released her third Christmas album My Kind of Christmas on September 2, 2016.\n",
            " 18% 2130/11567 [06:52<29:37,  5.31it/s].  Safran also presented segments for the Seven Network's now defunct Late Report<-  Safran also presented segments for the Seven Network's now defunct Late Report,\n",
            " 19% 2199/11567 [07:05<24:03,  6.49it/s]Wenceslas' death, four biographies of him were in circulation. These hagiographies had a powerful influence on the High Middle Ages conceptualization of the rex iustus, or \"righteous king\"--that<-Wenceslas' death, four biographies of him were in circulation. These hagiographies had a powerful influence on the High Middle Ages conceptualization of the rex iustus, or \"righteous king\n",
            " 20% 2336/11567 [07:30<29:57,  5.13it/s].  On 13 January 2010, Warp Records announced Oversteps, Autechre's tenth album. Originally slated to be released in March<-  On 13 January 2010, Warp Records announced Oversteps, Autechre's tenth album. Originally slated to be released in March,\n",
            " 20% 2355/11567 [07:34<33:11,  4.63it/s]The album--which included the macabre \"I Hold Your Hand in Mine\", the mildly risque \"Be Prepared\", and \"Lobachevsky\" (regarding plagiarizing mathematicians)--became<-The album--which included the macabre \"I Hold Your Hand in Mine\", the mildly risque \"Be Prepared\", and \"Lobachevsky\" (regarding plagiarizing mathematicians)--\n",
            " 21% 2398/11567 [07:42<29:28,  5.18it/s]Republicans<-Republican\n",
            " 21% 2423/11567 [07:47<34:08,  4.46it/s].  When in Los Angeles he trains at the Equinox Gym in Westwood and when at home in Marbella<-  When in Los Angeles he trains at the Equinox Gym in Westwood and when at home in Marbella,\n",
            " 21% 2479/11567 [07:58<27:08,  5.58it/s]For her live performances, which she calls dinner theatre because of her practice of throwing tea and tea-time snacks offstage, Autumn makes use of burlesque--\"a<-For her live performances, which she calls dinner theatre because of her practice of throwing tea and tea-time snacks offstage, Autumn makes use of burlesque--\"\n",
            " 22% 2546/11567 [08:11<31:16,  4.81it/s]Janis Lyn Joplin was born in Port Arthur, Texas, on (1943-01-19)January<-Janis Lyn Joplin was born in Port Arthur, Texas, on (1943-01-19)\n",
            " 22% 2550/11567 [08:12<29:36,  5.08it/s].  While Presley was performing \"Hound Dog\" on television and his record was scaling the charts<-  While Presley was performing \"Hound Dog\" on television and his record was scaling the charts,\n",
            " 22% 2558/11567 [08:14<31:14,  4.81it/s]India's first innings was declared at a point when Sachin Tendulkar was at 194 runs not out with 16 overs remaining on Day 2.In<-India's first innings was declared at a point when Sachin Tendulkar was at 194 runs not out with 16 overs remaining on Day 2.\n",
            "2.In this test match Sehwag scored triple century first time<-In this test match Sehwag scored triple century first time.\n",
            " 22% 2588/11567 [08:20<32:43,  4.57it/s].  Goddet had to get Sofil to produce another jersey overnight, its logo still visible but artificial fabric absent<-  Goddet had to get Sofil to produce another jersey overnight, its logo still visible but artificial fabric absent.\n",
            " 23% 2611/11567 [08:24<30:12,  4.94it/s].  Stewie attempts to be a good boy by smothering Brian with affection<-  Stewie attempts to be a good boy by smothering Brian with affection.\n",
            " 23% 2614/11567 [08:24<28:02,  5.32it/s]Valley. Both men admired the work of Rudyard Kipling--Cooper kept a copy of the poem \"If--<-Valley. Both men admired the work of Rudyard Kipling--Cooper kept a copy of the poem \"If\n",
            " 24% 2728/11567 [08:45<22:58,  6.41it/s].  Until the arrival of Andy Bell in the Autumn of 1999, White was the token southerner<-  Until the arrival of Andy Bell in the Autumn of 1999, White was the token southerner\n",
            " 24% 2761/11567 [08:52<28:34,  5.14it/s].  Contributing to Christian European rhetorical traditions, Hildegard \"authorized herself as a theologian\" through alternative rhetorical arts<-  Contributing to Christian European rhetorical traditions, Hildegard \"authorized herself as a theologian\" through alternative rhetorical arts.\n",
            " 24% 2801/11567 [08:59<28:53,  5.06it/s]anorak<-no\n",
            " 25% 2834/11567 [09:05<28:59,  5.02it/s].  In mid-2006, Songz began work on a follow-up album to his debut with longtime collaborator Troy Taylor<-  In mid-2006, Songz began work on a follow-up album to his debut with longtime collaborator Troy Taylor\n",
            " 25% 2865/11567 [09:11<23:37,  6.14it/s].  In more recent times, burlesque true to its literary origins is still performed in revues and sketches<-  In more recent times, burlesque true to its literary origins is still performed in revues and sketches.\n",
            " 27% 3083/11567 [09:52<31:10,  4.54it/s].  In 1995 Veneman re-entered government, when she was appointed Secretary of the California Department of Food and Agriculture<-  In 1995 Veneman re-entered government, when she was appointed Secretary of the California Department of Food and Agriculture,\n",
            " 28% 3258/11567 [10:25<26:48,  5.17it/s].  \"Despite growing evidence of remaining friction between the members,\" the band continued to tour in the early 2010s<-  \"Despite growing evidence of remaining friction between the members,\" the band continued to tour in the early 2010s.\n",
            " 28% 3262/11567 [10:26<27:05,  5.11it/s]90s\"--Shania Twain<-Shania Twain,\n",
            " 29% 3301/11567 [10:34<27:30,  5.01it/s].  In an early December 2009 interview with the Bergen Record, Brennan remarked, \"<-  In an early December 2009 interview with the Bergen Record, Brennan remarked, \"\n",
            " 29% 3349/11567 [10:43<20:59,  6.52it/s].  Some of Mies' curriculum is still put in practice in the first and second year programs at IIT<-  Some of Mies' curriculum is still put in practice in the first and second year programs at IIT,\n",
            " 29% 3351/11567 [10:43<24:10,  5.66it/s].  The consequences of the marginalist movement were profound for the study of economics, Unger says. The<-  The consequences of the marginalist movement were profound for the study of economics, Unger says. The\n",
            " 29% 3375/11567 [10:48<26:33,  5.14it/s].  Not one of his librettists managed to produce a libretto on the same artistic level as Rameau's music<-  Not one of his librettists managed to produce a libretto on the same artistic level as Rameau's music:\n",
            " 30% 3427/11567 [10:57<19:47,  6.85it/s]Eagle\"--he made for a very striking personality<-he made for a very striking personality.\n",
            " 30% 3508/11567 [11:13<25:19,  5.30it/s]playwright<-play\n",
            " 30% 3520/11567 [11:16<27:17,  4.91it/s].  \"One Way Ticket\", the first single from their second album, was released on 14 November 2005<-  \"One Way Ticket\", the first single from their second album, was released on 14 November 2005,\n",
            " 31% 3561/11567 [11:24<27:42,  4.81it/s].  In the early 1910s<-  In the early 1910s,\n",
            " 31% 3590/11567 [11:30<24:47,  5.36it/s].  Marquez achieved his first podium on 22 June<-  Marquez achieved his first podium on 22 June\n",
            " 33% 3787/11567 [12:07<30:56,  4.19it/s].  \"Feel It Still\" became the band's biggest hit single to date in the United States<-  \"Feel It Still\" became the band's biggest hit single to date in the United States,\n",
            ".  \"Feel It Still\" became the band's biggest hit single to date in the United States, reaching<-  \"Feel It Still\" became the band's biggest hit single to date in the United States, reaching\n",
            " 33% 3824/11567 [12:14<21:03,  6.13it/s].  He collapsed shortly after the 1859 commencement and died that summer<-  He collapsed shortly after the 1859 commencement and died that summer.\n",
            " 33% 3837/11567 [12:17<24:51,  5.18it/s]Six--\"Heretic\"<---\"Heretic\", \"\n",
            "Their first recordings were three songs that appeared on the 1986 compilation album for C/Z Records called Deep Six--\"Heretic<-Their first recordings were three songs that appeared on the 1986 compilation album for C/Z Records called Deep Six--\"\n",
            " 36% 4148/11567 [13:16<26:09,  4.73it/s]goaltenders<-goal\n",
            " 36% 4162/11567 [13:19<24:56,  4.95it/s].  He started his career as a poet at an early age, at<-  He started his career as a poet at an early age, at\n",
            ".  He started his career as a poet at an early age, at about 11 or 12 years old<-  He started his career as a poet at an early age, at about 11 or 12 years old.\n",
            " 37% 4239/11567 [13:34<27:07,  4.50it/s]He was nominated for three Golden Globe Awards, but did not win, but he was presented with two Special Achievement Awards--for Bambi (1942) and The Living Desert (1953)--and<-He was nominated for three Golden Globe Awards, but did not win, but he was presented with two Special Achievement Awards--for Bambi (1942) and The Living Desert (1953)--\n",
            " 38% 4386/11567 [14:04<22:55,  5.22it/s]:  [Mielke's] bank account, which held more than 300,000 marks (about US $187,500), was confiscated<-  [Mielke's] bank account, which held more than 300,000 marks (about US $187,500), was confiscated.\n",
            " 39% 4484/11567 [14:22<20:01,  5.90it/s].  He remained the First Deputy Prime Minister until November 2005<-  He remained the First Deputy Prime Minister until November 2005.\n",
            " 40% 4581/11567 [14:40<22:51,  5.09it/s].  Life Love & Other Mysteries has been one of their most successful albums to date<-  Life Love & Other Mysteries has been one of their most successful albums to date.\n",
            " 40% 4636/11567 [14:51<23:56,  4.82it/s].  \"Ooh La La\", the album's lead single<-  \"Ooh La La\", the album's lead single,\n",
            ".  \"Ooh La La\", the album's lead single, became Goldfrapp's first UK top five single<-  \"Ooh La La\", the album's lead single, became Goldfrapp's first UK top five single.\n",
            " 40% 4668/11567 [14:58<21:06,  5.45it/s].  \"Promise Me You'll Remember\", his contribution to the Godfather III soundtrack<-  \"Promise Me You'll Remember\", his contribution to the Godfather III soundtrack,\n",
            " 42% 4832/11567 [15:30<22:12,  5.05it/s].  \"He tried to make you see the psychosis below the surface, even when the parts weren't huge<-  \"He tried to make you see the psychosis below the surface, even when the parts weren't huge,\n",
            " 43% 4952/11567 [15:53<22:15,  4.95it/s]listenability<-ten\n",
            " 43% 4963/11567 [15:55<21:23,  5.15it/s]Loosely based on the TV program Your Hit Parade, the show counted down from #40 on the pop charts to #1--the<-Loosely based on the TV program Your Hit Parade, the show counted down from #40 on the pop charts to #1--\n",
            " 43% 5012/11567 [16:05<20:58,  5.21it/s].  \"I think he was the greatest directorial talent we've ever had in the [American] theater,\" Lloyd said<-  \"I think he was the greatest directorial talent we've ever had in the [American] theater,\" Lloyd said\n",
            " 44% 5092/11567 [16:21<25:45,  4.19it/s].  The band were sued by the parents of the Native American boy pictured on the cover of Ceremony<-  The band were sued by the parents of the Native American boy pictured on the cover of Ceremony,\n",
            " 44% 5107/11567 [16:25<23:20,  4.61it/s]--he was tolerant and generous<-he was tolerant and generous\n",
            " 44% 5121/11567 [16:27<19:41,  5.46it/s].  The final singles, \"Go Round/Yeah-Oh!\", were released in late March 2012, and continued the 100,000 sales streak in<-  The final singles, \"Go Round/Yeah-Oh!\", were released in late March 2012, and continued the 100,000 sales streak in\n",
            " 45% 5151/11567 [16:32<17:56,  5.96it/s].  In 1982 his best performance was second in the Amstel Gold Race behind Jan Raas<-  In 1982 his best performance was second in the Amstel Gold Race behind Jan Raas,\n",
            " 45% 5190/11567 [16:39<20:51,  5.09it/s]was certified platinum by the Recording Industry Association of America, following shipments in excess of one million copies in the U.S.<-was certified platinum by the Recording Industry Association of America, following shipments in excess of one million copies in the U.\n",
            ".  In 1994, his first significant success came in the form of the hit single \"U Will Know\"<-  In 1994, his first significant success came in the form of the hit single \"U Will Know\".\n",
            " 45% 5195/11567 [16:40<18:45,  5.66it/s].  Johnson's Ohana Charitable Foundation has also supported Little Kids Rock, a national nonprofit that works<-  Johnson's Ohana Charitable Foundation has also supported Little Kids Rock, a national nonprofit that works\n",
            " 48% 5530/11567 [17:43<14:50,  6.78it/s].  \"Ooh La La\"<-  \"Ooh La La\",\n",
            " 48% 5541/11567 [17:45<18:00,  5.58it/s]Around the same time, the Bee Gees recorded three Beatles covers--\"Golden<-Around the same time, the Bee Gees recorded three Beatles covers--\"\n",
            " 48% 5578/11567 [17:52<17:06,  5.83it/s].  Kulwicki moved from dirt tracks to paved tracks in 1977<-  Kulwicki moved from dirt tracks to paved tracks in 1977.\n",
            " 48% 5586/11567 [17:53<19:58,  4.99it/s].  \"My Happiness\" was attacked by some fans as being \"like Lauryn Hill, bland and boring Top 40 bullshit<-  \"My Happiness\" was attacked by some fans as being \"like Lauryn Hill, bland and boring Top 40 bullshit\n",
            " 48% 5587/11567 [17:53<20:54,  4.77it/s]Happiness\"--Cameron Adams argued in The Hobart Mercury that this was one of the reasons Powderfinger decided to focus on the offshore<-Cameron Adams argued in The Hobart Mercury that this was one of the reasons Powderfinger decided to focus on the offshore market.\n",
            " 48% 5597/11567 [17:56<22:18,  4.46it/s].  During his time at Virginia Military Institute, Maury wrote a book, entitled The Physical Geography of Virginia<-  During his time at Virginia Military Institute, Maury wrote a book, entitled The Physical Geography of Virginia.\n",
            " 48% 5603/11567 [17:57<20:04,  4.95it/s].  Stefani has been referred to as a \"Pop Princess\" by several contemporary music critics<-  Stefani has been referred to as a \"Pop Princess\" by several contemporary music critics.\n",
            " 48% 5608/11567 [17:58<18:59,  5.23it/s].  The slaves were classified into two groups: \"red\" slaves who spoke Afroasiatic languages, and \"black\" (\"Negroid\") slaves<-  The slaves were classified into two groups: \"red\" slaves who spoke Afroasiatic languages, and \"black\" (\"Negroid\") slaves\n",
            " 50% 5727/11567 [18:20<17:43,  5.49it/s].  \"Powhatan\" was also the name used by the natives to refer to the river<-  \"Powhatan\" was also the name used by the natives to refer to the river\n",
            ".  Powhatan County and its county seat at Powhatan, Virginia were honorific names established years later<-  Powhatan County and its county seat at Powhatan, Virginia were honorific names established years later,\n",
            " 50% 5749/11567 [18:24<22:15,  4.36it/s].  \"Let's Love\", was released as a single exclusively in Japan and used for a Toyota Motor Corporation commercial<-  \"Let's Love\", was released as a single exclusively in Japan and used for a Toyota Motor Corporation commercial.\n",
            " 50% 5770/11567 [18:28<18:20,  5.27it/s].  In 2016, McEntire was selected as one of thirty artists to perform on \"Forever Country<-  In 2016, McEntire was selected as one of thirty artists to perform on \"Forever Country\n",
            " 51% 5889/11567 [18:50<19:56,  4.74it/s].  \"Saturday Night\", which was released on March 22, 2005<-  \"Saturday Night\", which was released on March 22, 2005\n",
            " 52% 5971/11567 [19:06<19:48,  4.71it/s].  In 2006, she played Serena, a minor character in The Devil Wears Prada<-  In 2006, she played Serena, a minor character in The Devil Wears Prada.\n",
            " 53% 6124/11567 [19:36<16:41,  5.43it/s]1987<-87\n",
            "\"Temptation\" and \"Confusion\"--referred<-\"Temptation\" and \"Confusion\"--\n",
            " 53% 6166/11567 [19:45<18:45,  4.80it/s].  The 1996 release Illadelph Halflife was the group's first album to break the Top 40 on the<-  The 1996 release Illadelph Halflife was the group's first album to break the Top 40 on the\n",
            " 53% 6188/11567 [19:50<21:41,  4.13it/s]Director<-Direct\n",
            " 54% 6193/11567 [19:51<20:04,  4.46it/s].  Horses were one of the main means of long-distance transport<-  Horses were one of the main means of long-distance transport.\n",
            " 54% 6270/11567 [20:06<20:25,  4.32it/s].  Rammstein embarked on a live tour with Korn, Ice Cube, Orgy and Limp Bizkit called<-  Rammstein embarked on a live tour with Korn, Ice Cube, Orgy and Limp Bizkit called\n",
            " 54% 6271/11567 [20:07<20:54,  4.22it/s].  \"Ich will\", the third single from the album, was released on 10 September 2001<-  \"Ich will\", the third single from the album, was released on 10 September 2001\n",
            " 55% 6375/11567 [20:27<17:07,  5.05it/s].  Nabokov joined the staff of Wellesley College in 1941 as resident lecturer in comparative literature<-  Nabokov joined the staff of Wellesley College in 1941 as resident lecturer in comparative literature.\n",
            " 55% 6407/11567 [20:33<14:19,  6.00it/s]Congressional<-Congress\n",
            " 57% 6542/11567 [20:59<17:25,  4.81it/s]1922/1923<-1923,\n",
            " 57% 6554/11567 [21:02<16:23,  5.10it/s]hits--\"New Year\", \"Run for Cover\" and \"Soul Sound<---\"New Year\", \"Run for Cover\" and \"Soul Sound\".\n",
            " 57% 6568/11567 [21:04<15:50,  5.26it/s]Social Distortion was named for my distortion pedal, which I gave to Mike to play 'cause<-Social Distortion was named for my distortion pedal, which I gave to Mike to play '\n",
            "'cause back then he was no good.\" Ness met Dennis Danell, who was a year older, in high school and insisted he join the band<-cause back then he was no good.\" Ness met Dennis Danell, who was a year older, in high school and insisted he join the band\n",
            " 57% 6604/11567 [21:11<17:02,  4.85it/s].  Simon's characters often amuse the audience with sparkling \"zingers<-  Simon's characters often amuse the audience with sparkling \"zingers,\n",
            " 57% 6617/11567 [21:14<17:17,  4.77it/s].  \"Please, Please, Please\" was released in May 1956<-  \"Please, Please, Please\" was released in May 1956\n",
            " 58% 6688/11567 [21:27<13:20,  6.10it/s]The CIA stripped, hooded, shackled and sodomized el-Masri with a suppository--in CIA parlance, subjected him to \"capture shock\"--as<-The CIA stripped, hooded, shackled and sodomized el-Masri with a suppository--in CIA parlance, subjected him to \"capture shock\n",
            " 58% 6719/11567 [21:33<12:58,  6.22it/s]alongside<-long\n",
            " 59% 6796/11567 [21:47<17:47,  4.47it/s].  In 1966, Miami businessman Otis W. Shriver claimed he had dug up Osceola's grave<-  In 1966, Miami businessman Otis W. Shriver claimed he had dug up Osceola's grave\n",
            " 59% 6806/11567 [21:49<13:51,  5.72it/s]:  \"I didn't want to be a 75-year-old manager working seven days a week, 52 weeks a year<-  \"I didn't want to be a 75-year-old manager working seven days a week, 52 weeks a year.\n",
            " 60% 6891/11567 [22:05<15:33,  5.01it/s]-at the peak of their popularity and following a world tour<-at the peak of their popularity and following a world tour,\n",
            " 60% 6929/11567 [22:12<13:58,  5.53it/s].  At Bart and Lily's wedding at the end of Season 1<-  At Bart and Lily's wedding at the end of Season 1,\n",
            " 61% 7047/11567 [22:34<15:39,  4.81it/s]album--\"Want To\" and \"Settlin'\"--both<-Want To\" and \"Settlin'\"--\n",
            "Settlin'\"--both reached Number One on the country music<-both reached Number One on the country music charts,\n",
            " 61% 7054/11567 [22:36<12:31,  6.00it/s].  Longoria identifies as a \"Texican\" or Mexican-American<-  Longoria identifies as a \"Texican\" or Mexican-American.\n",
            " 61% 7072/11567 [22:40<15:26,  4.85it/s].  Tendulkar scored an unbeaten 194 against Pakistan at Multan in the following series<-  Tendulkar scored an unbeaten 194 against Pakistan at Multan in the following series.\n",
            " 62% 7118/11567 [22:48<16:00,  4.63it/s]Give\"--all peaked within the Top 5 on the country<-all peaked within the Top 5 on the country charts\n",
            "three singles released from the album--\"Nothin<-three singles released from the album\n",
            "album--\"Nothin' 'Bout Love Makes Sense<-Nothin' 'Bout Love Makes Sense\", \"\n",
            " 62% 7150/11567 [22:55<13:20,  5.52it/s].  Zuma's cause rallied large crowds of supporters at each of his corruption-related court appearances in 2005<-  Zuma's cause rallied large crowds of supporters at each of his corruption-related court appearances in 2005.\n",
            " 62% 7187/11567 [23:02<18:22,  3.97it/s].  \"My Happiness\" was attacked by some fans as being \"like Lauryn Hill, bland and boring Top 40 bullshit\"<-  \"My Happiness\" was attacked by some fans as being \"like Lauryn Hill, bland and boring Top 40 bullshit\";\n",
            " 63% 7274/11567 [23:19<14:00,  5.11it/s].  \"Officially Yours\" was released on 23 June 2008 and peaked at number 158 on the UK Singles Chart<-  \"Officially Yours\" was released on 23 June 2008 and peaked at number 158 on the UK Singles Chart,\n",
            " 63% 7336/11567 [23:30<14:58,  4.71it/s]50 first-class wickets at an average of 26.14<-50 first-class wickets at an average of 26.\n",
            " 63% 7343/11567 [23:32<18:00,  3.91it/s].  In 1987, Lennox and Stewart released the album Savage<-  In 1987, Lennox and Stewart released the album Savage.\n",
            " 64% 7350/11567 [23:33<13:25,  5.24it/s].  As a fast bowler, Khan reached the peak of his powers in 1982<-  As a fast bowler, Khan reached the peak of his powers in 1982.\n",
            " 64% 7370/11567 [23:37<13:14,  5.28it/s]mid-1976<-1976,\n",
            " 64% 7444/11567 [23:52<13:07,  5.23it/s].  In March 1999, they released their next album, A Man's Not a Camel<-  In March 1999, they released their next album, A Man's Not a Camel,\n",
            " 64% 7451/11567 [23:53<13:24,  5.12it/s].  \"Powhatan\" was also the name used by the natives to refer to the river where the town sat<-  \"Powhatan\" was also the name used by the natives to refer to the river where the town sat\n",
            " 65% 7472/11567 [23:58<12:00,  5.68it/s]Small  Nathan Explosion is the frontman, lead vocalist and \"lyrical visionary\" of Dethklok<-  Nathan Explosion is the frontman, lead vocalist and \"lyrical visionary\" of Dethklok.\n",
            " 65% 7482/11567 [23:59<14:00,  4.86it/s]Feinstein'...I'm in jail with my fur coat and nothing else on, and [the police officers] want to take pictures. I took a mug shot with every cop in the<-'...I'm in jail with my fur coat and nothing else on, and [the police officers] want to take pictures. I took a mug shot with every cop in the place,\n",
            " 65% 7572/11567 [24:17<11:15,  5.92it/s].  Working with Barrett eventually proved too difficult<-  Working with Barrett eventually proved too difficult,\n",
            " 66% 7595/11567 [24:21<13:59,  4.73it/s].  \"My Happiness\" peaked at number 23 on the Hot Modern Rock Tracks<-  \"My Happiness\" peaked at number 23 on the Hot Modern Rock Tracks,\n",
            " 66% 7617/11567 [24:26<15:57,  4.13it/s].  Watts began his college football career as the second-string quarterback<-  Watts began his college football career as the second-string quarterback\n",
            " 66% 7634/11567 [24:29<13:46,  4.76it/s].  In December, France's Commissariat a l'energie atomique agreed to provide a commercial 900MW power plant<-  In December, France's Commissariat a l'energie atomique agreed to provide a commercial 900MW power plant,\n",
            " 66% 7670/11567 [24:36<11:01,  5.89it/s].  Jones drove the engine until he transferred to Memphis in February 1900<-  Jones drove the engine until he transferred to Memphis in February 1900.\n",
            " 67% 7714/11567 [24:43<12:23,  5.18it/s]Punahou School--<-Punahou School\n",
            " 67% 7715/11567 [24:44<12:15,  5.24it/s]Indonesian<-Indonesia\n",
            " 67% 7716/11567 [24:44<11:50,  5.42it/s]\"As years passed, the case took on a life of its own, accruing novel additions to Gage's story without any factual basis\".[B]:678<-\"As years passed, the case took on a life of its own, accruing novel additions to Gage's story without any factual basis\".[\n",
            " 67% 7788/11567 [24:58<13:45,  4.58it/s]The spell momentarily turns her hair white and makes her glow--Kennedy calls her \"a goddess\"--and<-The spell momentarily turns her hair white and makes her glow--Kennedy calls her \"a goddess\"--\n",
            " 67% 7794/11567 [25:00<13:16,  4.74it/s]129<-12\n",
            " 69% 7929/11567 [25:27<10:08,  5.98it/s]-the largest contribution would go to the Bill and Melinda Gates Foundation<-the largest contribution would go to the Bill and Melinda Gates Foundation.\n",
            " 69% 7932/11567 [25:27<09:42,  6.24it/s]:  [T]hat's when I really learned some much farther-out voicings - like the harmonies I used on Speak Like<-  [T]hat's when I really learned some much farther-out voicings - like the harmonies I used on Speak Like\n",
            " 69% 7950/11567 [25:31<11:54,  5.06it/s]coaching<-coach\n",
            " 69% 7992/11567 [25:38<11:04,  5.38it/s]U.S. government desired a peaceful settlement to Red Cloud's War<-S. government desired a peaceful settlement to Red Cloud's War.\n",
            " 69% 7993/11567 [25:38<11:21,  5.24it/s]According to Clark, the lyrics were primarily his creation, with a minor contribution being Crosby's line, \"Rain grey town, known for its sound\"--a<-According to Clark, the lyrics were primarily his creation, with a minor contribution being Crosby's line, \"Rain grey town, known for its sound\"--\n",
            " 70% 8049/11567 [25:49<11:00,  5.33it/s].  In 1929, she made her first movie appearance, in the sound picture Honky Tonk<-  In 1929, she made her first movie appearance, in the sound picture Honky Tonk.\n",
            " 70% 8098/11567 [25:58<09:36,  6.02it/s].  Even after two operations, Bure did not play in 2003-04 due to the lingering effects of the knee<-  Even after two operations, Bure did not play in 2003-04 due to the lingering effects of the knee\n",
            " 70% 8122/11567 [26:02<12:01,  4.78it/s]albums<-album\n",
            " 70% 8142/11567 [26:06<10:09,  5.62it/s].  In February 1970, Vaughan joined a band called Liberation, which was a nine-piece group with a horn section<-  In February 1970, Vaughan joined a band called Liberation, which was a nine-piece group with a horn section.\n",
            " 71% 8227/11567 [26:22<11:51,  4.69it/s]WWE wrestlers<-WWE wrestler\n",
            " 72% 8291/11567 [26:34<11:41,  4.67it/s].  \"Dreaming\" and \"Godspeed\" reached #5 and #10 on the Billboard Dance Club Songs chart, respectively<-  \"Dreaming\" and \"Godspeed\" reached #5 and #10 on the Billboard Dance Club Songs chart, respectively,\n",
            " 72% 8352/11567 [26:46<09:01,  5.93it/s].  \"The baby is dead because of vodka mommy,\" Grace said during her June 11 show on HLN. \"<-  \"The baby is dead because of vodka mommy,\" Grace said during her June 11 show on HLN. \"\n",
            " 73% 8389/11567 [26:53<09:49,  5.39it/s].  Revival was nominated for the 1997 Grammy Award for Best Contemporary Folk Album<-  Revival was nominated for the 1997 Grammy Award for Best Contemporary Folk Album,\n",
            " 73% 8399/11567 [26:56<12:11,  4.33it/s]every vowel may take either high or low tone; in the orthography high tone is indicated by an acute accent, e.g.<-every vowel may take either high or low tone; in the orthography high tone is indicated by an acute accent, e.\n",
            " 73% 8462/11567 [27:09<09:52,  5.24it/s]Es ~Mr. Children in Film~.<-Es ~Mr. Children in Film\n",
            " 73% 8467/11567 [27:09<08:55,  5.79it/s].  In December 1994, Yousef had engaged in a test of a bomb on Philippine Airlines Flight 434<-  In December 1994, Yousef had engaged in a test of a bomb on Philippine Airlines Flight 434\n",
            " 73% 8499/11567 [27:15<09:18,  5.49it/s].  Iron Maiden had a strict and organised routine that suited the band's writing style<-  Iron Maiden had a strict and organised routine that suited the band's writing style,\n",
            " 74% 8550/11567 [27:25<07:20,  6.84it/s]for six consecutive weeks and ranking at No.34<-for six consecutive weeks and ranking at No.\n",
            " 74% 8555/11567 [27:26<10:38,  4.72it/s].  A traditional equine Comet is partially seen in Legion of Three Worlds #1<-  A traditional equine Comet is partially seen in Legion of Three Worlds #1.\n",
            " 74% 8609/11567 [27:36<08:36,  5.73it/s].  \"LaBamba\" was also used as the butt of many of Conan's jokes<-  \"LaBamba\" was also used as the butt of many of Conan's jokes.\n",
            " 75% 8728/11567 [27:58<09:01,  5.24it/s]He was then given his own show later that year, with Canada Dry Ginger Ale as a sponsor --The<-He was then given his own show later that year, with Canada Dry Ginger Ale as a sponsor --\n",
            " 77% 8931/11567 [28:38<07:54,  5.56it/s].  In September 1943, he was assigned to Torpedo Squadron (VT-51) as the photographic officer<-  In September 1943, he was assigned to Torpedo Squadron (VT-51) as the photographic officer.\n",
            " 78% 8965/11567 [28:45<07:59,  5.43it/s].  He was partly taught cricket by his grandfather, who helped to bring him up after his father's death<-  He was partly taught cricket by his grandfather, who helped to bring him up after his father's death.\n",
            " 78% 8967/11567 [28:45<08:35,  5.05it/s]705/7. He followed up the innings with an unbeaten 60 in the second innings of the Test<-7. He followed up the innings with an unbeaten 60 in the second innings of the Test.\n",
            " 78% 9022/11567 [28:56<08:34,  4.95it/s].  \"He Did With Me\", Lawrence's followup to \"The Night the Lights Went Out in Georgia\"<-  \"He Did With Me\", Lawrence's followup to \"The Night the Lights Went Out in Georgia\",\n",
            " 78% 9048/11567 [29:01<08:08,  5.16it/s]:  [The] GLF was a glorious, enthusiastic and often chaotic mix of anarchists, hippies, leftwingers, feminists, liberals and counter-culturalists<-  [The] GLF was a glorious, enthusiastic and often chaotic mix of anarchists, hippies, leftwingers, feminists, liberals and counter-culturalists.\n",
            " 79% 9164/11567 [29:23<08:31,  4.70it/s]mid-1943<-1943,\n",
            " 79% 9178/11567 [29:26<07:05,  5.61it/s].  Bryant received several awards for his outstanding performance during his senior year at Lower Merion<-  Bryant received several awards for his outstanding performance during his senior year at Lower Merion.\n",
            " 80% 9198/11567 [29:30<07:38,  5.17it/s].  \"He seemed preoccupied with football even on their honeymoon, and cut it short to get back to Englewood<-  \"He seemed preoccupied with football even on their honeymoon, and cut it short to get back to Englewood\n",
            " 80% 9207/11567 [29:32<08:00,  4.92it/s].  Yannis Philippakis stated that the recording process had some unconventional moments<-  Yannis Philippakis stated that the recording process had some unconventional moments:\n",
            " 80% 9208/11567 [29:32<08:42,  4.52it/s].  \"Spanish Sahara\" was featured in trailers for season seven of Entourage, season four of Skins and Outcasts<-  \"Spanish Sahara\" was featured in trailers for season seven of Entourage, season four of Skins and Outcasts.\n",
            " 80% 9214/11567 [29:33<06:30,  6.02it/s]mid-1990s, Isaac, Taylor and Zac sang a cappella and recorded such classic songs as \"Rockin' Robin\", \"Splish Splash\" and \"Johnny B. Goode<-1990s, Isaac, Taylor and Zac sang a cappella and recorded such classic songs as \"Rockin' Robin\", \"Splish Splash\" and \"Johnny B. Goode\",\n",
            " 81% 9335/11567 [29:57<06:48,  5.46it/s].  Over the course of the early 2000s, the band continued to tour and shuffle through members<-  Over the course of the early 2000s, the band continued to tour and shuffle through members.\n",
            " 81% 9368/11567 [30:03<07:43,  4.75it/s].  In January 1986 Israeli female teacher Leah Shakdiel was granted membership in the religious council of Yeruham<-  In January 1986 Israeli female teacher Leah Shakdiel was granted membership in the religious council of Yeruham,\n",
            " 81% 9396/11567 [30:09<07:09,  5.05it/s]1980s<-1980\n",
            " 81% 9400/11567 [30:10<07:49,  4.61it/s].  Warhol strongly influenced the new wave/punk rock band Devo<-  Warhol strongly influenced the new wave/punk rock band Devo,\n",
            " 82% 9466/11567 [30:23<07:07,  4.91it/s].  \"All Along the Watchtower\" became the band's highest-selling single and their only US top 40 hit<-  \"All Along the Watchtower\" became the band's highest-selling single and their only US top 40 hit,\n",
            " 82% 9500/11567 [30:29<07:04,  4.87it/s].  \"You Make Me Wanna...\" won the Best Male R&B/Soul Single at the 1999 Soul Train Music Awards<-  \"You Make Me Wanna...\" won the Best Male R&B/Soul Single at the 1999 Soul Train Music Awards.\n",
            " 82% 9506/11567 [30:30<06:28,  5.30it/s]--\"When a little Girl, I had a friend, who taught me Immortality - but venturing too near, himself - he never returned\"--refers<---\"When a little Girl, I had a friend, who taught me Immortality - but venturing too near, himself - he never returned\"--\n",
            " 82% 9527/11567 [30:34<07:34,  4.49it/s]Chileans<-Chilean\n",
            " 84% 9705/11567 [31:08<06:04,  5.11it/s].  Gryce was influenced by Tadd Dameron, with whom he played in 1953 at the Paradise Club<-  Gryce was influenced by Tadd Dameron, with whom he played in 1953 at the Paradise Club.\n",
            " 84% 9744/11567 [31:15<06:01,  5.04it/s].  Flutie won his first Grey Cup in 1992 with the Stampeders<-  Flutie won his first Grey Cup in 1992 with the Stampeders.\n",
            " 84% 9755/11567 [31:17<04:57,  6.08it/s].  In 1985, Nicklaus finished second to Curtis Strange in the Canadian Open<-  In 1985, Nicklaus finished second to Curtis Strange in the Canadian Open,\n",
            " 85% 9787/11567 [31:23<06:50,  4.34it/s].  \"Dreaming\" and \"Godspeed\" reached #5 and #10 on the Billboard Dance Club Songs chart, respectively<-  \"Dreaming\" and \"Godspeed\" reached #5 and #10 on the Billboard Dance Club Songs chart, respectively,\n",
            " 85% 9790/11567 [31:23<05:14,  5.66it/s]released<-as\n",
            " 85% 9854/11567 [31:36<05:39,  5.04it/s].  On September 23, 2016, Garnett announced his retirement after 21 seasons in the NBA<-  On September 23, 2016, Garnett announced his retirement after 21 seasons in the NBA.\n",
            " 86% 9958/11567 [31:57<05:21,  5.00it/s]pressure<-press\n",
            " 86% 9968/11567 [31:59<04:42,  5.66it/s].  In 1994, Brooks paid homage to one of his musical influences, Kiss, appearing on the tribute compilation<-  In 1994, Brooks paid homage to one of his musical influences, Kiss, appearing on the tribute compilation,\n",
            " 86% 9985/11567 [32:03<05:50,  4.51it/s].  Sharpton said in 2007 that he would not enter the 2008 presidential race<-  Sharpton said in 2007 that he would not enter the 2008 presidential race.\n",
            " 87% 10055/11567 [32:16<06:21,  3.96it/s]\"Don't Box Me In\" (UK Singles Chart n. 91)--a<-\"Don't Box Me In\" (UK Singles Chart n. 91)--\n",
            " 87% 10075/11567 [32:20<04:36,  5.40it/s]songs<-song\n",
            " 87% 10097/11567 [32:23<03:59,  6.14it/s].  During his semiretirement in the years 1740 to 1744, he wrote the Pieces de clavecin en concert<-  During his semiretirement in the years 1740 to 1744, he wrote the Pieces de clavecin en concert\n",
            " 87% 10107/11567 [32:25<04:54,  4.95it/s]contribute--\"New Potato Caboose\", \"Box of Rain\", \"Unbroken Chain\", and \"Pride of Cucamonga\"--are among the best<---\"New Potato Caboose\", \"Box of Rain\", \"Unbroken Chain\", and \"Pride of Cucamonga\"--are among the best-known\n",
            " 88% 10132/11567 [32:31<05:09,  4.63it/s]duet single, \"Nothing In Common\"/\"How<-duet single, \"Nothing In Common\n",
            " 88% 10221/11567 [32:48<04:14,  5.28it/s].  \"Your Love Is King\" was released as the album's lead single on 25 February 1984<-  \"Your Love Is King\" was released as the album's lead single on 25 February 1984\n",
            " 89% 10336/11567 [33:10<04:00,  5.12it/s]:  [Arnett's] firing was a direct result of Pentagon pressure<-  [Arnett's] firing was a direct result of Pentagon pressure.\n",
            " 89% 10350/11567 [33:13<04:04,  4.98it/s]She featured on \"Wonderful\"--with<-She featured on \"Wonderful\n",
            " 90% 10356/11567 [33:14<04:33,  4.42it/s].  Over the next two years, the group continued in varied line-ups<-  Over the next two years, the group continued in varied line-ups.\n",
            " 90% 10453/11567 [33:33<04:22,  4.24it/s]1930)--featuring Healy and his four Stooges<-featuring Healy and his four Stooges:\n",
            " 91% 10499/11567 [33:42<02:34,  6.89it/s].  In January 2009 plans were released for Smith to perform with Placido Domingo<-  In January 2009 plans were released for Smith to perform with Placido Domingo,\n",
            " 91% 10541/11567 [33:49<03:16,  5.23it/s].  Paul later received her law degree (LL.B) from the Washington College of Law at American University in 1922<-  Paul later received her law degree (LL.B) from the Washington College of Law at American University in 1922,\n",
            " 91% 10560/11567 [33:53<03:29,  4.80it/s].  The men will also have a party<-  The men will also have a party,\n",
            " 92% 10626/11567 [34:06<03:00,  5.20it/s].  He won the election in November 1998, narrowly (and unexpectedly) defeating the major-party candidates<-  He won the election in November 1998, narrowly (and unexpectedly) defeating the major-party candidates,\n",
            " 92% 10675/11567 [34:16<02:40,  5.54it/s].  On October 8, 2004, U.S. Representative Jim McDermott gave a speech in the House of Representatives<-  On October 8, 2004, U.S. Representative Jim McDermott gave a speech in the House of Representatives,\n",
            " 93% 10717/11567 [34:23<02:19,  6.11it/s]debuted on Netflix in September 2017.The<-debuted on Netflix in September 2017.\n",
            " 93% 10765/11567 [34:33<02:49,  4.74it/s]1980s<-1980\n",
            " 94% 10838/11567 [34:47<02:15,  5.40it/s].  His cathedral tomb was designed by the architects van Heyningen and Haward<-  His cathedral tomb was designed by the architects van Heyningen and Haward.\n",
            " 94% 10885/11567 [34:56<01:59,  5.71it/s].  Cornelius, Barnaby, and their dates arrive, unaware that Horace is also dining at the restaurant<-  Cornelius, Barnaby, and their dates arrive, unaware that Horace is also dining at the restaurant.\n",
            " 94% 10890/11567 [34:57<02:16,  4.96it/s].  He became a Christian in 1983 but it was years later before God came first in his life<-  He became a Christian in 1983 but it was years later before God came first in his life.\n",
            " 95% 10973/11567 [35:13<02:03,  4.82it/s]Rod Stewart and Woodman's friend Dave Curtiss)until<-Rod Stewart and Woodman's friend Dave Curtiss\n",
            " 95% 10994/11567 [35:17<01:47,  5.33it/s].  Heinlein also served aboard the destroyer USS Roper in 1933 and 1934, reaching the rank of lieutenant<-  Heinlein also served aboard the destroyer USS Roper in 1933 and 1934, reaching the rank of lieutenant.\n",
            " 96% 11070/11567 [35:32<01:51,  4.45it/s].  \"Kingyo Hanabi\" was the second single to be released after her first album<-  \"Kingyo Hanabi\" was the second single to be released after her first album.\n",
            " 96% 11100/11567 [35:38<01:14,  6.31it/s]They proposed that white men form clandestine paramilitary organizations--known as \"rifle clubs\"--and<-They proposed that white men form clandestine paramilitary organizations--known as \"rifle clubs\"--\n",
            " 96% 11148/11567 [35:47<01:34,  4.43it/s].  Petty appeared in the 1997 film The Postman, directed by and starring Kevin Costner<-  Petty appeared in the 1997 film The Postman, directed by and starring Kevin Costner,\n",
            " 97% 11214/11567 [36:01<01:02,  5.68it/s]developed<-eloped\n",
            " 97% 11274/11567 [36:13<00:47,  6.15it/s].  Conacher moved to the senior level in 1920 with the Toronto Rugby Club<-  Conacher moved to the senior level in 1920 with the Toronto Rugby Club\n",
            " 98% 11284/11567 [36:15<01:01,  4.57it/s].  Stefani has been referred to as a \"Pop Princess\" by several contemporary music critics<-  Stefani has been referred to as a \"Pop Princess\" by several contemporary music critics.\n",
            " 98% 11291/11567 [36:17<01:00,  4.59it/s].  Cousy grew bored with college basketball and returned to the NBA as coach<-  Cousy grew bored with college basketball and returned to the NBA as coach\n",
            " 98% 11347/11567 [36:28<00:41,  5.36it/s].  \"Iron Tusk\", the fifth track on the album<-  \"Iron Tusk\", the fifth track on the album,\n",
            " 99% 11444/11567 [36:47<00:21,  5.62it/s]strategy\"--Ali leaned against the ropes and absorbed punishment from Frazier, hoping to<-Ali leaned against the ropes and absorbed punishment from Frazier, hoping to tire him.\n",
            " 99% 11456/11567 [36:49<00:20,  5.38it/s].  Indurain was a strong time trialist, gaining on rivals and riding defensively in the climbing stages<-  Indurain was a strong time trialist, gaining on rivals and riding defensively in the climbing stages.\n",
            " 99% 11502/11567 [36:58<00:13,  4.85it/s].  \"Is Nothing Sacred?\" was released in 1992 by Surprise Video, compiling material from 1990-1991<-  \"Is Nothing Sacred?\" was released in 1992 by Surprise Video, compiling material from 1990-1991.\n",
            "100% 11517/11567 [37:01<00:10,  4.83it/s].  Ryan missed much of the 1967 season due to illness<-  Ryan missed much of the 1967 season due to illness,\n",
            "100% 11562/11567 [37:10<00:00,  5.15it/s].  He made his Japanese debut in 1970, billed as \"Monster Roussimoff\", wrestling for the International Wrestling Enterprise<-  He made his Japanese debut in 1970, billed as \"Monster Roussimoff\", wrestling for the International Wrestling Enterprise.\n",
            "100% 11567/11567 [37:11<00:00,  5.18it/s]\n",
            "  4% 43/1000 [00:10<03:18,  4.83it/s]I.D., who would later become a mentor to a young Kanye West<-D., who would later become a mentor to a young Kanye West.\n",
            "  8% 83/1000 [00:19<03:39,  4.17it/s]As Shula's family expanded--he had six siblings, including a set of triplets born in 1936--his<-As Shula's family expanded--he had six siblings, including a set of triplets born in 1936--\n",
            " 10% 103/1000 [00:24<03:15,  4.60it/s]'One of the main reasons I wanted to do the piece was to cast someone as Rose that was closer to Rose as she really existed,<-One of the main reasons I wanted to do the piece was to cast someone as Rose that was closer to Rose as she really existed,'\n",
            " 15% 149/1000 [00:34<02:51,  4.96it/s]language texts. This word, adjectival magavan meaning \"possessing maga-\", was once the premise that Avestan maga- and Median (i.e.<-language texts. This word, adjectival magavan meaning \"possessing maga-\", was once the premise that Avestan maga- and Median (i.\n",
            " 29% 289/1000 [01:06<02:39,  4.47it/s]Carey has hosted a series of mini-documentaries called The Drew Carey Project on Reason.tv<-Carey has hosted a series of mini-documentaries called The Drew Carey Project on Reason.\n",
            " 39% 392/1000 [01:29<02:19,  4.37it/s]P.O.D.'s third studio album, 1999's The Fundamental Elements of Southtown, spawned the hits \"Southtown\" and \"Rock the Party (Off the Hook)<-O.D.'s third studio album, 1999's The Fundamental Elements of Southtown, spawned the hits \"Southtown\" and \"Rock the Party (Off the Hook)\",\n",
            " 44% 440/1000 [01:43<02:10,  4.30it/s]Wake Me Up When September Ends\"--the<-Wake Me Up When September Ends\n",
            " 47% 468/1000 [01:49<02:03,  4.32it/s]Australians<-Australia\n",
            " 55% 546/1000 [02:07<01:55,  3.92it/s]--who one member described as the \"forerunner for Fat Freddys\"--provided<---who one member described as the \"forerunner for Fat Freddys\"--\n",
            "An established group from Kaikoura named Salmonella Dub--who one member described as the \"forerunner for Fat Freddys\"--provided<-An established group from Kaikoura named Salmonella Dub--who one member described as the \"forerunner for Fat Freddys\"--\n",
            " 57% 567/1000 [02:12<01:46,  4.07it/s]German musical<-German music\n",
            " 58% 581/1000 [02:15<01:37,  4.30it/s]songs<-son\n",
            "songs<-son\n",
            " 60% 597/1000 [02:19<01:33,  4.29it/s]R&B, hip-hop, and contemporary popular music<-&B, hip-hop, and contemporary popular music.\n",
            " 60% 605/1000 [02:21<01:31,  4.32it/s]T]he shock of the revelation was magnified because of Graham's longtime support of Israel and his refusal to join in calls for conversion of the Jews.<-]he shock of the revelation was magnified because of Graham's longtime support of Israel and his refusal to join in calls for conversion of the Jews.\"\n",
            " 61% 611/1000 [02:23<01:39,  3.92it/s]During her career, Ride served as the ground-based capsule communicator (CapCom) for the second and third space shuttle flights (STS-2 and STS-3<-During her career, Ride served as the ground-based capsule communicator (CapCom) for the second and third space shuttle flights (STS-2 and STS-\n",
            "Ride was assigned to NASA headquarters in Washington, D.C.<-Ride was assigned to NASA headquarters in Washington, D.\n",
            " 72% 725/1000 [02:50<01:00,  4.55it/s]Australian<-Australia\n",
            " 75% 752/1000 [02:56<01:01,  4.05it/s]mid-1995<-1995,\n",
            "mid-1995<-1995,\n",
            "mid-1995<-1995,\n",
            "mid-1995<-1995,\n",
            "mid-1995<-1995,\n",
            " 77% 766/1000 [02:59<00:48,  4.79it/s]under-17<-17\n",
            "under-17<-17\n",
            " 83% 834/1000 [03:14<00:33,  4.92it/s]became known for his critiques of public contemporary figures including Mother Teresa, Bill Clinton and Henry Kissinger--<-became known for his critiques of public contemporary figures including Mother Teresa, Bill Clinton and Henry Kissinger\n",
            "He became known for his critiques of public contemporary figures including Mother Teresa, Bill Clinton and Henry Kissinger--<-He became known for his critiques of public contemporary figures including Mother Teresa, Bill Clinton and Henry Kissinger\n",
            " 87% 874/1000 [03:23<00:28,  4.49it/s]homosexuality<-homosexual\n",
            "homosexuality<-homosexual\n",
            " 97% 972/1000 [03:45<00:05,  4.78it/s]2001<-20\n",
            " 98% 980/1000 [03:46<00:04,  4.57it/s]\"O'Donoghue's\"--released<-\"O'Donoghue's\n",
            "\"O'Donoghue's\"--released<-\"O'Donoghue's\"--\n",
            "\"O'Donoghue's\"--released<-\"O'Donoghue's\n",
            "Decades later, he recorded \"O'Donoghue's\"--released on the album Changing Trains (2004)--a<-Decades later, he recorded \"O'Donoghue's\"--released on the album Changing Trains (2004)--\n",
            "Decades later, he recorded \"O'Donoghue's\"--released<-Decades later, he recorded \"O'Donoghue's\"--\n",
            "he recorded \"O'Donoghue's\"--released on the album Changing Trains (2004)--a<-he recorded \"O'Donoghue's\"--released on the album Changing Trains (2004)--\n",
            "Decades later, he recorded \"O'Donoghue's\"--released<-Decades later, he recorded \"O'Donoghue's\"--\n",
            "he recorded \"O'Donoghue's\"--released on the album Changing Trains (2004)--a<-he recorded \"O'Donoghue's\"--released on the album Changing Trains (2004\n",
            " 99% 993/1000 [03:49<00:01,  4.44it/s]No.1: Two Virgins, an album of experimental musique concrete. The<-1: Two Virgins, an album of experimental musique concrete. The\n",
            "100% 1000/1000 [03:51<00:00,  4.31it/s]\n",
            "Traceback (most recent call last):\n",
            "  File \"/usr/local/lib/python3.7/dist-packages/pandas/core/indexes/base.py\", line 2898, in get_loc\n",
            "    return self._engine.get_loc(casted_key)\n",
            "  File \"pandas/_libs/index.pyx\", line 70, in pandas._libs.index.IndexEngine.get_loc\n",
            "  File \"pandas/_libs/index.pyx\", line 101, in pandas._libs.index.IndexEngine.get_loc\n",
            "  File \"pandas/_libs/hashtable_class_helper.pxi\", line 1675, in pandas._libs.hashtable.PyObjectHashTable.get_item\n",
            "  File \"pandas/_libs/hashtable_class_helper.pxi\", line 1683, in pandas._libs.hashtable.PyObjectHashTable.get_item\n",
            "KeyError: 'paragraph_id'\n",
            "\n",
            "The above exception was the direct cause of the following exception:\n",
            "\n",
            "Traceback (most recent call last):\n",
            "  File \"squad-question-generation/02_preprocessing/preprocessing.py\", line 366, in <module>\n",
            "    create_train_dev_test(TRAIN_FILENAME, DEV_FILENAME, LABELING)\n",
            "  File \"squad-question-generation/02_preprocessing/preprocessing.py\", line 281, in create_train_dev_test\n",
            "    create_conll_file(train_train_paragraph, data_folder + \"01_data/preprocessedData/\"+ dataset +\"/paragraph_conll/train.conll\")\n",
            "  File \"squad-question-generation/02_preprocessing/preprocessing.py\", line 334, in create_conll_file\n",
            "    if row[\"paragraph_id\"] != previous_paragraph_id:\n",
            "  File \"/usr/local/lib/python3.7/dist-packages/pandas/core/series.py\", line 882, in __getitem__\n",
            "    return self._get_value(key)\n",
            "  File \"/usr/local/lib/python3.7/dist-packages/pandas/core/series.py\", line 990, in _get_value\n",
            "    loc = self.index.get_loc(label)\n",
            "  File \"/usr/local/lib/python3.7/dist-packages/pandas/core/indexes/base.py\", line 2900, in get_loc\n",
            "    raise KeyError(key) from err\n",
            "KeyError: 'paragraph_id'\n"
          ],
          "name": "stdout"
        }
      ]
    },
    {
      "cell_type": "code",
      "metadata": {
        "id": "-XEbNI3dikS8"
      },
      "source": [
        ""
      ],
      "execution_count": null,
      "outputs": []
    },
    {
      "cell_type": "code",
      "metadata": {
        "id": "2re7jQ7Eje1-"
      },
      "source": [
        ""
      ],
      "execution_count": 20,
      "outputs": []
    },
    {
      "cell_type": "code",
      "metadata": {
        "id": "VqxDTBxUufie",
        "colab": {
          "base_uri": "https://localhost:8080/"
        },
        "outputId": "1df00c66-d3b8-431b-a4d4-1f2b4b557b0d"
      },
      "source": [
        "# Train NER\r\n",
        "!python -m spacy project run corpus spacy_target_answer"
      ],
      "execution_count": 13,
      "outputs": [
        {
          "output_type": "stream",
          "text": [
            "2021-03-20 16:35:37.927359: I tensorflow/stream_executor/platform/default/dso_loader.cc:49] Successfully opened dynamic library libcudart.so.11.0\n",
            "\u001b[1m\n",
            "=================================== corpus ===================================\u001b[0m\n",
            "Running command: /usr/bin/python3 -m spacy convert /content/gdrive/MyDrive/mt-qg-data/01_data/preprocessedData/quac/sentences_conll corpus -c ner\n",
            "2021-03-20 16:35:41.961167: I tensorflow/stream_executor/platform/default/dso_loader.cc:49] Successfully opened dynamic library libcudart.so.11.0\n",
            "\u001b[38;5;4mℹ Auto-detected token-per-line NER format\u001b[0m\n",
            "\u001b[38;5;3m⚠ Document delimiters found, automatic document segmentation with `-n`\n",
            "disabled.\u001b[0m\n",
            "\u001b[38;5;2m✔ Generated output file (2302 documents): corpus/dev.spacy\u001b[0m\n",
            "\u001b[38;5;3m⚠ Document delimiters found, automatic document segmentation with `-n`\n",
            "disabled.\u001b[0m\n",
            "\u001b[38;5;2m✔ Generated output file (1000 documents): corpus/test.spacy\u001b[0m\n",
            "\u001b[38;5;3m⚠ Document delimiters found, automatic document segmentation with `-n`\n",
            "disabled.\u001b[0m\n",
            "\u001b[38;5;2m✔ Generated output file (9263 documents): corpus/train.spacy\u001b[0m\n"
          ],
          "name": "stdout"
        }
      ]
    },
    {
      "cell_type": "code",
      "metadata": {
        "colab": {
          "base_uri": "https://localhost:8080/"
        },
        "id": "hpWbwFaxFcXB",
        "outputId": "f755bade-c162-47ff-a1f2-04b775460cf8"
      },
      "source": [
        "!python -m spacy init fill-config ./spacy_target_answer/configs/base_config.cfg ./spacy_target_answer/configs/config.cfg\r\n",
        "!python -m spacy project run train spacy_target_answer"
      ],
      "execution_count": 14,
      "outputs": [
        {
          "output_type": "stream",
          "text": [
            "2021-03-20 16:38:21.233842: I tensorflow/stream_executor/platform/default/dso_loader.cc:49] Successfully opened dynamic library libcudart.so.11.0\n",
            "\u001b[38;5;2m✔ Auto-filled config with all values\u001b[0m\n",
            "\u001b[38;5;2m✔ Saved config\u001b[0m\n",
            "spacy_target_answer/configs/config.cfg\n",
            "You can now add your data and train your pipeline:\n",
            "python -m spacy train config.cfg --paths.train ./train.spacy --paths.dev ./dev.spacy\n",
            "2021-03-20 16:38:26.247573: I tensorflow/stream_executor/platform/default/dso_loader.cc:49] Successfully opened dynamic library libcudart.so.11.0\n",
            "\u001b[1m\n",
            "=================================== train ===================================\u001b[0m\n",
            "Running command: /usr/bin/python3 -m spacy train configs/config.cfg -o training/ --gpu-id 0 --paths.train corpus/train.spacy --paths.dev corpus/dev.spacy --output /content/gdrive/MyDrive/mt-qg-data/00_models/spacy_target_answer/quac\n",
            "2021-03-20 16:38:30.048975: I tensorflow/stream_executor/platform/default/dso_loader.cc:49] Successfully opened dynamic library libcudart.so.11.0\n",
            "\u001b[38;5;4mℹ Using GPU: 0\u001b[0m\n",
            "\u001b[1m\n",
            "=========================== Initializing pipeline ===========================\u001b[0m\n",
            "[2021-03-20 16:38:34,409] [INFO] Set up nlp object from config\n",
            "[2021-03-20 16:38:34,421] [INFO] Pipeline: ['transformer', 'ner']\n",
            "[2021-03-20 16:38:34,427] [INFO] Created vocabulary\n",
            "[2021-03-20 16:38:34,427] [INFO] Finished initializing nlp object\n",
            "Downloading: 100% 481/481 [00:00<00:00, 384kB/s]\n",
            "Downloading: 100% 899k/899k [00:00<00:00, 1.85MB/s]\n",
            "Downloading: 100% 456k/456k [00:00<00:00, 1.13MB/s]\n",
            "Downloading: 100% 1.36M/1.36M [00:00<00:00, 2.71MB/s]\n",
            "Downloading: 100% 501M/501M [00:10<00:00, 45.6MB/s]\n",
            "[2021-03-20 16:42:00,464] [INFO] Initialized pipeline components: ['transformer', 'ner']\n",
            "\u001b[38;5;2m✔ Initialized pipeline\u001b[0m\n",
            "\u001b[1m\n",
            "============================= Training pipeline =============================\u001b[0m\n",
            "\u001b[38;5;4mℹ Pipeline: ['transformer', 'ner']\u001b[0m\n",
            "\u001b[38;5;4mℹ Initial learn rate: 0.0\u001b[0m\n",
            "E    #       LOSS TRANS...  LOSS NER  ENTS_F  ENTS_P  ENTS_R  SCORE \n",
            "---  ------  -------------  --------  ------  ------  ------  ------\n",
            "  0       0       17679.38    813.89    0.27    0.21    0.37    0.00\n",
            "  0     200      404404.46  40382.44   18.37   69.24   10.59    0.18\n",
            "  0     400        4455.78   7241.86   18.37   69.21   10.59    0.18\n",
            "  0     600        3791.14   6753.23   18.37   69.21   10.59    0.18\n",
            "  0     800        3656.92   6857.12   20.06   58.79   12.09    0.20\n",
            "  0    1000        3446.18   6819.03   19.71   32.71   14.11    0.20\n",
            "  0    1200        3229.59   6565.58   24.99   35.54   19.27    0.25\n",
            "\n",
            "Aborted!\n"
          ],
          "name": "stdout"
        }
      ]
    },
    {
      "cell_type": "code",
      "metadata": {
        "colab": {
          "base_uri": "https://localhost:8080/"
        },
        "id": "oRh9eY0_uGTM",
        "outputId": "6e6fcaae-41fb-4b12-a73c-99d5fc45a4ce"
      },
      "source": [
        "!python -m spacy project run evaluate spacy_target_answer"
      ],
      "execution_count": 20,
      "outputs": [
        {
          "output_type": "stream",
          "text": [
            "2021-03-20 18:00:19.605272: I tensorflow/stream_executor/platform/default/dso_loader.cc:49] Successfully opened dynamic library libcudart.so.11.0\n",
            "\u001b[1m\n",
            "================================== evaluate ==================================\u001b[0m\n",
            "Running command: /usr/bin/python3 -m spacy evaluate /content/gdrive/MyDrive/mt-qg-data/00_models/spacy_target_answer/quac/model-best ./corpus/test.spacy --output ./metrics/config.json --gpu-id 0\n",
            "2021-03-20 18:00:23.261902: I tensorflow/stream_executor/platform/default/dso_loader.cc:49] Successfully opened dynamic library libcudart.so.11.0\n",
            "\u001b[38;5;4mℹ Using GPU: 0\u001b[0m\n",
            "\u001b[1m\n",
            "================================== Results ==================================\u001b[0m\n",
            "\n",
            "TOK     -    \n",
            "NER P   58.55\n",
            "NER R   14.70\n",
            "NER F   23.50\n",
            "SPEED   3198 \n",
            "\n",
            "\u001b[1m\n",
            "=============================== NER (per type) ===============================\u001b[0m\n",
            "\n",
            "             P       R       F\n",
            "Answer   58.55   14.70   23.50\n",
            "\n",
            "\u001b[38;5;2m✔ Saved results to metrics/config.json\u001b[0m\n"
          ],
          "name": "stdout"
        }
      ]
    },
    {
      "cell_type": "code",
      "metadata": {
        "colab": {
          "base_uri": "https://localhost:8080/",
          "height": 249
        },
        "id": "P_cnNeWqw_fO",
        "outputId": "e94aa8c8-155f-4a0f-fa74-bb14b83e197d"
      },
      "source": [
        "import spacy\r\n",
        "nlp = spacy.load('/content/gdrive/MyDrive/mt-qg-data/00_models/spacy_target_answer/quac/model-best')\r\n",
        "doc = nlp(u\"There are no major roads through Golm, only state road (Landesstraße) L 902 passes through the northern parts of the village area and offers the shortest connection to federal highway (Bundesstraße) 273. The latter can also be reached following a road extending east from Golm past Sanssouci Park to the Jägervorstadt quarter of Potsdam. The railway between Wildpark and Nauen was opened in 1902 as part of the single-tracked bypass railway (Umgehungsbahn) intended to connect the radial railway lines originating from Berlin. A station was established in Golm. In the 1950s this line became part of the Berlin outer ring and was double-tracked. Golm is now a passenger station for regional trains to Potsdam, Wustermark, Hennigsdorf, and Berlin Schönefeld Airport. Golm has also bus connections to Potsdam and Neu Töplitz and is included in fare zone C (Tarifbereich C)[2] of Berlin's public transport system and in fare zone B of Potsdam's public transport system.\")\r\n",
        "spacy.displacy.render(doc, style='ent', jupyter =True)"
      ],
      "execution_count": 23,
      "outputs": [
        {
          "output_type": "stream",
          "text": [
            "/usr/local/lib/python3.7/dist-packages/spacy/displacy/__init__.py:189: UserWarning: [W006] No entities to visualize found in Doc object. If this is surprising to you, make sure the Doc was processed using a model that supports named entity recognition, and check the `doc.ents` property manually if necessary.\n",
            "  warnings.warn(Warnings.W006)\n"
          ],
          "name": "stderr"
        },
        {
          "output_type": "display_data",
          "data": {
            "text/html": [
              "<span class=\"tex2jax_ignore\"><div class=\"entities\" style=\"line-height: 2.5; direction: ltr\">There are no major roads through Golm, only state road (Landesstraße) L 902 passes through the northern parts of the village area and offers the shortest connection to federal highway (Bundesstraße) 273. The latter can also be reached following a road extending east from Golm past Sanssouci Park to the Jägervorstadt quarter of Potsdam. The railway between Wildpark and Nauen was opened in 1902 as part of the single-tracked bypass railway (Umgehungsbahn) intended to connect the radial railway lines originating from Berlin. A station was established in Golm. In the 1950s this line became part of the Berlin outer ring and was double-tracked. Golm is now a passenger station for regional trains to Potsdam, Wustermark, Hennigsdorf, and Berlin Schönefeld Airport. Golm has also bus connections to Potsdam and Neu Töplitz and is included in fare zone C (Tarifbereich C)[2] of Berlin's public transport system and in fare zone B of Potsdam's public transport system.</div></span>"
            ],
            "text/plain": [
              "<IPython.core.display.HTML object>"
            ]
          },
          "metadata": {
            "tags": []
          }
        }
      ]
    },
    {
      "cell_type": "code",
      "metadata": {
        "id": "jlLHvqhn5u62"
      },
      "source": [
        ""
      ],
      "execution_count": 24,
      "outputs": []
    },
    {
      "cell_type": "code",
      "metadata": {
        "id": "0SDMhZ6H6hpp"
      },
      "source": [
        ""
      ],
      "execution_count": null,
      "outputs": []
    }
  ]
}