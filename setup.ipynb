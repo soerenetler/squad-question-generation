{
  "nbformat": 4,
  "nbformat_minor": 0,
  "metadata": {
    "orig_nbformat": 2,
    "colab": {
      "name": "setup.ipynb",
      "provenance": []
    },
    "kernelspec": {
      "name": "python3",
      "display_name": "Python 3"
    },
    "accelerator": "GPU"
  },
  "cells": [
    {
      "cell_type": "code",
      "metadata": {
        "id": "1v_oQY0ciH-C",
        "colab": {
          "base_uri": "https://localhost:8080/"
        },
        "outputId": "65f6864e-0a63-4b80-b8e4-75c32d369bb7"
      },
      "source": [
        "import os\n",
        "os.system(\"git clone https://github.com/soerenetler/squad-question-generation.git\")\n",
        "os.system(\"git clone https://github.com/soerenetler/spacy_target_answer.git\")\n",
        "\n",
        "from google.colab import drive\n",
        "drive.mount('/content/gdrive')"
      ],
      "execution_count": 1,
      "outputs": [
        {
          "output_type": "stream",
          "text": [
            "Mounted at /content/gdrive\n"
          ],
          "name": "stdout"
        }
      ]
    },
    {
      "cell_type": "code",
      "metadata": {
        "colab": {
          "base_uri": "https://localhost:8080/"
        },
        "id": "LV0knGnkAs1c",
        "outputId": "3a5a5ffc-1524-41e5-9d5c-61b5bdcbc35f"
      },
      "source": [
        "!(cd spacy_target_answer; git pull)\n",
        "!(cd squad-question-generation/; git pull)"
      ],
      "execution_count": 14,
      "outputs": [
        {
          "output_type": "stream",
          "text": [
            "remote: Enumerating objects: 5, done.\u001b[K\n",
            "remote: Counting objects:  20% (1/5)\u001b[K\rremote: Counting objects:  40% (2/5)\u001b[K\rremote: Counting objects:  60% (3/5)\u001b[K\rremote: Counting objects:  80% (4/5)\u001b[K\rremote: Counting objects: 100% (5/5)\u001b[K\rremote: Counting objects: 100% (5/5), done.\u001b[K\n",
            "remote: Compressing objects: 100% (1/1)\u001b[K\rremote: Compressing objects: 100% (1/1), done.\u001b[K\n",
            "remote: Total 3 (delta 2), reused 3 (delta 2), pack-reused 0\u001b[K\n",
            "Unpacking objects:  33% (1/3)   \rUnpacking objects:  66% (2/3)   \rUnpacking objects: 100% (3/3)   \rUnpacking objects: 100% (3/3), done.\n",
            "From https://github.com/soerenetler/spacy_target_answer\n",
            "   376cc1d..78e2acd  master     -> origin/master\n",
            "Updating 376cc1d..78e2acd\n",
            "Fast-forward\n",
            " project.yml | 2 \u001b[32m+\u001b[m\u001b[31m-\u001b[m\n",
            " 1 file changed, 1 insertion(+), 1 deletion(-)\n",
            "Already up to date.\n"
          ],
          "name": "stdout"
        }
      ]
    },
    {
      "cell_type": "code",
      "metadata": {
        "colab": {
          "base_uri": "https://localhost:8080/"
        },
        "id": "yjPWdFiiI4xi",
        "outputId": "db8111ce-a426-47ba-c539-069c0154279e"
      },
      "source": [
        "!nvidia-smi"
      ],
      "execution_count": 3,
      "outputs": [
        {
          "output_type": "stream",
          "text": [
            "Wed Mar 24 17:27:33 2021       \n",
            "+-----------------------------------------------------------------------------+\n",
            "| NVIDIA-SMI 460.56       Driver Version: 460.32.03    CUDA Version: 11.2     |\n",
            "|-------------------------------+----------------------+----------------------+\n",
            "| GPU  Name        Persistence-M| Bus-Id        Disp.A | Volatile Uncorr. ECC |\n",
            "| Fan  Temp  Perf  Pwr:Usage/Cap|         Memory-Usage | GPU-Util  Compute M. |\n",
            "|                               |                      |               MIG M. |\n",
            "|===============================+======================+======================|\n",
            "|   0  Tesla V100-SXM2...  Off  | 00000000:00:04.0 Off |                    0 |\n",
            "| N/A   34C    P0    24W / 300W |      0MiB / 16160MiB |      0%      Default |\n",
            "|                               |                      |                  N/A |\n",
            "+-------------------------------+----------------------+----------------------+\n",
            "                                                                               \n",
            "+-----------------------------------------------------------------------------+\n",
            "| Processes:                                                                  |\n",
            "|  GPU   GI   CI        PID   Type   Process name                  GPU Memory |\n",
            "|        ID   ID                                                   Usage      |\n",
            "|=============================================================================|\n",
            "|  No running processes found                                                 |\n",
            "+-----------------------------------------------------------------------------+\n"
          ],
          "name": "stdout"
        }
      ]
    },
    {
      "cell_type": "code",
      "metadata": {
        "colab": {
          "base_uri": "https://localhost:8080/"
        },
        "id": "HXgEs_qGIxz-",
        "outputId": "59b580ef-212e-43bd-80b5-ecafd95b8975"
      },
      "source": [
        "!pip install --quiet -U pip setuptools wheel"
      ],
      "execution_count": 4,
      "outputs": [
        {
          "output_type": "stream",
          "text": [
            "\u001b[K     |████████████████████████████████| 1.5MB 15.6MB/s \n",
            "\u001b[K     |████████████████████████████████| 788kB 56.9MB/s \n",
            "\u001b[31mERROR: datascience 0.10.6 has requirement folium==0.2.1, but you'll have folium 0.8.3 which is incompatible.\u001b[0m\n",
            "\u001b[?25h"
          ],
          "name": "stdout"
        }
      ]
    },
    {
      "cell_type": "code",
      "metadata": {
        "colab": {
          "base_uri": "https://localhost:8080/"
        },
        "id": "1m6YK0fTI0j2",
        "outputId": "8157f656-41c0-46d9-d2f4-fff2bf6bddf2"
      },
      "source": [
        "!pip install --quiet -U spacy[cuda110,transformers,lookups]"
      ],
      "execution_count": 5,
      "outputs": [
        {
          "output_type": "stream",
          "text": [
            "\u001b[K     |████████████████████████████████| 12.8 MB 12.2 MB/s \n",
            "\u001b[K     |████████████████████████████████| 9.1 MB 70.4 MB/s \n",
            "\u001b[K     |████████████████████████████████| 1.1 MB 55.2 MB/s \n",
            "\u001b[K     |████████████████████████████████| 456 kB 52.6 MB/s \n",
            "\u001b[K     |████████████████████████████████| 93.4 MB 28 kB/s \n",
            "\u001b[K     |████████████████████████████████| 165.3 MB 34 kB/s \n",
            "\u001b[K     |████████████████████████████████| 113 kB 73.3 MB/s \n",
            "\u001b[K     |████████████████████████████████| 66 kB 4.5 MB/s \n",
            "\u001b[K     |████████████████████████████████| 977 kB 46.1 MB/s \n",
            "\u001b[K     |████████████████████████████████| 1.8 MB 58.8 MB/s \n",
            "\u001b[K     |████████████████████████████████| 883 kB 55.0 MB/s \n",
            "\u001b[K     |████████████████████████████████| 2.9 MB 55.6 MB/s \n",
            "\u001b[?25h  Building wheel for smart-open (setup.py) ... \u001b[?25l\u001b[?25hdone\n",
            "  Building wheel for ftfy (setup.py) ... \u001b[?25l\u001b[?25hdone\n",
            "  Building wheel for torchcontrib (setup.py) ... \u001b[?25l\u001b[?25hdone\n",
            "  Building wheel for sacremoses (setup.py) ... \u001b[?25l\u001b[?25hdone\n"
          ],
          "name": "stdout"
        }
      ]
    },
    {
      "cell_type": "code",
      "metadata": {
        "colab": {
          "base_uri": "https://localhost:8080/"
        },
        "id": "N__oOtlnI8t8",
        "outputId": "b90fbf57-513e-4e78-bde9-92ff7930023a"
      },
      "source": [
        "!python -m spacy download en_core_web_sm --quiet\n",
        "!python -m spacy download en_core_web_trf --quiet"
      ],
      "execution_count": 6,
      "outputs": [
        {
          "output_type": "stream",
          "text": [
            "2021-03-24 17:28:28.290216: I tensorflow/stream_executor/platform/default/dso_loader.cc:49] Successfully opened dynamic library libcudart.so.11.0\n",
            "\u001b[K     |████████████████████████████████| 13.7 MB 11.3 MB/s \n",
            "\u001b[?25h\u001b[38;5;2m✔ Download and installation successful\u001b[0m\n",
            "You can now load the package via spacy.load('en_core_web_sm')\n",
            "2021-03-24 17:28:37.595196: I tensorflow/stream_executor/platform/default/dso_loader.cc:49] Successfully opened dynamic library libcudart.so.11.0\n",
            "\u001b[K     |████████████████████████████████| 459.7 MB 17 kB/s \n",
            "\u001b[?25h\u001b[38;5;2m✔ Download and installation successful\u001b[0m\n",
            "You can now load the package via spacy.load('en_core_web_trf')\n"
          ],
          "name": "stdout"
        }
      ]
    },
    {
      "cell_type": "code",
      "metadata": {
        "colab": {
          "base_uri": "https://localhost:8080/"
        },
        "id": "0sMcLq1RSiVC",
        "outputId": "d6eecb5b-fb64-4be3-be07-a75156a1f4e8"
      },
      "source": [
        "!spacy validate"
      ],
      "execution_count": 7,
      "outputs": [
        {
          "output_type": "stream",
          "text": [
            "2021-03-24 17:29:10.285467: I tensorflow/stream_executor/platform/default/dso_loader.cc:49] Successfully opened dynamic library libcudart.so.11.0\n",
            "\u001b[2K\u001b[38;5;2m✔ Loaded compatibility table\u001b[0m\n",
            "\u001b[1m\n",
            "================= Installed pipeline packages (spaCy v3.0.5) =================\u001b[0m\n",
            "\u001b[38;5;4mℹ spaCy installation: /usr/local/lib/python3.7/dist-packages/spacy\u001b[0m\n",
            "\n",
            "NAME              SPACY            VERSION                            \n",
            "en_core_web_trf   >=3.0.0,<3.1.0   \u001b[38;5;2m3.0.0\u001b[0m   \u001b[38;5;2m✔\u001b[0m\n",
            "en_core_web_sm    >=3.0.0,<3.1.0   \u001b[38;5;2m3.0.0\u001b[0m   \u001b[38;5;2m✔\u001b[0m\n",
            "\n"
          ],
          "name": "stdout"
        }
      ]
    },
    {
      "cell_type": "code",
      "metadata": {
        "id": "DKANy0iZiIv8",
        "colab": {
          "base_uri": "https://localhost:8080/"
        },
        "outputId": "d018e8bf-1833-4e65-b5d1-960d05865e7f"
      },
      "source": [
        "# PREPROCESSING\n",
        "!python3 squad-question-generation/02_preprocessing/preprocessing.py"
      ],
      "execution_count": 39,
      "outputs": [
        {
          "output_type": "stream",
          "text": [
            "2021-03-24 11:03:06.798200: I tensorflow/stream_executor/platform/default/dso_loader.cc:49] Successfully opened dynamic library libcudart.so.11.0\n",
            "  0% 22/11567 [00:03<24:28,  7.86it/s].  Life in Hell became popular almost immediately. In<-  Life in Hell became popular almost immediately. In\n",
            "  0% 53/11567 [00:06<21:58,  8.73it/s].  In 2013, she played a special participation role in Apoy Sa Dagat as young Odessa<-  In 2013, she played a special participation role in Apoy Sa Dagat as young Odessa,\n",
            "  1% 94/11567 [00:11<20:04,  9.52it/s].  At the university, he decided to take acting classes and took up theatre as his minor<-  At the university, he decided to take acting classes and took up theatre as his minor.\n",
            "  1% 104/11567 [00:12<21:20,  8.95it/s]Bill and Charlie carried on as a duo, eventually winning spots performing live on radio stations--<-Bill and Charlie carried on as a duo, eventually winning spots performing live on radio stations\n",
            "  1% 142/11567 [00:16<18:39, 10.20it/s].  Clarkson lent her voice in the computer-animated film, The Star<-  Clarkson lent her voice in the computer-animated film, The Star\n",
            "  1% 170/11567 [00:19<22:16,  8.53it/s].  \"My Happiness\" peaked at number 23 on the Hot Modern Rock Tracks<-  \"My Happiness\" peaked at number 23 on the Hot Modern Rock Tracks,\n",
            "  2% 178/11567 [00:20<25:24,  7.47it/s].  After recording 11 albums with the group, Martin left Menudo in July 1989, at age 17<-  After recording 11 albums with the group, Martin left Menudo in July 1989, at age 17,\n",
            "  2% 269/11567 [00:30<23:03,  8.17it/s].  Jackson joined trumpeter Wadada Leo Smith's Golden Quartet with pianist Vijay Iyer and double-bassist John Lindberg in 2005<-  Jackson joined trumpeter Wadada Leo Smith's Golden Quartet with pianist Vijay Iyer and double-bassist John Lindberg in 2005.\n",
            "  3% 379/11567 [00:42<22:23,  8.33it/s].  (T)his Alumni Game has provided an opportunity to rebuild ... once-burnt bridges<-  (T)his Alumni Game has provided an opportunity to rebuild ... once-burnt bridges.\n",
            "  3% 397/11567 [00:44<17:49, 10.44it/s].  \"Say Goodbye to Hollywood\" was a minor hit; Ronnie Spector recorded a cover<-  \"Say Goodbye to Hollywood\" was a minor hit; Ronnie Spector recorded a cover\n",
            "  4% 426/11567 [00:47<20:33,  9.03it/s].  Vince Piazza's own hopes of playing baseball had ended at the age of 16 when he left school<-  Vince Piazza's own hopes of playing baseball had ended at the age of 16 when he left school\n",
            "  4% 434/11567 [00:48<26:16,  7.06it/s].  \"Hold On\" was awarded a Billboard Music Award for \"#1 R&B Single of the Year<-  \"Hold On\" was awarded a Billboard Music Award for \"#1 R&B Single of the Year,\n",
            "  4% 447/11567 [00:49<18:15, 10.15it/s]This<-his\n",
            "  4% 476/11567 [00:53<21:32,  8.58it/s].  Leno immediately accepted the return to 11:35 p.m.<-  Leno immediately accepted the return to 11:35 p.m.,\n",
            "  5% 570/11567 [01:03<24:18,  7.54it/s].  \"Despite growing evidence of remaining friction between the members,\" the band continued to tour in the early 2010s<-  \"Despite growing evidence of remaining friction between the members,\" the band continued to tour in the early 2010s.\n",
            "  5% 605/11567 [01:06<20:51,  8.76it/s].  He followed in 1990 with a very different film, The Rainbow Thief. Though it gave Jodorowsky<-  He followed in 1990 with a very different film, The Rainbow Thief. Though it gave Jodorowsky\n",
            "  5% 635/11567 [01:10<24:09,  7.54it/s].  He never lost a race in the 100 yard or 100 meter competitions<-  He never lost a race in the 100 yard or 100 meter competitions,\n",
            "  6% 657/11567 [01:12<20:36,  8.83it/s].  In October 1968, McKernan and Weir were nearly fired from the band<-  In October 1968, McKernan and Weir were nearly fired from the band\n",
            "  6% 672/11567 [01:14<19:42,  9.22it/s].  Skelton went on the air with his own radio show, The Raleigh Cigarette Program<-  Skelton went on the air with his own radio show, The Raleigh Cigarette Program,\n",
            "  6% 685/11567 [01:15<18:39,  9.72it/s].  \"Would You Go with Me<-  \"Would You Go with Me\"\n",
            "  6% 751/11567 [01:22<15:23, 11.71it/s]Nothing<-No\n",
            "  7% 802/11567 [01:27<24:08,  7.43it/s].  In 2003, he teamed with singer Ronald Isley to release the album Here I Am<-  In 2003, he teamed with singer Ronald Isley to release the album Here I Am,\n",
            "  7% 817/11567 [01:29<18:43,  9.56it/s].  Dixon is considered one of the key figures in the creation of Chicago blues<-  Dixon is considered one of the key figures in the creation of Chicago blues.\n",
            "  7% 825/11567 [01:30<20:21,  8.79it/s].  The second single taken from their second album was \"Is It Just Me?\", released on 20 February 2006<-  The second single taken from their second album was \"Is It Just Me?\", released on 20 February 2006.\n",
            "  8% 881/11567 [01:36<18:25,  9.67it/s]The word \"Vlach\" is etymologically derived from the ethnonym of a Celtic tribe, adopted into Proto-Germanic *Walhaz which meant \"stranger\", from *Wolka-<-The word \"Vlach\" is etymologically derived from the ethnonym of a Celtic tribe, adopted into Proto-Germanic *Walhaz which meant \"stranger\", from *Wolka\n",
            "  8% 931/11567 [01:41<18:31,  9.57it/s].  They had no time to rehearse a live performance except between takes on set<-  They had no time to rehearse a live performance except between takes on set.\n",
            "  8% 936/11567 [01:42<20:15,  8.74it/s].  \"Spanish Sahara\" was featured in trailers for season seven of Entourage, season four of Skins and Outcasts<-  \"Spanish Sahara\" was featured in trailers for season seven of Entourage, season four of Skins and Outcasts.\n",
            "  8% 949/11567 [01:44<26:28,  6.68it/s].  In 2001, Evans was the most-nominated artist at the Country Music Association awards with seven nominations overall<-  In 2001, Evans was the most-nominated artist at the Country Music Association awards with seven nominations overall,\n",
            "  9% 1023/11567 [01:52<17:31, 10.02it/s]mid-2003<-2003,\n",
            "  9% 1052/11567 [01:55<21:04,  8.32it/s]Awards<-Award\n",
            "  9% 1063/11567 [01:56<21:06,  8.29it/s].  \"LaBamba\" was also used as the butt of many of Conan's jokes<-  \"LaBamba\" was also used as the butt of many of Conan's jokes.\n",
            " 10% 1147/11567 [02:05<18:26,  9.42it/s]he grew up in a strict household where he had to be in bed every night by 9:00PM<-he grew up in a strict household where he had to be in bed every night by 9:\n",
            " 10% 1197/11567 [02:10<20:21,  8.49it/s].  Kovacs's first paid entertainment work was during 1941<-  Kovacs's first paid entertainment work was during 1941,\n",
            " 10% 1210/11567 [02:12<18:41,  9.24it/s]Ali<-Al\n",
            " 11% 1272/11567 [02:18<19:38,  8.74it/s].  Gingrich sought a rematch against Flynt in 1976<-  Gingrich sought a rematch against Flynt in 1976.\n",
            " 12% 1336/11567 [02:25<18:17,  9.32it/s]:  \"Sergeant Pepper<-  \"Sergeant Pepper\"\n",
            " 12% 1337/11567 [02:25<20:21,  8.37it/s]They<-The\n",
            " 12% 1342/11567 [02:26<20:16,  8.41it/s]in Saint Michael, Barbados--\"just outside the walls of [HM Prison] Glendairy\"--to<-in Saint Michael, Barbados--\"just outside the walls of [HM Prison] Glendairy\"--\n",
            " 12% 1347/11567 [02:26<19:15,  8.84it/s]Low-Life refined and sometimes mixed the two styles, brandishing \"The Perfect Kiss\"--the<-Low-Life refined and sometimes mixed the two styles, brandishing \"The Perfect Kiss\"--\n",
            " 12% 1389/11567 [02:31<18:46,  9.03it/s].  \"My Happiness\" peaked at number 23<-  \"My Happiness\" peaked at number 23\n",
            " 12% 1398/11567 [02:31<17:56,  9.44it/s]left fielder<-left field\n",
            " 12% 1408/11567 [02:32<17:19,  9.77it/s].  Sakamoto began working in films, as a composer and actor<-  Sakamoto began working in films, as a composer and actor,\n",
            " 12% 1440/11567 [02:36<19:56,  8.46it/s].  Mojo first appears in the Wolverine and the X-Men episode \"X-Calibre\" voiced by Charlie Adler<-  Mojo first appears in the Wolverine and the X-Men episode \"X-Calibre\" voiced by Charlie Adler.\n",
            " 12% 1444/11567 [02:36<22:28,  7.51it/s]PPR leadership<-PPR leaders\n",
            " 13% 1482/11567 [02:40<19:56,  8.43it/s].  In the 1917 season, Bell led Penn to a 9-2 record<-  In the 1917 season, Bell led Penn to a 9-2 record.\n",
            " 13% 1483/11567 [02:41<21:13,  7.92it/s]producers<-producer\n",
            " 13% 1500/11567 [02:42<18:33,  9.04it/s].  \"S.O.S. (Let the Music Play)\"<-  \"S.O.S. (Let the Music Play)\",\n",
            " 13% 1557/11567 [02:49<20:01,  8.33it/s]Members often visited Neshobe Island, a private island co-owned by several \"Algonks\"--but<-Members often visited Neshobe Island, a private island co-owned by several \"Algonks\"--\n",
            " 14% 1653/11567 [02:59<18:47,  8.79it/s].  \"I Feel It All\" was featured in the UK teen comedy The Inbetweeners<-  \"I Feel It All\" was featured in the UK teen comedy The Inbetweeners\n",
            " 14% 1660/11567 [03:00<27:37,  5.98it/s].  \"Mansize Rooster\", released in February 1995, peaked at number 20 in the UK Singles Chart<-  \"Mansize Rooster\", released in February 1995, peaked at number 20 in the UK Singles Chart\n",
            " 15% 1740/11567 [03:08<16:47,  9.75it/s].  Entertainment Weekly put Dempsey's hair on its end-of-the-decade \"best-of\" list<-  Entertainment Weekly put Dempsey's hair on its end-of-the-decade \"best-of\" list,\n",
            " 16% 1836/11567 [03:18<16:48,  9.65it/s]She started handing out pieces of wire that were just under one foot long (11.80 inches = 300 millimeters)--the<-She started handing out pieces of wire that were just under one foot long (11.80 inches = 300 millimeters)--\n",
            " 17% 1931/11567 [03:28<17:45,  9.05it/s]Wrestling<-in\n",
            " 17% 1940/11567 [03:29<17:55,  8.95it/s]Timur, mostly considered a barbarian, in fact was a well learned king, and did enjoy the company of scholars --he<-Timur, mostly considered a barbarian, in fact was a well learned king, and did enjoy the company of scholars --\n",
            " 17% 1958/11567 [03:31<16:02,  9.98it/s]guitarist<-guitar\n",
            " 17% 1965/11567 [03:31<17:17,  9.25it/s].  The album, Helplessness Blues, was released on<-  The album, Helplessness Blues, was released on\n",
            " 17% 1994/11567 [03:35<18:51,  8.46it/s]Stafford's tenure with the United Service Organizations (USO) during World War II--which often saw her perform for soldiers stationed in the U.S.--led<-Stafford's tenure with the United Service Organizations (USO) during World War II--which often saw her perform for soldiers stationed in the U.S.\n",
            " 18% 2030/11567 [03:38<16:11,  9.82it/s].  The band eventually decided to remain signed to Epitaph, and the next year released its third album<-  The band eventually decided to remain signed to Epitaph, and the next year released its third album\n",
            " 18% 2066/11567 [03:42<14:52, 10.65it/s]thing\"--Jones then proceeded to learn the drums and eventually formed the band, The Birthday<-Jones then proceeded to learn the drums and eventually formed the band, The Birthday Suit,\n",
            " 18% 2099/11567 [03:46<19:38,  8.04it/s].  \"Ooh La La\", the album's lead single<-  \"Ooh La La\", the album's lead single,\n",
            " 18% 2100/11567 [03:46<20:53,  7.55it/s].  McEntire released her third Christmas album My Kind of Christmas on September 2, 2016<-  McEntire released her third Christmas album My Kind of Christmas on September 2, 2016.\n",
            " 18% 2129/11567 [03:49<16:09,  9.74it/s].  Safran also presented segments for the Seven Network's now defunct Late Report<-  Safran also presented segments for the Seven Network's now defunct Late Report,\n",
            " 19% 2198/11567 [03:56<14:14, 10.97it/s]Wenceslas' death, four biographies of him were in circulation. These hagiographies had a powerful influence on the High Middle Ages conceptualization of the rex iustus, or \"righteous king\"--that<-Wenceslas' death, four biographies of him were in circulation. These hagiographies had a powerful influence on the High Middle Ages conceptualization of the rex iustus, or \"righteous king\n",
            " 20% 2336/11567 [04:10<16:08,  9.54it/s].  On 13 January 2010, Warp Records announced Oversteps, Autechre's tenth album. Originally slated to be released in March<-  On 13 January 2010, Warp Records announced Oversteps, Autechre's tenth album. Originally slated to be released in March,\n",
            " 20% 2355/11567 [04:12<18:40,  8.22it/s]The album--which included the macabre \"I Hold Your Hand in Mine\", the mildly risque \"Be Prepared\", and \"Lobachevsky\" (regarding plagiarizing mathematicians)--became<-The album--which included the macabre \"I Hold Your Hand in Mine\", the mildly risque \"Be Prepared\", and \"Lobachevsky\" (regarding plagiarizing mathematicians)--\n",
            " 21% 2398/11567 [04:17<16:21,  9.34it/s]Republicans<-Republican\n",
            " 21% 2423/11567 [04:19<18:09,  8.39it/s].  When in Los Angeles he trains at the Equinox Gym in Westwood and when at home in Marbella<-  When in Los Angeles he trains at the Equinox Gym in Westwood and when at home in Marbella,\n",
            " 21% 2478/11567 [04:25<15:35,  9.72it/s]For her live performances, which she calls dinner theatre because of her practice of throwing tea and tea-time snacks offstage, Autumn makes use of burlesque--\"a<-For her live performances, which she calls dinner theatre because of her practice of throwing tea and tea-time snacks offstage, Autumn makes use of burlesque--\"\n",
            " 22% 2546/11567 [04:33<31:28,  4.78it/s]Janis Lyn Joplin was born in Port Arthur, Texas, on (1943-01-19)January<-Janis Lyn Joplin was born in Port Arthur, Texas, on (1943-01-19)\n",
            " 22% 2550/11567 [04:33<21:34,  6.97it/s].  While Presley was performing \"Hound Dog\" on television and his record was scaling the charts<-  While Presley was performing \"Hound Dog\" on television and his record was scaling the charts,\n",
            " 22% 2558/11567 [04:34<17:19,  8.67it/s]India's first innings was declared at a point when Sachin Tendulkar was at 194 runs not out with 16 overs remaining on Day 2.In<-India's first innings was declared at a point when Sachin Tendulkar was at 194 runs not out with 16 overs remaining on Day 2.\n",
            "2.In this test match Sehwag scored triple century first time<-In this test match Sehwag scored triple century first time.\n",
            " 22% 2588/11567 [04:38<18:09,  8.24it/s].  Goddet had to get Sofil to produce another jersey overnight, its logo still visible but artificial fabric absent<-  Goddet had to get Sofil to produce another jersey overnight, its logo still visible but artificial fabric absent.\n",
            " 23% 2611/11567 [04:40<16:11,  9.22it/s].  Stewie attempts to be a good boy by smothering Brian with affection<-  Stewie attempts to be a good boy by smothering Brian with affection.\n",
            " 23% 2613/11567 [04:40<17:34,  8.49it/s]Valley. Both men admired the work of Rudyard Kipling--Cooper kept a copy of the poem \"If--<-Valley. Both men admired the work of Rudyard Kipling--Cooper kept a copy of the poem \"If\n",
            " 24% 2727/11567 [04:52<14:40, 10.04it/s].  Until the arrival of Andy Bell in the Autumn of 1999, White was the token southerner<-  Until the arrival of Andy Bell in the Autumn of 1999, White was the token southerner\n",
            " 24% 2761/11567 [04:56<17:37,  8.33it/s].  Contributing to Christian European rhetorical traditions, Hildegard \"authorized herself as a theologian\" through alternative rhetorical arts<-  Contributing to Christian European rhetorical traditions, Hildegard \"authorized herself as a theologian\" through alternative rhetorical arts.\n",
            " 24% 2800/11567 [05:01<17:38,  8.28it/s]anorak<-no\n",
            " 25% 2834/11567 [05:04<16:36,  8.76it/s].  In mid-2006, Songz began work on a follow-up album to his debut with longtime collaborator Troy Taylor<-  In mid-2006, Songz began work on a follow-up album to his debut with longtime collaborator Troy Taylor\n",
            " 25% 2865/11567 [05:07<15:04,  9.62it/s].  In more recent times, burlesque true to its literary origins is still performed in revues and sketches<-  In more recent times, burlesque true to its literary origins is still performed in revues and sketches.\n",
            " 27% 3083/11567 [05:31<18:10,  7.78it/s].  In 1995 Veneman re-entered government, when she was appointed Secretary of the California Department of Food and Agriculture<-  In 1995 Veneman re-entered government, when she was appointed Secretary of the California Department of Food and Agriculture,\n",
            " 28% 3258/11567 [05:49<14:25,  9.60it/s].  \"Despite growing evidence of remaining friction between the members,\" the band continued to tour in the early 2010s<-  \"Despite growing evidence of remaining friction between the members,\" the band continued to tour in the early 2010s.\n",
            " 28% 3262/11567 [05:50<14:32,  9.51it/s]90s\"--Shania Twain<-Shania Twain,\n",
            " 29% 3301/11567 [05:54<15:01,  9.17it/s].  In an early December 2009 interview with the Bergen Record, Brennan remarked, \"<-  In an early December 2009 interview with the Bergen Record, Brennan remarked, \"\n",
            " 29% 3349/11567 [05:59<12:46, 10.72it/s].  Some of Mies' curriculum is still put in practice in the first and second year programs at IIT<-  Some of Mies' curriculum is still put in practice in the first and second year programs at IIT,\n",
            " 29% 3351/11567 [05:59<13:26, 10.19it/s].  The consequences of the marginalist movement were profound for the study of economics, Unger says. The<-  The consequences of the marginalist movement were profound for the study of economics, Unger says. The\n",
            " 29% 3375/11567 [06:02<14:11,  9.63it/s].  Not one of his librettists managed to produce a libretto on the same artistic level as Rameau's music<-  Not one of his librettists managed to produce a libretto on the same artistic level as Rameau's music:\n",
            " 30% 3426/11567 [06:07<11:11, 12.12it/s]Eagle\"--he made for a very striking personality<-he made for a very striking personality.\n",
            " 30% 3507/11567 [06:16<15:17,  8.79it/s]playwright<-play\n",
            " 30% 3520/11567 [06:17<15:22,  8.73it/s].  \"One Way Ticket\", the first single from their second album, was released on 14 November 2005<-  \"One Way Ticket\", the first single from their second album, was released on 14 November 2005,\n",
            " 31% 3560/11567 [06:21<16:06,  8.29it/s].  In the early 1910s<-  In the early 1910s,\n",
            " 31% 3589/11567 [06:24<13:39,  9.74it/s].  Marquez achieved his first podium on 22 June<-  Marquez achieved his first podium on 22 June\n",
            " 33% 3787/11567 [06:46<17:19,  7.48it/s].  \"Feel It Still\" became the band's biggest hit single to date in the United States<-  \"Feel It Still\" became the band's biggest hit single to date in the United States,\n",
            ".  \"Feel It Still\" became the band's biggest hit single to date in the United States, reaching<-  \"Feel It Still\" became the band's biggest hit single to date in the United States, reaching\n",
            " 33% 3823/11567 [06:50<13:15,  9.74it/s].  He collapsed shortly after the 1859 commencement and died that summer<-  He collapsed shortly after the 1859 commencement and died that summer.\n",
            " 33% 3836/11567 [06:51<14:17,  9.02it/s]Six--\"Heretic\"<---\"Heretic\", \"\n",
            "Their first recordings were three songs that appeared on the 1986 compilation album for C/Z Records called Deep Six--\"Heretic<-Their first recordings were three songs that appeared on the 1986 compilation album for C/Z Records called Deep Six--\"\n",
            " 36% 4148/11567 [07:24<13:46,  8.97it/s]goaltenders<-goal\n",
            " 36% 4162/11567 [07:26<13:39,  9.03it/s].  He started his career as a poet at an early age, at<-  He started his career as a poet at an early age, at\n",
            ".  He started his career as a poet at an early age, at about 11 or 12 years old<-  He started his career as a poet at an early age, at about 11 or 12 years old.\n",
            " 37% 4239/11567 [07:34<14:53,  8.20it/s]He was nominated for three Golden Globe Awards, but did not win, but he was presented with two Special Achievement Awards--for Bambi (1942) and The Living Desert (1953)--and<-He was nominated for three Golden Globe Awards, but did not win, but he was presented with two Special Achievement Awards--for Bambi (1942) and The Living Desert (1953)--\n",
            " 38% 4385/11567 [07:50<11:26, 10.46it/s]:  [Mielke's] bank account, which held more than 300,000 marks (about US $187,500), was confiscated<-  [Mielke's] bank account, which held more than 300,000 marks (about US $187,500), was confiscated.\n",
            " 39% 4483/11567 [08:00<12:34,  9.39it/s].  He remained the First Deputy Prime Minister until November 2005<-  He remained the First Deputy Prime Minister until November 2005.\n",
            " 40% 4581/11567 [08:10<12:12,  9.54it/s].  Life Love & Other Mysteries has been one of their most successful albums to date<-  Life Love & Other Mysteries has been one of their most successful albums to date.\n",
            " 40% 4636/11567 [08:16<13:18,  8.67it/s].  \"Ooh La La\", the album's lead single<-  \"Ooh La La\", the album's lead single,\n",
            ".  \"Ooh La La\", the album's lead single, became Goldfrapp's first UK top five single<-  \"Ooh La La\", the album's lead single, became Goldfrapp's first UK top five single.\n",
            " 40% 4667/11567 [08:20<13:09,  8.74it/s].  \"Promise Me You'll Remember\", his contribution to the Godfather III soundtrack<-  \"Promise Me You'll Remember\", his contribution to the Godfather III soundtrack,\n",
            " 42% 4832/11567 [08:38<29:05,  3.86it/s].  \"He tried to make you see the psychosis below the surface, even when the parts weren't huge<-  \"He tried to make you see the psychosis below the surface, even when the parts weren't huge,\n",
            " 43% 4952/11567 [08:51<12:08,  9.09it/s]listenability<-ten\n",
            " 43% 4963/11567 [08:52<11:25,  9.63it/s]Loosely based on the TV program Your Hit Parade, the show counted down from #40 on the pop charts to #1--the<-Loosely based on the TV program Your Hit Parade, the show counted down from #40 on the pop charts to #1--\n",
            " 43% 5012/11567 [08:57<11:08,  9.81it/s].  \"I think he was the greatest directorial talent we've ever had in the [American] theater,\" Lloyd said<-  \"I think he was the greatest directorial talent we've ever had in the [American] theater,\" Lloyd said\n",
            " 44% 5092/11567 [09:06<14:26,  7.48it/s].  The band were sued by the parents of the Native American boy pictured on the cover of Ceremony<-  The band were sued by the parents of the Native American boy pictured on the cover of Ceremony,\n",
            " 44% 5107/11567 [09:08<12:58,  8.29it/s]--he was tolerant and generous<-he was tolerant and generous\n",
            " 44% 5120/11567 [09:09<11:13,  9.57it/s].  The final singles, \"Go Round/Yeah-Oh!\", were released in late March 2012, and continued the 100,000 sales streak in<-  The final singles, \"Go Round/Yeah-Oh!\", were released in late March 2012, and continued the 100,000 sales streak in\n",
            " 45% 5150/11567 [09:12<10:22, 10.31it/s].  In 1982 his best performance was second in the Amstel Gold Race behind Jan Raas<-  In 1982 his best performance was second in the Amstel Gold Race behind Jan Raas,\n",
            " 45% 5190/11567 [09:16<10:56,  9.72it/s]was certified platinum by the Recording Industry Association of America, following shipments in excess of one million copies in the U.S.<-was certified platinum by the Recording Industry Association of America, following shipments in excess of one million copies in the U.\n",
            ".  In 1994, his first significant success came in the form of the hit single \"U Will Know\"<-  In 1994, his first significant success came in the form of the hit single \"U Will Know\".\n",
            " 45% 5195/11567 [09:17<10:35, 10.03it/s].  Johnson's Ohana Charitable Foundation has also supported Little Kids Rock, a national nonprofit that works<-  Johnson's Ohana Charitable Foundation has also supported Little Kids Rock, a national nonprofit that works\n",
            " 48% 5530/11567 [09:51<08:59, 11.18it/s].  \"Ooh La La\"<-  \"Ooh La La\",\n",
            " 48% 5540/11567 [09:52<09:08, 11.00it/s]Around the same time, the Bee Gees recorded three Beatles covers--\"Golden<-Around the same time, the Bee Gees recorded three Beatles covers--\"\n",
            " 48% 5578/11567 [09:56<09:48, 10.17it/s].  Kulwicki moved from dirt tracks to paved tracks in 1977<-  Kulwicki moved from dirt tracks to paved tracks in 1977.\n",
            " 48% 5586/11567 [09:57<11:01,  9.05it/s].  \"My Happiness\" was attacked by some fans as being \"like Lauryn Hill, bland and boring Top 40 bullshit<-  \"My Happiness\" was attacked by some fans as being \"like Lauryn Hill, bland and boring Top 40 bullshit\n",
            " 48% 5587/11567 [09:57<11:22,  8.76it/s]Happiness\"--Cameron Adams argued in The Hobart Mercury that this was one of the reasons Powderfinger decided to focus on the offshore<-Cameron Adams argued in The Hobart Mercury that this was one of the reasons Powderfinger decided to focus on the offshore market.\n",
            " 48% 5597/11567 [09:58<12:29,  7.96it/s].  During his time at Virginia Military Institute, Maury wrote a book, entitled The Physical Geography of Virginia<-  During his time at Virginia Military Institute, Maury wrote a book, entitled The Physical Geography of Virginia.\n",
            " 48% 5603/11567 [09:59<11:25,  8.71it/s].  Stefani has been referred to as a \"Pop Princess\" by several contemporary music critics<-  Stefani has been referred to as a \"Pop Princess\" by several contemporary music critics.\n",
            " 48% 5607/11567 [09:59<11:00,  9.03it/s].  The slaves were classified into two groups: \"red\" slaves who spoke Afroasiatic languages, and \"black\" (\"Negroid\") slaves<-  The slaves were classified into two groups: \"red\" slaves who spoke Afroasiatic languages, and \"black\" (\"Negroid\") slaves\n",
            " 50% 5726/11567 [10:11<09:58,  9.76it/s].  \"Powhatan\" was also the name used by the natives to refer to the river<-  \"Powhatan\" was also the name used by the natives to refer to the river\n",
            ".  Powhatan County and its county seat at Powhatan, Virginia were honorific names established years later<-  Powhatan County and its county seat at Powhatan, Virginia were honorific names established years later,\n",
            " 50% 5749/11567 [10:14<11:31,  8.41it/s].  \"Let's Love\", was released as a single exclusively in Japan and used for a Toyota Motor Corporation commercial<-  \"Let's Love\", was released as a single exclusively in Japan and used for a Toyota Motor Corporation commercial.\n",
            " 50% 5770/11567 [10:16<09:45,  9.90it/s].  In 2016, McEntire was selected as one of thirty artists to perform on \"Forever Country<-  In 2016, McEntire was selected as one of thirty artists to perform on \"Forever Country\n",
            " 51% 5889/11567 [10:28<11:01,  8.58it/s].  \"Saturday Night\", which was released on March 22, 2005<-  \"Saturday Night\", which was released on March 22, 2005\n",
            " 52% 5971/11567 [10:37<10:42,  8.71it/s].  In 2006, she played Serena, a minor character in The Devil Wears Prada<-  In 2006, she played Serena, a minor character in The Devil Wears Prada.\n",
            " 53% 6124/11567 [10:53<09:44,  9.32it/s]1987<-87\n",
            "\"Temptation\" and \"Confusion\"--referred<-\"Temptation\" and \"Confusion\"--\n",
            " 53% 6166/11567 [10:58<10:44,  8.38it/s].  The 1996 release Illadelph Halflife was the group's first album to break the Top 40 on the<-  The 1996 release Illadelph Halflife was the group's first album to break the Top 40 on the\n",
            " 53% 6188/11567 [11:00<10:59,  8.16it/s]Director<-Direct\n",
            " 54% 6193/11567 [11:01<11:03,  8.10it/s].  Horses were one of the main means of long-distance transport<-  Horses were one of the main means of long-distance transport.\n",
            " 54% 6270/11567 [11:09<11:46,  7.50it/s].  Rammstein embarked on a live tour with Korn, Ice Cube, Orgy and Limp Bizkit called<-  Rammstein embarked on a live tour with Korn, Ice Cube, Orgy and Limp Bizkit called\n",
            " 54% 6271/11567 [11:09<11:51,  7.44it/s].  \"Ich will\", the third single from the album, was released on 10 September 2001<-  \"Ich will\", the third single from the album, was released on 10 September 2001\n",
            " 55% 6375/11567 [11:22<09:12,  9.40it/s].  Nabokov joined the staff of Wellesley College in 1941 as resident lecturer in comparative literature<-  Nabokov joined the staff of Wellesley College in 1941 as resident lecturer in comparative literature.\n",
            " 55% 6406/11567 [11:25<09:19,  9.23it/s]Congressional<-Congress\n",
            " 57% 6542/11567 [11:39<09:30,  8.81it/s]1922/1923<-1923,\n",
            " 57% 6554/11567 [11:41<09:10,  9.11it/s]hits--\"New Year\", \"Run for Cover\" and \"Soul Sound<---\"New Year\", \"Run for Cover\" and \"Soul Sound\".\n",
            " 57% 6567/11567 [11:42<08:39,  9.62it/s]Social Distortion was named for my distortion pedal, which I gave to Mike to play 'cause<-Social Distortion was named for my distortion pedal, which I gave to Mike to play '\n",
            "'cause back then he was no good.\" Ness met Dennis Danell, who was a year older, in high school and insisted he join the band<-cause back then he was no good.\" Ness met Dennis Danell, who was a year older, in high school and insisted he join the band\n",
            " 57% 6604/11567 [11:46<09:24,  8.80it/s].  Simon's characters often amuse the audience with sparkling \"zingers<-  Simon's characters often amuse the audience with sparkling \"zingers,\n",
            " 57% 6616/11567 [11:47<09:56,  8.31it/s].  \"Please, Please, Please\" was released in May 1956<-  \"Please, Please, Please\" was released in May 1956\n",
            " 58% 6688/11567 [11:54<07:47, 10.44it/s]The CIA stripped, hooded, shackled and sodomized el-Masri with a suppository--in CIA parlance, subjected him to \"capture shock\"--as<-The CIA stripped, hooded, shackled and sodomized el-Masri with a suppository--in CIA parlance, subjected him to \"capture shock\n",
            " 58% 6719/11567 [11:58<08:08,  9.92it/s]alongside<-long\n",
            " 59% 6796/11567 [12:06<08:35,  9.26it/s].  In 1966, Miami businessman Otis W. Shriver claimed he had dug up Osceola's grave<-  In 1966, Miami businessman Otis W. Shriver claimed he had dug up Osceola's grave\n",
            " 59% 6805/11567 [12:07<08:20,  9.52it/s]:  \"I didn't want to be a 75-year-old manager working seven days a week, 52 weeks a year<-  \"I didn't want to be a 75-year-old manager working seven days a week, 52 weeks a year.\n",
            " 60% 6890/11567 [12:15<09:19,  8.36it/s]-at the peak of their popularity and following a world tour<-at the peak of their popularity and following a world tour,\n",
            " 60% 6929/11567 [12:19<07:42, 10.03it/s].  At Bart and Lily's wedding at the end of Season 1<-  At Bart and Lily's wedding at the end of Season 1,\n",
            " 61% 7047/11567 [12:32<08:05,  9.30it/s]album--\"Want To\" and \"Settlin'\"--both<-Want To\" and \"Settlin'\"--\n",
            "Settlin'\"--both reached Number One on the country music<-both reached Number One on the country music charts,\n",
            " 61% 7053/11567 [12:32<07:41,  9.78it/s].  Longoria identifies as a \"Texican\" or Mexican-American<-  Longoria identifies as a \"Texican\" or Mexican-American.\n",
            " 61% 7072/11567 [12:35<08:31,  8.80it/s].  Tendulkar scored an unbeaten 194 against Pakistan at Multan in the following series<-  Tendulkar scored an unbeaten 194 against Pakistan at Multan in the following series.\n",
            " 62% 7118/11567 [12:39<08:44,  8.47it/s]Give\"--all peaked within the Top 5 on the country<-all peaked within the Top 5 on the country charts\n",
            "three singles released from the album--\"Nothin<-three singles released from the album\n",
            "album--\"Nothin' 'Bout Love Makes Sense<-Nothin' 'Bout Love Makes Sense\", \"\n",
            " 62% 7149/11567 [12:43<07:46,  9.47it/s].  Zuma's cause rallied large crowds of supporters at each of his corruption-related court appearances in 2005<-  Zuma's cause rallied large crowds of supporters at each of his corruption-related court appearances in 2005.\n",
            " 62% 7187/11567 [12:47<08:56,  8.16it/s].  \"My Happiness\" was attacked by some fans as being \"like Lauryn Hill, bland and boring Top 40 bullshit\"<-  \"My Happiness\" was attacked by some fans as being \"like Lauryn Hill, bland and boring Top 40 bullshit\";\n",
            " 63% 7274/11567 [12:56<07:53,  9.07it/s].  \"Officially Yours\" was released on 23 June 2008 and peaked at number 158 on the UK Singles Chart<-  \"Officially Yours\" was released on 23 June 2008 and peaked at number 158 on the UK Singles Chart,\n",
            " 63% 7336/11567 [13:02<07:47,  9.05it/s]50 first-class wickets at an average of 26.14<-50 first-class wickets at an average of 26.\n",
            " 63% 7343/11567 [13:03<10:49,  6.51it/s].  In 1987, Lennox and Stewart released the album Savage<-  In 1987, Lennox and Stewart released the album Savage.\n",
            " 64% 7350/11567 [13:04<07:54,  8.89it/s].  As a fast bowler, Khan reached the peak of his powers in 1982<-  As a fast bowler, Khan reached the peak of his powers in 1982.\n",
            " 64% 7369/11567 [13:06<08:24,  8.33it/s]mid-1976<-1976,\n",
            " 64% 7443/11567 [13:14<06:24, 10.72it/s].  In March 1999, they released their next album, A Man's Not a Camel<-  In March 1999, they released their next album, A Man's Not a Camel,\n",
            " 64% 7451/11567 [13:15<07:17,  9.40it/s].  \"Powhatan\" was also the name used by the natives to refer to the river where the town sat<-  \"Powhatan\" was also the name used by the natives to refer to the river where the town sat\n",
            " 65% 7472/11567 [13:17<07:16,  9.38it/s]Small  Nathan Explosion is the frontman, lead vocalist and \"lyrical visionary\" of Dethklok<-  Nathan Explosion is the frontman, lead vocalist and \"lyrical visionary\" of Dethklok.\n",
            " 65% 7482/11567 [13:18<08:37,  7.89it/s]Feinstein'...I'm in jail with my fur coat and nothing else on, and [the police officers] want to take pictures. I took a mug shot with every cop in the<-'...I'm in jail with my fur coat and nothing else on, and [the police officers] want to take pictures. I took a mug shot with every cop in the place,\n",
            " 65% 7571/11567 [13:28<06:16, 10.62it/s].  Working with Barrett eventually proved too difficult<-  Working with Barrett eventually proved too difficult,\n",
            " 66% 7595/11567 [13:30<07:27,  8.88it/s].  \"My Happiness\" peaked at number 23 on the Hot Modern Rock Tracks<-  \"My Happiness\" peaked at number 23 on the Hot Modern Rock Tracks,\n",
            " 66% 7617/11567 [13:33<08:44,  7.54it/s].  Watts began his college football career as the second-string quarterback<-  Watts began his college football career as the second-string quarterback\n",
            " 66% 7633/11567 [13:35<06:44,  9.73it/s].  In December, France's Commissariat a l'energie atomique agreed to provide a commercial 900MW power plant<-  In December, France's Commissariat a l'energie atomique agreed to provide a commercial 900MW power plant,\n",
            " 66% 7669/11567 [13:38<06:26, 10.08it/s].  Jones drove the engine until he transferred to Memphis in February 1900<-  Jones drove the engine until he transferred to Memphis in February 1900.\n",
            " 67% 7713/11567 [13:42<06:19, 10.16it/s]Punahou School--<-Punahou School\n",
            " 67% 7715/11567 [13:43<06:31,  9.84it/s]Indonesian<-Indonesia\n",
            "\"As years passed, the case took on a life of its own, accruing novel additions to Gage's story without any factual basis\".[B]:678<-\"As years passed, the case took on a life of its own, accruing novel additions to Gage's story without any factual basis\".[\n",
            " 67% 7787/11567 [13:51<08:46,  7.18it/s]The spell momentarily turns her hair white and makes her glow--Kennedy calls her \"a goddess\"--and<-The spell momentarily turns her hair white and makes her glow--Kennedy calls her \"a goddess\"--\n",
            " 67% 7794/11567 [13:51<07:43,  8.14it/s]129<-12\n",
            " 69% 7928/11567 [14:05<05:59, 10.12it/s]-the largest contribution would go to the Bill and Melinda Gates Foundation<-the largest contribution would go to the Bill and Melinda Gates Foundation.\n",
            " 69% 7932/11567 [14:06<05:37, 10.78it/s]:  [T]hat's when I really learned some much farther-out voicings - like the harmonies I used on Speak Like<-  [T]hat's when I really learned some much farther-out voicings - like the harmonies I used on Speak Like\n",
            " 69% 7949/11567 [14:07<06:35,  9.15it/s]coaching<-coach\n",
            " 69% 7991/11567 [14:12<05:45, 10.35it/s]U.S. government desired a peaceful settlement to Red Cloud's War<-S. government desired a peaceful settlement to Red Cloud's War.\n",
            " 69% 7993/11567 [14:12<06:09,  9.67it/s]According to Clark, the lyrics were primarily his creation, with a minor contribution being Crosby's line, \"Rain grey town, known for its sound\"--a<-According to Clark, the lyrics were primarily his creation, with a minor contribution being Crosby's line, \"Rain grey town, known for its sound\"--\n",
            " 70% 8049/11567 [14:17<06:26,  9.11it/s].  In 1929, she made her first movie appearance, in the sound picture Honky Tonk<-  In 1929, she made her first movie appearance, in the sound picture Honky Tonk.\n",
            " 70% 8098/11567 [14:24<05:56,  9.74it/s].  Even after two operations, Bure did not play in 2003-04 due to the lingering effects of the knee<-  Even after two operations, Bure did not play in 2003-04 due to the lingering effects of the knee\n",
            " 70% 8121/11567 [14:27<06:42,  8.56it/s]albums<-album\n",
            " 70% 8142/11567 [14:29<05:44,  9.95it/s].  In February 1970, Vaughan joined a band called Liberation, which was a nine-piece group with a horn section<-  In February 1970, Vaughan joined a band called Liberation, which was a nine-piece group with a horn section.\n",
            " 71% 8227/11567 [14:38<06:11,  8.98it/s]WWE wrestlers<-WWE wrestler\n",
            " 72% 8291/11567 [14:44<06:25,  8.50it/s].  \"Dreaming\" and \"Godspeed\" reached #5 and #10 on the Billboard Dance Club Songs chart, respectively<-  \"Dreaming\" and \"Godspeed\" reached #5 and #10 on the Billboard Dance Club Songs chart, respectively,\n",
            " 72% 8352/11567 [14:51<05:11, 10.31it/s].  \"The baby is dead because of vodka mommy,\" Grace said during her June 11 show on HLN. \"<-  \"The baby is dead because of vodka mommy,\" Grace said during her June 11 show on HLN. \"\n",
            " 73% 8389/11567 [14:55<05:31,  9.57it/s].  Revival was nominated for the 1997 Grammy Award for Best Contemporary Folk Album<-  Revival was nominated for the 1997 Grammy Award for Best Contemporary Folk Album,\n",
            " 73% 8399/11567 [14:56<06:50,  7.72it/s]every vowel may take either high or low tone; in the orthography high tone is indicated by an acute accent, e.g.<-every vowel may take either high or low tone; in the orthography high tone is indicated by an acute accent, e.\n",
            " 73% 8462/11567 [15:03<05:51,  8.84it/s]Es ~Mr. Children in Film~.<-Es ~Mr. Children in Film\n",
            " 73% 8466/11567 [15:04<05:20,  9.68it/s].  In December 1994, Yousef had engaged in a test of a bomb on Philippine Airlines Flight 434<-  In December 1994, Yousef had engaged in a test of a bomb on Philippine Airlines Flight 434\n",
            " 73% 8499/11567 [15:07<05:11,  9.84it/s].  Iron Maiden had a strict and organised routine that suited the band's writing style<-  Iron Maiden had a strict and organised routine that suited the band's writing style,\n",
            " 74% 8550/11567 [15:12<04:31, 11.10it/s]for six consecutive weeks and ranking at No.34<-for six consecutive weeks and ranking at No.\n",
            " 74% 8554/11567 [15:13<05:06,  9.83it/s].  A traditional equine Comet is partially seen in Legion of Three Worlds #1<-  A traditional equine Comet is partially seen in Legion of Three Worlds #1.\n",
            " 74% 8609/11567 [15:18<04:33, 10.82it/s].  \"LaBamba\" was also used as the butt of many of Conan's jokes<-  \"LaBamba\" was also used as the butt of many of Conan's jokes.\n",
            " 75% 8728/11567 [15:31<04:55,  9.61it/s]He was then given his own show later that year, with Canada Dry Ginger Ale as a sponsor --The<-He was then given his own show later that year, with Canada Dry Ginger Ale as a sponsor --\n",
            " 77% 8931/11567 [15:52<04:13, 10.40it/s].  In September 1943, he was assigned to Torpedo Squadron (VT-51) as the photographic officer<-  In September 1943, he was assigned to Torpedo Squadron (VT-51) as the photographic officer.\n",
            " 78% 8965/11567 [15:56<04:40,  9.27it/s].  He was partly taught cricket by his grandfather, who helped to bring him up after his father's death<-  He was partly taught cricket by his grandfather, who helped to bring him up after his father's death.\n",
            " 78% 8967/11567 [15:56<04:43,  9.16it/s]705/7. He followed up the innings with an unbeaten 60 in the second innings of the Test<-7. He followed up the innings with an unbeaten 60 in the second innings of the Test.\n",
            " 78% 9022/11567 [16:02<04:54,  8.63it/s].  \"He Did With Me\", Lawrence's followup to \"The Night the Lights Went Out in Georgia\"<-  \"He Did With Me\", Lawrence's followup to \"The Night the Lights Went Out in Georgia\",\n",
            " 78% 9047/11567 [16:05<04:25,  9.48it/s]:  [The] GLF was a glorious, enthusiastic and often chaotic mix of anarchists, hippies, leftwingers, feminists, liberals and counter-culturalists<-  [The] GLF was a glorious, enthusiastic and often chaotic mix of anarchists, hippies, leftwingers, feminists, liberals and counter-culturalists.\n",
            " 79% 9163/11567 [16:17<04:02,  9.90it/s]mid-1943<-1943,\n",
            " 79% 9178/11567 [16:19<04:16,  9.32it/s].  Bryant received several awards for his outstanding performance during his senior year at Lower Merion<-  Bryant received several awards for his outstanding performance during his senior year at Lower Merion.\n",
            " 80% 9198/11567 [16:21<04:17,  9.21it/s].  \"He seemed preoccupied with football even on their honeymoon, and cut it short to get back to Englewood<-  \"He seemed preoccupied with football even on their honeymoon, and cut it short to get back to Englewood\n",
            " 80% 9207/11567 [16:22<04:27,  8.83it/s].  Yannis Philippakis stated that the recording process had some unconventional moments<-  Yannis Philippakis stated that the recording process had some unconventional moments:\n",
            " 80% 9208/11567 [16:22<04:53,  8.05it/s].  \"Spanish Sahara\" was featured in trailers for season seven of Entourage, season four of Skins and Outcasts<-  \"Spanish Sahara\" was featured in trailers for season seven of Entourage, season four of Skins and Outcasts.\n",
            " 80% 9213/11567 [16:22<04:06,  9.54it/s]mid-1990s, Isaac, Taylor and Zac sang a cappella and recorded such classic songs as \"Rockin' Robin\", \"Splish Splash\" and \"Johnny B. Goode<-1990s, Isaac, Taylor and Zac sang a cappella and recorded such classic songs as \"Rockin' Robin\", \"Splish Splash\" and \"Johnny B. Goode\",\n",
            " 81% 9335/11567 [16:35<03:35, 10.36it/s].  Over the course of the early 2000s, the band continued to tour and shuffle through members<-  Over the course of the early 2000s, the band continued to tour and shuffle through members.\n",
            " 81% 9368/11567 [16:39<04:33,  8.04it/s].  In January 1986 Israeli female teacher Leah Shakdiel was granted membership in the religious council of Yeruham<-  In January 1986 Israeli female teacher Leah Shakdiel was granted membership in the religious council of Yeruham,\n",
            " 81% 9396/11567 [16:42<04:00,  9.02it/s]1980s<-1980\n",
            " 81% 9400/11567 [16:42<04:10,  8.65it/s].  Warhol strongly influenced the new wave/punk rock band Devo<-  Warhol strongly influenced the new wave/punk rock band Devo,\n",
            " 82% 9466/11567 [16:49<04:05,  8.56it/s].  \"All Along the Watchtower\" became the band's highest-selling single and their only US top 40 hit<-  \"All Along the Watchtower\" became the band's highest-selling single and their only US top 40 hit,\n",
            " 82% 9500/11567 [16:53<03:51,  8.95it/s].  \"You Make Me Wanna...\" won the Best Male R&B/Soul Single at the 1999 Soul Train Music Awards<-  \"You Make Me Wanna...\" won the Best Male R&B/Soul Single at the 1999 Soul Train Music Awards.\n",
            " 82% 9506/11567 [16:53<03:42,  9.27it/s]--\"When a little Girl, I had a friend, who taught me Immortality - but venturing too near, himself - he never returned\"--refers<---\"When a little Girl, I had a friend, who taught me Immortality - but venturing too near, himself - he never returned\"--\n",
            " 82% 9527/11567 [16:56<04:17,  7.92it/s]Chileans<-Chilean\n",
            " 84% 9705/11567 [17:14<03:18,  9.40it/s].  Gryce was influenced by Tadd Dameron, with whom he played in 1953 at the Paradise Club<-  Gryce was influenced by Tadd Dameron, with whom he played in 1953 at the Paradise Club.\n",
            " 84% 9744/11567 [17:18<03:16,  9.27it/s].  Flutie won his first Grey Cup in 1992 with the Stampeders<-  Flutie won his first Grey Cup in 1992 with the Stampeders.\n",
            " 84% 9755/11567 [17:19<02:54, 10.41it/s].  In 1985, Nicklaus finished second to Curtis Strange in the Canadian Open<-  In 1985, Nicklaus finished second to Curtis Strange in the Canadian Open,\n",
            " 85% 9787/11567 [17:22<03:40,  8.09it/s].  \"Dreaming\" and \"Godspeed\" reached #5 and #10 on the Billboard Dance Club Songs chart, respectively<-  \"Dreaming\" and \"Godspeed\" reached #5 and #10 on the Billboard Dance Club Songs chart, respectively,\n",
            " 85% 9789/11567 [17:23<03:16,  9.04it/s]released<-as\n",
            " 85% 9853/11567 [17:29<03:14,  8.81it/s].  On September 23, 2016, Garnett announced his retirement after 21 seasons in the NBA<-  On September 23, 2016, Garnett announced his retirement after 21 seasons in the NBA.\n",
            " 86% 9958/11567 [17:40<02:41,  9.94it/s]pressure<-press\n",
            " 86% 9968/11567 [17:41<02:30, 10.61it/s].  In 1994, Brooks paid homage to one of his musical influences, Kiss, appearing on the tribute compilation<-  In 1994, Brooks paid homage to one of his musical influences, Kiss, appearing on the tribute compilation,\n",
            " 86% 9985/11567 [17:43<03:21,  7.85it/s].  Sharpton said in 2007 that he would not enter the 2008 presidential race<-  Sharpton said in 2007 that he would not enter the 2008 presidential race.\n",
            " 87% 10055/11567 [17:50<03:17,  7.65it/s]\"Don't Box Me In\" (UK Singles Chart n. 91)--a<-\"Don't Box Me In\" (UK Singles Chart n. 91)--\n",
            " 87% 10075/11567 [17:52<02:30,  9.91it/s]songs<-song\n",
            " 87% 10097/11567 [17:54<02:14, 10.96it/s].  During his semiretirement in the years 1740 to 1744, he wrote the Pieces de clavecin en concert<-  During his semiretirement in the years 1740 to 1744, he wrote the Pieces de clavecin en concert\n",
            " 87% 10107/11567 [17:55<02:33,  9.52it/s]contribute--\"New Potato Caboose\", \"Box of Rain\", \"Unbroken Chain\", and \"Pride of Cucamonga\"--are among the best<---\"New Potato Caboose\", \"Box of Rain\", \"Unbroken Chain\", and \"Pride of Cucamonga\"--are among the best-known\n",
            " 88% 10131/11567 [17:58<03:09,  7.56it/s]duet single, \"Nothing In Common\"/\"How<-duet single, \"Nothing In Common\n",
            " 88% 10221/11567 [18:10<02:17,  9.79it/s].  \"Your Love Is King\" was released as the album's lead single on 25 February 1984<-  \"Your Love Is King\" was released as the album's lead single on 25 February 1984\n",
            " 89% 10335/11567 [18:22<02:07,  9.70it/s]:  [Arnett's] firing was a direct result of Pentagon pressure<-  [Arnett's] firing was a direct result of Pentagon pressure.\n",
            " 89% 10350/11567 [18:23<02:18,  8.82it/s]She featured on \"Wonderful\"--with<-She featured on \"Wonderful\n",
            " 90% 10356/11567 [18:24<02:33,  7.89it/s].  Over the next two years, the group continued in varied line-ups<-  Over the next two years, the group continued in varied line-ups.\n",
            " 90% 10453/11567 [18:34<02:25,  7.65it/s]1930)--featuring Healy and his four Stooges<-featuring Healy and his four Stooges:\n",
            " 91% 10498/11567 [18:39<01:33, 11.49it/s].  In January 2009 plans were released for Smith to perform with Placido Domingo<-  In January 2009 plans were released for Smith to perform with Placido Domingo,\n",
            " 91% 10540/11567 [18:43<01:40, 10.18it/s].  Paul later received her law degree (LL.B) from the Washington College of Law at American University in 1922<-  Paul later received her law degree (LL.B) from the Washington College of Law at American University in 1922,\n",
            " 91% 10560/11567 [18:45<01:57,  8.57it/s].  The men will also have a party<-  The men will also have a party,\n",
            " 92% 10626/11567 [18:52<01:42,  9.14it/s].  He won the election in November 1998, narrowly (and unexpectedly) defeating the major-party candidates<-  He won the election in November 1998, narrowly (and unexpectedly) defeating the major-party candidates,\n",
            " 92% 10675/11567 [18:58<01:31,  9.70it/s].  On October 8, 2004, U.S. Representative Jim McDermott gave a speech in the House of Representatives<-  On October 8, 2004, U.S. Representative Jim McDermott gave a speech in the House of Representatives,\n",
            " 93% 10717/11567 [19:02<01:17, 10.97it/s]debuted on Netflix in September 2017.The<-debuted on Netflix in September 2017.\n",
            " 93% 10765/11567 [19:07<01:29,  9.01it/s]1980s<-1980\n",
            " 94% 10837/11567 [19:14<01:16,  9.55it/s].  His cathedral tomb was designed by the architects van Heyningen and Haward<-  His cathedral tomb was designed by the architects van Heyningen and Haward.\n",
            " 94% 10885/11567 [19:19<01:04, 10.58it/s].  Cornelius, Barnaby, and their dates arrive, unaware that Horace is also dining at the restaurant<-  Cornelius, Barnaby, and their dates arrive, unaware that Horace is also dining at the restaurant.\n",
            " 94% 10889/11567 [19:20<01:07, 10.01it/s].  He became a Christian in 1983 but it was years later before God came first in his life<-  He became a Christian in 1983 but it was years later before God came first in his life.\n",
            " 95% 10972/11567 [19:29<01:16,  7.79it/s]Rod Stewart and Woodman's friend Dave Curtiss)until<-Rod Stewart and Woodman's friend Dave Curtiss\n",
            " 95% 10993/11567 [19:31<01:01,  9.26it/s].  Heinlein also served aboard the destroyer USS Roper in 1933 and 1934, reaching the rank of lieutenant<-  Heinlein also served aboard the destroyer USS Roper in 1933 and 1934, reaching the rank of lieutenant.\n",
            " 96% 11070/11567 [19:39<00:59,  8.41it/s].  \"Kingyo Hanabi\" was the second single to be released after her first album<-  \"Kingyo Hanabi\" was the second single to be released after her first album.\n",
            " 96% 11100/11567 [19:42<00:42, 10.89it/s]They proposed that white men form clandestine paramilitary organizations--known as \"rifle clubs\"--and<-They proposed that white men form clandestine paramilitary organizations--known as \"rifle clubs\"--\n",
            " 96% 11147/11567 [19:47<00:54,  7.67it/s].  Petty appeared in the 1997 film The Postman, directed by and starring Kevin Costner<-  Petty appeared in the 1997 film The Postman, directed by and starring Kevin Costner,\n",
            " 97% 11213/11567 [19:55<00:39,  8.95it/s]developed<-eloped\n",
            " 97% 11274/11567 [20:02<00:28, 10.26it/s].  Conacher moved to the senior level in 1920 with the Toronto Rugby Club<-  Conacher moved to the senior level in 1920 with the Toronto Rugby Club\n",
            " 98% 11284/11567 [20:03<00:31,  8.99it/s].  Stefani has been referred to as a \"Pop Princess\" by several contemporary music critics<-  Stefani has been referred to as a \"Pop Princess\" by several contemporary music critics.\n",
            " 98% 11291/11567 [20:04<00:31,  8.82it/s].  Cousy grew bored with college basketball and returned to the NBA as coach<-  Cousy grew bored with college basketball and returned to the NBA as coach\n",
            " 98% 11347/11567 [20:10<00:23,  9.53it/s].  \"Iron Tusk\", the fifth track on the album<-  \"Iron Tusk\", the fifth track on the album,\n",
            " 99% 11444/11567 [20:20<00:12, 10.01it/s]strategy\"--Ali leaned against the ropes and absorbed punishment from Frazier, hoping to<-Ali leaned against the ropes and absorbed punishment from Frazier, hoping to tire him.\n",
            " 99% 11456/11567 [20:21<00:11, 10.04it/s].  Indurain was a strong time trialist, gaining on rivals and riding defensively in the climbing stages<-  Indurain was a strong time trialist, gaining on rivals and riding defensively in the climbing stages.\n",
            " 99% 11502/11567 [20:26<00:07,  8.87it/s].  \"Is Nothing Sacred?\" was released in 1992 by Surprise Video, compiling material from 1990-1991<-  \"Is Nothing Sacred?\" was released in 1992 by Surprise Video, compiling material from 1990-1991.\n",
            "100% 11516/11567 [20:28<00:06,  8.13it/s].  Ryan missed much of the 1967 season due to illness<-  Ryan missed much of the 1967 season due to illness,\n",
            "100% 11562/11567 [20:33<00:00,  9.27it/s].  He made his Japanese debut in 1970, billed as \"Monster Roussimoff\", wrestling for the International Wrestling Enterprise<-  He made his Japanese debut in 1970, billed as \"Monster Roussimoff\", wrestling for the International Wrestling Enterprise.\n",
            "100% 11567/11567 [20:34<00:00,  9.37it/s]\n",
            "  4% 43/1000 [00:06<02:01,  7.87it/s]I.D., who would later become a mentor to a young Kanye West<-D., who would later become a mentor to a young Kanye West.\n",
            "  8% 83/1000 [00:11<02:03,  7.41it/s]As Shula's family expanded--he had six siblings, including a set of triplets born in 1936--his<-As Shula's family expanded--he had six siblings, including a set of triplets born in 1936--\n",
            " 10% 102/1000 [00:14<02:04,  7.24it/s]'One of the main reasons I wanted to do the piece was to cast someone as Rose that was closer to Rose as she really existed,<-One of the main reasons I wanted to do the piece was to cast someone as Rose that was closer to Rose as she really existed,'\n",
            " 15% 148/1000 [00:19<01:44,  8.12it/s]language texts. This word, adjectival magavan meaning \"possessing maga-\", was once the premise that Avestan maga- and Median (i.e.<-language texts. This word, adjectival magavan meaning \"possessing maga-\", was once the premise that Avestan maga- and Median (i.\n",
            " 29% 289/1000 [00:38<01:35,  7.43it/s]Carey has hosted a series of mini-documentaries called The Drew Carey Project on Reason.tv<-Carey has hosted a series of mini-documentaries called The Drew Carey Project on Reason.\n",
            " 39% 392/1000 [00:52<01:25,  7.12it/s]P.O.D.'s third studio album, 1999's The Fundamental Elements of Southtown, spawned the hits \"Southtown\" and \"Rock the Party (Off the Hook)<-O.D.'s third studio album, 1999's The Fundamental Elements of Southtown, spawned the hits \"Southtown\" and \"Rock the Party (Off the Hook)\",\n",
            " 44% 440/1000 [00:58<01:18,  7.11it/s]Wake Me Up When September Ends\"--the<-Wake Me Up When September Ends\n",
            " 47% 468/1000 [01:02<01:17,  6.86it/s]Australians<-Australia\n",
            " 55% 546/1000 [01:12<01:08,  6.60it/s]--who one member described as the \"forerunner for Fat Freddys\"--provided<---who one member described as the \"forerunner for Fat Freddys\"--\n",
            "An established group from Kaikoura named Salmonella Dub--who one member described as the \"forerunner for Fat Freddys\"--provided<-An established group from Kaikoura named Salmonella Dub--who one member described as the \"forerunner for Fat Freddys\"--\n",
            " 57% 567/1000 [01:15<01:02,  6.93it/s]German musical<-German music\n",
            " 58% 580/1000 [01:17<01:04,  6.48it/s]songs<-son\n",
            "songs<-son\n",
            " 60% 597/1000 [01:19<00:54,  7.38it/s]R&B, hip-hop, and contemporary popular music<-&B, hip-hop, and contemporary popular music.\n",
            " 60% 605/1000 [01:23<01:39,  3.97it/s]T]he shock of the revelation was magnified because of Graham's longtime support of Israel and his refusal to join in calls for conversion of the Jews.<-]he shock of the revelation was magnified because of Graham's longtime support of Israel and his refusal to join in calls for conversion of the Jews.\"\n",
            " 61% 611/1000 [01:24<01:04,  5.99it/s]During her career, Ride served as the ground-based capsule communicator (CapCom) for the second and third space shuttle flights (STS-2 and STS-3<-During her career, Ride served as the ground-based capsule communicator (CapCom) for the second and third space shuttle flights (STS-2 and STS-\n",
            "Ride was assigned to NASA headquarters in Washington, D.C.<-Ride was assigned to NASA headquarters in Washington, D.\n",
            " 72% 725/1000 [01:39<00:35,  7.67it/s]Australian<-Australia\n",
            " 75% 752/1000 [01:43<00:35,  6.92it/s]mid-1995<-1995,\n",
            "mid-1995<-1995,\n",
            "mid-1995<-1995,\n",
            "mid-1995<-1995,\n",
            "mid-1995<-1995,\n",
            " 77% 766/1000 [01:45<00:29,  7.83it/s]under-17<-17\n",
            "under-17<-17\n",
            " 83% 834/1000 [01:53<00:19,  8.49it/s]became known for his critiques of public contemporary figures including Mother Teresa, Bill Clinton and Henry Kissinger--<-became known for his critiques of public contemporary figures including Mother Teresa, Bill Clinton and Henry Kissinger\n",
            "He became known for his critiques of public contemporary figures including Mother Teresa, Bill Clinton and Henry Kissinger--<-He became known for his critiques of public contemporary figures including Mother Teresa, Bill Clinton and Henry Kissinger\n",
            " 87% 874/1000 [01:59<00:17,  7.36it/s]homosexuality<-homosexual\n",
            "homosexuality<-homosexual\n",
            " 97% 971/1000 [02:11<00:04,  7.12it/s]2001<-20\n",
            " 98% 980/1000 [02:12<00:02,  7.99it/s]\"O'Donoghue's\"--released<-\"O'Donoghue's\n",
            "\"O'Donoghue's\"--released<-\"O'Donoghue's\"--\n",
            "\"O'Donoghue's\"--released<-\"O'Donoghue's\n",
            "Decades later, he recorded \"O'Donoghue's\"--released on the album Changing Trains (2004)--a<-Decades later, he recorded \"O'Donoghue's\"--released on the album Changing Trains (2004)--\n",
            "Decades later, he recorded \"O'Donoghue's\"--released<-Decades later, he recorded \"O'Donoghue's\"--\n",
            "he recorded \"O'Donoghue's\"--released on the album Changing Trains (2004)--a<-he recorded \"O'Donoghue's\"--released on the album Changing Trains (2004)--\n",
            "Decades later, he recorded \"O'Donoghue's\"--released<-Decades later, he recorded \"O'Donoghue's\"--\n",
            "he recorded \"O'Donoghue's\"--released on the album Changing Trains (2004)--a<-he recorded \"O'Donoghue's\"--released on the album Changing Trains (2004\n",
            " 99% 993/1000 [02:14<00:00,  7.53it/s]No.1: Two Virgins, an album of experimental musique concrete. The<-1: Two Virgins, an album of experimental musique concrete. The\n",
            "100% 1000/1000 [02:15<00:00,  7.37it/s]\n"
          ],
          "name": "stdout"
        }
      ]
    },
    {
      "cell_type": "code",
      "metadata": {
        "id": "-XEbNI3dikS8"
      },
      "source": [
        ""
      ],
      "execution_count": null,
      "outputs": []
    },
    {
      "cell_type": "code",
      "metadata": {
        "id": "2re7jQ7Eje1-"
      },
      "source": [
        ""
      ],
      "execution_count": 29,
      "outputs": []
    },
    {
      "cell_type": "code",
      "metadata": {
        "id": "VqxDTBxUufie",
        "colab": {
          "base_uri": "https://localhost:8080/"
        },
        "outputId": "4f10d989-9c6d-4eb1-bdef-b3715bb111cc"
      },
      "source": [
        "# Train NER\n",
        "!python -m spacy project run corpus spacy_target_answer"
      ],
      "execution_count": 10,
      "outputs": [
        {
          "output_type": "stream",
          "text": [
            "2021-03-24 17:30:12.349168: I tensorflow/stream_executor/platform/default/dso_loader.cc:49] Successfully opened dynamic library libcudart.so.11.0\n",
            "\u001b[1m\n",
            "=================================== corpus ===================================\u001b[0m\n",
            "Running command: /usr/bin/python3 -m spacy convert /content/gdrive/MyDrive/mt-qg-data/01_data/preprocessedData/quac/sentences_conll corpus -c ner\n",
            "2021-03-24 17:30:19.455503: I tensorflow/stream_executor/platform/default/dso_loader.cc:49] Successfully opened dynamic library libcudart.so.11.0\n",
            "\u001b[38;5;4mℹ Auto-detected token-per-line NER format\u001b[0m\n",
            "\u001b[38;5;3m⚠ Document delimiters found, automatic document segmentation with `-n`\n",
            "disabled.\u001b[0m\n",
            "\u001b[38;5;2m✔ Generated output file (2302 documents): corpus/dev.spacy\u001b[0m\n",
            "\u001b[38;5;3m⚠ Document delimiters found, automatic document segmentation with `-n`\n",
            "disabled.\u001b[0m\n",
            "\u001b[38;5;2m✔ Generated output file (1000 documents): corpus/test.spacy\u001b[0m\n",
            "\u001b[38;5;3m⚠ Document delimiters found, automatic document segmentation with `-n`\n",
            "disabled.\u001b[0m\n",
            "\u001b[38;5;2m✔ Generated output file (9263 documents): corpus/train.spacy\u001b[0m\n"
          ],
          "name": "stdout"
        }
      ]
    },
    {
      "cell_type": "code",
      "metadata": {
        "colab": {
          "base_uri": "https://localhost:8080/"
        },
        "id": "hpWbwFaxFcXB",
        "outputId": "851b26f5-ee47-4009-f1c3-133f14c87855"
      },
      "source": [
        "!python -m spacy init fill-config ./spacy_target_answer/configs/base_config.cfg ./spacy_target_answer/configs/config.cfg\n",
        "!python -m spacy project run train spacy_target_answer"
      ],
      "execution_count": 41,
      "outputs": [
        {
          "output_type": "stream",
          "text": [
            "2021-03-24 11:30:17.600770: I tensorflow/stream_executor/platform/default/dso_loader.cc:49] Successfully opened dynamic library libcudart.so.11.0\n",
            "\u001b[38;5;2m✔ Auto-filled config with all values\u001b[0m\n",
            "\u001b[38;5;2m✔ Saved config\u001b[0m\n",
            "spacy_target_answer/configs/config.cfg\n",
            "You can now add your data and train your pipeline:\n",
            "python -m spacy train config.cfg --paths.train ./train.spacy --paths.dev ./dev.spacy\n",
            "2021-03-24 11:30:21.567468: I tensorflow/stream_executor/platform/default/dso_loader.cc:49] Successfully opened dynamic library libcudart.so.11.0\n",
            "\u001b[1m\n",
            "=================================== train ===================================\u001b[0m\n",
            "Running command: /usr/bin/python3 -m spacy train configs/config.cfg -o training/ --gpu-id 0 --paths.train corpus/train.spacy --paths.dev corpus/dev.spacy --output /content/gdrive/MyDrive/mt-qg-data/00_models/spacy_target_answer/quac/training\n",
            "2021-03-24 11:30:24.494278: I tensorflow/stream_executor/platform/default/dso_loader.cc:49] Successfully opened dynamic library libcudart.so.11.0\n",
            "\u001b[38;5;2m✔ Created output directory:\n",
            "/content/gdrive/MyDrive/mt-qg-data/00_models/spacy_target_answer/quac/training\u001b[0m\n",
            "\u001b[38;5;4mℹ Using GPU: 0\u001b[0m\n",
            "\u001b[1m\n",
            "=========================== Initializing pipeline ===========================\u001b[0m\n",
            "[2021-03-24 11:30:26,715] [INFO] Set up nlp object from config\n",
            "[2021-03-24 11:30:26,724] [INFO] Pipeline: ['transformer', 'ner']\n",
            "[2021-03-24 11:30:26,728] [INFO] Created vocabulary\n",
            "[2021-03-24 11:30:26,728] [INFO] Finished initializing nlp object\n",
            "Downloading: 100% 481/481 [00:00<00:00, 733kB/s]\n",
            "Downloading: 100% 899k/899k [00:00<00:00, 8.21MB/s]\n",
            "Downloading: 100% 456k/456k [00:00<00:00, 8.41MB/s]\n",
            "Downloading: 100% 1.36M/1.36M [00:00<00:00, 16.5MB/s]\n",
            "Downloading: 100% 501M/501M [00:07<00:00, 64.5MB/s]\n",
            "[2021-03-24 11:32:48,077] [INFO] Initialized pipeline components: ['transformer', 'ner']\n",
            "\u001b[38;5;2m✔ Initialized pipeline\u001b[0m\n",
            "\u001b[1m\n",
            "============================= Training pipeline =============================\u001b[0m\n",
            "\u001b[38;5;4mℹ Pipeline: ['transformer', 'ner']\u001b[0m\n",
            "\u001b[38;5;4mℹ Initial learn rate: 0.0\u001b[0m\n",
            "E    #       LOSS TRANS...  LOSS NER  ENTS_F  ENTS_P  ENTS_R  SCORE \n",
            "---  ------  -------------  --------  ------  ------  ------  ------\n",
            "  0       0       18999.45   1083.93    0.15    0.12    0.21    0.00\n",
            "  0     200      399390.77  43366.57    0.00    0.00    0.00    0.00\n",
            "  0     400        4549.50   7308.44    0.00    0.00    0.00    0.00\n",
            "  0     600        3758.21   6775.77    0.00    0.00    0.00    0.00\n",
            "  0     800        3676.43   6840.31    5.34   23.37    3.01    0.05\n",
            "  0    1000        3471.50   6742.42    3.49   26.87    1.87    0.03\n",
            "  0    1200        3272.32   6615.63   13.51   21.18    9.92    0.14\n",
            "  0    1400        3198.39   6742.88    4.58   27.52    2.50    0.05\n",
            "  0    1600        2951.88   6542.48    0.74   33.78    0.37    0.01\n",
            "  0    1800        2923.18   6630.36    0.47   20.51    0.24    0.00\n",
            "  0    2000        2816.27   6727.81    0.91   29.95    0.46    0.01\n",
            "  0    2200        2874.00   6707.60    7.15   24.03    4.20    0.07\n",
            "  0    2400        2569.87   6690.39    1.06   24.75    0.54    0.01\n",
            "  0    2600        2658.46   6726.16    2.84   28.71    1.50    0.03\n",
            "  1    2800        2379.37   6363.02    8.14   25.54    4.84    0.08\n",
            "\u001b[38;5;2m✔ Saved pipeline to output directory\u001b[0m\n",
            "/content/gdrive/MyDrive/mt-qg-data/00_models/spacy_target_answer/quac/training/model-last\n"
          ],
          "name": "stdout"
        }
      ]
    },
    {
      "cell_type": "code",
      "metadata": {
        "colab": {
          "base_uri": "https://localhost:8080/"
        },
        "id": "oRh9eY0_uGTM",
        "outputId": "11357258-df13-4bf1-dfc5-ae720170368e"
      },
      "source": [
        "!python -m spacy project run evaluate spacy_target_answer"
      ],
      "execution_count": 15,
      "outputs": [
        {
          "output_type": "stream",
          "text": [
            "2021-03-24 17:52:48.126640: I tensorflow/stream_executor/platform/default/dso_loader.cc:49] Successfully opened dynamic library libcudart.so.11.0\n",
            "\u001b[1m\n",
            "================================== evaluate ==================================\u001b[0m\n",
            "Running command: /usr/bin/python3 -m spacy evaluate /content/gdrive/MyDrive/mt-qg-data/00_models/spacy_target_answer/quac/training/model-best ./corpus/test.spacy --output /content/gdrive/MyDrive/mt-qg-data/00_models/spacy_target_answer/quac/metrics/config.json --gpu-id 0\n",
            "2021-03-24 17:52:51.145081: I tensorflow/stream_executor/platform/default/dso_loader.cc:49] Successfully opened dynamic library libcudart.so.11.0\n",
            "\u001b[38;5;4mℹ Using GPU: 0\u001b[0m\n",
            "\u001b[1m\n",
            "================================== Results ==================================\u001b[0m\n",
            "\n",
            "TOK     -    \n",
            "NER P   44.15\n",
            "NER R   12.45\n",
            "NER F   19.42\n",
            "SPEED   8168 \n",
            "\n",
            "\u001b[1m\n",
            "=============================== NER (per type) ===============================\u001b[0m\n",
            "\n",
            "             P       R       F\n",
            "Answer   44.15   12.45   19.42\n",
            "\n",
            "\u001b[38;5;2m✔ Saved results to\n",
            "/content/gdrive/MyDrive/mt-qg-data/00_models/spacy_target_answer/quac/metrics/config.json\u001b[0m\n"
          ],
          "name": "stdout"
        }
      ]
    },
    {
      "cell_type": "code",
      "metadata": {
        "colab": {
          "base_uri": "https://localhost:8080/",
          "height": 249
        },
        "id": "P_cnNeWqw_fO",
        "outputId": "028874b7-5868-467b-9cff-620c2cd6dbb5"
      },
      "source": [
        "import spacy\n",
        "nlp = spacy.load('/content/gdrive/MyDrive/mt-qg-data/00_models/spacy_target_answer/quac/model-best')\n",
        "doc = nlp(u\"There are no major roads through Golm, only state road (Landesstraße) L 902 passes through the northern parts of the village area and offers the shortest connection to federal highway (Bundesstraße) 273. The latter can also be reached following a road extending east from Golm past Sanssouci Park to the Jägervorstadt quarter of Potsdam. The railway between Wildpark and Nauen was opened in 1902 as part of the single-tracked bypass railway (Umgehungsbahn) intended to connect the radial railway lines originating from Berlin. A station was established in Golm. In the 1950s this line became part of the Berlin outer ring and was double-tracked. Golm is now a passenger station for regional trains to Potsdam, Wustermark, Hennigsdorf, and Berlin Schönefeld Airport. Golm has also bus connections to Potsdam and Neu Töplitz and is included in fare zone C (Tarifbereich C)[2] of Berlin's public transport system and in fare zone B of Potsdam's public transport system.\")\n",
        "spacy.displacy.render(doc, style='ent', jupyter =True)"
      ],
      "execution_count": 16,
      "outputs": [
        {
          "output_type": "stream",
          "text": [
            "/usr/local/lib/python3.7/dist-packages/spacy/displacy/__init__.py:189: UserWarning: [W006] No entities to visualize found in Doc object. If this is surprising to you, make sure the Doc was processed using a model that supports named entity recognition, and check the `doc.ents` property manually if necessary.\n",
            "  warnings.warn(Warnings.W006)\n"
          ],
          "name": "stderr"
        },
        {
          "output_type": "display_data",
          "data": {
            "text/html": [
              "<span class=\"tex2jax_ignore\"><div class=\"entities\" style=\"line-height: 2.5; direction: ltr\">There are no major roads through Golm, only state road (Landesstraße) L 902 passes through the northern parts of the village area and offers the shortest connection to federal highway (Bundesstraße) 273. The latter can also be reached following a road extending east from Golm past Sanssouci Park to the Jägervorstadt quarter of Potsdam. The railway between Wildpark and Nauen was opened in 1902 as part of the single-tracked bypass railway (Umgehungsbahn) intended to connect the radial railway lines originating from Berlin. A station was established in Golm. In the 1950s this line became part of the Berlin outer ring and was double-tracked. Golm is now a passenger station for regional trains to Potsdam, Wustermark, Hennigsdorf, and Berlin Schönefeld Airport. Golm has also bus connections to Potsdam and Neu Töplitz and is included in fare zone C (Tarifbereich C)[2] of Berlin's public transport system and in fare zone B of Potsdam's public transport system.</div></span>"
            ],
            "text/plain": [
              "<IPython.core.display.HTML object>"
            ]
          },
          "metadata": {
            "tags": []
          }
        }
      ]
    },
    {
      "cell_type": "code",
      "metadata": {
        "id": "jlLHvqhn5u62"
      },
      "source": [
        ""
      ],
      "execution_count": null,
      "outputs": []
    },
    {
      "cell_type": "code",
      "metadata": {
        "id": "0SDMhZ6H6hpp"
      },
      "source": [
        ""
      ],
      "execution_count": null,
      "outputs": []
    }
  ]
}