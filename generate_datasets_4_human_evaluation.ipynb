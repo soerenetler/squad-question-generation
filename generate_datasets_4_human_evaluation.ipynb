{
  "nbformat": 4,
  "nbformat_minor": 0,
  "metadata": {
    "colab": {
      "name": "Untitled15.ipynb",
      "provenance": [],
      "toc_visible": true,
      "authorship_tag": "ABX9TyP++7HnKompe2N/iSUZkpYl",
      "include_colab_link": true
    },
    "kernelspec": {
      "name": "python3",
      "display_name": "Python 3"
    },
    "language_info": {
      "name": "python"
    }
  },
  "cells": [
    {
      "cell_type": "markdown",
      "metadata": {
        "id": "view-in-github",
        "colab_type": "text"
      },
      "source": [
        "<a href=\"https://colab.research.google.com/github/soerenetler/squad-question-generation/blob/master/generate_datasets_4_human_evaluation.ipynb\" target=\"_parent\"><img src=\"https://colab.research.google.com/assets/colab-badge.svg\" alt=\"Open In Colab\"/></a>"
      ]
    },
    {
      "cell_type": "code",
      "metadata": {
        "colab": {
          "base_uri": "https://localhost:8080/"
        },
        "id": "23o6xzKdtkEt",
        "outputId": "9e472477-a09b-4d26-ac8d-8777784e5624"
      },
      "source": [
        "import os\n",
        "os.system(\"git clone https://github.com/soerenetler/qg_with_attention.git\")\n",
        "\n",
        "from google.colab import drive\n",
        "drive.mount('/content/gdrive')"
      ],
      "execution_count": null,
      "outputs": [
        {
          "output_type": "stream",
          "text": [
            "Drive already mounted at /content/gdrive; to attempt to forcibly remount, call drive.mount(\"/content/gdrive\", force_remount=True).\n"
          ],
          "name": "stdout"
        }
      ]
    },
    {
      "cell_type": "code",
      "metadata": {
        "id": "zAREEJ2etTSn"
      },
      "source": [
        "import pandas as pd\n",
        "import ast\n",
        "dataset = \"squad\""
      ],
      "execution_count": null,
      "outputs": []
    },
    {
      "cell_type": "markdown",
      "metadata": {
        "id": "fzx0CBtttrLf"
      },
      "source": [
        "# Human Data"
      ]
    },
    {
      "cell_type": "code",
      "metadata": {
        "id": "WaFzpwlttb5I"
      },
      "source": [
        "filepath = \"/content/gdrive/MyDrive/mt-qg-data/01_data/preprocessedData/\" + dataset + \"/question_answer/test.csv\"\n",
        "human_df = pd.read_csv(filepath)[[\"question_text\", \"answer_sentence\", \"answer\"]]"
      ],
      "execution_count": null,
      "outputs": []
    },
    {
      "cell_type": "code",
      "metadata": {
        "id": "RRYUvEeFuSYy"
      },
      "source": [
        "human_df = human_df.sample(100)\n",
        "human_df.to_csv(\"h_human_evaluation.csv\")"
      ],
      "execution_count": null,
      "outputs": []
    },
    {
      "cell_type": "markdown",
      "metadata": {
        "id": "oZvRyFM6vXTY"
      },
      "source": [
        "# E2E Data"
      ]
    },
    {
      "cell_type": "code",
      "metadata": {
        "id": "GcAOKtLvup-M"
      },
      "source": [
        "data_filepath = \"/content/gdrive/MyDrive/mt-qg-data/01_data/preprocessedData/\" + dataset + \"/question_answer/test.csv\"\n",
        "pred_filepath = \"/content/gdrive/MyDrive/mt-qg-data/00_models/qg_attention/\" + dataset + \"/dataset_squad-target_length_20-input_length_40-vocab_input_45000-max_vocab_targ_28000-epochs_15-units_512-batch_64-layer_2-dropout_0.3-pretrained_True-bidirectional_True-answer_units_0-/test.txt\"\n",
        "\n",
        "e2e_df = pd.read_csv(filepath)[[\"answer_sentence\", \"answer\"]]\n",
        "\n",
        "pred_questions= []\n",
        "with open(pred_filepath, \"r\") as f:\n",
        "  for line in f:\n",
        "    token = line.strip().split(\" \")\n",
        "    try:\n",
        "      end_index = token.index(\"<end>\")\n",
        "    except ValueError:\n",
        "      end_index = len(token)\n",
        "    pred_questions.append(\" \".join(token[:end_index]))\n",
        "\n",
        "\n",
        "e2e_df[\"question_text\"] = pred_questions\n",
        "e2e_df = e2e_df.sample(100)"
      ],
      "execution_count": null,
      "outputs": []
    },
    {
      "cell_type": "code",
      "metadata": {
        "colab": {
          "base_uri": "https://localhost:8080/",
          "height": 206
        },
        "id": "p4n4zvguwekc",
        "outputId": "b9c9169b-8f2a-499e-c2ad-ea070dd4ac07"
      },
      "source": [
        "e2e_df.head()"
      ],
      "execution_count": null,
      "outputs": [
        {
          "output_type": "execute_result",
          "data": {
            "text/html": [
              "<div>\n",
              "<style scoped>\n",
              "    .dataframe tbody tr th:only-of-type {\n",
              "        vertical-align: middle;\n",
              "    }\n",
              "\n",
              "    .dataframe tbody tr th {\n",
              "        vertical-align: top;\n",
              "    }\n",
              "\n",
              "    .dataframe thead th {\n",
              "        text-align: right;\n",
              "    }\n",
              "</style>\n",
              "<table border=\"1\" class=\"dataframe\">\n",
              "  <thead>\n",
              "    <tr style=\"text-align: right;\">\n",
              "      <th></th>\n",
              "      <th>answer_sentence</th>\n",
              "      <th>answer</th>\n",
              "      <th>question_text</th>\n",
              "    </tr>\n",
              "  </thead>\n",
              "  <tbody>\n",
              "    <tr>\n",
              "      <th>6027</th>\n",
              "      <td>As the Andes Mountains rose, however, a large ...</td>\n",
              "      <td>Solimões Basin</td>\n",
              "      <td>what was the lake lake ?</td>\n",
              "    </tr>\n",
              "    <tr>\n",
              "      <th>11152</th>\n",
              "      <td>Their competitors will take advantage of the s...</td>\n",
              "      <td>offering a higher wage the best of their labor</td>\n",
              "      <td>what do some employees assert to do ?</td>\n",
              "    </tr>\n",
              "    <tr>\n",
              "      <th>13224</th>\n",
              "      <td>In simple terms, physical barriers prevent pat...</td>\n",
              "      <td>physical barriers</td>\n",
              "      <td>what is the term for rustication ?</td>\n",
              "    </tr>\n",
              "    <tr>\n",
              "      <th>11961</th>\n",
              "      <td>Founded by the American Baptist Education Soci...</td>\n",
              "      <td>William Rainey Harper</td>\n",
              "      <td>what was the first president of yale ?</td>\n",
              "    </tr>\n",
              "    <tr>\n",
              "      <th>5796</th>\n",
              "      <td>Free movement of goods within the European Uni...</td>\n",
              "      <td>a customs union</td>\n",
              "      <td>what is the result of the european union ?</td>\n",
              "    </tr>\n",
              "  </tbody>\n",
              "</table>\n",
              "</div>"
            ],
            "text/plain": [
              "                                         answer_sentence  ...                               question_text\n",
              "6027   As the Andes Mountains rose, however, a large ...  ...                    what was the lake lake ?\n",
              "11152  Their competitors will take advantage of the s...  ...       what do some employees assert to do ?\n",
              "13224  In simple terms, physical barriers prevent pat...  ...          what is the term for rustication ?\n",
              "11961  Founded by the American Baptist Education Soci...  ...      what was the first president of yale ?\n",
              "5796   Free movement of goods within the European Uni...  ...  what is the result of the european union ?\n",
              "\n",
              "[5 rows x 3 columns]"
            ]
          },
          "metadata": {
            "tags": []
          },
          "execution_count": 6
        }
      ]
    },
    {
      "cell_type": "code",
      "metadata": {
        "id": "X_poZhv6wopr"
      },
      "source": [
        "e2e_df.to_csv(\"e2e_human_evaluation.csv\")"
      ],
      "execution_count": null,
      "outputs": []
    },
    {
      "cell_type": "markdown",
      "metadata": {
        "id": "EorhRq58wvC2"
      },
      "source": [
        "# Answer Separated Data"
      ]
    },
    {
      "cell_type": "code",
      "metadata": {
        "id": "FhNVpA0JwzSW"
      },
      "source": [
        "data_filepath = \"/content/gdrive/MyDrive/mt-qg-data/01_data/preprocessedData/\" + dataset + \"/question_answer/test.csv\"\n",
        "pred_filepath = \"/content/gdrive/MyDrive/mt-qg-data/00_models/qg_attention/\" + dataset + \"/dataset_squad-target_length_20-input_length_40-vocab_input_45000-max_vocab_targ_28000-epochs_15-units_512-batch_64-layer_1-dropout_0.3-pretrained_True-bidirectional_True-answer_units_256-/test.txt\"\n",
        "\n",
        "\n",
        "ans_df = pd.read_csv(filepath)[[\"answer_sentence\", \"answer\"]]\n",
        "\n",
        "pred_questions= []\n",
        "with open(pred_filepath, \"r\") as f:\n",
        "  for line in f:\n",
        "    token = line.strip().split(\" \")\n",
        "    try:\n",
        "      end_index = token.index(\"<end>\")\n",
        "    except ValueError:\n",
        "      end_index = len(token)\n",
        "    pred_questions.append(\" \".join(token[:end_index]))\n",
        "\n",
        "\n",
        "ans_df[\"question_text\"] = pred_questions"
      ],
      "execution_count": null,
      "outputs": []
    },
    {
      "cell_type": "code",
      "metadata": {
        "id": "WkixqP8OxW7F"
      },
      "source": [
        "ans_df = ans_df.sample(100)"
      ],
      "execution_count": null,
      "outputs": []
    },
    {
      "cell_type": "code",
      "metadata": {
        "id": "1RY9YTEOxboC"
      },
      "source": [
        "ans_df.to_csv(\"ans_human_evaluation.csv\")"
      ],
      "execution_count": null,
      "outputs": []
    },
    {
      "cell_type": "markdown",
      "metadata": {
        "id": "fkmMYcI5x0ke"
      },
      "source": [
        "# Pipeline Data"
      ]
    },
    {
      "cell_type": "code",
      "metadata": {
        "id": "aghRNukQxzFR"
      },
      "source": [
        "data_filepath = \"/content/gdrive/MyDrive/mt-qg-data/01_data/preprocessedData/\" + dataset + \"/question_answer/trf_test.csv\"\n",
        "pred_filepath = \"/content/gdrive/MyDrive/mt-qg-data/00_models/qg_attention/\" + dataset + \"/dataset_squad-target_length_20-input_length_40-vocab_input_45000-max_vocab_targ_28000-epochs_15-units_512-batch_64-layer_1-dropout_0.3-pretrained_True-bidirectional_True-answer_units_256-/trf_test.txt\"\n",
        "\n",
        "\n",
        "pipe_df = pd.read_csv(data_filepath)[[\"answer_sentence_token\", \"answer\"]]\n",
        "pipe_df[\"answer_sentence_token\"]  = [ast.literal_eval(t) for t in pipe_df[\"answer_sentence_token\"]]\n",
        "\n",
        "pred_questions= []\n",
        "with open(pred_filepath, \"r\") as f:\n",
        "  for line in f:\n",
        "    token = line.strip().split(\" \")\n",
        "    try:\n",
        "      end_index = token.index(\"<end>\")\n",
        "    except ValueError:\n",
        "      end_index = len(token)\n",
        "    pred_questions.append(\" \".join(token[:end_index]))\n",
        "\n",
        "pipe_df[\"answer_sentence\"] = [\" \".join(t) for t in pipe_df[\"answer_sentence_token\"]]\n",
        "pipe_df.drop(\"answer_sentence_token\", axis=1, inplace=True)\n",
        "pipe_df[\"question_text\"] = pred_questions\n",
        "pipe_df = pipe_df.sample(100)"
      ],
      "execution_count": null,
      "outputs": []
    },
    {
      "cell_type": "code",
      "metadata": {
        "colab": {
          "base_uri": "https://localhost:8080/",
          "height": 206
        },
        "id": "RxOdaUDwy0o6",
        "outputId": "cdd40390-1edc-4545-c380-730ff443a8c8"
      },
      "source": [
        "pipe_df.head()"
      ],
      "execution_count": null,
      "outputs": [
        {
          "output_type": "execute_result",
          "data": {
            "text/html": [
              "<div>\n",
              "<style scoped>\n",
              "    .dataframe tbody tr th:only-of-type {\n",
              "        vertical-align: middle;\n",
              "    }\n",
              "\n",
              "    .dataframe tbody tr th {\n",
              "        vertical-align: top;\n",
              "    }\n",
              "\n",
              "    .dataframe thead th {\n",
              "        text-align: right;\n",
              "    }\n",
              "</style>\n",
              "<table border=\"1\" class=\"dataframe\">\n",
              "  <thead>\n",
              "    <tr style=\"text-align: right;\">\n",
              "      <th></th>\n",
              "      <th>answer</th>\n",
              "      <th>answer_sentence</th>\n",
              "      <th>question_text</th>\n",
              "    </tr>\n",
              "  </thead>\n",
              "  <tbody>\n",
              "    <tr>\n",
              "      <th>2421</th>\n",
              "      <td>1852</td>\n",
              "      <td>Private schooling in the United States has bee...</td>\n",
              "      <td>in what year did the u.s. public school begin ?</td>\n",
              "    </tr>\n",
              "    <tr>\n",
              "      <th>3890</th>\n",
              "      <td>– whilst</td>\n",
              "      <td>A procedural consequence of the establishment ...</td>\n",
              "      <td>what is the irish parliament parliament ?</td>\n",
              "    </tr>\n",
              "    <tr>\n",
              "      <th>988</th>\n",
              "      <td>Air</td>\n",
              "      <td>Air did not play a role in phlogiston theory ,...</td>\n",
              "      <td>what did feynman think was based on ?</td>\n",
              "    </tr>\n",
              "    <tr>\n",
              "      <th>1402</th>\n",
              "      <td>200,000 Danish krone</td>\n",
              "      <td>UK law only required £ 1 of capital to start a...</td>\n",
              "      <td>what was the name of the company that was the ...</td>\n",
              "    </tr>\n",
              "    <tr>\n",
              "      <th>2890</th>\n",
              "      <td>– it</td>\n",
              "      <td>Undergraduate courses at the University of Chi...</td>\n",
              "      <td>what is the term for teaching at the universit...</td>\n",
              "    </tr>\n",
              "  </tbody>\n",
              "</table>\n",
              "</div>"
            ],
            "text/plain": [
              "                    answer  ...                                      question_text\n",
              "2421                  1852  ...    in what year did the u.s. public school begin ?\n",
              "3890              – whilst  ...          what is the irish parliament parliament ?\n",
              "988                    Air  ...              what did feynman think was based on ?\n",
              "1402  200,000 Danish krone  ...  what was the name of the company that was the ...\n",
              "2890                  – it  ...  what is the term for teaching at the universit...\n",
              "\n",
              "[5 rows x 3 columns]"
            ]
          },
          "metadata": {
            "tags": []
          },
          "execution_count": 12
        }
      ]
    },
    {
      "cell_type": "code",
      "metadata": {
        "id": "pklEknKZxcoJ"
      },
      "source": [
        "pipe_df.to_csv(\"pipe_human_evaluation.csv\")"
      ],
      "execution_count": null,
      "outputs": []
    },
    {
      "cell_type": "code",
      "metadata": {
        "id": "4Zsgd9y0ydX8"
      },
      "source": [
        ""
      ],
      "execution_count": null,
      "outputs": []
    },
    {
      "cell_type": "code",
      "metadata": {
        "id": "gA7Ky9C_ydwj"
      },
      "source": [
        ""
      ],
      "execution_count": null,
      "outputs": []
    }
  ]
}